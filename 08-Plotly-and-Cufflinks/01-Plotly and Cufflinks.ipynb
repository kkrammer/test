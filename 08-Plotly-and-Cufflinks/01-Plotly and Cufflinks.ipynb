{
 "cells": [
  {
   "cell_type": "markdown",
   "metadata": {},
   "source": [
    "___\n",
    "\n",
    "<a href='http://www.pieriandata.com'> <img src='../Pierian_Data_Logo.png' /></a>\n",
    "___\n",
    "# Plotly and Cufflinks"
   ]
  },
  {
   "cell_type": "markdown",
   "metadata": {},
   "source": [
    "Plotly is a library that allows you to create interactive plots that you can use in dashboards or websites (you can save them as html files or static images).\n",
    "\n",
    "## Installation\n",
    "\n",
    "In order for this all to work, you'll need to install plotly and cufflinks to call plots directly off of a pandas dataframe. These libraries are not currently available through **conda** but are available through **pip**. Install the libraries at your command line/terminal using:\n",
    "\n",
    "    pip install plotly\n",
    "    pip install cufflinks\n",
    "\n",
    "** NOTE: Make sure you only have one installation of Python on your computer when you do this, otherwise the installation may not work. **\n",
    "\n",
    "## Imports and Set-up"
   ]
  },
  {
   "cell_type": "code",
   "execution_count": 15,
   "metadata": {},
   "outputs": [],
   "source": [
    "import pandas as pd\n",
    "import numpy as np\n",
    "%matplotlib inline"
   ]
  },
  {
   "cell_type": "code",
   "execution_count": 16,
   "metadata": {},
   "outputs": [
    {
     "name": "stdout",
     "output_type": "stream",
     "text": [
      "5.9.0\n"
     ]
    }
   ],
   "source": [
    "from plotly import __version__\n",
    "from plotly.offline import download_plotlyjs, init_notebook_mode, plot, iplot\n",
    "\n",
    "print(__version__) # requires version >= 1.9.0"
   ]
  },
  {
   "cell_type": "code",
   "execution_count": 17,
   "metadata": {},
   "outputs": [],
   "source": [
    "import cufflinks as cf"
   ]
  },
  {
   "cell_type": "code",
   "execution_count": 18,
   "metadata": {},
   "outputs": [
    {
     "data": {
      "text/html": [
       "        <script type=\"text/javascript\">\n",
       "        window.PlotlyConfig = {MathJaxConfig: 'local'};\n",
       "        if (window.MathJax && window.MathJax.Hub && window.MathJax.Hub.Config) {window.MathJax.Hub.Config({SVG: {font: \"STIX-Web\"}});}\n",
       "        if (typeof require !== 'undefined') {\n",
       "        require.undef(\"plotly\");\n",
       "        requirejs.config({\n",
       "            paths: {\n",
       "                'plotly': ['https://cdn.plot.ly/plotly-2.12.1.min']\n",
       "            }\n",
       "        });\n",
       "        require(['plotly'], function(Plotly) {\n",
       "            window._Plotly = Plotly;\n",
       "        });\n",
       "        }\n",
       "        </script>\n",
       "        "
      ]
     },
     "metadata": {},
     "output_type": "display_data"
    }
   ],
   "source": [
    "# For Notebooks\n",
    "init_notebook_mode(connected=True)"
   ]
  },
  {
   "cell_type": "code",
   "execution_count": 19,
   "metadata": {},
   "outputs": [
    {
     "data": {
      "text/html": [
       "        <script type=\"text/javascript\">\n",
       "        window.PlotlyConfig = {MathJaxConfig: 'local'};\n",
       "        if (window.MathJax && window.MathJax.Hub && window.MathJax.Hub.Config) {window.MathJax.Hub.Config({SVG: {font: \"STIX-Web\"}});}\n",
       "        if (typeof require !== 'undefined') {\n",
       "        require.undef(\"plotly\");\n",
       "        requirejs.config({\n",
       "            paths: {\n",
       "                'plotly': ['https://cdn.plot.ly/plotly-2.12.1.min']\n",
       "            }\n",
       "        });\n",
       "        require(['plotly'], function(Plotly) {\n",
       "            window._Plotly = Plotly;\n",
       "        });\n",
       "        }\n",
       "        </script>\n",
       "        "
      ]
     },
     "metadata": {},
     "output_type": "display_data"
    }
   ],
   "source": [
    "# For offline use\n",
    "cf.go_offline()"
   ]
  },
  {
   "cell_type": "markdown",
   "metadata": {},
   "source": [
    "### Fake Data"
   ]
  },
  {
   "cell_type": "code",
   "execution_count": 20,
   "metadata": {},
   "outputs": [],
   "source": [
    "df = pd.DataFrame(np.random.randn(100,4),columns='A B C D'.split())"
   ]
  },
  {
   "cell_type": "code",
   "execution_count": 21,
   "metadata": {},
   "outputs": [
    {
     "data": {
      "text/html": [
       "<div>\n",
       "<style scoped>\n",
       "    .dataframe tbody tr th:only-of-type {\n",
       "        vertical-align: middle;\n",
       "    }\n",
       "\n",
       "    .dataframe tbody tr th {\n",
       "        vertical-align: top;\n",
       "    }\n",
       "\n",
       "    .dataframe thead th {\n",
       "        text-align: right;\n",
       "    }\n",
       "</style>\n",
       "<table border=\"1\" class=\"dataframe\">\n",
       "  <thead>\n",
       "    <tr style=\"text-align: right;\">\n",
       "      <th></th>\n",
       "      <th>A</th>\n",
       "      <th>B</th>\n",
       "      <th>C</th>\n",
       "      <th>D</th>\n",
       "    </tr>\n",
       "  </thead>\n",
       "  <tbody>\n",
       "    <tr>\n",
       "      <th>0</th>\n",
       "      <td>-1.261530</td>\n",
       "      <td>-1.399977</td>\n",
       "      <td>-0.611984</td>\n",
       "      <td>-0.477068</td>\n",
       "    </tr>\n",
       "    <tr>\n",
       "      <th>1</th>\n",
       "      <td>0.516858</td>\n",
       "      <td>-0.662562</td>\n",
       "      <td>0.385324</td>\n",
       "      <td>-1.270719</td>\n",
       "    </tr>\n",
       "    <tr>\n",
       "      <th>2</th>\n",
       "      <td>-1.275654</td>\n",
       "      <td>-0.134036</td>\n",
       "      <td>-0.351138</td>\n",
       "      <td>0.901386</td>\n",
       "    </tr>\n",
       "    <tr>\n",
       "      <th>3</th>\n",
       "      <td>1.478181</td>\n",
       "      <td>-0.233988</td>\n",
       "      <td>-1.220443</td>\n",
       "      <td>0.164148</td>\n",
       "    </tr>\n",
       "    <tr>\n",
       "      <th>4</th>\n",
       "      <td>0.166853</td>\n",
       "      <td>0.081005</td>\n",
       "      <td>-1.423714</td>\n",
       "      <td>-0.528306</td>\n",
       "    </tr>\n",
       "  </tbody>\n",
       "</table>\n",
       "</div>"
      ],
      "text/plain": [
       "          A         B         C         D\n",
       "0 -1.261530 -1.399977 -0.611984 -0.477068\n",
       "1  0.516858 -0.662562  0.385324 -1.270719\n",
       "2 -1.275654 -0.134036 -0.351138  0.901386\n",
       "3  1.478181 -0.233988 -1.220443  0.164148\n",
       "4  0.166853  0.081005 -1.423714 -0.528306"
      ]
     },
     "execution_count": 21,
     "metadata": {},
     "output_type": "execute_result"
    }
   ],
   "source": [
    "df.head()"
   ]
  },
  {
   "cell_type": "code",
   "execution_count": 22,
   "metadata": {},
   "outputs": [],
   "source": [
    "df2 = pd.DataFrame({'Category':['A','B','C'],'Values':[32,43,50]})"
   ]
  },
  {
   "cell_type": "code",
   "execution_count": 23,
   "metadata": {},
   "outputs": [
    {
     "data": {
      "text/html": [
       "<div>\n",
       "<style scoped>\n",
       "    .dataframe tbody tr th:only-of-type {\n",
       "        vertical-align: middle;\n",
       "    }\n",
       "\n",
       "    .dataframe tbody tr th {\n",
       "        vertical-align: top;\n",
       "    }\n",
       "\n",
       "    .dataframe thead th {\n",
       "        text-align: right;\n",
       "    }\n",
       "</style>\n",
       "<table border=\"1\" class=\"dataframe\">\n",
       "  <thead>\n",
       "    <tr style=\"text-align: right;\">\n",
       "      <th></th>\n",
       "      <th>Category</th>\n",
       "      <th>Values</th>\n",
       "    </tr>\n",
       "  </thead>\n",
       "  <tbody>\n",
       "    <tr>\n",
       "      <th>0</th>\n",
       "      <td>A</td>\n",
       "      <td>32</td>\n",
       "    </tr>\n",
       "    <tr>\n",
       "      <th>1</th>\n",
       "      <td>B</td>\n",
       "      <td>43</td>\n",
       "    </tr>\n",
       "    <tr>\n",
       "      <th>2</th>\n",
       "      <td>C</td>\n",
       "      <td>50</td>\n",
       "    </tr>\n",
       "  </tbody>\n",
       "</table>\n",
       "</div>"
      ],
      "text/plain": [
       "  Category  Values\n",
       "0        A      32\n",
       "1        B      43\n",
       "2        C      50"
      ]
     },
     "execution_count": 23,
     "metadata": {},
     "output_type": "execute_result"
    }
   ],
   "source": [
    "df2.head()"
   ]
  },
  {
   "cell_type": "markdown",
   "metadata": {},
   "source": [
    "## Using Cufflinks and iplot()\n",
    "\n",
    "* scatter\n",
    "* bar\n",
    "* box\n",
    "* spread\n",
    "* ratio\n",
    "* heatmap\n",
    "* surface\n",
    "* histogram\n",
    "* bubble"
   ]
  },
  {
   "cell_type": "markdown",
   "metadata": {},
   "source": [
    "## Scatter"
   ]
  },
  {
   "cell_type": "code",
   "execution_count": 24,
   "metadata": {},
   "outputs": [
    {
     "data": {
      "application/vnd.plotly.v1+json": {
       "config": {
        "linkText": "Export to plot.ly",
        "plotlyServerURL": "https://plot.ly",
        "showLink": true
       },
       "data": [
        {
         "line": {
          "color": "rgba(255, 153, 51, 1.0)",
          "dash": "solid",
          "shape": "linear",
          "width": 1.3
         },
         "marker": {
          "size": 10,
          "symbol": "circle"
         },
         "mode": "markers",
         "name": "B",
         "text": "",
         "type": "scatter",
         "x": [
          -1.2615300860614054,
          0.5168583781406116,
          -1.27565405789446,
          1.4781814691430137,
          0.16685274993216312,
          0.29486795628181317,
          0.9785825523153496,
          0.14359652449530164,
          -0.8925068476041645,
          0.6869895496306667,
          -0.3184260842234965,
          -0.06079029464726772,
          0.3046179848603725,
          -0.28578117724567403,
          0.9555452637232548,
          -0.436571217632825,
          1.5989488034519654,
          -0.15788956695773615,
          -0.3888100527566678,
          -0.591990160710526,
          0.2710004943704668,
          0.2602297984499211,
          0.5657822404335577,
          0.18748818541864734,
          -0.18808181802469898,
          -1.35595867059301,
          -1.7497884642723616,
          0.825144024533562,
          0.20421153196532738,
          -0.2644595981522582,
          -0.029348334202425504,
          1.9077855533319394,
          0.22916452088223646,
          0.2867610600268779,
          1.2904275286706701,
          0.6215964625270357,
          0.6747330686433912,
          1.0478166238045625,
          -1.3554516876860905,
          0.08092118840581466,
          -0.40994404610033824,
          0.28561581083232607,
          0.1966769220405505,
          -1.1411890045092357,
          1.7231332434630888,
          -0.42193519470372676,
          -1.741625904007534,
          -2.391591329146761,
          0.689222905342845,
          0.19798524650811158,
          -0.10115323119577455,
          -0.9603616907577721,
          -0.8625275697297408,
          0.3524640636948968,
          1.2393159762473505,
          2.377375403963859,
          -0.33161650928400876,
          -0.7541694714930774,
          0.8277565338293128,
          0.06080378891897225,
          -0.9710249811252153,
          1.224128475122221,
          0.11241632604675655,
          -1.1815069448698765,
          0.1313115186944857,
          -1.2010409076083939,
          0.15765706193163107,
          -1.3211297942118674,
          -0.9825223740395495,
          0.7894139009281048,
          -1.1055435265481648,
          1.1142658013635867,
          -0.18738716811804088,
          -0.9014408479515046,
          -0.10340889577700428,
          1.915295678544698,
          -1.026271756257129,
          0.12995497319553861,
          1.1193558873374236,
          -0.23180192875510952,
          0.21849137154823123,
          1.0419858768778796,
          0.24556231413052595,
          0.49309662249476477,
          0.6160279264073351,
          -0.028684263888879884,
          -0.27846238992189154,
          -0.6151339164505116,
          0.6620802123427995,
          0.3485255177495143,
          -1.218456441286671,
          -1.0227375652102357,
          -0.3943161595674681,
          -0.638346772297683,
          0.14208982603404896,
          3.7399500319589483,
          0.1844386958356573,
          -0.17634768147868762,
          0.3712982772511809,
          -0.07532474604483136
         ],
         "y": [
          -1.3999773022346853,
          -0.6625620672077985,
          -0.13403593135012803,
          -0.2339878842549569,
          0.08100488242810727,
          -0.40094669137310823,
          0.7110857695394376,
          0.945132123112901,
          0.7801585124745818,
          -2.4061019556258447,
          0.09632851478545619,
          0.2992606351539072,
          -0.9932761773845984,
          1.9891885642792426,
          -1.4147458176381231,
          0.5469460471883897,
          -0.43138767364022956,
          -0.11380232186836925,
          0.2642741060329245,
          -0.4516065127701526,
          -0.2174021449631138,
          0.6777841867420318,
          1.4469906621585116,
          -0.10477332749880597,
          -0.5718353186794933,
          -0.9241770381073433,
          0.7487742034721503,
          0.5116307408743127,
          -0.357573289466846,
          -0.42891030205716935,
          -1.4555911877393972,
          -0.16832153572754027,
          -0.3332303972415607,
          1.625673569413001,
          0.3741258191879868,
          -1.4188933829841257,
          0.3302419395213557,
          -1.115231172523026,
          -0.6533977526153854,
          -2.280552620733146,
          1.0417207322966597,
          -1.127180454096471,
          -1.6350014016713625,
          0.004862259578625818,
          0.15447244530216225,
          -0.6305495592044218,
          1.6494365509525002,
          1.249404337821749,
          -3.25513107262654,
          -2.2003748750279004,
          0.7777706747383216,
          0.37056489767082534,
          -0.3560390627881642,
          0.5131737979639818,
          -0.8335218338591645,
          -0.4547481048534048,
          -1.1565808901885064,
          -1.2649681759429672,
          0.5919062681448857,
          0.07393727325405307,
          -0.6392552717703002,
          -0.06532171436724853,
          1.2813676031184937,
          -1.0559418320411604,
          1.4139504592986571,
          2.4546740641948936,
          1.0705099251140995,
          0.4746150457471814,
          1.1909024990604284,
          -0.761915425175944,
          -0.23586143082944264,
          1.2184017973426964,
          -0.6852423003678728,
          1.2351106059744261,
          -0.5205086220142247,
          0.06761539169827334,
          -1.4735505010313557,
          -0.7035776570552076,
          0.791392914877188,
          1.5363518469695343,
          0.8680569096835051,
          0.03600875756233151,
          0.29652664576283305,
          1.5945681003222858,
          1.0959640865897888,
          -0.2577631398110386,
          0.041274579839142754,
          -0.9769537525253257,
          -0.4906770970438918,
          1.0543096348022898,
          0.48584175972625604,
          1.002107562265259,
          -1.140108891804244,
          -0.31048423609957376,
          1.1509293609216962,
          0.7543488225434943,
          0.7739362556765743,
          0.03311795773750614,
          -1.995401730436345,
          -0.44309580692760137
         ]
        }
       ],
       "layout": {
        "legend": {
         "bgcolor": "#F5F6F9",
         "font": {
          "color": "#4D5663"
         }
        },
        "paper_bgcolor": "#F5F6F9",
        "plot_bgcolor": "#F5F6F9",
        "template": {
         "data": {
          "bar": [
           {
            "error_x": {
             "color": "#2a3f5f"
            },
            "error_y": {
             "color": "#2a3f5f"
            },
            "marker": {
             "line": {
              "color": "#E5ECF6",
              "width": 0.5
             },
             "pattern": {
              "fillmode": "overlay",
              "size": 10,
              "solidity": 0.2
             }
            },
            "type": "bar"
           }
          ],
          "barpolar": [
           {
            "marker": {
             "line": {
              "color": "#E5ECF6",
              "width": 0.5
             },
             "pattern": {
              "fillmode": "overlay",
              "size": 10,
              "solidity": 0.2
             }
            },
            "type": "barpolar"
           }
          ],
          "carpet": [
           {
            "aaxis": {
             "endlinecolor": "#2a3f5f",
             "gridcolor": "white",
             "linecolor": "white",
             "minorgridcolor": "white",
             "startlinecolor": "#2a3f5f"
            },
            "baxis": {
             "endlinecolor": "#2a3f5f",
             "gridcolor": "white",
             "linecolor": "white",
             "minorgridcolor": "white",
             "startlinecolor": "#2a3f5f"
            },
            "type": "carpet"
           }
          ],
          "choropleth": [
           {
            "colorbar": {
             "outlinewidth": 0,
             "ticks": ""
            },
            "type": "choropleth"
           }
          ],
          "contour": [
           {
            "colorbar": {
             "outlinewidth": 0,
             "ticks": ""
            },
            "colorscale": [
             [
              0,
              "#0d0887"
             ],
             [
              0.1111111111111111,
              "#46039f"
             ],
             [
              0.2222222222222222,
              "#7201a8"
             ],
             [
              0.3333333333333333,
              "#9c179e"
             ],
             [
              0.4444444444444444,
              "#bd3786"
             ],
             [
              0.5555555555555556,
              "#d8576b"
             ],
             [
              0.6666666666666666,
              "#ed7953"
             ],
             [
              0.7777777777777778,
              "#fb9f3a"
             ],
             [
              0.8888888888888888,
              "#fdca26"
             ],
             [
              1,
              "#f0f921"
             ]
            ],
            "type": "contour"
           }
          ],
          "contourcarpet": [
           {
            "colorbar": {
             "outlinewidth": 0,
             "ticks": ""
            },
            "type": "contourcarpet"
           }
          ],
          "heatmap": [
           {
            "colorbar": {
             "outlinewidth": 0,
             "ticks": ""
            },
            "colorscale": [
             [
              0,
              "#0d0887"
             ],
             [
              0.1111111111111111,
              "#46039f"
             ],
             [
              0.2222222222222222,
              "#7201a8"
             ],
             [
              0.3333333333333333,
              "#9c179e"
             ],
             [
              0.4444444444444444,
              "#bd3786"
             ],
             [
              0.5555555555555556,
              "#d8576b"
             ],
             [
              0.6666666666666666,
              "#ed7953"
             ],
             [
              0.7777777777777778,
              "#fb9f3a"
             ],
             [
              0.8888888888888888,
              "#fdca26"
             ],
             [
              1,
              "#f0f921"
             ]
            ],
            "type": "heatmap"
           }
          ],
          "heatmapgl": [
           {
            "colorbar": {
             "outlinewidth": 0,
             "ticks": ""
            },
            "colorscale": [
             [
              0,
              "#0d0887"
             ],
             [
              0.1111111111111111,
              "#46039f"
             ],
             [
              0.2222222222222222,
              "#7201a8"
             ],
             [
              0.3333333333333333,
              "#9c179e"
             ],
             [
              0.4444444444444444,
              "#bd3786"
             ],
             [
              0.5555555555555556,
              "#d8576b"
             ],
             [
              0.6666666666666666,
              "#ed7953"
             ],
             [
              0.7777777777777778,
              "#fb9f3a"
             ],
             [
              0.8888888888888888,
              "#fdca26"
             ],
             [
              1,
              "#f0f921"
             ]
            ],
            "type": "heatmapgl"
           }
          ],
          "histogram": [
           {
            "marker": {
             "pattern": {
              "fillmode": "overlay",
              "size": 10,
              "solidity": 0.2
             }
            },
            "type": "histogram"
           }
          ],
          "histogram2d": [
           {
            "colorbar": {
             "outlinewidth": 0,
             "ticks": ""
            },
            "colorscale": [
             [
              0,
              "#0d0887"
             ],
             [
              0.1111111111111111,
              "#46039f"
             ],
             [
              0.2222222222222222,
              "#7201a8"
             ],
             [
              0.3333333333333333,
              "#9c179e"
             ],
             [
              0.4444444444444444,
              "#bd3786"
             ],
             [
              0.5555555555555556,
              "#d8576b"
             ],
             [
              0.6666666666666666,
              "#ed7953"
             ],
             [
              0.7777777777777778,
              "#fb9f3a"
             ],
             [
              0.8888888888888888,
              "#fdca26"
             ],
             [
              1,
              "#f0f921"
             ]
            ],
            "type": "histogram2d"
           }
          ],
          "histogram2dcontour": [
           {
            "colorbar": {
             "outlinewidth": 0,
             "ticks": ""
            },
            "colorscale": [
             [
              0,
              "#0d0887"
             ],
             [
              0.1111111111111111,
              "#46039f"
             ],
             [
              0.2222222222222222,
              "#7201a8"
             ],
             [
              0.3333333333333333,
              "#9c179e"
             ],
             [
              0.4444444444444444,
              "#bd3786"
             ],
             [
              0.5555555555555556,
              "#d8576b"
             ],
             [
              0.6666666666666666,
              "#ed7953"
             ],
             [
              0.7777777777777778,
              "#fb9f3a"
             ],
             [
              0.8888888888888888,
              "#fdca26"
             ],
             [
              1,
              "#f0f921"
             ]
            ],
            "type": "histogram2dcontour"
           }
          ],
          "mesh3d": [
           {
            "colorbar": {
             "outlinewidth": 0,
             "ticks": ""
            },
            "type": "mesh3d"
           }
          ],
          "parcoords": [
           {
            "line": {
             "colorbar": {
              "outlinewidth": 0,
              "ticks": ""
             }
            },
            "type": "parcoords"
           }
          ],
          "pie": [
           {
            "automargin": true,
            "type": "pie"
           }
          ],
          "scatter": [
           {
            "fillpattern": {
             "fillmode": "overlay",
             "size": 10,
             "solidity": 0.2
            },
            "type": "scatter"
           }
          ],
          "scatter3d": [
           {
            "line": {
             "colorbar": {
              "outlinewidth": 0,
              "ticks": ""
             }
            },
            "marker": {
             "colorbar": {
              "outlinewidth": 0,
              "ticks": ""
             }
            },
            "type": "scatter3d"
           }
          ],
          "scattercarpet": [
           {
            "marker": {
             "colorbar": {
              "outlinewidth": 0,
              "ticks": ""
             }
            },
            "type": "scattercarpet"
           }
          ],
          "scattergeo": [
           {
            "marker": {
             "colorbar": {
              "outlinewidth": 0,
              "ticks": ""
             }
            },
            "type": "scattergeo"
           }
          ],
          "scattergl": [
           {
            "marker": {
             "colorbar": {
              "outlinewidth": 0,
              "ticks": ""
             }
            },
            "type": "scattergl"
           }
          ],
          "scattermapbox": [
           {
            "marker": {
             "colorbar": {
              "outlinewidth": 0,
              "ticks": ""
             }
            },
            "type": "scattermapbox"
           }
          ],
          "scatterpolar": [
           {
            "marker": {
             "colorbar": {
              "outlinewidth": 0,
              "ticks": ""
             }
            },
            "type": "scatterpolar"
           }
          ],
          "scatterpolargl": [
           {
            "marker": {
             "colorbar": {
              "outlinewidth": 0,
              "ticks": ""
             }
            },
            "type": "scatterpolargl"
           }
          ],
          "scatterternary": [
           {
            "marker": {
             "colorbar": {
              "outlinewidth": 0,
              "ticks": ""
             }
            },
            "type": "scatterternary"
           }
          ],
          "surface": [
           {
            "colorbar": {
             "outlinewidth": 0,
             "ticks": ""
            },
            "colorscale": [
             [
              0,
              "#0d0887"
             ],
             [
              0.1111111111111111,
              "#46039f"
             ],
             [
              0.2222222222222222,
              "#7201a8"
             ],
             [
              0.3333333333333333,
              "#9c179e"
             ],
             [
              0.4444444444444444,
              "#bd3786"
             ],
             [
              0.5555555555555556,
              "#d8576b"
             ],
             [
              0.6666666666666666,
              "#ed7953"
             ],
             [
              0.7777777777777778,
              "#fb9f3a"
             ],
             [
              0.8888888888888888,
              "#fdca26"
             ],
             [
              1,
              "#f0f921"
             ]
            ],
            "type": "surface"
           }
          ],
          "table": [
           {
            "cells": {
             "fill": {
              "color": "#EBF0F8"
             },
             "line": {
              "color": "white"
             }
            },
            "header": {
             "fill": {
              "color": "#C8D4E3"
             },
             "line": {
              "color": "white"
             }
            },
            "type": "table"
           }
          ]
         },
         "layout": {
          "annotationdefaults": {
           "arrowcolor": "#2a3f5f",
           "arrowhead": 0,
           "arrowwidth": 1
          },
          "autotypenumbers": "strict",
          "coloraxis": {
           "colorbar": {
            "outlinewidth": 0,
            "ticks": ""
           }
          },
          "colorscale": {
           "diverging": [
            [
             0,
             "#8e0152"
            ],
            [
             0.1,
             "#c51b7d"
            ],
            [
             0.2,
             "#de77ae"
            ],
            [
             0.3,
             "#f1b6da"
            ],
            [
             0.4,
             "#fde0ef"
            ],
            [
             0.5,
             "#f7f7f7"
            ],
            [
             0.6,
             "#e6f5d0"
            ],
            [
             0.7,
             "#b8e186"
            ],
            [
             0.8,
             "#7fbc41"
            ],
            [
             0.9,
             "#4d9221"
            ],
            [
             1,
             "#276419"
            ]
           ],
           "sequential": [
            [
             0,
             "#0d0887"
            ],
            [
             0.1111111111111111,
             "#46039f"
            ],
            [
             0.2222222222222222,
             "#7201a8"
            ],
            [
             0.3333333333333333,
             "#9c179e"
            ],
            [
             0.4444444444444444,
             "#bd3786"
            ],
            [
             0.5555555555555556,
             "#d8576b"
            ],
            [
             0.6666666666666666,
             "#ed7953"
            ],
            [
             0.7777777777777778,
             "#fb9f3a"
            ],
            [
             0.8888888888888888,
             "#fdca26"
            ],
            [
             1,
             "#f0f921"
            ]
           ],
           "sequentialminus": [
            [
             0,
             "#0d0887"
            ],
            [
             0.1111111111111111,
             "#46039f"
            ],
            [
             0.2222222222222222,
             "#7201a8"
            ],
            [
             0.3333333333333333,
             "#9c179e"
            ],
            [
             0.4444444444444444,
             "#bd3786"
            ],
            [
             0.5555555555555556,
             "#d8576b"
            ],
            [
             0.6666666666666666,
             "#ed7953"
            ],
            [
             0.7777777777777778,
             "#fb9f3a"
            ],
            [
             0.8888888888888888,
             "#fdca26"
            ],
            [
             1,
             "#f0f921"
            ]
           ]
          },
          "colorway": [
           "#636efa",
           "#EF553B",
           "#00cc96",
           "#ab63fa",
           "#FFA15A",
           "#19d3f3",
           "#FF6692",
           "#B6E880",
           "#FF97FF",
           "#FECB52"
          ],
          "font": {
           "color": "#2a3f5f"
          },
          "geo": {
           "bgcolor": "white",
           "lakecolor": "white",
           "landcolor": "#E5ECF6",
           "showlakes": true,
           "showland": true,
           "subunitcolor": "white"
          },
          "hoverlabel": {
           "align": "left"
          },
          "hovermode": "closest",
          "mapbox": {
           "style": "light"
          },
          "paper_bgcolor": "white",
          "plot_bgcolor": "#E5ECF6",
          "polar": {
           "angularaxis": {
            "gridcolor": "white",
            "linecolor": "white",
            "ticks": ""
           },
           "bgcolor": "#E5ECF6",
           "radialaxis": {
            "gridcolor": "white",
            "linecolor": "white",
            "ticks": ""
           }
          },
          "scene": {
           "xaxis": {
            "backgroundcolor": "#E5ECF6",
            "gridcolor": "white",
            "gridwidth": 2,
            "linecolor": "white",
            "showbackground": true,
            "ticks": "",
            "zerolinecolor": "white"
           },
           "yaxis": {
            "backgroundcolor": "#E5ECF6",
            "gridcolor": "white",
            "gridwidth": 2,
            "linecolor": "white",
            "showbackground": true,
            "ticks": "",
            "zerolinecolor": "white"
           },
           "zaxis": {
            "backgroundcolor": "#E5ECF6",
            "gridcolor": "white",
            "gridwidth": 2,
            "linecolor": "white",
            "showbackground": true,
            "ticks": "",
            "zerolinecolor": "white"
           }
          },
          "shapedefaults": {
           "line": {
            "color": "#2a3f5f"
           }
          },
          "ternary": {
           "aaxis": {
            "gridcolor": "white",
            "linecolor": "white",
            "ticks": ""
           },
           "baxis": {
            "gridcolor": "white",
            "linecolor": "white",
            "ticks": ""
           },
           "bgcolor": "#E5ECF6",
           "caxis": {
            "gridcolor": "white",
            "linecolor": "white",
            "ticks": ""
           }
          },
          "title": {
           "x": 0.05
          },
          "xaxis": {
           "automargin": true,
           "gridcolor": "white",
           "linecolor": "white",
           "ticks": "",
           "title": {
            "standoff": 15
           },
           "zerolinecolor": "white",
           "zerolinewidth": 2
          },
          "yaxis": {
           "automargin": true,
           "gridcolor": "white",
           "linecolor": "white",
           "ticks": "",
           "title": {
            "standoff": 15
           },
           "zerolinecolor": "white",
           "zerolinewidth": 2
          }
         }
        },
        "title": {
         "font": {
          "color": "#4D5663"
         }
        },
        "xaxis": {
         "gridcolor": "#E1E5ED",
         "showgrid": true,
         "tickfont": {
          "color": "#4D5663"
         },
         "title": {
          "font": {
           "color": "#4D5663"
          },
          "text": ""
         },
         "zerolinecolor": "#E1E5ED"
        },
        "yaxis": {
         "gridcolor": "#E1E5ED",
         "showgrid": true,
         "tickfont": {
          "color": "#4D5663"
         },
         "title": {
          "font": {
           "color": "#4D5663"
          },
          "text": ""
         },
         "zerolinecolor": "#E1E5ED"
        }
       }
      },
      "text/html": [
       "<div>                            <div id=\"ab5e6f7d-d406-41fd-b46f-45f8ce1b157f\" class=\"plotly-graph-div\" style=\"height:525px; width:100%;\"></div>            <script type=\"text/javascript\">                require([\"plotly\"], function(Plotly) {                    window.PLOTLYENV=window.PLOTLYENV || {};\n",
       "                    window.PLOTLYENV.BASE_URL='https://plot.ly';                                    if (document.getElementById(\"ab5e6f7d-d406-41fd-b46f-45f8ce1b157f\")) {                    Plotly.newPlot(                        \"ab5e6f7d-d406-41fd-b46f-45f8ce1b157f\",                        [{\"line\":{\"color\":\"rgba(255, 153, 51, 1.0)\",\"dash\":\"solid\",\"shape\":\"linear\",\"width\":1.3},\"marker\":{\"size\":10,\"symbol\":\"circle\"},\"mode\":\"markers\",\"name\":\"B\",\"text\":\"\",\"x\":[-1.2615300860614054,0.5168583781406116,-1.27565405789446,1.4781814691430137,0.16685274993216312,0.29486795628181317,0.9785825523153496,0.14359652449530164,-0.8925068476041645,0.6869895496306667,-0.3184260842234965,-0.06079029464726772,0.3046179848603725,-0.28578117724567403,0.9555452637232548,-0.436571217632825,1.5989488034519654,-0.15788956695773615,-0.3888100527566678,-0.591990160710526,0.2710004943704668,0.2602297984499211,0.5657822404335577,0.18748818541864734,-0.18808181802469898,-1.35595867059301,-1.7497884642723616,0.825144024533562,0.20421153196532738,-0.2644595981522582,-0.029348334202425504,1.9077855533319394,0.22916452088223646,0.2867610600268779,1.2904275286706701,0.6215964625270357,0.6747330686433912,1.0478166238045625,-1.3554516876860905,0.08092118840581466,-0.40994404610033824,0.28561581083232607,0.1966769220405505,-1.1411890045092357,1.7231332434630888,-0.42193519470372676,-1.741625904007534,-2.391591329146761,0.689222905342845,0.19798524650811158,-0.10115323119577455,-0.9603616907577721,-0.8625275697297408,0.3524640636948968,1.2393159762473505,2.377375403963859,-0.33161650928400876,-0.7541694714930774,0.8277565338293128,0.06080378891897225,-0.9710249811252153,1.224128475122221,0.11241632604675655,-1.1815069448698765,0.1313115186944857,-1.2010409076083939,0.15765706193163107,-1.3211297942118674,-0.9825223740395495,0.7894139009281048,-1.1055435265481648,1.1142658013635867,-0.18738716811804088,-0.9014408479515046,-0.10340889577700428,1.915295678544698,-1.026271756257129,0.12995497319553861,1.1193558873374236,-0.23180192875510952,0.21849137154823123,1.0419858768778796,0.24556231413052595,0.49309662249476477,0.6160279264073351,-0.028684263888879884,-0.27846238992189154,-0.6151339164505116,0.6620802123427995,0.3485255177495143,-1.218456441286671,-1.0227375652102357,-0.3943161595674681,-0.638346772297683,0.14208982603404896,3.7399500319589483,0.1844386958356573,-0.17634768147868762,0.3712982772511809,-0.07532474604483136],\"y\":[-1.3999773022346853,-0.6625620672077985,-0.13403593135012803,-0.2339878842549569,0.08100488242810727,-0.40094669137310823,0.7110857695394376,0.945132123112901,0.7801585124745818,-2.4061019556258447,0.09632851478545619,0.2992606351539072,-0.9932761773845984,1.9891885642792426,-1.4147458176381231,0.5469460471883897,-0.43138767364022956,-0.11380232186836925,0.2642741060329245,-0.4516065127701526,-0.2174021449631138,0.6777841867420318,1.4469906621585116,-0.10477332749880597,-0.5718353186794933,-0.9241770381073433,0.7487742034721503,0.5116307408743127,-0.357573289466846,-0.42891030205716935,-1.4555911877393972,-0.16832153572754027,-0.3332303972415607,1.625673569413001,0.3741258191879868,-1.4188933829841257,0.3302419395213557,-1.115231172523026,-0.6533977526153854,-2.280552620733146,1.0417207322966597,-1.127180454096471,-1.6350014016713625,0.004862259578625818,0.15447244530216225,-0.6305495592044218,1.6494365509525002,1.249404337821749,-3.25513107262654,-2.2003748750279004,0.7777706747383216,0.37056489767082534,-0.3560390627881642,0.5131737979639818,-0.8335218338591645,-0.4547481048534048,-1.1565808901885064,-1.2649681759429672,0.5919062681448857,0.07393727325405307,-0.6392552717703002,-0.06532171436724853,1.2813676031184937,-1.0559418320411604,1.4139504592986571,2.4546740641948936,1.0705099251140995,0.4746150457471814,1.1909024990604284,-0.761915425175944,-0.23586143082944264,1.2184017973426964,-0.6852423003678728,1.2351106059744261,-0.5205086220142247,0.06761539169827334,-1.4735505010313557,-0.7035776570552076,0.791392914877188,1.5363518469695343,0.8680569096835051,0.03600875756233151,0.29652664576283305,1.5945681003222858,1.0959640865897888,-0.2577631398110386,0.041274579839142754,-0.9769537525253257,-0.4906770970438918,1.0543096348022898,0.48584175972625604,1.002107562265259,-1.140108891804244,-0.31048423609957376,1.1509293609216962,0.7543488225434943,0.7739362556765743,0.03311795773750614,-1.995401730436345,-0.44309580692760137],\"type\":\"scatter\"}],                        {\"legend\":{\"bgcolor\":\"#F5F6F9\",\"font\":{\"color\":\"#4D5663\"}},\"paper_bgcolor\":\"#F5F6F9\",\"plot_bgcolor\":\"#F5F6F9\",\"template\":{\"data\":{\"barpolar\":[{\"marker\":{\"line\":{\"color\":\"#E5ECF6\",\"width\":0.5},\"pattern\":{\"fillmode\":\"overlay\",\"size\":10,\"solidity\":0.2}},\"type\":\"barpolar\"}],\"bar\":[{\"error_x\":{\"color\":\"#2a3f5f\"},\"error_y\":{\"color\":\"#2a3f5f\"},\"marker\":{\"line\":{\"color\":\"#E5ECF6\",\"width\":0.5},\"pattern\":{\"fillmode\":\"overlay\",\"size\":10,\"solidity\":0.2}},\"type\":\"bar\"}],\"carpet\":[{\"aaxis\":{\"endlinecolor\":\"#2a3f5f\",\"gridcolor\":\"white\",\"linecolor\":\"white\",\"minorgridcolor\":\"white\",\"startlinecolor\":\"#2a3f5f\"},\"baxis\":{\"endlinecolor\":\"#2a3f5f\",\"gridcolor\":\"white\",\"linecolor\":\"white\",\"minorgridcolor\":\"white\",\"startlinecolor\":\"#2a3f5f\"},\"type\":\"carpet\"}],\"choropleth\":[{\"colorbar\":{\"outlinewidth\":0,\"ticks\":\"\"},\"type\":\"choropleth\"}],\"contourcarpet\":[{\"colorbar\":{\"outlinewidth\":0,\"ticks\":\"\"},\"type\":\"contourcarpet\"}],\"contour\":[{\"colorbar\":{\"outlinewidth\":0,\"ticks\":\"\"},\"colorscale\":[[0.0,\"#0d0887\"],[0.1111111111111111,\"#46039f\"],[0.2222222222222222,\"#7201a8\"],[0.3333333333333333,\"#9c179e\"],[0.4444444444444444,\"#bd3786\"],[0.5555555555555556,\"#d8576b\"],[0.6666666666666666,\"#ed7953\"],[0.7777777777777778,\"#fb9f3a\"],[0.8888888888888888,\"#fdca26\"],[1.0,\"#f0f921\"]],\"type\":\"contour\"}],\"heatmapgl\":[{\"colorbar\":{\"outlinewidth\":0,\"ticks\":\"\"},\"colorscale\":[[0.0,\"#0d0887\"],[0.1111111111111111,\"#46039f\"],[0.2222222222222222,\"#7201a8\"],[0.3333333333333333,\"#9c179e\"],[0.4444444444444444,\"#bd3786\"],[0.5555555555555556,\"#d8576b\"],[0.6666666666666666,\"#ed7953\"],[0.7777777777777778,\"#fb9f3a\"],[0.8888888888888888,\"#fdca26\"],[1.0,\"#f0f921\"]],\"type\":\"heatmapgl\"}],\"heatmap\":[{\"colorbar\":{\"outlinewidth\":0,\"ticks\":\"\"},\"colorscale\":[[0.0,\"#0d0887\"],[0.1111111111111111,\"#46039f\"],[0.2222222222222222,\"#7201a8\"],[0.3333333333333333,\"#9c179e\"],[0.4444444444444444,\"#bd3786\"],[0.5555555555555556,\"#d8576b\"],[0.6666666666666666,\"#ed7953\"],[0.7777777777777778,\"#fb9f3a\"],[0.8888888888888888,\"#fdca26\"],[1.0,\"#f0f921\"]],\"type\":\"heatmap\"}],\"histogram2dcontour\":[{\"colorbar\":{\"outlinewidth\":0,\"ticks\":\"\"},\"colorscale\":[[0.0,\"#0d0887\"],[0.1111111111111111,\"#46039f\"],[0.2222222222222222,\"#7201a8\"],[0.3333333333333333,\"#9c179e\"],[0.4444444444444444,\"#bd3786\"],[0.5555555555555556,\"#d8576b\"],[0.6666666666666666,\"#ed7953\"],[0.7777777777777778,\"#fb9f3a\"],[0.8888888888888888,\"#fdca26\"],[1.0,\"#f0f921\"]],\"type\":\"histogram2dcontour\"}],\"histogram2d\":[{\"colorbar\":{\"outlinewidth\":0,\"ticks\":\"\"},\"colorscale\":[[0.0,\"#0d0887\"],[0.1111111111111111,\"#46039f\"],[0.2222222222222222,\"#7201a8\"],[0.3333333333333333,\"#9c179e\"],[0.4444444444444444,\"#bd3786\"],[0.5555555555555556,\"#d8576b\"],[0.6666666666666666,\"#ed7953\"],[0.7777777777777778,\"#fb9f3a\"],[0.8888888888888888,\"#fdca26\"],[1.0,\"#f0f921\"]],\"type\":\"histogram2d\"}],\"histogram\":[{\"marker\":{\"pattern\":{\"fillmode\":\"overlay\",\"size\":10,\"solidity\":0.2}},\"type\":\"histogram\"}],\"mesh3d\":[{\"colorbar\":{\"outlinewidth\":0,\"ticks\":\"\"},\"type\":\"mesh3d\"}],\"parcoords\":[{\"line\":{\"colorbar\":{\"outlinewidth\":0,\"ticks\":\"\"}},\"type\":\"parcoords\"}],\"pie\":[{\"automargin\":true,\"type\":\"pie\"}],\"scatter3d\":[{\"line\":{\"colorbar\":{\"outlinewidth\":0,\"ticks\":\"\"}},\"marker\":{\"colorbar\":{\"outlinewidth\":0,\"ticks\":\"\"}},\"type\":\"scatter3d\"}],\"scattercarpet\":[{\"marker\":{\"colorbar\":{\"outlinewidth\":0,\"ticks\":\"\"}},\"type\":\"scattercarpet\"}],\"scattergeo\":[{\"marker\":{\"colorbar\":{\"outlinewidth\":0,\"ticks\":\"\"}},\"type\":\"scattergeo\"}],\"scattergl\":[{\"marker\":{\"colorbar\":{\"outlinewidth\":0,\"ticks\":\"\"}},\"type\":\"scattergl\"}],\"scattermapbox\":[{\"marker\":{\"colorbar\":{\"outlinewidth\":0,\"ticks\":\"\"}},\"type\":\"scattermapbox\"}],\"scatterpolargl\":[{\"marker\":{\"colorbar\":{\"outlinewidth\":0,\"ticks\":\"\"}},\"type\":\"scatterpolargl\"}],\"scatterpolar\":[{\"marker\":{\"colorbar\":{\"outlinewidth\":0,\"ticks\":\"\"}},\"type\":\"scatterpolar\"}],\"scatter\":[{\"fillpattern\":{\"fillmode\":\"overlay\",\"size\":10,\"solidity\":0.2},\"type\":\"scatter\"}],\"scatterternary\":[{\"marker\":{\"colorbar\":{\"outlinewidth\":0,\"ticks\":\"\"}},\"type\":\"scatterternary\"}],\"surface\":[{\"colorbar\":{\"outlinewidth\":0,\"ticks\":\"\"},\"colorscale\":[[0.0,\"#0d0887\"],[0.1111111111111111,\"#46039f\"],[0.2222222222222222,\"#7201a8\"],[0.3333333333333333,\"#9c179e\"],[0.4444444444444444,\"#bd3786\"],[0.5555555555555556,\"#d8576b\"],[0.6666666666666666,\"#ed7953\"],[0.7777777777777778,\"#fb9f3a\"],[0.8888888888888888,\"#fdca26\"],[1.0,\"#f0f921\"]],\"type\":\"surface\"}],\"table\":[{\"cells\":{\"fill\":{\"color\":\"#EBF0F8\"},\"line\":{\"color\":\"white\"}},\"header\":{\"fill\":{\"color\":\"#C8D4E3\"},\"line\":{\"color\":\"white\"}},\"type\":\"table\"}]},\"layout\":{\"annotationdefaults\":{\"arrowcolor\":\"#2a3f5f\",\"arrowhead\":0,\"arrowwidth\":1},\"autotypenumbers\":\"strict\",\"coloraxis\":{\"colorbar\":{\"outlinewidth\":0,\"ticks\":\"\"}},\"colorscale\":{\"diverging\":[[0,\"#8e0152\"],[0.1,\"#c51b7d\"],[0.2,\"#de77ae\"],[0.3,\"#f1b6da\"],[0.4,\"#fde0ef\"],[0.5,\"#f7f7f7\"],[0.6,\"#e6f5d0\"],[0.7,\"#b8e186\"],[0.8,\"#7fbc41\"],[0.9,\"#4d9221\"],[1,\"#276419\"]],\"sequential\":[[0.0,\"#0d0887\"],[0.1111111111111111,\"#46039f\"],[0.2222222222222222,\"#7201a8\"],[0.3333333333333333,\"#9c179e\"],[0.4444444444444444,\"#bd3786\"],[0.5555555555555556,\"#d8576b\"],[0.6666666666666666,\"#ed7953\"],[0.7777777777777778,\"#fb9f3a\"],[0.8888888888888888,\"#fdca26\"],[1.0,\"#f0f921\"]],\"sequentialminus\":[[0.0,\"#0d0887\"],[0.1111111111111111,\"#46039f\"],[0.2222222222222222,\"#7201a8\"],[0.3333333333333333,\"#9c179e\"],[0.4444444444444444,\"#bd3786\"],[0.5555555555555556,\"#d8576b\"],[0.6666666666666666,\"#ed7953\"],[0.7777777777777778,\"#fb9f3a\"],[0.8888888888888888,\"#fdca26\"],[1.0,\"#f0f921\"]]},\"colorway\":[\"#636efa\",\"#EF553B\",\"#00cc96\",\"#ab63fa\",\"#FFA15A\",\"#19d3f3\",\"#FF6692\",\"#B6E880\",\"#FF97FF\",\"#FECB52\"],\"font\":{\"color\":\"#2a3f5f\"},\"geo\":{\"bgcolor\":\"white\",\"lakecolor\":\"white\",\"landcolor\":\"#E5ECF6\",\"showlakes\":true,\"showland\":true,\"subunitcolor\":\"white\"},\"hoverlabel\":{\"align\":\"left\"},\"hovermode\":\"closest\",\"mapbox\":{\"style\":\"light\"},\"paper_bgcolor\":\"white\",\"plot_bgcolor\":\"#E5ECF6\",\"polar\":{\"angularaxis\":{\"gridcolor\":\"white\",\"linecolor\":\"white\",\"ticks\":\"\"},\"bgcolor\":\"#E5ECF6\",\"radialaxis\":{\"gridcolor\":\"white\",\"linecolor\":\"white\",\"ticks\":\"\"}},\"scene\":{\"xaxis\":{\"backgroundcolor\":\"#E5ECF6\",\"gridcolor\":\"white\",\"gridwidth\":2,\"linecolor\":\"white\",\"showbackground\":true,\"ticks\":\"\",\"zerolinecolor\":\"white\"},\"yaxis\":{\"backgroundcolor\":\"#E5ECF6\",\"gridcolor\":\"white\",\"gridwidth\":2,\"linecolor\":\"white\",\"showbackground\":true,\"ticks\":\"\",\"zerolinecolor\":\"white\"},\"zaxis\":{\"backgroundcolor\":\"#E5ECF6\",\"gridcolor\":\"white\",\"gridwidth\":2,\"linecolor\":\"white\",\"showbackground\":true,\"ticks\":\"\",\"zerolinecolor\":\"white\"}},\"shapedefaults\":{\"line\":{\"color\":\"#2a3f5f\"}},\"ternary\":{\"aaxis\":{\"gridcolor\":\"white\",\"linecolor\":\"white\",\"ticks\":\"\"},\"baxis\":{\"gridcolor\":\"white\",\"linecolor\":\"white\",\"ticks\":\"\"},\"bgcolor\":\"#E5ECF6\",\"caxis\":{\"gridcolor\":\"white\",\"linecolor\":\"white\",\"ticks\":\"\"}},\"title\":{\"x\":0.05},\"xaxis\":{\"automargin\":true,\"gridcolor\":\"white\",\"linecolor\":\"white\",\"ticks\":\"\",\"title\":{\"standoff\":15},\"zerolinecolor\":\"white\",\"zerolinewidth\":2},\"yaxis\":{\"automargin\":true,\"gridcolor\":\"white\",\"linecolor\":\"white\",\"ticks\":\"\",\"title\":{\"standoff\":15},\"zerolinecolor\":\"white\",\"zerolinewidth\":2}}},\"title\":{\"font\":{\"color\":\"#4D5663\"}},\"xaxis\":{\"gridcolor\":\"#E1E5ED\",\"showgrid\":true,\"tickfont\":{\"color\":\"#4D5663\"},\"title\":{\"font\":{\"color\":\"#4D5663\"},\"text\":\"\"},\"zerolinecolor\":\"#E1E5ED\"},\"yaxis\":{\"gridcolor\":\"#E1E5ED\",\"showgrid\":true,\"tickfont\":{\"color\":\"#4D5663\"},\"title\":{\"font\":{\"color\":\"#4D5663\"},\"text\":\"\"},\"zerolinecolor\":\"#E1E5ED\"}},                        {\"showLink\": true, \"linkText\": \"Export to plot.ly\", \"plotlyServerURL\": \"https://plot.ly\", \"responsive\": true}                    ).then(function(){\n",
       "                            \n",
       "var gd = document.getElementById('ab5e6f7d-d406-41fd-b46f-45f8ce1b157f');\n",
       "var x = new MutationObserver(function (mutations, observer) {{\n",
       "        var display = window.getComputedStyle(gd).display;\n",
       "        if (!display || display === 'none') {{\n",
       "            console.log([gd, 'removed!']);\n",
       "            Plotly.purge(gd);\n",
       "            observer.disconnect();\n",
       "        }}\n",
       "}});\n",
       "\n",
       "// Listen for the removal of the full notebook cells\n",
       "var notebookContainer = gd.closest('#notebook-container');\n",
       "if (notebookContainer) {{\n",
       "    x.observe(notebookContainer, {childList: true});\n",
       "}}\n",
       "\n",
       "// Listen for the clearing of the current output cell\n",
       "var outputEl = gd.closest('.output');\n",
       "if (outputEl) {{\n",
       "    x.observe(outputEl, {childList: true});\n",
       "}}\n",
       "\n",
       "                        })                };                });            </script>        </div>"
      ]
     },
     "metadata": {},
     "output_type": "display_data"
    }
   ],
   "source": [
    "df.iplot(kind='scatter',x='A',y='B',mode='markers',size=10)"
   ]
  },
  {
   "cell_type": "markdown",
   "metadata": {},
   "source": [
    "## Bar Plots"
   ]
  },
  {
   "cell_type": "code",
   "execution_count": 25,
   "metadata": {},
   "outputs": [
    {
     "data": {
      "application/vnd.plotly.v1+json": {
       "config": {
        "linkText": "Export to plot.ly",
        "plotlyServerURL": "https://plot.ly",
        "showLink": true
       },
       "data": [
        {
         "marker": {
          "color": "rgba(255, 153, 51, 0.6)",
          "line": {
           "color": "rgba(255, 153, 51, 1.0)",
           "width": 1
          }
         },
         "name": "Values",
         "orientation": "v",
         "text": "",
         "type": "bar",
         "x": [
          "A",
          "B",
          "C"
         ],
         "y": [
          32,
          43,
          50
         ]
        }
       ],
       "layout": {
        "legend": {
         "bgcolor": "#F5F6F9",
         "font": {
          "color": "#4D5663"
         }
        },
        "paper_bgcolor": "#F5F6F9",
        "plot_bgcolor": "#F5F6F9",
        "template": {
         "data": {
          "bar": [
           {
            "error_x": {
             "color": "#2a3f5f"
            },
            "error_y": {
             "color": "#2a3f5f"
            },
            "marker": {
             "line": {
              "color": "#E5ECF6",
              "width": 0.5
             },
             "pattern": {
              "fillmode": "overlay",
              "size": 10,
              "solidity": 0.2
             }
            },
            "type": "bar"
           }
          ],
          "barpolar": [
           {
            "marker": {
             "line": {
              "color": "#E5ECF6",
              "width": 0.5
             },
             "pattern": {
              "fillmode": "overlay",
              "size": 10,
              "solidity": 0.2
             }
            },
            "type": "barpolar"
           }
          ],
          "carpet": [
           {
            "aaxis": {
             "endlinecolor": "#2a3f5f",
             "gridcolor": "white",
             "linecolor": "white",
             "minorgridcolor": "white",
             "startlinecolor": "#2a3f5f"
            },
            "baxis": {
             "endlinecolor": "#2a3f5f",
             "gridcolor": "white",
             "linecolor": "white",
             "minorgridcolor": "white",
             "startlinecolor": "#2a3f5f"
            },
            "type": "carpet"
           }
          ],
          "choropleth": [
           {
            "colorbar": {
             "outlinewidth": 0,
             "ticks": ""
            },
            "type": "choropleth"
           }
          ],
          "contour": [
           {
            "colorbar": {
             "outlinewidth": 0,
             "ticks": ""
            },
            "colorscale": [
             [
              0,
              "#0d0887"
             ],
             [
              0.1111111111111111,
              "#46039f"
             ],
             [
              0.2222222222222222,
              "#7201a8"
             ],
             [
              0.3333333333333333,
              "#9c179e"
             ],
             [
              0.4444444444444444,
              "#bd3786"
             ],
             [
              0.5555555555555556,
              "#d8576b"
             ],
             [
              0.6666666666666666,
              "#ed7953"
             ],
             [
              0.7777777777777778,
              "#fb9f3a"
             ],
             [
              0.8888888888888888,
              "#fdca26"
             ],
             [
              1,
              "#f0f921"
             ]
            ],
            "type": "contour"
           }
          ],
          "contourcarpet": [
           {
            "colorbar": {
             "outlinewidth": 0,
             "ticks": ""
            },
            "type": "contourcarpet"
           }
          ],
          "heatmap": [
           {
            "colorbar": {
             "outlinewidth": 0,
             "ticks": ""
            },
            "colorscale": [
             [
              0,
              "#0d0887"
             ],
             [
              0.1111111111111111,
              "#46039f"
             ],
             [
              0.2222222222222222,
              "#7201a8"
             ],
             [
              0.3333333333333333,
              "#9c179e"
             ],
             [
              0.4444444444444444,
              "#bd3786"
             ],
             [
              0.5555555555555556,
              "#d8576b"
             ],
             [
              0.6666666666666666,
              "#ed7953"
             ],
             [
              0.7777777777777778,
              "#fb9f3a"
             ],
             [
              0.8888888888888888,
              "#fdca26"
             ],
             [
              1,
              "#f0f921"
             ]
            ],
            "type": "heatmap"
           }
          ],
          "heatmapgl": [
           {
            "colorbar": {
             "outlinewidth": 0,
             "ticks": ""
            },
            "colorscale": [
             [
              0,
              "#0d0887"
             ],
             [
              0.1111111111111111,
              "#46039f"
             ],
             [
              0.2222222222222222,
              "#7201a8"
             ],
             [
              0.3333333333333333,
              "#9c179e"
             ],
             [
              0.4444444444444444,
              "#bd3786"
             ],
             [
              0.5555555555555556,
              "#d8576b"
             ],
             [
              0.6666666666666666,
              "#ed7953"
             ],
             [
              0.7777777777777778,
              "#fb9f3a"
             ],
             [
              0.8888888888888888,
              "#fdca26"
             ],
             [
              1,
              "#f0f921"
             ]
            ],
            "type": "heatmapgl"
           }
          ],
          "histogram": [
           {
            "marker": {
             "pattern": {
              "fillmode": "overlay",
              "size": 10,
              "solidity": 0.2
             }
            },
            "type": "histogram"
           }
          ],
          "histogram2d": [
           {
            "colorbar": {
             "outlinewidth": 0,
             "ticks": ""
            },
            "colorscale": [
             [
              0,
              "#0d0887"
             ],
             [
              0.1111111111111111,
              "#46039f"
             ],
             [
              0.2222222222222222,
              "#7201a8"
             ],
             [
              0.3333333333333333,
              "#9c179e"
             ],
             [
              0.4444444444444444,
              "#bd3786"
             ],
             [
              0.5555555555555556,
              "#d8576b"
             ],
             [
              0.6666666666666666,
              "#ed7953"
             ],
             [
              0.7777777777777778,
              "#fb9f3a"
             ],
             [
              0.8888888888888888,
              "#fdca26"
             ],
             [
              1,
              "#f0f921"
             ]
            ],
            "type": "histogram2d"
           }
          ],
          "histogram2dcontour": [
           {
            "colorbar": {
             "outlinewidth": 0,
             "ticks": ""
            },
            "colorscale": [
             [
              0,
              "#0d0887"
             ],
             [
              0.1111111111111111,
              "#46039f"
             ],
             [
              0.2222222222222222,
              "#7201a8"
             ],
             [
              0.3333333333333333,
              "#9c179e"
             ],
             [
              0.4444444444444444,
              "#bd3786"
             ],
             [
              0.5555555555555556,
              "#d8576b"
             ],
             [
              0.6666666666666666,
              "#ed7953"
             ],
             [
              0.7777777777777778,
              "#fb9f3a"
             ],
             [
              0.8888888888888888,
              "#fdca26"
             ],
             [
              1,
              "#f0f921"
             ]
            ],
            "type": "histogram2dcontour"
           }
          ],
          "mesh3d": [
           {
            "colorbar": {
             "outlinewidth": 0,
             "ticks": ""
            },
            "type": "mesh3d"
           }
          ],
          "parcoords": [
           {
            "line": {
             "colorbar": {
              "outlinewidth": 0,
              "ticks": ""
             }
            },
            "type": "parcoords"
           }
          ],
          "pie": [
           {
            "automargin": true,
            "type": "pie"
           }
          ],
          "scatter": [
           {
            "fillpattern": {
             "fillmode": "overlay",
             "size": 10,
             "solidity": 0.2
            },
            "type": "scatter"
           }
          ],
          "scatter3d": [
           {
            "line": {
             "colorbar": {
              "outlinewidth": 0,
              "ticks": ""
             }
            },
            "marker": {
             "colorbar": {
              "outlinewidth": 0,
              "ticks": ""
             }
            },
            "type": "scatter3d"
           }
          ],
          "scattercarpet": [
           {
            "marker": {
             "colorbar": {
              "outlinewidth": 0,
              "ticks": ""
             }
            },
            "type": "scattercarpet"
           }
          ],
          "scattergeo": [
           {
            "marker": {
             "colorbar": {
              "outlinewidth": 0,
              "ticks": ""
             }
            },
            "type": "scattergeo"
           }
          ],
          "scattergl": [
           {
            "marker": {
             "colorbar": {
              "outlinewidth": 0,
              "ticks": ""
             }
            },
            "type": "scattergl"
           }
          ],
          "scattermapbox": [
           {
            "marker": {
             "colorbar": {
              "outlinewidth": 0,
              "ticks": ""
             }
            },
            "type": "scattermapbox"
           }
          ],
          "scatterpolar": [
           {
            "marker": {
             "colorbar": {
              "outlinewidth": 0,
              "ticks": ""
             }
            },
            "type": "scatterpolar"
           }
          ],
          "scatterpolargl": [
           {
            "marker": {
             "colorbar": {
              "outlinewidth": 0,
              "ticks": ""
             }
            },
            "type": "scatterpolargl"
           }
          ],
          "scatterternary": [
           {
            "marker": {
             "colorbar": {
              "outlinewidth": 0,
              "ticks": ""
             }
            },
            "type": "scatterternary"
           }
          ],
          "surface": [
           {
            "colorbar": {
             "outlinewidth": 0,
             "ticks": ""
            },
            "colorscale": [
             [
              0,
              "#0d0887"
             ],
             [
              0.1111111111111111,
              "#46039f"
             ],
             [
              0.2222222222222222,
              "#7201a8"
             ],
             [
              0.3333333333333333,
              "#9c179e"
             ],
             [
              0.4444444444444444,
              "#bd3786"
             ],
             [
              0.5555555555555556,
              "#d8576b"
             ],
             [
              0.6666666666666666,
              "#ed7953"
             ],
             [
              0.7777777777777778,
              "#fb9f3a"
             ],
             [
              0.8888888888888888,
              "#fdca26"
             ],
             [
              1,
              "#f0f921"
             ]
            ],
            "type": "surface"
           }
          ],
          "table": [
           {
            "cells": {
             "fill": {
              "color": "#EBF0F8"
             },
             "line": {
              "color": "white"
             }
            },
            "header": {
             "fill": {
              "color": "#C8D4E3"
             },
             "line": {
              "color": "white"
             }
            },
            "type": "table"
           }
          ]
         },
         "layout": {
          "annotationdefaults": {
           "arrowcolor": "#2a3f5f",
           "arrowhead": 0,
           "arrowwidth": 1
          },
          "autotypenumbers": "strict",
          "coloraxis": {
           "colorbar": {
            "outlinewidth": 0,
            "ticks": ""
           }
          },
          "colorscale": {
           "diverging": [
            [
             0,
             "#8e0152"
            ],
            [
             0.1,
             "#c51b7d"
            ],
            [
             0.2,
             "#de77ae"
            ],
            [
             0.3,
             "#f1b6da"
            ],
            [
             0.4,
             "#fde0ef"
            ],
            [
             0.5,
             "#f7f7f7"
            ],
            [
             0.6,
             "#e6f5d0"
            ],
            [
             0.7,
             "#b8e186"
            ],
            [
             0.8,
             "#7fbc41"
            ],
            [
             0.9,
             "#4d9221"
            ],
            [
             1,
             "#276419"
            ]
           ],
           "sequential": [
            [
             0,
             "#0d0887"
            ],
            [
             0.1111111111111111,
             "#46039f"
            ],
            [
             0.2222222222222222,
             "#7201a8"
            ],
            [
             0.3333333333333333,
             "#9c179e"
            ],
            [
             0.4444444444444444,
             "#bd3786"
            ],
            [
             0.5555555555555556,
             "#d8576b"
            ],
            [
             0.6666666666666666,
             "#ed7953"
            ],
            [
             0.7777777777777778,
             "#fb9f3a"
            ],
            [
             0.8888888888888888,
             "#fdca26"
            ],
            [
             1,
             "#f0f921"
            ]
           ],
           "sequentialminus": [
            [
             0,
             "#0d0887"
            ],
            [
             0.1111111111111111,
             "#46039f"
            ],
            [
             0.2222222222222222,
             "#7201a8"
            ],
            [
             0.3333333333333333,
             "#9c179e"
            ],
            [
             0.4444444444444444,
             "#bd3786"
            ],
            [
             0.5555555555555556,
             "#d8576b"
            ],
            [
             0.6666666666666666,
             "#ed7953"
            ],
            [
             0.7777777777777778,
             "#fb9f3a"
            ],
            [
             0.8888888888888888,
             "#fdca26"
            ],
            [
             1,
             "#f0f921"
            ]
           ]
          },
          "colorway": [
           "#636efa",
           "#EF553B",
           "#00cc96",
           "#ab63fa",
           "#FFA15A",
           "#19d3f3",
           "#FF6692",
           "#B6E880",
           "#FF97FF",
           "#FECB52"
          ],
          "font": {
           "color": "#2a3f5f"
          },
          "geo": {
           "bgcolor": "white",
           "lakecolor": "white",
           "landcolor": "#E5ECF6",
           "showlakes": true,
           "showland": true,
           "subunitcolor": "white"
          },
          "hoverlabel": {
           "align": "left"
          },
          "hovermode": "closest",
          "mapbox": {
           "style": "light"
          },
          "paper_bgcolor": "white",
          "plot_bgcolor": "#E5ECF6",
          "polar": {
           "angularaxis": {
            "gridcolor": "white",
            "linecolor": "white",
            "ticks": ""
           },
           "bgcolor": "#E5ECF6",
           "radialaxis": {
            "gridcolor": "white",
            "linecolor": "white",
            "ticks": ""
           }
          },
          "scene": {
           "xaxis": {
            "backgroundcolor": "#E5ECF6",
            "gridcolor": "white",
            "gridwidth": 2,
            "linecolor": "white",
            "showbackground": true,
            "ticks": "",
            "zerolinecolor": "white"
           },
           "yaxis": {
            "backgroundcolor": "#E5ECF6",
            "gridcolor": "white",
            "gridwidth": 2,
            "linecolor": "white",
            "showbackground": true,
            "ticks": "",
            "zerolinecolor": "white"
           },
           "zaxis": {
            "backgroundcolor": "#E5ECF6",
            "gridcolor": "white",
            "gridwidth": 2,
            "linecolor": "white",
            "showbackground": true,
            "ticks": "",
            "zerolinecolor": "white"
           }
          },
          "shapedefaults": {
           "line": {
            "color": "#2a3f5f"
           }
          },
          "ternary": {
           "aaxis": {
            "gridcolor": "white",
            "linecolor": "white",
            "ticks": ""
           },
           "baxis": {
            "gridcolor": "white",
            "linecolor": "white",
            "ticks": ""
           },
           "bgcolor": "#E5ECF6",
           "caxis": {
            "gridcolor": "white",
            "linecolor": "white",
            "ticks": ""
           }
          },
          "title": {
           "x": 0.05
          },
          "xaxis": {
           "automargin": true,
           "gridcolor": "white",
           "linecolor": "white",
           "ticks": "",
           "title": {
            "standoff": 15
           },
           "zerolinecolor": "white",
           "zerolinewidth": 2
          },
          "yaxis": {
           "automargin": true,
           "gridcolor": "white",
           "linecolor": "white",
           "ticks": "",
           "title": {
            "standoff": 15
           },
           "zerolinecolor": "white",
           "zerolinewidth": 2
          }
         }
        },
        "title": {
         "font": {
          "color": "#4D5663"
         }
        },
        "xaxis": {
         "gridcolor": "#E1E5ED",
         "showgrid": true,
         "tickfont": {
          "color": "#4D5663"
         },
         "title": {
          "font": {
           "color": "#4D5663"
          },
          "text": ""
         },
         "zerolinecolor": "#E1E5ED"
        },
        "yaxis": {
         "gridcolor": "#E1E5ED",
         "showgrid": true,
         "tickfont": {
          "color": "#4D5663"
         },
         "title": {
          "font": {
           "color": "#4D5663"
          },
          "text": ""
         },
         "zerolinecolor": "#E1E5ED"
        }
       }
      },
      "text/html": [
       "<div>                            <div id=\"b3f3f099-6ab5-4d5b-8b46-166be7064a3f\" class=\"plotly-graph-div\" style=\"height:525px; width:100%;\"></div>            <script type=\"text/javascript\">                require([\"plotly\"], function(Plotly) {                    window.PLOTLYENV=window.PLOTLYENV || {};\n",
       "                    window.PLOTLYENV.BASE_URL='https://plot.ly';                                    if (document.getElementById(\"b3f3f099-6ab5-4d5b-8b46-166be7064a3f\")) {                    Plotly.newPlot(                        \"b3f3f099-6ab5-4d5b-8b46-166be7064a3f\",                        [{\"marker\":{\"color\":\"rgba(255, 153, 51, 0.6)\",\"line\":{\"color\":\"rgba(255, 153, 51, 1.0)\",\"width\":1}},\"name\":\"Values\",\"orientation\":\"v\",\"text\":\"\",\"x\":[\"A\",\"B\",\"C\"],\"y\":[32,43,50],\"type\":\"bar\"}],                        {\"legend\":{\"bgcolor\":\"#F5F6F9\",\"font\":{\"color\":\"#4D5663\"}},\"paper_bgcolor\":\"#F5F6F9\",\"plot_bgcolor\":\"#F5F6F9\",\"template\":{\"data\":{\"barpolar\":[{\"marker\":{\"line\":{\"color\":\"#E5ECF6\",\"width\":0.5},\"pattern\":{\"fillmode\":\"overlay\",\"size\":10,\"solidity\":0.2}},\"type\":\"barpolar\"}],\"bar\":[{\"error_x\":{\"color\":\"#2a3f5f\"},\"error_y\":{\"color\":\"#2a3f5f\"},\"marker\":{\"line\":{\"color\":\"#E5ECF6\",\"width\":0.5},\"pattern\":{\"fillmode\":\"overlay\",\"size\":10,\"solidity\":0.2}},\"type\":\"bar\"}],\"carpet\":[{\"aaxis\":{\"endlinecolor\":\"#2a3f5f\",\"gridcolor\":\"white\",\"linecolor\":\"white\",\"minorgridcolor\":\"white\",\"startlinecolor\":\"#2a3f5f\"},\"baxis\":{\"endlinecolor\":\"#2a3f5f\",\"gridcolor\":\"white\",\"linecolor\":\"white\",\"minorgridcolor\":\"white\",\"startlinecolor\":\"#2a3f5f\"},\"type\":\"carpet\"}],\"choropleth\":[{\"colorbar\":{\"outlinewidth\":0,\"ticks\":\"\"},\"type\":\"choropleth\"}],\"contourcarpet\":[{\"colorbar\":{\"outlinewidth\":0,\"ticks\":\"\"},\"type\":\"contourcarpet\"}],\"contour\":[{\"colorbar\":{\"outlinewidth\":0,\"ticks\":\"\"},\"colorscale\":[[0.0,\"#0d0887\"],[0.1111111111111111,\"#46039f\"],[0.2222222222222222,\"#7201a8\"],[0.3333333333333333,\"#9c179e\"],[0.4444444444444444,\"#bd3786\"],[0.5555555555555556,\"#d8576b\"],[0.6666666666666666,\"#ed7953\"],[0.7777777777777778,\"#fb9f3a\"],[0.8888888888888888,\"#fdca26\"],[1.0,\"#f0f921\"]],\"type\":\"contour\"}],\"heatmapgl\":[{\"colorbar\":{\"outlinewidth\":0,\"ticks\":\"\"},\"colorscale\":[[0.0,\"#0d0887\"],[0.1111111111111111,\"#46039f\"],[0.2222222222222222,\"#7201a8\"],[0.3333333333333333,\"#9c179e\"],[0.4444444444444444,\"#bd3786\"],[0.5555555555555556,\"#d8576b\"],[0.6666666666666666,\"#ed7953\"],[0.7777777777777778,\"#fb9f3a\"],[0.8888888888888888,\"#fdca26\"],[1.0,\"#f0f921\"]],\"type\":\"heatmapgl\"}],\"heatmap\":[{\"colorbar\":{\"outlinewidth\":0,\"ticks\":\"\"},\"colorscale\":[[0.0,\"#0d0887\"],[0.1111111111111111,\"#46039f\"],[0.2222222222222222,\"#7201a8\"],[0.3333333333333333,\"#9c179e\"],[0.4444444444444444,\"#bd3786\"],[0.5555555555555556,\"#d8576b\"],[0.6666666666666666,\"#ed7953\"],[0.7777777777777778,\"#fb9f3a\"],[0.8888888888888888,\"#fdca26\"],[1.0,\"#f0f921\"]],\"type\":\"heatmap\"}],\"histogram2dcontour\":[{\"colorbar\":{\"outlinewidth\":0,\"ticks\":\"\"},\"colorscale\":[[0.0,\"#0d0887\"],[0.1111111111111111,\"#46039f\"],[0.2222222222222222,\"#7201a8\"],[0.3333333333333333,\"#9c179e\"],[0.4444444444444444,\"#bd3786\"],[0.5555555555555556,\"#d8576b\"],[0.6666666666666666,\"#ed7953\"],[0.7777777777777778,\"#fb9f3a\"],[0.8888888888888888,\"#fdca26\"],[1.0,\"#f0f921\"]],\"type\":\"histogram2dcontour\"}],\"histogram2d\":[{\"colorbar\":{\"outlinewidth\":0,\"ticks\":\"\"},\"colorscale\":[[0.0,\"#0d0887\"],[0.1111111111111111,\"#46039f\"],[0.2222222222222222,\"#7201a8\"],[0.3333333333333333,\"#9c179e\"],[0.4444444444444444,\"#bd3786\"],[0.5555555555555556,\"#d8576b\"],[0.6666666666666666,\"#ed7953\"],[0.7777777777777778,\"#fb9f3a\"],[0.8888888888888888,\"#fdca26\"],[1.0,\"#f0f921\"]],\"type\":\"histogram2d\"}],\"histogram\":[{\"marker\":{\"pattern\":{\"fillmode\":\"overlay\",\"size\":10,\"solidity\":0.2}},\"type\":\"histogram\"}],\"mesh3d\":[{\"colorbar\":{\"outlinewidth\":0,\"ticks\":\"\"},\"type\":\"mesh3d\"}],\"parcoords\":[{\"line\":{\"colorbar\":{\"outlinewidth\":0,\"ticks\":\"\"}},\"type\":\"parcoords\"}],\"pie\":[{\"automargin\":true,\"type\":\"pie\"}],\"scatter3d\":[{\"line\":{\"colorbar\":{\"outlinewidth\":0,\"ticks\":\"\"}},\"marker\":{\"colorbar\":{\"outlinewidth\":0,\"ticks\":\"\"}},\"type\":\"scatter3d\"}],\"scattercarpet\":[{\"marker\":{\"colorbar\":{\"outlinewidth\":0,\"ticks\":\"\"}},\"type\":\"scattercarpet\"}],\"scattergeo\":[{\"marker\":{\"colorbar\":{\"outlinewidth\":0,\"ticks\":\"\"}},\"type\":\"scattergeo\"}],\"scattergl\":[{\"marker\":{\"colorbar\":{\"outlinewidth\":0,\"ticks\":\"\"}},\"type\":\"scattergl\"}],\"scattermapbox\":[{\"marker\":{\"colorbar\":{\"outlinewidth\":0,\"ticks\":\"\"}},\"type\":\"scattermapbox\"}],\"scatterpolargl\":[{\"marker\":{\"colorbar\":{\"outlinewidth\":0,\"ticks\":\"\"}},\"type\":\"scatterpolargl\"}],\"scatterpolar\":[{\"marker\":{\"colorbar\":{\"outlinewidth\":0,\"ticks\":\"\"}},\"type\":\"scatterpolar\"}],\"scatter\":[{\"fillpattern\":{\"fillmode\":\"overlay\",\"size\":10,\"solidity\":0.2},\"type\":\"scatter\"}],\"scatterternary\":[{\"marker\":{\"colorbar\":{\"outlinewidth\":0,\"ticks\":\"\"}},\"type\":\"scatterternary\"}],\"surface\":[{\"colorbar\":{\"outlinewidth\":0,\"ticks\":\"\"},\"colorscale\":[[0.0,\"#0d0887\"],[0.1111111111111111,\"#46039f\"],[0.2222222222222222,\"#7201a8\"],[0.3333333333333333,\"#9c179e\"],[0.4444444444444444,\"#bd3786\"],[0.5555555555555556,\"#d8576b\"],[0.6666666666666666,\"#ed7953\"],[0.7777777777777778,\"#fb9f3a\"],[0.8888888888888888,\"#fdca26\"],[1.0,\"#f0f921\"]],\"type\":\"surface\"}],\"table\":[{\"cells\":{\"fill\":{\"color\":\"#EBF0F8\"},\"line\":{\"color\":\"white\"}},\"header\":{\"fill\":{\"color\":\"#C8D4E3\"},\"line\":{\"color\":\"white\"}},\"type\":\"table\"}]},\"layout\":{\"annotationdefaults\":{\"arrowcolor\":\"#2a3f5f\",\"arrowhead\":0,\"arrowwidth\":1},\"autotypenumbers\":\"strict\",\"coloraxis\":{\"colorbar\":{\"outlinewidth\":0,\"ticks\":\"\"}},\"colorscale\":{\"diverging\":[[0,\"#8e0152\"],[0.1,\"#c51b7d\"],[0.2,\"#de77ae\"],[0.3,\"#f1b6da\"],[0.4,\"#fde0ef\"],[0.5,\"#f7f7f7\"],[0.6,\"#e6f5d0\"],[0.7,\"#b8e186\"],[0.8,\"#7fbc41\"],[0.9,\"#4d9221\"],[1,\"#276419\"]],\"sequential\":[[0.0,\"#0d0887\"],[0.1111111111111111,\"#46039f\"],[0.2222222222222222,\"#7201a8\"],[0.3333333333333333,\"#9c179e\"],[0.4444444444444444,\"#bd3786\"],[0.5555555555555556,\"#d8576b\"],[0.6666666666666666,\"#ed7953\"],[0.7777777777777778,\"#fb9f3a\"],[0.8888888888888888,\"#fdca26\"],[1.0,\"#f0f921\"]],\"sequentialminus\":[[0.0,\"#0d0887\"],[0.1111111111111111,\"#46039f\"],[0.2222222222222222,\"#7201a8\"],[0.3333333333333333,\"#9c179e\"],[0.4444444444444444,\"#bd3786\"],[0.5555555555555556,\"#d8576b\"],[0.6666666666666666,\"#ed7953\"],[0.7777777777777778,\"#fb9f3a\"],[0.8888888888888888,\"#fdca26\"],[1.0,\"#f0f921\"]]},\"colorway\":[\"#636efa\",\"#EF553B\",\"#00cc96\",\"#ab63fa\",\"#FFA15A\",\"#19d3f3\",\"#FF6692\",\"#B6E880\",\"#FF97FF\",\"#FECB52\"],\"font\":{\"color\":\"#2a3f5f\"},\"geo\":{\"bgcolor\":\"white\",\"lakecolor\":\"white\",\"landcolor\":\"#E5ECF6\",\"showlakes\":true,\"showland\":true,\"subunitcolor\":\"white\"},\"hoverlabel\":{\"align\":\"left\"},\"hovermode\":\"closest\",\"mapbox\":{\"style\":\"light\"},\"paper_bgcolor\":\"white\",\"plot_bgcolor\":\"#E5ECF6\",\"polar\":{\"angularaxis\":{\"gridcolor\":\"white\",\"linecolor\":\"white\",\"ticks\":\"\"},\"bgcolor\":\"#E5ECF6\",\"radialaxis\":{\"gridcolor\":\"white\",\"linecolor\":\"white\",\"ticks\":\"\"}},\"scene\":{\"xaxis\":{\"backgroundcolor\":\"#E5ECF6\",\"gridcolor\":\"white\",\"gridwidth\":2,\"linecolor\":\"white\",\"showbackground\":true,\"ticks\":\"\",\"zerolinecolor\":\"white\"},\"yaxis\":{\"backgroundcolor\":\"#E5ECF6\",\"gridcolor\":\"white\",\"gridwidth\":2,\"linecolor\":\"white\",\"showbackground\":true,\"ticks\":\"\",\"zerolinecolor\":\"white\"},\"zaxis\":{\"backgroundcolor\":\"#E5ECF6\",\"gridcolor\":\"white\",\"gridwidth\":2,\"linecolor\":\"white\",\"showbackground\":true,\"ticks\":\"\",\"zerolinecolor\":\"white\"}},\"shapedefaults\":{\"line\":{\"color\":\"#2a3f5f\"}},\"ternary\":{\"aaxis\":{\"gridcolor\":\"white\",\"linecolor\":\"white\",\"ticks\":\"\"},\"baxis\":{\"gridcolor\":\"white\",\"linecolor\":\"white\",\"ticks\":\"\"},\"bgcolor\":\"#E5ECF6\",\"caxis\":{\"gridcolor\":\"white\",\"linecolor\":\"white\",\"ticks\":\"\"}},\"title\":{\"x\":0.05},\"xaxis\":{\"automargin\":true,\"gridcolor\":\"white\",\"linecolor\":\"white\",\"ticks\":\"\",\"title\":{\"standoff\":15},\"zerolinecolor\":\"white\",\"zerolinewidth\":2},\"yaxis\":{\"automargin\":true,\"gridcolor\":\"white\",\"linecolor\":\"white\",\"ticks\":\"\",\"title\":{\"standoff\":15},\"zerolinecolor\":\"white\",\"zerolinewidth\":2}}},\"title\":{\"font\":{\"color\":\"#4D5663\"}},\"xaxis\":{\"gridcolor\":\"#E1E5ED\",\"showgrid\":true,\"tickfont\":{\"color\":\"#4D5663\"},\"title\":{\"font\":{\"color\":\"#4D5663\"},\"text\":\"\"},\"zerolinecolor\":\"#E1E5ED\"},\"yaxis\":{\"gridcolor\":\"#E1E5ED\",\"showgrid\":true,\"tickfont\":{\"color\":\"#4D5663\"},\"title\":{\"font\":{\"color\":\"#4D5663\"},\"text\":\"\"},\"zerolinecolor\":\"#E1E5ED\"}},                        {\"showLink\": true, \"linkText\": \"Export to plot.ly\", \"plotlyServerURL\": \"https://plot.ly\", \"responsive\": true}                    ).then(function(){\n",
       "                            \n",
       "var gd = document.getElementById('b3f3f099-6ab5-4d5b-8b46-166be7064a3f');\n",
       "var x = new MutationObserver(function (mutations, observer) {{\n",
       "        var display = window.getComputedStyle(gd).display;\n",
       "        if (!display || display === 'none') {{\n",
       "            console.log([gd, 'removed!']);\n",
       "            Plotly.purge(gd);\n",
       "            observer.disconnect();\n",
       "        }}\n",
       "}});\n",
       "\n",
       "// Listen for the removal of the full notebook cells\n",
       "var notebookContainer = gd.closest('#notebook-container');\n",
       "if (notebookContainer) {{\n",
       "    x.observe(notebookContainer, {childList: true});\n",
       "}}\n",
       "\n",
       "// Listen for the clearing of the current output cell\n",
       "var outputEl = gd.closest('.output');\n",
       "if (outputEl) {{\n",
       "    x.observe(outputEl, {childList: true});\n",
       "}}\n",
       "\n",
       "                        })                };                });            </script>        </div>"
      ]
     },
     "metadata": {},
     "output_type": "display_data"
    }
   ],
   "source": [
    "df2.iplot(kind='bar',x='Category',y='Values')"
   ]
  },
  {
   "cell_type": "code",
   "execution_count": 26,
   "metadata": {},
   "outputs": [
    {
     "data": {
      "application/vnd.plotly.v1+json": {
       "config": {
        "linkText": "Export to plot.ly",
        "plotlyServerURL": "https://plot.ly",
        "showLink": true
       },
       "data": [
        {
         "marker": {
          "color": "rgba(255, 153, 51, 0.6)",
          "line": {
           "color": "rgba(255, 153, 51, 1.0)",
           "width": 1
          }
         },
         "name": "None",
         "orientation": "v",
         "text": "",
         "type": "bar",
         "x": [
          "A",
          "B",
          "C",
          "D"
         ],
         "y": [
          100,
          100,
          100,
          100
         ]
        }
       ],
       "layout": {
        "legend": {
         "bgcolor": "#F5F6F9",
         "font": {
          "color": "#4D5663"
         }
        },
        "paper_bgcolor": "#F5F6F9",
        "plot_bgcolor": "#F5F6F9",
        "template": {
         "data": {
          "bar": [
           {
            "error_x": {
             "color": "#2a3f5f"
            },
            "error_y": {
             "color": "#2a3f5f"
            },
            "marker": {
             "line": {
              "color": "#E5ECF6",
              "width": 0.5
             },
             "pattern": {
              "fillmode": "overlay",
              "size": 10,
              "solidity": 0.2
             }
            },
            "type": "bar"
           }
          ],
          "barpolar": [
           {
            "marker": {
             "line": {
              "color": "#E5ECF6",
              "width": 0.5
             },
             "pattern": {
              "fillmode": "overlay",
              "size": 10,
              "solidity": 0.2
             }
            },
            "type": "barpolar"
           }
          ],
          "carpet": [
           {
            "aaxis": {
             "endlinecolor": "#2a3f5f",
             "gridcolor": "white",
             "linecolor": "white",
             "minorgridcolor": "white",
             "startlinecolor": "#2a3f5f"
            },
            "baxis": {
             "endlinecolor": "#2a3f5f",
             "gridcolor": "white",
             "linecolor": "white",
             "minorgridcolor": "white",
             "startlinecolor": "#2a3f5f"
            },
            "type": "carpet"
           }
          ],
          "choropleth": [
           {
            "colorbar": {
             "outlinewidth": 0,
             "ticks": ""
            },
            "type": "choropleth"
           }
          ],
          "contour": [
           {
            "colorbar": {
             "outlinewidth": 0,
             "ticks": ""
            },
            "colorscale": [
             [
              0,
              "#0d0887"
             ],
             [
              0.1111111111111111,
              "#46039f"
             ],
             [
              0.2222222222222222,
              "#7201a8"
             ],
             [
              0.3333333333333333,
              "#9c179e"
             ],
             [
              0.4444444444444444,
              "#bd3786"
             ],
             [
              0.5555555555555556,
              "#d8576b"
             ],
             [
              0.6666666666666666,
              "#ed7953"
             ],
             [
              0.7777777777777778,
              "#fb9f3a"
             ],
             [
              0.8888888888888888,
              "#fdca26"
             ],
             [
              1,
              "#f0f921"
             ]
            ],
            "type": "contour"
           }
          ],
          "contourcarpet": [
           {
            "colorbar": {
             "outlinewidth": 0,
             "ticks": ""
            },
            "type": "contourcarpet"
           }
          ],
          "heatmap": [
           {
            "colorbar": {
             "outlinewidth": 0,
             "ticks": ""
            },
            "colorscale": [
             [
              0,
              "#0d0887"
             ],
             [
              0.1111111111111111,
              "#46039f"
             ],
             [
              0.2222222222222222,
              "#7201a8"
             ],
             [
              0.3333333333333333,
              "#9c179e"
             ],
             [
              0.4444444444444444,
              "#bd3786"
             ],
             [
              0.5555555555555556,
              "#d8576b"
             ],
             [
              0.6666666666666666,
              "#ed7953"
             ],
             [
              0.7777777777777778,
              "#fb9f3a"
             ],
             [
              0.8888888888888888,
              "#fdca26"
             ],
             [
              1,
              "#f0f921"
             ]
            ],
            "type": "heatmap"
           }
          ],
          "heatmapgl": [
           {
            "colorbar": {
             "outlinewidth": 0,
             "ticks": ""
            },
            "colorscale": [
             [
              0,
              "#0d0887"
             ],
             [
              0.1111111111111111,
              "#46039f"
             ],
             [
              0.2222222222222222,
              "#7201a8"
             ],
             [
              0.3333333333333333,
              "#9c179e"
             ],
             [
              0.4444444444444444,
              "#bd3786"
             ],
             [
              0.5555555555555556,
              "#d8576b"
             ],
             [
              0.6666666666666666,
              "#ed7953"
             ],
             [
              0.7777777777777778,
              "#fb9f3a"
             ],
             [
              0.8888888888888888,
              "#fdca26"
             ],
             [
              1,
              "#f0f921"
             ]
            ],
            "type": "heatmapgl"
           }
          ],
          "histogram": [
           {
            "marker": {
             "pattern": {
              "fillmode": "overlay",
              "size": 10,
              "solidity": 0.2
             }
            },
            "type": "histogram"
           }
          ],
          "histogram2d": [
           {
            "colorbar": {
             "outlinewidth": 0,
             "ticks": ""
            },
            "colorscale": [
             [
              0,
              "#0d0887"
             ],
             [
              0.1111111111111111,
              "#46039f"
             ],
             [
              0.2222222222222222,
              "#7201a8"
             ],
             [
              0.3333333333333333,
              "#9c179e"
             ],
             [
              0.4444444444444444,
              "#bd3786"
             ],
             [
              0.5555555555555556,
              "#d8576b"
             ],
             [
              0.6666666666666666,
              "#ed7953"
             ],
             [
              0.7777777777777778,
              "#fb9f3a"
             ],
             [
              0.8888888888888888,
              "#fdca26"
             ],
             [
              1,
              "#f0f921"
             ]
            ],
            "type": "histogram2d"
           }
          ],
          "histogram2dcontour": [
           {
            "colorbar": {
             "outlinewidth": 0,
             "ticks": ""
            },
            "colorscale": [
             [
              0,
              "#0d0887"
             ],
             [
              0.1111111111111111,
              "#46039f"
             ],
             [
              0.2222222222222222,
              "#7201a8"
             ],
             [
              0.3333333333333333,
              "#9c179e"
             ],
             [
              0.4444444444444444,
              "#bd3786"
             ],
             [
              0.5555555555555556,
              "#d8576b"
             ],
             [
              0.6666666666666666,
              "#ed7953"
             ],
             [
              0.7777777777777778,
              "#fb9f3a"
             ],
             [
              0.8888888888888888,
              "#fdca26"
             ],
             [
              1,
              "#f0f921"
             ]
            ],
            "type": "histogram2dcontour"
           }
          ],
          "mesh3d": [
           {
            "colorbar": {
             "outlinewidth": 0,
             "ticks": ""
            },
            "type": "mesh3d"
           }
          ],
          "parcoords": [
           {
            "line": {
             "colorbar": {
              "outlinewidth": 0,
              "ticks": ""
             }
            },
            "type": "parcoords"
           }
          ],
          "pie": [
           {
            "automargin": true,
            "type": "pie"
           }
          ],
          "scatter": [
           {
            "fillpattern": {
             "fillmode": "overlay",
             "size": 10,
             "solidity": 0.2
            },
            "type": "scatter"
           }
          ],
          "scatter3d": [
           {
            "line": {
             "colorbar": {
              "outlinewidth": 0,
              "ticks": ""
             }
            },
            "marker": {
             "colorbar": {
              "outlinewidth": 0,
              "ticks": ""
             }
            },
            "type": "scatter3d"
           }
          ],
          "scattercarpet": [
           {
            "marker": {
             "colorbar": {
              "outlinewidth": 0,
              "ticks": ""
             }
            },
            "type": "scattercarpet"
           }
          ],
          "scattergeo": [
           {
            "marker": {
             "colorbar": {
              "outlinewidth": 0,
              "ticks": ""
             }
            },
            "type": "scattergeo"
           }
          ],
          "scattergl": [
           {
            "marker": {
             "colorbar": {
              "outlinewidth": 0,
              "ticks": ""
             }
            },
            "type": "scattergl"
           }
          ],
          "scattermapbox": [
           {
            "marker": {
             "colorbar": {
              "outlinewidth": 0,
              "ticks": ""
             }
            },
            "type": "scattermapbox"
           }
          ],
          "scatterpolar": [
           {
            "marker": {
             "colorbar": {
              "outlinewidth": 0,
              "ticks": ""
             }
            },
            "type": "scatterpolar"
           }
          ],
          "scatterpolargl": [
           {
            "marker": {
             "colorbar": {
              "outlinewidth": 0,
              "ticks": ""
             }
            },
            "type": "scatterpolargl"
           }
          ],
          "scatterternary": [
           {
            "marker": {
             "colorbar": {
              "outlinewidth": 0,
              "ticks": ""
             }
            },
            "type": "scatterternary"
           }
          ],
          "surface": [
           {
            "colorbar": {
             "outlinewidth": 0,
             "ticks": ""
            },
            "colorscale": [
             [
              0,
              "#0d0887"
             ],
             [
              0.1111111111111111,
              "#46039f"
             ],
             [
              0.2222222222222222,
              "#7201a8"
             ],
             [
              0.3333333333333333,
              "#9c179e"
             ],
             [
              0.4444444444444444,
              "#bd3786"
             ],
             [
              0.5555555555555556,
              "#d8576b"
             ],
             [
              0.6666666666666666,
              "#ed7953"
             ],
             [
              0.7777777777777778,
              "#fb9f3a"
             ],
             [
              0.8888888888888888,
              "#fdca26"
             ],
             [
              1,
              "#f0f921"
             ]
            ],
            "type": "surface"
           }
          ],
          "table": [
           {
            "cells": {
             "fill": {
              "color": "#EBF0F8"
             },
             "line": {
              "color": "white"
             }
            },
            "header": {
             "fill": {
              "color": "#C8D4E3"
             },
             "line": {
              "color": "white"
             }
            },
            "type": "table"
           }
          ]
         },
         "layout": {
          "annotationdefaults": {
           "arrowcolor": "#2a3f5f",
           "arrowhead": 0,
           "arrowwidth": 1
          },
          "autotypenumbers": "strict",
          "coloraxis": {
           "colorbar": {
            "outlinewidth": 0,
            "ticks": ""
           }
          },
          "colorscale": {
           "diverging": [
            [
             0,
             "#8e0152"
            ],
            [
             0.1,
             "#c51b7d"
            ],
            [
             0.2,
             "#de77ae"
            ],
            [
             0.3,
             "#f1b6da"
            ],
            [
             0.4,
             "#fde0ef"
            ],
            [
             0.5,
             "#f7f7f7"
            ],
            [
             0.6,
             "#e6f5d0"
            ],
            [
             0.7,
             "#b8e186"
            ],
            [
             0.8,
             "#7fbc41"
            ],
            [
             0.9,
             "#4d9221"
            ],
            [
             1,
             "#276419"
            ]
           ],
           "sequential": [
            [
             0,
             "#0d0887"
            ],
            [
             0.1111111111111111,
             "#46039f"
            ],
            [
             0.2222222222222222,
             "#7201a8"
            ],
            [
             0.3333333333333333,
             "#9c179e"
            ],
            [
             0.4444444444444444,
             "#bd3786"
            ],
            [
             0.5555555555555556,
             "#d8576b"
            ],
            [
             0.6666666666666666,
             "#ed7953"
            ],
            [
             0.7777777777777778,
             "#fb9f3a"
            ],
            [
             0.8888888888888888,
             "#fdca26"
            ],
            [
             1,
             "#f0f921"
            ]
           ],
           "sequentialminus": [
            [
             0,
             "#0d0887"
            ],
            [
             0.1111111111111111,
             "#46039f"
            ],
            [
             0.2222222222222222,
             "#7201a8"
            ],
            [
             0.3333333333333333,
             "#9c179e"
            ],
            [
             0.4444444444444444,
             "#bd3786"
            ],
            [
             0.5555555555555556,
             "#d8576b"
            ],
            [
             0.6666666666666666,
             "#ed7953"
            ],
            [
             0.7777777777777778,
             "#fb9f3a"
            ],
            [
             0.8888888888888888,
             "#fdca26"
            ],
            [
             1,
             "#f0f921"
            ]
           ]
          },
          "colorway": [
           "#636efa",
           "#EF553B",
           "#00cc96",
           "#ab63fa",
           "#FFA15A",
           "#19d3f3",
           "#FF6692",
           "#B6E880",
           "#FF97FF",
           "#FECB52"
          ],
          "font": {
           "color": "#2a3f5f"
          },
          "geo": {
           "bgcolor": "white",
           "lakecolor": "white",
           "landcolor": "#E5ECF6",
           "showlakes": true,
           "showland": true,
           "subunitcolor": "white"
          },
          "hoverlabel": {
           "align": "left"
          },
          "hovermode": "closest",
          "mapbox": {
           "style": "light"
          },
          "paper_bgcolor": "white",
          "plot_bgcolor": "#E5ECF6",
          "polar": {
           "angularaxis": {
            "gridcolor": "white",
            "linecolor": "white",
            "ticks": ""
           },
           "bgcolor": "#E5ECF6",
           "radialaxis": {
            "gridcolor": "white",
            "linecolor": "white",
            "ticks": ""
           }
          },
          "scene": {
           "xaxis": {
            "backgroundcolor": "#E5ECF6",
            "gridcolor": "white",
            "gridwidth": 2,
            "linecolor": "white",
            "showbackground": true,
            "ticks": "",
            "zerolinecolor": "white"
           },
           "yaxis": {
            "backgroundcolor": "#E5ECF6",
            "gridcolor": "white",
            "gridwidth": 2,
            "linecolor": "white",
            "showbackground": true,
            "ticks": "",
            "zerolinecolor": "white"
           },
           "zaxis": {
            "backgroundcolor": "#E5ECF6",
            "gridcolor": "white",
            "gridwidth": 2,
            "linecolor": "white",
            "showbackground": true,
            "ticks": "",
            "zerolinecolor": "white"
           }
          },
          "shapedefaults": {
           "line": {
            "color": "#2a3f5f"
           }
          },
          "ternary": {
           "aaxis": {
            "gridcolor": "white",
            "linecolor": "white",
            "ticks": ""
           },
           "baxis": {
            "gridcolor": "white",
            "linecolor": "white",
            "ticks": ""
           },
           "bgcolor": "#E5ECF6",
           "caxis": {
            "gridcolor": "white",
            "linecolor": "white",
            "ticks": ""
           }
          },
          "title": {
           "x": 0.05
          },
          "xaxis": {
           "automargin": true,
           "gridcolor": "white",
           "linecolor": "white",
           "ticks": "",
           "title": {
            "standoff": 15
           },
           "zerolinecolor": "white",
           "zerolinewidth": 2
          },
          "yaxis": {
           "automargin": true,
           "gridcolor": "white",
           "linecolor": "white",
           "ticks": "",
           "title": {
            "standoff": 15
           },
           "zerolinecolor": "white",
           "zerolinewidth": 2
          }
         }
        },
        "title": {
         "font": {
          "color": "#4D5663"
         }
        },
        "xaxis": {
         "gridcolor": "#E1E5ED",
         "showgrid": true,
         "tickfont": {
          "color": "#4D5663"
         },
         "title": {
          "font": {
           "color": "#4D5663"
          },
          "text": ""
         },
         "zerolinecolor": "#E1E5ED"
        },
        "yaxis": {
         "gridcolor": "#E1E5ED",
         "showgrid": true,
         "tickfont": {
          "color": "#4D5663"
         },
         "title": {
          "font": {
           "color": "#4D5663"
          },
          "text": ""
         },
         "zerolinecolor": "#E1E5ED"
        }
       }
      },
      "text/html": [
       "<div>                            <div id=\"66995d36-5796-4b85-b3cd-9840ad3100f9\" class=\"plotly-graph-div\" style=\"height:525px; width:100%;\"></div>            <script type=\"text/javascript\">                require([\"plotly\"], function(Plotly) {                    window.PLOTLYENV=window.PLOTLYENV || {};\n",
       "                    window.PLOTLYENV.BASE_URL='https://plot.ly';                                    if (document.getElementById(\"66995d36-5796-4b85-b3cd-9840ad3100f9\")) {                    Plotly.newPlot(                        \"66995d36-5796-4b85-b3cd-9840ad3100f9\",                        [{\"marker\":{\"color\":\"rgba(255, 153, 51, 0.6)\",\"line\":{\"color\":\"rgba(255, 153, 51, 1.0)\",\"width\":1}},\"name\":\"None\",\"orientation\":\"v\",\"text\":\"\",\"x\":[\"A\",\"B\",\"C\",\"D\"],\"y\":[100,100,100,100],\"type\":\"bar\"}],                        {\"legend\":{\"bgcolor\":\"#F5F6F9\",\"font\":{\"color\":\"#4D5663\"}},\"paper_bgcolor\":\"#F5F6F9\",\"plot_bgcolor\":\"#F5F6F9\",\"template\":{\"data\":{\"barpolar\":[{\"marker\":{\"line\":{\"color\":\"#E5ECF6\",\"width\":0.5},\"pattern\":{\"fillmode\":\"overlay\",\"size\":10,\"solidity\":0.2}},\"type\":\"barpolar\"}],\"bar\":[{\"error_x\":{\"color\":\"#2a3f5f\"},\"error_y\":{\"color\":\"#2a3f5f\"},\"marker\":{\"line\":{\"color\":\"#E5ECF6\",\"width\":0.5},\"pattern\":{\"fillmode\":\"overlay\",\"size\":10,\"solidity\":0.2}},\"type\":\"bar\"}],\"carpet\":[{\"aaxis\":{\"endlinecolor\":\"#2a3f5f\",\"gridcolor\":\"white\",\"linecolor\":\"white\",\"minorgridcolor\":\"white\",\"startlinecolor\":\"#2a3f5f\"},\"baxis\":{\"endlinecolor\":\"#2a3f5f\",\"gridcolor\":\"white\",\"linecolor\":\"white\",\"minorgridcolor\":\"white\",\"startlinecolor\":\"#2a3f5f\"},\"type\":\"carpet\"}],\"choropleth\":[{\"colorbar\":{\"outlinewidth\":0,\"ticks\":\"\"},\"type\":\"choropleth\"}],\"contourcarpet\":[{\"colorbar\":{\"outlinewidth\":0,\"ticks\":\"\"},\"type\":\"contourcarpet\"}],\"contour\":[{\"colorbar\":{\"outlinewidth\":0,\"ticks\":\"\"},\"colorscale\":[[0.0,\"#0d0887\"],[0.1111111111111111,\"#46039f\"],[0.2222222222222222,\"#7201a8\"],[0.3333333333333333,\"#9c179e\"],[0.4444444444444444,\"#bd3786\"],[0.5555555555555556,\"#d8576b\"],[0.6666666666666666,\"#ed7953\"],[0.7777777777777778,\"#fb9f3a\"],[0.8888888888888888,\"#fdca26\"],[1.0,\"#f0f921\"]],\"type\":\"contour\"}],\"heatmapgl\":[{\"colorbar\":{\"outlinewidth\":0,\"ticks\":\"\"},\"colorscale\":[[0.0,\"#0d0887\"],[0.1111111111111111,\"#46039f\"],[0.2222222222222222,\"#7201a8\"],[0.3333333333333333,\"#9c179e\"],[0.4444444444444444,\"#bd3786\"],[0.5555555555555556,\"#d8576b\"],[0.6666666666666666,\"#ed7953\"],[0.7777777777777778,\"#fb9f3a\"],[0.8888888888888888,\"#fdca26\"],[1.0,\"#f0f921\"]],\"type\":\"heatmapgl\"}],\"heatmap\":[{\"colorbar\":{\"outlinewidth\":0,\"ticks\":\"\"},\"colorscale\":[[0.0,\"#0d0887\"],[0.1111111111111111,\"#46039f\"],[0.2222222222222222,\"#7201a8\"],[0.3333333333333333,\"#9c179e\"],[0.4444444444444444,\"#bd3786\"],[0.5555555555555556,\"#d8576b\"],[0.6666666666666666,\"#ed7953\"],[0.7777777777777778,\"#fb9f3a\"],[0.8888888888888888,\"#fdca26\"],[1.0,\"#f0f921\"]],\"type\":\"heatmap\"}],\"histogram2dcontour\":[{\"colorbar\":{\"outlinewidth\":0,\"ticks\":\"\"},\"colorscale\":[[0.0,\"#0d0887\"],[0.1111111111111111,\"#46039f\"],[0.2222222222222222,\"#7201a8\"],[0.3333333333333333,\"#9c179e\"],[0.4444444444444444,\"#bd3786\"],[0.5555555555555556,\"#d8576b\"],[0.6666666666666666,\"#ed7953\"],[0.7777777777777778,\"#fb9f3a\"],[0.8888888888888888,\"#fdca26\"],[1.0,\"#f0f921\"]],\"type\":\"histogram2dcontour\"}],\"histogram2d\":[{\"colorbar\":{\"outlinewidth\":0,\"ticks\":\"\"},\"colorscale\":[[0.0,\"#0d0887\"],[0.1111111111111111,\"#46039f\"],[0.2222222222222222,\"#7201a8\"],[0.3333333333333333,\"#9c179e\"],[0.4444444444444444,\"#bd3786\"],[0.5555555555555556,\"#d8576b\"],[0.6666666666666666,\"#ed7953\"],[0.7777777777777778,\"#fb9f3a\"],[0.8888888888888888,\"#fdca26\"],[1.0,\"#f0f921\"]],\"type\":\"histogram2d\"}],\"histogram\":[{\"marker\":{\"pattern\":{\"fillmode\":\"overlay\",\"size\":10,\"solidity\":0.2}},\"type\":\"histogram\"}],\"mesh3d\":[{\"colorbar\":{\"outlinewidth\":0,\"ticks\":\"\"},\"type\":\"mesh3d\"}],\"parcoords\":[{\"line\":{\"colorbar\":{\"outlinewidth\":0,\"ticks\":\"\"}},\"type\":\"parcoords\"}],\"pie\":[{\"automargin\":true,\"type\":\"pie\"}],\"scatter3d\":[{\"line\":{\"colorbar\":{\"outlinewidth\":0,\"ticks\":\"\"}},\"marker\":{\"colorbar\":{\"outlinewidth\":0,\"ticks\":\"\"}},\"type\":\"scatter3d\"}],\"scattercarpet\":[{\"marker\":{\"colorbar\":{\"outlinewidth\":0,\"ticks\":\"\"}},\"type\":\"scattercarpet\"}],\"scattergeo\":[{\"marker\":{\"colorbar\":{\"outlinewidth\":0,\"ticks\":\"\"}},\"type\":\"scattergeo\"}],\"scattergl\":[{\"marker\":{\"colorbar\":{\"outlinewidth\":0,\"ticks\":\"\"}},\"type\":\"scattergl\"}],\"scattermapbox\":[{\"marker\":{\"colorbar\":{\"outlinewidth\":0,\"ticks\":\"\"}},\"type\":\"scattermapbox\"}],\"scatterpolargl\":[{\"marker\":{\"colorbar\":{\"outlinewidth\":0,\"ticks\":\"\"}},\"type\":\"scatterpolargl\"}],\"scatterpolar\":[{\"marker\":{\"colorbar\":{\"outlinewidth\":0,\"ticks\":\"\"}},\"type\":\"scatterpolar\"}],\"scatter\":[{\"fillpattern\":{\"fillmode\":\"overlay\",\"size\":10,\"solidity\":0.2},\"type\":\"scatter\"}],\"scatterternary\":[{\"marker\":{\"colorbar\":{\"outlinewidth\":0,\"ticks\":\"\"}},\"type\":\"scatterternary\"}],\"surface\":[{\"colorbar\":{\"outlinewidth\":0,\"ticks\":\"\"},\"colorscale\":[[0.0,\"#0d0887\"],[0.1111111111111111,\"#46039f\"],[0.2222222222222222,\"#7201a8\"],[0.3333333333333333,\"#9c179e\"],[0.4444444444444444,\"#bd3786\"],[0.5555555555555556,\"#d8576b\"],[0.6666666666666666,\"#ed7953\"],[0.7777777777777778,\"#fb9f3a\"],[0.8888888888888888,\"#fdca26\"],[1.0,\"#f0f921\"]],\"type\":\"surface\"}],\"table\":[{\"cells\":{\"fill\":{\"color\":\"#EBF0F8\"},\"line\":{\"color\":\"white\"}},\"header\":{\"fill\":{\"color\":\"#C8D4E3\"},\"line\":{\"color\":\"white\"}},\"type\":\"table\"}]},\"layout\":{\"annotationdefaults\":{\"arrowcolor\":\"#2a3f5f\",\"arrowhead\":0,\"arrowwidth\":1},\"autotypenumbers\":\"strict\",\"coloraxis\":{\"colorbar\":{\"outlinewidth\":0,\"ticks\":\"\"}},\"colorscale\":{\"diverging\":[[0,\"#8e0152\"],[0.1,\"#c51b7d\"],[0.2,\"#de77ae\"],[0.3,\"#f1b6da\"],[0.4,\"#fde0ef\"],[0.5,\"#f7f7f7\"],[0.6,\"#e6f5d0\"],[0.7,\"#b8e186\"],[0.8,\"#7fbc41\"],[0.9,\"#4d9221\"],[1,\"#276419\"]],\"sequential\":[[0.0,\"#0d0887\"],[0.1111111111111111,\"#46039f\"],[0.2222222222222222,\"#7201a8\"],[0.3333333333333333,\"#9c179e\"],[0.4444444444444444,\"#bd3786\"],[0.5555555555555556,\"#d8576b\"],[0.6666666666666666,\"#ed7953\"],[0.7777777777777778,\"#fb9f3a\"],[0.8888888888888888,\"#fdca26\"],[1.0,\"#f0f921\"]],\"sequentialminus\":[[0.0,\"#0d0887\"],[0.1111111111111111,\"#46039f\"],[0.2222222222222222,\"#7201a8\"],[0.3333333333333333,\"#9c179e\"],[0.4444444444444444,\"#bd3786\"],[0.5555555555555556,\"#d8576b\"],[0.6666666666666666,\"#ed7953\"],[0.7777777777777778,\"#fb9f3a\"],[0.8888888888888888,\"#fdca26\"],[1.0,\"#f0f921\"]]},\"colorway\":[\"#636efa\",\"#EF553B\",\"#00cc96\",\"#ab63fa\",\"#FFA15A\",\"#19d3f3\",\"#FF6692\",\"#B6E880\",\"#FF97FF\",\"#FECB52\"],\"font\":{\"color\":\"#2a3f5f\"},\"geo\":{\"bgcolor\":\"white\",\"lakecolor\":\"white\",\"landcolor\":\"#E5ECF6\",\"showlakes\":true,\"showland\":true,\"subunitcolor\":\"white\"},\"hoverlabel\":{\"align\":\"left\"},\"hovermode\":\"closest\",\"mapbox\":{\"style\":\"light\"},\"paper_bgcolor\":\"white\",\"plot_bgcolor\":\"#E5ECF6\",\"polar\":{\"angularaxis\":{\"gridcolor\":\"white\",\"linecolor\":\"white\",\"ticks\":\"\"},\"bgcolor\":\"#E5ECF6\",\"radialaxis\":{\"gridcolor\":\"white\",\"linecolor\":\"white\",\"ticks\":\"\"}},\"scene\":{\"xaxis\":{\"backgroundcolor\":\"#E5ECF6\",\"gridcolor\":\"white\",\"gridwidth\":2,\"linecolor\":\"white\",\"showbackground\":true,\"ticks\":\"\",\"zerolinecolor\":\"white\"},\"yaxis\":{\"backgroundcolor\":\"#E5ECF6\",\"gridcolor\":\"white\",\"gridwidth\":2,\"linecolor\":\"white\",\"showbackground\":true,\"ticks\":\"\",\"zerolinecolor\":\"white\"},\"zaxis\":{\"backgroundcolor\":\"#E5ECF6\",\"gridcolor\":\"white\",\"gridwidth\":2,\"linecolor\":\"white\",\"showbackground\":true,\"ticks\":\"\",\"zerolinecolor\":\"white\"}},\"shapedefaults\":{\"line\":{\"color\":\"#2a3f5f\"}},\"ternary\":{\"aaxis\":{\"gridcolor\":\"white\",\"linecolor\":\"white\",\"ticks\":\"\"},\"baxis\":{\"gridcolor\":\"white\",\"linecolor\":\"white\",\"ticks\":\"\"},\"bgcolor\":\"#E5ECF6\",\"caxis\":{\"gridcolor\":\"white\",\"linecolor\":\"white\",\"ticks\":\"\"}},\"title\":{\"x\":0.05},\"xaxis\":{\"automargin\":true,\"gridcolor\":\"white\",\"linecolor\":\"white\",\"ticks\":\"\",\"title\":{\"standoff\":15},\"zerolinecolor\":\"white\",\"zerolinewidth\":2},\"yaxis\":{\"automargin\":true,\"gridcolor\":\"white\",\"linecolor\":\"white\",\"ticks\":\"\",\"title\":{\"standoff\":15},\"zerolinecolor\":\"white\",\"zerolinewidth\":2}}},\"title\":{\"font\":{\"color\":\"#4D5663\"}},\"xaxis\":{\"gridcolor\":\"#E1E5ED\",\"showgrid\":true,\"tickfont\":{\"color\":\"#4D5663\"},\"title\":{\"font\":{\"color\":\"#4D5663\"},\"text\":\"\"},\"zerolinecolor\":\"#E1E5ED\"},\"yaxis\":{\"gridcolor\":\"#E1E5ED\",\"showgrid\":true,\"tickfont\":{\"color\":\"#4D5663\"},\"title\":{\"font\":{\"color\":\"#4D5663\"},\"text\":\"\"},\"zerolinecolor\":\"#E1E5ED\"}},                        {\"showLink\": true, \"linkText\": \"Export to plot.ly\", \"plotlyServerURL\": \"https://plot.ly\", \"responsive\": true}                    ).then(function(){\n",
       "                            \n",
       "var gd = document.getElementById('66995d36-5796-4b85-b3cd-9840ad3100f9');\n",
       "var x = new MutationObserver(function (mutations, observer) {{\n",
       "        var display = window.getComputedStyle(gd).display;\n",
       "        if (!display || display === 'none') {{\n",
       "            console.log([gd, 'removed!']);\n",
       "            Plotly.purge(gd);\n",
       "            observer.disconnect();\n",
       "        }}\n",
       "}});\n",
       "\n",
       "// Listen for the removal of the full notebook cells\n",
       "var notebookContainer = gd.closest('#notebook-container');\n",
       "if (notebookContainer) {{\n",
       "    x.observe(notebookContainer, {childList: true});\n",
       "}}\n",
       "\n",
       "// Listen for the clearing of the current output cell\n",
       "var outputEl = gd.closest('.output');\n",
       "if (outputEl) {{\n",
       "    x.observe(outputEl, {childList: true});\n",
       "}}\n",
       "\n",
       "                        })                };                });            </script>        </div>"
      ]
     },
     "metadata": {},
     "output_type": "display_data"
    }
   ],
   "source": [
    "df.count().iplot(kind='bar')"
   ]
  },
  {
   "cell_type": "markdown",
   "metadata": {},
   "source": [
    "## Boxplots"
   ]
  },
  {
   "cell_type": "code",
   "execution_count": 27,
   "metadata": {},
   "outputs": [
    {
     "data": {
      "application/vnd.plotly.v1+json": {
       "config": {
        "linkText": "Export to plot.ly",
        "plotlyServerURL": "https://plot.ly",
        "showLink": true
       },
       "data": [
        {
         "boxpoints": false,
         "line": {
          "width": 1.3
         },
         "marker": {
          "color": "rgba(255, 153, 51, 1.0)"
         },
         "name": "A",
         "orientation": "v",
         "type": "box",
         "y": [
          -1.2615300860614054,
          0.5168583781406116,
          -1.27565405789446,
          1.4781814691430137,
          0.16685274993216312,
          0.29486795628181317,
          0.9785825523153496,
          0.14359652449530164,
          -0.8925068476041645,
          0.6869895496306667,
          -0.3184260842234965,
          -0.06079029464726772,
          0.3046179848603725,
          -0.28578117724567403,
          0.9555452637232548,
          -0.436571217632825,
          1.5989488034519654,
          -0.15788956695773615,
          -0.3888100527566678,
          -0.591990160710526,
          0.2710004943704668,
          0.2602297984499211,
          0.5657822404335577,
          0.18748818541864734,
          -0.18808181802469898,
          -1.35595867059301,
          -1.7497884642723616,
          0.825144024533562,
          0.20421153196532738,
          -0.2644595981522582,
          -0.029348334202425504,
          1.9077855533319394,
          0.22916452088223646,
          0.2867610600268779,
          1.2904275286706701,
          0.6215964625270357,
          0.6747330686433912,
          1.0478166238045625,
          -1.3554516876860905,
          0.08092118840581466,
          -0.40994404610033824,
          0.28561581083232607,
          0.1966769220405505,
          -1.1411890045092357,
          1.7231332434630888,
          -0.42193519470372676,
          -1.741625904007534,
          -2.391591329146761,
          0.689222905342845,
          0.19798524650811158,
          -0.10115323119577455,
          -0.9603616907577721,
          -0.8625275697297408,
          0.3524640636948968,
          1.2393159762473505,
          2.377375403963859,
          -0.33161650928400876,
          -0.7541694714930774,
          0.8277565338293128,
          0.06080378891897225,
          -0.9710249811252153,
          1.224128475122221,
          0.11241632604675655,
          -1.1815069448698765,
          0.1313115186944857,
          -1.2010409076083939,
          0.15765706193163107,
          -1.3211297942118674,
          -0.9825223740395495,
          0.7894139009281048,
          -1.1055435265481648,
          1.1142658013635867,
          -0.18738716811804088,
          -0.9014408479515046,
          -0.10340889577700428,
          1.915295678544698,
          -1.026271756257129,
          0.12995497319553861,
          1.1193558873374236,
          -0.23180192875510952,
          0.21849137154823123,
          1.0419858768778796,
          0.24556231413052595,
          0.49309662249476477,
          0.6160279264073351,
          -0.028684263888879884,
          -0.27846238992189154,
          -0.6151339164505116,
          0.6620802123427995,
          0.3485255177495143,
          -1.218456441286671,
          -1.0227375652102357,
          -0.3943161595674681,
          -0.638346772297683,
          0.14208982603404896,
          3.7399500319589483,
          0.1844386958356573,
          -0.17634768147868762,
          0.3712982772511809,
          -0.07532474604483136
         ]
        },
        {
         "boxpoints": false,
         "line": {
          "width": 1.3
         },
         "marker": {
          "color": "rgba(55, 128, 191, 1.0)"
         },
         "name": "B",
         "orientation": "v",
         "type": "box",
         "y": [
          -1.3999773022346853,
          -0.6625620672077985,
          -0.13403593135012803,
          -0.2339878842549569,
          0.08100488242810727,
          -0.40094669137310823,
          0.7110857695394376,
          0.945132123112901,
          0.7801585124745818,
          -2.4061019556258447,
          0.09632851478545619,
          0.2992606351539072,
          -0.9932761773845984,
          1.9891885642792426,
          -1.4147458176381231,
          0.5469460471883897,
          -0.43138767364022956,
          -0.11380232186836925,
          0.2642741060329245,
          -0.4516065127701526,
          -0.2174021449631138,
          0.6777841867420318,
          1.4469906621585116,
          -0.10477332749880597,
          -0.5718353186794933,
          -0.9241770381073433,
          0.7487742034721503,
          0.5116307408743127,
          -0.357573289466846,
          -0.42891030205716935,
          -1.4555911877393972,
          -0.16832153572754027,
          -0.3332303972415607,
          1.625673569413001,
          0.3741258191879868,
          -1.4188933829841257,
          0.3302419395213557,
          -1.115231172523026,
          -0.6533977526153854,
          -2.280552620733146,
          1.0417207322966597,
          -1.127180454096471,
          -1.6350014016713625,
          0.004862259578625818,
          0.15447244530216225,
          -0.6305495592044218,
          1.6494365509525002,
          1.249404337821749,
          -3.25513107262654,
          -2.2003748750279004,
          0.7777706747383216,
          0.37056489767082534,
          -0.3560390627881642,
          0.5131737979639818,
          -0.8335218338591645,
          -0.4547481048534048,
          -1.1565808901885064,
          -1.2649681759429672,
          0.5919062681448857,
          0.07393727325405307,
          -0.6392552717703002,
          -0.06532171436724853,
          1.2813676031184937,
          -1.0559418320411604,
          1.4139504592986571,
          2.4546740641948936,
          1.0705099251140995,
          0.4746150457471814,
          1.1909024990604284,
          -0.761915425175944,
          -0.23586143082944264,
          1.2184017973426964,
          -0.6852423003678728,
          1.2351106059744261,
          -0.5205086220142247,
          0.06761539169827334,
          -1.4735505010313557,
          -0.7035776570552076,
          0.791392914877188,
          1.5363518469695343,
          0.8680569096835051,
          0.03600875756233151,
          0.29652664576283305,
          1.5945681003222858,
          1.0959640865897888,
          -0.2577631398110386,
          0.041274579839142754,
          -0.9769537525253257,
          -0.4906770970438918,
          1.0543096348022898,
          0.48584175972625604,
          1.002107562265259,
          -1.140108891804244,
          -0.31048423609957376,
          1.1509293609216962,
          0.7543488225434943,
          0.7739362556765743,
          0.03311795773750614,
          -1.995401730436345,
          -0.44309580692760137
         ]
        },
        {
         "boxpoints": false,
         "line": {
          "width": 1.3
         },
         "marker": {
          "color": "rgba(50, 171, 96, 1.0)"
         },
         "name": "C",
         "orientation": "v",
         "type": "box",
         "y": [
          -0.6119837808345561,
          0.3853238635163028,
          -0.3511377855594242,
          -1.2204433026125334,
          -1.4237140106901527,
          -1.4195892782820938,
          0.9600088242611423,
          -0.11576393066849629,
          -0.9923024938054422,
          1.586223557969978,
          -1.4415780438747134,
          -1.2390733485327365,
          -0.33434878971735,
          1.9648199577776106,
          -0.08766612300352726,
          0.6202142714008656,
          -0.4467833684597155,
          -1.8994423633847775,
          -0.24118307225659497,
          -0.2099697413813049,
          -2.363340341029225,
          -1.1268258112064171,
          0.9639369087615384,
          -0.8885829400990982,
          0.3949285761942748,
          0.7881513636323871,
          -0.3144980559102199,
          -1.0461492475918,
          0.7166247447078593,
          -0.7468524159013762,
          0.8674151970421391,
          0.04602419135137053,
          0.46689153490274143,
          -1.2819897688349893,
          -1.4844966214527495,
          -0.2673619567705891,
          -1.222054059020473,
          -1.648420834754166,
          0.23747325432178468,
          -0.2904214934817071,
          -0.7650753522220357,
          0.3339269550455444,
          0.3480370278900314,
          0.8535187828086694,
          -1.0203953719350616,
          0.3392290875947378,
          0.03524267145517492,
          -0.08448984563170832,
          -2.2837805574276637,
          1.5270501865766104,
          1.2202286331391123,
          -2.395575852397786,
          -0.8432511291804089,
          1.1173922522989193,
          -0.8984316406419147,
          0.5588617083291683,
          1.4372836910213578,
          -0.32439378800799,
          0.9779212262649797,
          1.8500836537456498,
          0.7988326066757393,
          -0.1600357106456922,
          -0.03578748628843559,
          0.015641839847267188,
          0.44411920757704476,
          0.04502063446646156,
          -0.45117357857469953,
          -1.0741430372659364,
          -0.3209542399646837,
          -0.16436327237197473,
          1.3238866144457233,
          0.5132156730418638,
          -2.5893852115736262,
          -0.9392610359312538,
          -0.039151045772395,
          -1.361385251067636,
          0.42728496093696755,
          1.3513628557834192,
          -0.7504843096847912,
          -0.40801449108868953,
          0.35522511590782646,
          -0.5329811735863856,
          -0.367692788068022,
          -0.5417829440013526,
          -0.790027084227306,
          -0.10854904271123081,
          -0.979391037830631,
          1.1263211137155658,
          0.7278214354793066,
          -1.04877880464554,
          0.07319863551321172,
          0.34737416688188083,
          -0.916850087439608,
          0.6593068679495917,
          -1.23129583355202,
          -0.3578263992626871,
          1.4468431695053796,
          1.4151596591672,
          0.047903323163623036,
          -0.08915065282485961
         ]
        },
        {
         "boxpoints": false,
         "line": {
          "width": 1.3
         },
         "marker": {
          "color": "rgba(128, 0, 128, 1.0)"
         },
         "name": "D",
         "orientation": "v",
         "type": "box",
         "y": [
          -0.47706790851296726,
          -1.2707186459478514,
          0.9013862500197893,
          0.16414791723662073,
          -0.528305912577053,
          0.760110588159711,
          -0.9776158566357236,
          -1.9850852366254366,
          -1.7370172816400318,
          0.2517126379770799,
          -1.0011328284672907,
          -0.2613786339032824,
          0.7797048038852065,
          -0.8170932884455905,
          0.009242583900853422,
          -1.6836507525265862,
          -0.5048036540858107,
          -1.8326485557919734,
          0.33415009569966686,
          -0.9733124229215993,
          0.4367633389693113,
          0.03620681452186859,
          0.15363324980570667,
          -1.388714196282162,
          0.4108269942067989,
          0.20041866327019373,
          1.8148173947031228,
          2.004429604813547,
          0.5415002110537025,
          -1.1467172808204054,
          -1.4323439440761963,
          -0.07144767755780287,
          0.9921183498797117,
          1.3919571631141874,
          -0.28899018259889425,
          -1.3447429645699842,
          0.7428281327387541,
          -0.9504888731963778,
          -1.850867509708682,
          -0.16284183218926565,
          0.306940590955219,
          -0.6707513443055351,
          -0.8698048225942233,
          -0.1497534577034293,
          1.8202306536146895,
          -1.4094254413160463,
          0.13846159598012317,
          -0.4937329310018632,
          -0.2702891575624019,
          -0.8169023120461076,
          0.6034411819058803,
          0.5691307542052024,
          -1.2180680201750023,
          1.5002550280971456,
          0.5319616257602449,
          -0.501889689467497,
          -1.1426950065491108,
          -0.43092752543985824,
          0.5066801146013515,
          0.7120879493263683,
          -0.517113995921473,
          -2.1512371124884613,
          0.16494732984756155,
          -1.2612525350156645,
          -0.010982003206188539,
          -0.9613283948665519,
          0.5062728424278135,
          0.5896847471268124,
          -1.0852558234880636,
          -0.2656180177773189,
          0.6347090759322588,
          0.4164494719838177,
          0.49535903439532736,
          -0.6488023608549194,
          0.11752878131637244,
          -0.04236959134854982,
          1.053827362093787,
          -0.4985717151399195,
          1.5771374690324773,
          1.1248556430129348,
          0.9565736686442126,
          0.5998504230364267,
          -1.4234707658047592,
          0.8521225737041161,
          -0.2848760900886783,
          1.162666959599844,
          0.5033335838244494,
          -0.2155570736812704,
          -1.0385583461447516,
          -1.1622475401435761,
          0.021390230891725686,
          -0.560576739090153,
          -0.8790485403383482,
          -0.25105250628280734,
          -0.16719939889526858,
          1.1360088693685437,
          0.4271792584961496,
          0.8579829289124504,
          -0.7858608501724726,
          -0.21070718427011376
         ]
        }
       ],
       "layout": {
        "legend": {
         "bgcolor": "#F5F6F9",
         "font": {
          "color": "#4D5663"
         }
        },
        "paper_bgcolor": "#F5F6F9",
        "plot_bgcolor": "#F5F6F9",
        "template": {
         "data": {
          "bar": [
           {
            "error_x": {
             "color": "#2a3f5f"
            },
            "error_y": {
             "color": "#2a3f5f"
            },
            "marker": {
             "line": {
              "color": "#E5ECF6",
              "width": 0.5
             },
             "pattern": {
              "fillmode": "overlay",
              "size": 10,
              "solidity": 0.2
             }
            },
            "type": "bar"
           }
          ],
          "barpolar": [
           {
            "marker": {
             "line": {
              "color": "#E5ECF6",
              "width": 0.5
             },
             "pattern": {
              "fillmode": "overlay",
              "size": 10,
              "solidity": 0.2
             }
            },
            "type": "barpolar"
           }
          ],
          "carpet": [
           {
            "aaxis": {
             "endlinecolor": "#2a3f5f",
             "gridcolor": "white",
             "linecolor": "white",
             "minorgridcolor": "white",
             "startlinecolor": "#2a3f5f"
            },
            "baxis": {
             "endlinecolor": "#2a3f5f",
             "gridcolor": "white",
             "linecolor": "white",
             "minorgridcolor": "white",
             "startlinecolor": "#2a3f5f"
            },
            "type": "carpet"
           }
          ],
          "choropleth": [
           {
            "colorbar": {
             "outlinewidth": 0,
             "ticks": ""
            },
            "type": "choropleth"
           }
          ],
          "contour": [
           {
            "colorbar": {
             "outlinewidth": 0,
             "ticks": ""
            },
            "colorscale": [
             [
              0,
              "#0d0887"
             ],
             [
              0.1111111111111111,
              "#46039f"
             ],
             [
              0.2222222222222222,
              "#7201a8"
             ],
             [
              0.3333333333333333,
              "#9c179e"
             ],
             [
              0.4444444444444444,
              "#bd3786"
             ],
             [
              0.5555555555555556,
              "#d8576b"
             ],
             [
              0.6666666666666666,
              "#ed7953"
             ],
             [
              0.7777777777777778,
              "#fb9f3a"
             ],
             [
              0.8888888888888888,
              "#fdca26"
             ],
             [
              1,
              "#f0f921"
             ]
            ],
            "type": "contour"
           }
          ],
          "contourcarpet": [
           {
            "colorbar": {
             "outlinewidth": 0,
             "ticks": ""
            },
            "type": "contourcarpet"
           }
          ],
          "heatmap": [
           {
            "colorbar": {
             "outlinewidth": 0,
             "ticks": ""
            },
            "colorscale": [
             [
              0,
              "#0d0887"
             ],
             [
              0.1111111111111111,
              "#46039f"
             ],
             [
              0.2222222222222222,
              "#7201a8"
             ],
             [
              0.3333333333333333,
              "#9c179e"
             ],
             [
              0.4444444444444444,
              "#bd3786"
             ],
             [
              0.5555555555555556,
              "#d8576b"
             ],
             [
              0.6666666666666666,
              "#ed7953"
             ],
             [
              0.7777777777777778,
              "#fb9f3a"
             ],
             [
              0.8888888888888888,
              "#fdca26"
             ],
             [
              1,
              "#f0f921"
             ]
            ],
            "type": "heatmap"
           }
          ],
          "heatmapgl": [
           {
            "colorbar": {
             "outlinewidth": 0,
             "ticks": ""
            },
            "colorscale": [
             [
              0,
              "#0d0887"
             ],
             [
              0.1111111111111111,
              "#46039f"
             ],
             [
              0.2222222222222222,
              "#7201a8"
             ],
             [
              0.3333333333333333,
              "#9c179e"
             ],
             [
              0.4444444444444444,
              "#bd3786"
             ],
             [
              0.5555555555555556,
              "#d8576b"
             ],
             [
              0.6666666666666666,
              "#ed7953"
             ],
             [
              0.7777777777777778,
              "#fb9f3a"
             ],
             [
              0.8888888888888888,
              "#fdca26"
             ],
             [
              1,
              "#f0f921"
             ]
            ],
            "type": "heatmapgl"
           }
          ],
          "histogram": [
           {
            "marker": {
             "pattern": {
              "fillmode": "overlay",
              "size": 10,
              "solidity": 0.2
             }
            },
            "type": "histogram"
           }
          ],
          "histogram2d": [
           {
            "colorbar": {
             "outlinewidth": 0,
             "ticks": ""
            },
            "colorscale": [
             [
              0,
              "#0d0887"
             ],
             [
              0.1111111111111111,
              "#46039f"
             ],
             [
              0.2222222222222222,
              "#7201a8"
             ],
             [
              0.3333333333333333,
              "#9c179e"
             ],
             [
              0.4444444444444444,
              "#bd3786"
             ],
             [
              0.5555555555555556,
              "#d8576b"
             ],
             [
              0.6666666666666666,
              "#ed7953"
             ],
             [
              0.7777777777777778,
              "#fb9f3a"
             ],
             [
              0.8888888888888888,
              "#fdca26"
             ],
             [
              1,
              "#f0f921"
             ]
            ],
            "type": "histogram2d"
           }
          ],
          "histogram2dcontour": [
           {
            "colorbar": {
             "outlinewidth": 0,
             "ticks": ""
            },
            "colorscale": [
             [
              0,
              "#0d0887"
             ],
             [
              0.1111111111111111,
              "#46039f"
             ],
             [
              0.2222222222222222,
              "#7201a8"
             ],
             [
              0.3333333333333333,
              "#9c179e"
             ],
             [
              0.4444444444444444,
              "#bd3786"
             ],
             [
              0.5555555555555556,
              "#d8576b"
             ],
             [
              0.6666666666666666,
              "#ed7953"
             ],
             [
              0.7777777777777778,
              "#fb9f3a"
             ],
             [
              0.8888888888888888,
              "#fdca26"
             ],
             [
              1,
              "#f0f921"
             ]
            ],
            "type": "histogram2dcontour"
           }
          ],
          "mesh3d": [
           {
            "colorbar": {
             "outlinewidth": 0,
             "ticks": ""
            },
            "type": "mesh3d"
           }
          ],
          "parcoords": [
           {
            "line": {
             "colorbar": {
              "outlinewidth": 0,
              "ticks": ""
             }
            },
            "type": "parcoords"
           }
          ],
          "pie": [
           {
            "automargin": true,
            "type": "pie"
           }
          ],
          "scatter": [
           {
            "fillpattern": {
             "fillmode": "overlay",
             "size": 10,
             "solidity": 0.2
            },
            "type": "scatter"
           }
          ],
          "scatter3d": [
           {
            "line": {
             "colorbar": {
              "outlinewidth": 0,
              "ticks": ""
             }
            },
            "marker": {
             "colorbar": {
              "outlinewidth": 0,
              "ticks": ""
             }
            },
            "type": "scatter3d"
           }
          ],
          "scattercarpet": [
           {
            "marker": {
             "colorbar": {
              "outlinewidth": 0,
              "ticks": ""
             }
            },
            "type": "scattercarpet"
           }
          ],
          "scattergeo": [
           {
            "marker": {
             "colorbar": {
              "outlinewidth": 0,
              "ticks": ""
             }
            },
            "type": "scattergeo"
           }
          ],
          "scattergl": [
           {
            "marker": {
             "colorbar": {
              "outlinewidth": 0,
              "ticks": ""
             }
            },
            "type": "scattergl"
           }
          ],
          "scattermapbox": [
           {
            "marker": {
             "colorbar": {
              "outlinewidth": 0,
              "ticks": ""
             }
            },
            "type": "scattermapbox"
           }
          ],
          "scatterpolar": [
           {
            "marker": {
             "colorbar": {
              "outlinewidth": 0,
              "ticks": ""
             }
            },
            "type": "scatterpolar"
           }
          ],
          "scatterpolargl": [
           {
            "marker": {
             "colorbar": {
              "outlinewidth": 0,
              "ticks": ""
             }
            },
            "type": "scatterpolargl"
           }
          ],
          "scatterternary": [
           {
            "marker": {
             "colorbar": {
              "outlinewidth": 0,
              "ticks": ""
             }
            },
            "type": "scatterternary"
           }
          ],
          "surface": [
           {
            "colorbar": {
             "outlinewidth": 0,
             "ticks": ""
            },
            "colorscale": [
             [
              0,
              "#0d0887"
             ],
             [
              0.1111111111111111,
              "#46039f"
             ],
             [
              0.2222222222222222,
              "#7201a8"
             ],
             [
              0.3333333333333333,
              "#9c179e"
             ],
             [
              0.4444444444444444,
              "#bd3786"
             ],
             [
              0.5555555555555556,
              "#d8576b"
             ],
             [
              0.6666666666666666,
              "#ed7953"
             ],
             [
              0.7777777777777778,
              "#fb9f3a"
             ],
             [
              0.8888888888888888,
              "#fdca26"
             ],
             [
              1,
              "#f0f921"
             ]
            ],
            "type": "surface"
           }
          ],
          "table": [
           {
            "cells": {
             "fill": {
              "color": "#EBF0F8"
             },
             "line": {
              "color": "white"
             }
            },
            "header": {
             "fill": {
              "color": "#C8D4E3"
             },
             "line": {
              "color": "white"
             }
            },
            "type": "table"
           }
          ]
         },
         "layout": {
          "annotationdefaults": {
           "arrowcolor": "#2a3f5f",
           "arrowhead": 0,
           "arrowwidth": 1
          },
          "autotypenumbers": "strict",
          "coloraxis": {
           "colorbar": {
            "outlinewidth": 0,
            "ticks": ""
           }
          },
          "colorscale": {
           "diverging": [
            [
             0,
             "#8e0152"
            ],
            [
             0.1,
             "#c51b7d"
            ],
            [
             0.2,
             "#de77ae"
            ],
            [
             0.3,
             "#f1b6da"
            ],
            [
             0.4,
             "#fde0ef"
            ],
            [
             0.5,
             "#f7f7f7"
            ],
            [
             0.6,
             "#e6f5d0"
            ],
            [
             0.7,
             "#b8e186"
            ],
            [
             0.8,
             "#7fbc41"
            ],
            [
             0.9,
             "#4d9221"
            ],
            [
             1,
             "#276419"
            ]
           ],
           "sequential": [
            [
             0,
             "#0d0887"
            ],
            [
             0.1111111111111111,
             "#46039f"
            ],
            [
             0.2222222222222222,
             "#7201a8"
            ],
            [
             0.3333333333333333,
             "#9c179e"
            ],
            [
             0.4444444444444444,
             "#bd3786"
            ],
            [
             0.5555555555555556,
             "#d8576b"
            ],
            [
             0.6666666666666666,
             "#ed7953"
            ],
            [
             0.7777777777777778,
             "#fb9f3a"
            ],
            [
             0.8888888888888888,
             "#fdca26"
            ],
            [
             1,
             "#f0f921"
            ]
           ],
           "sequentialminus": [
            [
             0,
             "#0d0887"
            ],
            [
             0.1111111111111111,
             "#46039f"
            ],
            [
             0.2222222222222222,
             "#7201a8"
            ],
            [
             0.3333333333333333,
             "#9c179e"
            ],
            [
             0.4444444444444444,
             "#bd3786"
            ],
            [
             0.5555555555555556,
             "#d8576b"
            ],
            [
             0.6666666666666666,
             "#ed7953"
            ],
            [
             0.7777777777777778,
             "#fb9f3a"
            ],
            [
             0.8888888888888888,
             "#fdca26"
            ],
            [
             1,
             "#f0f921"
            ]
           ]
          },
          "colorway": [
           "#636efa",
           "#EF553B",
           "#00cc96",
           "#ab63fa",
           "#FFA15A",
           "#19d3f3",
           "#FF6692",
           "#B6E880",
           "#FF97FF",
           "#FECB52"
          ],
          "font": {
           "color": "#2a3f5f"
          },
          "geo": {
           "bgcolor": "white",
           "lakecolor": "white",
           "landcolor": "#E5ECF6",
           "showlakes": true,
           "showland": true,
           "subunitcolor": "white"
          },
          "hoverlabel": {
           "align": "left"
          },
          "hovermode": "closest",
          "mapbox": {
           "style": "light"
          },
          "paper_bgcolor": "white",
          "plot_bgcolor": "#E5ECF6",
          "polar": {
           "angularaxis": {
            "gridcolor": "white",
            "linecolor": "white",
            "ticks": ""
           },
           "bgcolor": "#E5ECF6",
           "radialaxis": {
            "gridcolor": "white",
            "linecolor": "white",
            "ticks": ""
           }
          },
          "scene": {
           "xaxis": {
            "backgroundcolor": "#E5ECF6",
            "gridcolor": "white",
            "gridwidth": 2,
            "linecolor": "white",
            "showbackground": true,
            "ticks": "",
            "zerolinecolor": "white"
           },
           "yaxis": {
            "backgroundcolor": "#E5ECF6",
            "gridcolor": "white",
            "gridwidth": 2,
            "linecolor": "white",
            "showbackground": true,
            "ticks": "",
            "zerolinecolor": "white"
           },
           "zaxis": {
            "backgroundcolor": "#E5ECF6",
            "gridcolor": "white",
            "gridwidth": 2,
            "linecolor": "white",
            "showbackground": true,
            "ticks": "",
            "zerolinecolor": "white"
           }
          },
          "shapedefaults": {
           "line": {
            "color": "#2a3f5f"
           }
          },
          "ternary": {
           "aaxis": {
            "gridcolor": "white",
            "linecolor": "white",
            "ticks": ""
           },
           "baxis": {
            "gridcolor": "white",
            "linecolor": "white",
            "ticks": ""
           },
           "bgcolor": "#E5ECF6",
           "caxis": {
            "gridcolor": "white",
            "linecolor": "white",
            "ticks": ""
           }
          },
          "title": {
           "x": 0.05
          },
          "xaxis": {
           "automargin": true,
           "gridcolor": "white",
           "linecolor": "white",
           "ticks": "",
           "title": {
            "standoff": 15
           },
           "zerolinecolor": "white",
           "zerolinewidth": 2
          },
          "yaxis": {
           "automargin": true,
           "gridcolor": "white",
           "linecolor": "white",
           "ticks": "",
           "title": {
            "standoff": 15
           },
           "zerolinecolor": "white",
           "zerolinewidth": 2
          }
         }
        },
        "title": {
         "font": {
          "color": "#4D5663"
         }
        },
        "xaxis": {
         "gridcolor": "#E1E5ED",
         "showgrid": true,
         "tickfont": {
          "color": "#4D5663"
         },
         "title": {
          "font": {
           "color": "#4D5663"
          },
          "text": ""
         },
         "zerolinecolor": "#E1E5ED"
        },
        "yaxis": {
         "gridcolor": "#E1E5ED",
         "showgrid": true,
         "tickfont": {
          "color": "#4D5663"
         },
         "title": {
          "font": {
           "color": "#4D5663"
          },
          "text": ""
         },
         "zerolinecolor": "#E1E5ED"
        }
       }
      },
      "text/html": [
       "<div>                            <div id=\"46e38404-89f4-49a5-b46e-d60fbb900152\" class=\"plotly-graph-div\" style=\"height:525px; width:100%;\"></div>            <script type=\"text/javascript\">                require([\"plotly\"], function(Plotly) {                    window.PLOTLYENV=window.PLOTLYENV || {};\n",
       "                    window.PLOTLYENV.BASE_URL='https://plot.ly';                                    if (document.getElementById(\"46e38404-89f4-49a5-b46e-d60fbb900152\")) {                    Plotly.newPlot(                        \"46e38404-89f4-49a5-b46e-d60fbb900152\",                        [{\"boxpoints\":false,\"line\":{\"width\":1.3},\"marker\":{\"color\":\"rgba(255, 153, 51, 1.0)\"},\"name\":\"A\",\"orientation\":\"v\",\"y\":[-1.2615300860614054,0.5168583781406116,-1.27565405789446,1.4781814691430137,0.16685274993216312,0.29486795628181317,0.9785825523153496,0.14359652449530164,-0.8925068476041645,0.6869895496306667,-0.3184260842234965,-0.06079029464726772,0.3046179848603725,-0.28578117724567403,0.9555452637232548,-0.436571217632825,1.5989488034519654,-0.15788956695773615,-0.3888100527566678,-0.591990160710526,0.2710004943704668,0.2602297984499211,0.5657822404335577,0.18748818541864734,-0.18808181802469898,-1.35595867059301,-1.7497884642723616,0.825144024533562,0.20421153196532738,-0.2644595981522582,-0.029348334202425504,1.9077855533319394,0.22916452088223646,0.2867610600268779,1.2904275286706701,0.6215964625270357,0.6747330686433912,1.0478166238045625,-1.3554516876860905,0.08092118840581466,-0.40994404610033824,0.28561581083232607,0.1966769220405505,-1.1411890045092357,1.7231332434630888,-0.42193519470372676,-1.741625904007534,-2.391591329146761,0.689222905342845,0.19798524650811158,-0.10115323119577455,-0.9603616907577721,-0.8625275697297408,0.3524640636948968,1.2393159762473505,2.377375403963859,-0.33161650928400876,-0.7541694714930774,0.8277565338293128,0.06080378891897225,-0.9710249811252153,1.224128475122221,0.11241632604675655,-1.1815069448698765,0.1313115186944857,-1.2010409076083939,0.15765706193163107,-1.3211297942118674,-0.9825223740395495,0.7894139009281048,-1.1055435265481648,1.1142658013635867,-0.18738716811804088,-0.9014408479515046,-0.10340889577700428,1.915295678544698,-1.026271756257129,0.12995497319553861,1.1193558873374236,-0.23180192875510952,0.21849137154823123,1.0419858768778796,0.24556231413052595,0.49309662249476477,0.6160279264073351,-0.028684263888879884,-0.27846238992189154,-0.6151339164505116,0.6620802123427995,0.3485255177495143,-1.218456441286671,-1.0227375652102357,-0.3943161595674681,-0.638346772297683,0.14208982603404896,3.7399500319589483,0.1844386958356573,-0.17634768147868762,0.3712982772511809,-0.07532474604483136],\"type\":\"box\"},{\"boxpoints\":false,\"line\":{\"width\":1.3},\"marker\":{\"color\":\"rgba(55, 128, 191, 1.0)\"},\"name\":\"B\",\"orientation\":\"v\",\"y\":[-1.3999773022346853,-0.6625620672077985,-0.13403593135012803,-0.2339878842549569,0.08100488242810727,-0.40094669137310823,0.7110857695394376,0.945132123112901,0.7801585124745818,-2.4061019556258447,0.09632851478545619,0.2992606351539072,-0.9932761773845984,1.9891885642792426,-1.4147458176381231,0.5469460471883897,-0.43138767364022956,-0.11380232186836925,0.2642741060329245,-0.4516065127701526,-0.2174021449631138,0.6777841867420318,1.4469906621585116,-0.10477332749880597,-0.5718353186794933,-0.9241770381073433,0.7487742034721503,0.5116307408743127,-0.357573289466846,-0.42891030205716935,-1.4555911877393972,-0.16832153572754027,-0.3332303972415607,1.625673569413001,0.3741258191879868,-1.4188933829841257,0.3302419395213557,-1.115231172523026,-0.6533977526153854,-2.280552620733146,1.0417207322966597,-1.127180454096471,-1.6350014016713625,0.004862259578625818,0.15447244530216225,-0.6305495592044218,1.6494365509525002,1.249404337821749,-3.25513107262654,-2.2003748750279004,0.7777706747383216,0.37056489767082534,-0.3560390627881642,0.5131737979639818,-0.8335218338591645,-0.4547481048534048,-1.1565808901885064,-1.2649681759429672,0.5919062681448857,0.07393727325405307,-0.6392552717703002,-0.06532171436724853,1.2813676031184937,-1.0559418320411604,1.4139504592986571,2.4546740641948936,1.0705099251140995,0.4746150457471814,1.1909024990604284,-0.761915425175944,-0.23586143082944264,1.2184017973426964,-0.6852423003678728,1.2351106059744261,-0.5205086220142247,0.06761539169827334,-1.4735505010313557,-0.7035776570552076,0.791392914877188,1.5363518469695343,0.8680569096835051,0.03600875756233151,0.29652664576283305,1.5945681003222858,1.0959640865897888,-0.2577631398110386,0.041274579839142754,-0.9769537525253257,-0.4906770970438918,1.0543096348022898,0.48584175972625604,1.002107562265259,-1.140108891804244,-0.31048423609957376,1.1509293609216962,0.7543488225434943,0.7739362556765743,0.03311795773750614,-1.995401730436345,-0.44309580692760137],\"type\":\"box\"},{\"boxpoints\":false,\"line\":{\"width\":1.3},\"marker\":{\"color\":\"rgba(50, 171, 96, 1.0)\"},\"name\":\"C\",\"orientation\":\"v\",\"y\":[-0.6119837808345561,0.3853238635163028,-0.3511377855594242,-1.2204433026125334,-1.4237140106901527,-1.4195892782820938,0.9600088242611423,-0.11576393066849629,-0.9923024938054422,1.586223557969978,-1.4415780438747134,-1.2390733485327365,-0.33434878971735,1.9648199577776106,-0.08766612300352726,0.6202142714008656,-0.4467833684597155,-1.8994423633847775,-0.24118307225659497,-0.2099697413813049,-2.363340341029225,-1.1268258112064171,0.9639369087615384,-0.8885829400990982,0.3949285761942748,0.7881513636323871,-0.3144980559102199,-1.0461492475918,0.7166247447078593,-0.7468524159013762,0.8674151970421391,0.04602419135137053,0.46689153490274143,-1.2819897688349893,-1.4844966214527495,-0.2673619567705891,-1.222054059020473,-1.648420834754166,0.23747325432178468,-0.2904214934817071,-0.7650753522220357,0.3339269550455444,0.3480370278900314,0.8535187828086694,-1.0203953719350616,0.3392290875947378,0.03524267145517492,-0.08448984563170832,-2.2837805574276637,1.5270501865766104,1.2202286331391123,-2.395575852397786,-0.8432511291804089,1.1173922522989193,-0.8984316406419147,0.5588617083291683,1.4372836910213578,-0.32439378800799,0.9779212262649797,1.8500836537456498,0.7988326066757393,-0.1600357106456922,-0.03578748628843559,0.015641839847267188,0.44411920757704476,0.04502063446646156,-0.45117357857469953,-1.0741430372659364,-0.3209542399646837,-0.16436327237197473,1.3238866144457233,0.5132156730418638,-2.5893852115736262,-0.9392610359312538,-0.039151045772395,-1.361385251067636,0.42728496093696755,1.3513628557834192,-0.7504843096847912,-0.40801449108868953,0.35522511590782646,-0.5329811735863856,-0.367692788068022,-0.5417829440013526,-0.790027084227306,-0.10854904271123081,-0.979391037830631,1.1263211137155658,0.7278214354793066,-1.04877880464554,0.07319863551321172,0.34737416688188083,-0.916850087439608,0.6593068679495917,-1.23129583355202,-0.3578263992626871,1.4468431695053796,1.4151596591672,0.047903323163623036,-0.08915065282485961],\"type\":\"box\"},{\"boxpoints\":false,\"line\":{\"width\":1.3},\"marker\":{\"color\":\"rgba(128, 0, 128, 1.0)\"},\"name\":\"D\",\"orientation\":\"v\",\"y\":[-0.47706790851296726,-1.2707186459478514,0.9013862500197893,0.16414791723662073,-0.528305912577053,0.760110588159711,-0.9776158566357236,-1.9850852366254366,-1.7370172816400318,0.2517126379770799,-1.0011328284672907,-0.2613786339032824,0.7797048038852065,-0.8170932884455905,0.009242583900853422,-1.6836507525265862,-0.5048036540858107,-1.8326485557919734,0.33415009569966686,-0.9733124229215993,0.4367633389693113,0.03620681452186859,0.15363324980570667,-1.388714196282162,0.4108269942067989,0.20041866327019373,1.8148173947031228,2.004429604813547,0.5415002110537025,-1.1467172808204054,-1.4323439440761963,-0.07144767755780287,0.9921183498797117,1.3919571631141874,-0.28899018259889425,-1.3447429645699842,0.7428281327387541,-0.9504888731963778,-1.850867509708682,-0.16284183218926565,0.306940590955219,-0.6707513443055351,-0.8698048225942233,-0.1497534577034293,1.8202306536146895,-1.4094254413160463,0.13846159598012317,-0.4937329310018632,-0.2702891575624019,-0.8169023120461076,0.6034411819058803,0.5691307542052024,-1.2180680201750023,1.5002550280971456,0.5319616257602449,-0.501889689467497,-1.1426950065491108,-0.43092752543985824,0.5066801146013515,0.7120879493263683,-0.517113995921473,-2.1512371124884613,0.16494732984756155,-1.2612525350156645,-0.010982003206188539,-0.9613283948665519,0.5062728424278135,0.5896847471268124,-1.0852558234880636,-0.2656180177773189,0.6347090759322588,0.4164494719838177,0.49535903439532736,-0.6488023608549194,0.11752878131637244,-0.04236959134854982,1.053827362093787,-0.4985717151399195,1.5771374690324773,1.1248556430129348,0.9565736686442126,0.5998504230364267,-1.4234707658047592,0.8521225737041161,-0.2848760900886783,1.162666959599844,0.5033335838244494,-0.2155570736812704,-1.0385583461447516,-1.1622475401435761,0.021390230891725686,-0.560576739090153,-0.8790485403383482,-0.25105250628280734,-0.16719939889526858,1.1360088693685437,0.4271792584961496,0.8579829289124504,-0.7858608501724726,-0.21070718427011376],\"type\":\"box\"}],                        {\"legend\":{\"bgcolor\":\"#F5F6F9\",\"font\":{\"color\":\"#4D5663\"}},\"paper_bgcolor\":\"#F5F6F9\",\"plot_bgcolor\":\"#F5F6F9\",\"template\":{\"data\":{\"barpolar\":[{\"marker\":{\"line\":{\"color\":\"#E5ECF6\",\"width\":0.5},\"pattern\":{\"fillmode\":\"overlay\",\"size\":10,\"solidity\":0.2}},\"type\":\"barpolar\"}],\"bar\":[{\"error_x\":{\"color\":\"#2a3f5f\"},\"error_y\":{\"color\":\"#2a3f5f\"},\"marker\":{\"line\":{\"color\":\"#E5ECF6\",\"width\":0.5},\"pattern\":{\"fillmode\":\"overlay\",\"size\":10,\"solidity\":0.2}},\"type\":\"bar\"}],\"carpet\":[{\"aaxis\":{\"endlinecolor\":\"#2a3f5f\",\"gridcolor\":\"white\",\"linecolor\":\"white\",\"minorgridcolor\":\"white\",\"startlinecolor\":\"#2a3f5f\"},\"baxis\":{\"endlinecolor\":\"#2a3f5f\",\"gridcolor\":\"white\",\"linecolor\":\"white\",\"minorgridcolor\":\"white\",\"startlinecolor\":\"#2a3f5f\"},\"type\":\"carpet\"}],\"choropleth\":[{\"colorbar\":{\"outlinewidth\":0,\"ticks\":\"\"},\"type\":\"choropleth\"}],\"contourcarpet\":[{\"colorbar\":{\"outlinewidth\":0,\"ticks\":\"\"},\"type\":\"contourcarpet\"}],\"contour\":[{\"colorbar\":{\"outlinewidth\":0,\"ticks\":\"\"},\"colorscale\":[[0.0,\"#0d0887\"],[0.1111111111111111,\"#46039f\"],[0.2222222222222222,\"#7201a8\"],[0.3333333333333333,\"#9c179e\"],[0.4444444444444444,\"#bd3786\"],[0.5555555555555556,\"#d8576b\"],[0.6666666666666666,\"#ed7953\"],[0.7777777777777778,\"#fb9f3a\"],[0.8888888888888888,\"#fdca26\"],[1.0,\"#f0f921\"]],\"type\":\"contour\"}],\"heatmapgl\":[{\"colorbar\":{\"outlinewidth\":0,\"ticks\":\"\"},\"colorscale\":[[0.0,\"#0d0887\"],[0.1111111111111111,\"#46039f\"],[0.2222222222222222,\"#7201a8\"],[0.3333333333333333,\"#9c179e\"],[0.4444444444444444,\"#bd3786\"],[0.5555555555555556,\"#d8576b\"],[0.6666666666666666,\"#ed7953\"],[0.7777777777777778,\"#fb9f3a\"],[0.8888888888888888,\"#fdca26\"],[1.0,\"#f0f921\"]],\"type\":\"heatmapgl\"}],\"heatmap\":[{\"colorbar\":{\"outlinewidth\":0,\"ticks\":\"\"},\"colorscale\":[[0.0,\"#0d0887\"],[0.1111111111111111,\"#46039f\"],[0.2222222222222222,\"#7201a8\"],[0.3333333333333333,\"#9c179e\"],[0.4444444444444444,\"#bd3786\"],[0.5555555555555556,\"#d8576b\"],[0.6666666666666666,\"#ed7953\"],[0.7777777777777778,\"#fb9f3a\"],[0.8888888888888888,\"#fdca26\"],[1.0,\"#f0f921\"]],\"type\":\"heatmap\"}],\"histogram2dcontour\":[{\"colorbar\":{\"outlinewidth\":0,\"ticks\":\"\"},\"colorscale\":[[0.0,\"#0d0887\"],[0.1111111111111111,\"#46039f\"],[0.2222222222222222,\"#7201a8\"],[0.3333333333333333,\"#9c179e\"],[0.4444444444444444,\"#bd3786\"],[0.5555555555555556,\"#d8576b\"],[0.6666666666666666,\"#ed7953\"],[0.7777777777777778,\"#fb9f3a\"],[0.8888888888888888,\"#fdca26\"],[1.0,\"#f0f921\"]],\"type\":\"histogram2dcontour\"}],\"histogram2d\":[{\"colorbar\":{\"outlinewidth\":0,\"ticks\":\"\"},\"colorscale\":[[0.0,\"#0d0887\"],[0.1111111111111111,\"#46039f\"],[0.2222222222222222,\"#7201a8\"],[0.3333333333333333,\"#9c179e\"],[0.4444444444444444,\"#bd3786\"],[0.5555555555555556,\"#d8576b\"],[0.6666666666666666,\"#ed7953\"],[0.7777777777777778,\"#fb9f3a\"],[0.8888888888888888,\"#fdca26\"],[1.0,\"#f0f921\"]],\"type\":\"histogram2d\"}],\"histogram\":[{\"marker\":{\"pattern\":{\"fillmode\":\"overlay\",\"size\":10,\"solidity\":0.2}},\"type\":\"histogram\"}],\"mesh3d\":[{\"colorbar\":{\"outlinewidth\":0,\"ticks\":\"\"},\"type\":\"mesh3d\"}],\"parcoords\":[{\"line\":{\"colorbar\":{\"outlinewidth\":0,\"ticks\":\"\"}},\"type\":\"parcoords\"}],\"pie\":[{\"automargin\":true,\"type\":\"pie\"}],\"scatter3d\":[{\"line\":{\"colorbar\":{\"outlinewidth\":0,\"ticks\":\"\"}},\"marker\":{\"colorbar\":{\"outlinewidth\":0,\"ticks\":\"\"}},\"type\":\"scatter3d\"}],\"scattercarpet\":[{\"marker\":{\"colorbar\":{\"outlinewidth\":0,\"ticks\":\"\"}},\"type\":\"scattercarpet\"}],\"scattergeo\":[{\"marker\":{\"colorbar\":{\"outlinewidth\":0,\"ticks\":\"\"}},\"type\":\"scattergeo\"}],\"scattergl\":[{\"marker\":{\"colorbar\":{\"outlinewidth\":0,\"ticks\":\"\"}},\"type\":\"scattergl\"}],\"scattermapbox\":[{\"marker\":{\"colorbar\":{\"outlinewidth\":0,\"ticks\":\"\"}},\"type\":\"scattermapbox\"}],\"scatterpolargl\":[{\"marker\":{\"colorbar\":{\"outlinewidth\":0,\"ticks\":\"\"}},\"type\":\"scatterpolargl\"}],\"scatterpolar\":[{\"marker\":{\"colorbar\":{\"outlinewidth\":0,\"ticks\":\"\"}},\"type\":\"scatterpolar\"}],\"scatter\":[{\"fillpattern\":{\"fillmode\":\"overlay\",\"size\":10,\"solidity\":0.2},\"type\":\"scatter\"}],\"scatterternary\":[{\"marker\":{\"colorbar\":{\"outlinewidth\":0,\"ticks\":\"\"}},\"type\":\"scatterternary\"}],\"surface\":[{\"colorbar\":{\"outlinewidth\":0,\"ticks\":\"\"},\"colorscale\":[[0.0,\"#0d0887\"],[0.1111111111111111,\"#46039f\"],[0.2222222222222222,\"#7201a8\"],[0.3333333333333333,\"#9c179e\"],[0.4444444444444444,\"#bd3786\"],[0.5555555555555556,\"#d8576b\"],[0.6666666666666666,\"#ed7953\"],[0.7777777777777778,\"#fb9f3a\"],[0.8888888888888888,\"#fdca26\"],[1.0,\"#f0f921\"]],\"type\":\"surface\"}],\"table\":[{\"cells\":{\"fill\":{\"color\":\"#EBF0F8\"},\"line\":{\"color\":\"white\"}},\"header\":{\"fill\":{\"color\":\"#C8D4E3\"},\"line\":{\"color\":\"white\"}},\"type\":\"table\"}]},\"layout\":{\"annotationdefaults\":{\"arrowcolor\":\"#2a3f5f\",\"arrowhead\":0,\"arrowwidth\":1},\"autotypenumbers\":\"strict\",\"coloraxis\":{\"colorbar\":{\"outlinewidth\":0,\"ticks\":\"\"}},\"colorscale\":{\"diverging\":[[0,\"#8e0152\"],[0.1,\"#c51b7d\"],[0.2,\"#de77ae\"],[0.3,\"#f1b6da\"],[0.4,\"#fde0ef\"],[0.5,\"#f7f7f7\"],[0.6,\"#e6f5d0\"],[0.7,\"#b8e186\"],[0.8,\"#7fbc41\"],[0.9,\"#4d9221\"],[1,\"#276419\"]],\"sequential\":[[0.0,\"#0d0887\"],[0.1111111111111111,\"#46039f\"],[0.2222222222222222,\"#7201a8\"],[0.3333333333333333,\"#9c179e\"],[0.4444444444444444,\"#bd3786\"],[0.5555555555555556,\"#d8576b\"],[0.6666666666666666,\"#ed7953\"],[0.7777777777777778,\"#fb9f3a\"],[0.8888888888888888,\"#fdca26\"],[1.0,\"#f0f921\"]],\"sequentialminus\":[[0.0,\"#0d0887\"],[0.1111111111111111,\"#46039f\"],[0.2222222222222222,\"#7201a8\"],[0.3333333333333333,\"#9c179e\"],[0.4444444444444444,\"#bd3786\"],[0.5555555555555556,\"#d8576b\"],[0.6666666666666666,\"#ed7953\"],[0.7777777777777778,\"#fb9f3a\"],[0.8888888888888888,\"#fdca26\"],[1.0,\"#f0f921\"]]},\"colorway\":[\"#636efa\",\"#EF553B\",\"#00cc96\",\"#ab63fa\",\"#FFA15A\",\"#19d3f3\",\"#FF6692\",\"#B6E880\",\"#FF97FF\",\"#FECB52\"],\"font\":{\"color\":\"#2a3f5f\"},\"geo\":{\"bgcolor\":\"white\",\"lakecolor\":\"white\",\"landcolor\":\"#E5ECF6\",\"showlakes\":true,\"showland\":true,\"subunitcolor\":\"white\"},\"hoverlabel\":{\"align\":\"left\"},\"hovermode\":\"closest\",\"mapbox\":{\"style\":\"light\"},\"paper_bgcolor\":\"white\",\"plot_bgcolor\":\"#E5ECF6\",\"polar\":{\"angularaxis\":{\"gridcolor\":\"white\",\"linecolor\":\"white\",\"ticks\":\"\"},\"bgcolor\":\"#E5ECF6\",\"radialaxis\":{\"gridcolor\":\"white\",\"linecolor\":\"white\",\"ticks\":\"\"}},\"scene\":{\"xaxis\":{\"backgroundcolor\":\"#E5ECF6\",\"gridcolor\":\"white\",\"gridwidth\":2,\"linecolor\":\"white\",\"showbackground\":true,\"ticks\":\"\",\"zerolinecolor\":\"white\"},\"yaxis\":{\"backgroundcolor\":\"#E5ECF6\",\"gridcolor\":\"white\",\"gridwidth\":2,\"linecolor\":\"white\",\"showbackground\":true,\"ticks\":\"\",\"zerolinecolor\":\"white\"},\"zaxis\":{\"backgroundcolor\":\"#E5ECF6\",\"gridcolor\":\"white\",\"gridwidth\":2,\"linecolor\":\"white\",\"showbackground\":true,\"ticks\":\"\",\"zerolinecolor\":\"white\"}},\"shapedefaults\":{\"line\":{\"color\":\"#2a3f5f\"}},\"ternary\":{\"aaxis\":{\"gridcolor\":\"white\",\"linecolor\":\"white\",\"ticks\":\"\"},\"baxis\":{\"gridcolor\":\"white\",\"linecolor\":\"white\",\"ticks\":\"\"},\"bgcolor\":\"#E5ECF6\",\"caxis\":{\"gridcolor\":\"white\",\"linecolor\":\"white\",\"ticks\":\"\"}},\"title\":{\"x\":0.05},\"xaxis\":{\"automargin\":true,\"gridcolor\":\"white\",\"linecolor\":\"white\",\"ticks\":\"\",\"title\":{\"standoff\":15},\"zerolinecolor\":\"white\",\"zerolinewidth\":2},\"yaxis\":{\"automargin\":true,\"gridcolor\":\"white\",\"linecolor\":\"white\",\"ticks\":\"\",\"title\":{\"standoff\":15},\"zerolinecolor\":\"white\",\"zerolinewidth\":2}}},\"title\":{\"font\":{\"color\":\"#4D5663\"}},\"xaxis\":{\"gridcolor\":\"#E1E5ED\",\"showgrid\":true,\"tickfont\":{\"color\":\"#4D5663\"},\"title\":{\"font\":{\"color\":\"#4D5663\"},\"text\":\"\"},\"zerolinecolor\":\"#E1E5ED\"},\"yaxis\":{\"gridcolor\":\"#E1E5ED\",\"showgrid\":true,\"tickfont\":{\"color\":\"#4D5663\"},\"title\":{\"font\":{\"color\":\"#4D5663\"},\"text\":\"\"},\"zerolinecolor\":\"#E1E5ED\"}},                        {\"showLink\": true, \"linkText\": \"Export to plot.ly\", \"plotlyServerURL\": \"https://plot.ly\", \"responsive\": true}                    ).then(function(){\n",
       "                            \n",
       "var gd = document.getElementById('46e38404-89f4-49a5-b46e-d60fbb900152');\n",
       "var x = new MutationObserver(function (mutations, observer) {{\n",
       "        var display = window.getComputedStyle(gd).display;\n",
       "        if (!display || display === 'none') {{\n",
       "            console.log([gd, 'removed!']);\n",
       "            Plotly.purge(gd);\n",
       "            observer.disconnect();\n",
       "        }}\n",
       "}});\n",
       "\n",
       "// Listen for the removal of the full notebook cells\n",
       "var notebookContainer = gd.closest('#notebook-container');\n",
       "if (notebookContainer) {{\n",
       "    x.observe(notebookContainer, {childList: true});\n",
       "}}\n",
       "\n",
       "// Listen for the clearing of the current output cell\n",
       "var outputEl = gd.closest('.output');\n",
       "if (outputEl) {{\n",
       "    x.observe(outputEl, {childList: true});\n",
       "}}\n",
       "\n",
       "                        })                };                });            </script>        </div>"
      ]
     },
     "metadata": {},
     "output_type": "display_data"
    }
   ],
   "source": [
    "df.iplot(kind='box')"
   ]
  },
  {
   "cell_type": "markdown",
   "metadata": {},
   "source": [
    "## 3d Surface"
   ]
  },
  {
   "cell_type": "code",
   "execution_count": 28,
   "metadata": {},
   "outputs": [
    {
     "data": {
      "application/vnd.plotly.v1+json": {
       "config": {
        "linkText": "Export to plot.ly",
        "plotlyServerURL": "https://plot.ly",
        "showLink": true
       },
       "data": [
        {
         "colorscale": [
          [
           0,
           "rgb(165,0,38)"
          ],
          [
           0.1,
           "rgb(215,48,39)"
          ],
          [
           0.2,
           "rgb(244,109,67)"
          ],
          [
           0.3,
           "rgb(253,174,97)"
          ],
          [
           0.4,
           "rgb(254,224,144)"
          ],
          [
           0.5,
           "rgb(255,255,191)"
          ],
          [
           0.6,
           "rgb(224,243,248)"
          ],
          [
           0.7,
           "rgb(171,217,233)"
          ],
          [
           0.8,
           "rgb(116,173,209)"
          ],
          [
           0.9,
           "rgb(69,117,180)"
          ],
          [
           1,
           "rgb(49,54,149)"
          ]
         ],
         "type": "surface",
         "x": [
          0,
          1,
          2,
          3,
          4
         ],
         "y": [
          "x",
          "y",
          "z"
         ],
         "z": [
          [
           1,
           2,
           3,
           4,
           5
          ],
          [
           10,
           20,
           30,
           20,
           10
          ],
          [
           5,
           4,
           3,
           2,
           1
          ]
         ]
        }
       ],
       "layout": {
        "legend": {
         "bgcolor": "#F5F6F9",
         "font": {
          "color": "#4D5663"
         }
        },
        "paper_bgcolor": "#F5F6F9",
        "plot_bgcolor": "#F5F6F9",
        "template": {
         "data": {
          "bar": [
           {
            "error_x": {
             "color": "#2a3f5f"
            },
            "error_y": {
             "color": "#2a3f5f"
            },
            "marker": {
             "line": {
              "color": "#E5ECF6",
              "width": 0.5
             },
             "pattern": {
              "fillmode": "overlay",
              "size": 10,
              "solidity": 0.2
             }
            },
            "type": "bar"
           }
          ],
          "barpolar": [
           {
            "marker": {
             "line": {
              "color": "#E5ECF6",
              "width": 0.5
             },
             "pattern": {
              "fillmode": "overlay",
              "size": 10,
              "solidity": 0.2
             }
            },
            "type": "barpolar"
           }
          ],
          "carpet": [
           {
            "aaxis": {
             "endlinecolor": "#2a3f5f",
             "gridcolor": "white",
             "linecolor": "white",
             "minorgridcolor": "white",
             "startlinecolor": "#2a3f5f"
            },
            "baxis": {
             "endlinecolor": "#2a3f5f",
             "gridcolor": "white",
             "linecolor": "white",
             "minorgridcolor": "white",
             "startlinecolor": "#2a3f5f"
            },
            "type": "carpet"
           }
          ],
          "choropleth": [
           {
            "colorbar": {
             "outlinewidth": 0,
             "ticks": ""
            },
            "type": "choropleth"
           }
          ],
          "contour": [
           {
            "colorbar": {
             "outlinewidth": 0,
             "ticks": ""
            },
            "colorscale": [
             [
              0,
              "#0d0887"
             ],
             [
              0.1111111111111111,
              "#46039f"
             ],
             [
              0.2222222222222222,
              "#7201a8"
             ],
             [
              0.3333333333333333,
              "#9c179e"
             ],
             [
              0.4444444444444444,
              "#bd3786"
             ],
             [
              0.5555555555555556,
              "#d8576b"
             ],
             [
              0.6666666666666666,
              "#ed7953"
             ],
             [
              0.7777777777777778,
              "#fb9f3a"
             ],
             [
              0.8888888888888888,
              "#fdca26"
             ],
             [
              1,
              "#f0f921"
             ]
            ],
            "type": "contour"
           }
          ],
          "contourcarpet": [
           {
            "colorbar": {
             "outlinewidth": 0,
             "ticks": ""
            },
            "type": "contourcarpet"
           }
          ],
          "heatmap": [
           {
            "colorbar": {
             "outlinewidth": 0,
             "ticks": ""
            },
            "colorscale": [
             [
              0,
              "#0d0887"
             ],
             [
              0.1111111111111111,
              "#46039f"
             ],
             [
              0.2222222222222222,
              "#7201a8"
             ],
             [
              0.3333333333333333,
              "#9c179e"
             ],
             [
              0.4444444444444444,
              "#bd3786"
             ],
             [
              0.5555555555555556,
              "#d8576b"
             ],
             [
              0.6666666666666666,
              "#ed7953"
             ],
             [
              0.7777777777777778,
              "#fb9f3a"
             ],
             [
              0.8888888888888888,
              "#fdca26"
             ],
             [
              1,
              "#f0f921"
             ]
            ],
            "type": "heatmap"
           }
          ],
          "heatmapgl": [
           {
            "colorbar": {
             "outlinewidth": 0,
             "ticks": ""
            },
            "colorscale": [
             [
              0,
              "#0d0887"
             ],
             [
              0.1111111111111111,
              "#46039f"
             ],
             [
              0.2222222222222222,
              "#7201a8"
             ],
             [
              0.3333333333333333,
              "#9c179e"
             ],
             [
              0.4444444444444444,
              "#bd3786"
             ],
             [
              0.5555555555555556,
              "#d8576b"
             ],
             [
              0.6666666666666666,
              "#ed7953"
             ],
             [
              0.7777777777777778,
              "#fb9f3a"
             ],
             [
              0.8888888888888888,
              "#fdca26"
             ],
             [
              1,
              "#f0f921"
             ]
            ],
            "type": "heatmapgl"
           }
          ],
          "histogram": [
           {
            "marker": {
             "pattern": {
              "fillmode": "overlay",
              "size": 10,
              "solidity": 0.2
             }
            },
            "type": "histogram"
           }
          ],
          "histogram2d": [
           {
            "colorbar": {
             "outlinewidth": 0,
             "ticks": ""
            },
            "colorscale": [
             [
              0,
              "#0d0887"
             ],
             [
              0.1111111111111111,
              "#46039f"
             ],
             [
              0.2222222222222222,
              "#7201a8"
             ],
             [
              0.3333333333333333,
              "#9c179e"
             ],
             [
              0.4444444444444444,
              "#bd3786"
             ],
             [
              0.5555555555555556,
              "#d8576b"
             ],
             [
              0.6666666666666666,
              "#ed7953"
             ],
             [
              0.7777777777777778,
              "#fb9f3a"
             ],
             [
              0.8888888888888888,
              "#fdca26"
             ],
             [
              1,
              "#f0f921"
             ]
            ],
            "type": "histogram2d"
           }
          ],
          "histogram2dcontour": [
           {
            "colorbar": {
             "outlinewidth": 0,
             "ticks": ""
            },
            "colorscale": [
             [
              0,
              "#0d0887"
             ],
             [
              0.1111111111111111,
              "#46039f"
             ],
             [
              0.2222222222222222,
              "#7201a8"
             ],
             [
              0.3333333333333333,
              "#9c179e"
             ],
             [
              0.4444444444444444,
              "#bd3786"
             ],
             [
              0.5555555555555556,
              "#d8576b"
             ],
             [
              0.6666666666666666,
              "#ed7953"
             ],
             [
              0.7777777777777778,
              "#fb9f3a"
             ],
             [
              0.8888888888888888,
              "#fdca26"
             ],
             [
              1,
              "#f0f921"
             ]
            ],
            "type": "histogram2dcontour"
           }
          ],
          "mesh3d": [
           {
            "colorbar": {
             "outlinewidth": 0,
             "ticks": ""
            },
            "type": "mesh3d"
           }
          ],
          "parcoords": [
           {
            "line": {
             "colorbar": {
              "outlinewidth": 0,
              "ticks": ""
             }
            },
            "type": "parcoords"
           }
          ],
          "pie": [
           {
            "automargin": true,
            "type": "pie"
           }
          ],
          "scatter": [
           {
            "fillpattern": {
             "fillmode": "overlay",
             "size": 10,
             "solidity": 0.2
            },
            "type": "scatter"
           }
          ],
          "scatter3d": [
           {
            "line": {
             "colorbar": {
              "outlinewidth": 0,
              "ticks": ""
             }
            },
            "marker": {
             "colorbar": {
              "outlinewidth": 0,
              "ticks": ""
             }
            },
            "type": "scatter3d"
           }
          ],
          "scattercarpet": [
           {
            "marker": {
             "colorbar": {
              "outlinewidth": 0,
              "ticks": ""
             }
            },
            "type": "scattercarpet"
           }
          ],
          "scattergeo": [
           {
            "marker": {
             "colorbar": {
              "outlinewidth": 0,
              "ticks": ""
             }
            },
            "type": "scattergeo"
           }
          ],
          "scattergl": [
           {
            "marker": {
             "colorbar": {
              "outlinewidth": 0,
              "ticks": ""
             }
            },
            "type": "scattergl"
           }
          ],
          "scattermapbox": [
           {
            "marker": {
             "colorbar": {
              "outlinewidth": 0,
              "ticks": ""
             }
            },
            "type": "scattermapbox"
           }
          ],
          "scatterpolar": [
           {
            "marker": {
             "colorbar": {
              "outlinewidth": 0,
              "ticks": ""
             }
            },
            "type": "scatterpolar"
           }
          ],
          "scatterpolargl": [
           {
            "marker": {
             "colorbar": {
              "outlinewidth": 0,
              "ticks": ""
             }
            },
            "type": "scatterpolargl"
           }
          ],
          "scatterternary": [
           {
            "marker": {
             "colorbar": {
              "outlinewidth": 0,
              "ticks": ""
             }
            },
            "type": "scatterternary"
           }
          ],
          "surface": [
           {
            "colorbar": {
             "outlinewidth": 0,
             "ticks": ""
            },
            "colorscale": [
             [
              0,
              "#0d0887"
             ],
             [
              0.1111111111111111,
              "#46039f"
             ],
             [
              0.2222222222222222,
              "#7201a8"
             ],
             [
              0.3333333333333333,
              "#9c179e"
             ],
             [
              0.4444444444444444,
              "#bd3786"
             ],
             [
              0.5555555555555556,
              "#d8576b"
             ],
             [
              0.6666666666666666,
              "#ed7953"
             ],
             [
              0.7777777777777778,
              "#fb9f3a"
             ],
             [
              0.8888888888888888,
              "#fdca26"
             ],
             [
              1,
              "#f0f921"
             ]
            ],
            "type": "surface"
           }
          ],
          "table": [
           {
            "cells": {
             "fill": {
              "color": "#EBF0F8"
             },
             "line": {
              "color": "white"
             }
            },
            "header": {
             "fill": {
              "color": "#C8D4E3"
             },
             "line": {
              "color": "white"
             }
            },
            "type": "table"
           }
          ]
         },
         "layout": {
          "annotationdefaults": {
           "arrowcolor": "#2a3f5f",
           "arrowhead": 0,
           "arrowwidth": 1
          },
          "autotypenumbers": "strict",
          "coloraxis": {
           "colorbar": {
            "outlinewidth": 0,
            "ticks": ""
           }
          },
          "colorscale": {
           "diverging": [
            [
             0,
             "#8e0152"
            ],
            [
             0.1,
             "#c51b7d"
            ],
            [
             0.2,
             "#de77ae"
            ],
            [
             0.3,
             "#f1b6da"
            ],
            [
             0.4,
             "#fde0ef"
            ],
            [
             0.5,
             "#f7f7f7"
            ],
            [
             0.6,
             "#e6f5d0"
            ],
            [
             0.7,
             "#b8e186"
            ],
            [
             0.8,
             "#7fbc41"
            ],
            [
             0.9,
             "#4d9221"
            ],
            [
             1,
             "#276419"
            ]
           ],
           "sequential": [
            [
             0,
             "#0d0887"
            ],
            [
             0.1111111111111111,
             "#46039f"
            ],
            [
             0.2222222222222222,
             "#7201a8"
            ],
            [
             0.3333333333333333,
             "#9c179e"
            ],
            [
             0.4444444444444444,
             "#bd3786"
            ],
            [
             0.5555555555555556,
             "#d8576b"
            ],
            [
             0.6666666666666666,
             "#ed7953"
            ],
            [
             0.7777777777777778,
             "#fb9f3a"
            ],
            [
             0.8888888888888888,
             "#fdca26"
            ],
            [
             1,
             "#f0f921"
            ]
           ],
           "sequentialminus": [
            [
             0,
             "#0d0887"
            ],
            [
             0.1111111111111111,
             "#46039f"
            ],
            [
             0.2222222222222222,
             "#7201a8"
            ],
            [
             0.3333333333333333,
             "#9c179e"
            ],
            [
             0.4444444444444444,
             "#bd3786"
            ],
            [
             0.5555555555555556,
             "#d8576b"
            ],
            [
             0.6666666666666666,
             "#ed7953"
            ],
            [
             0.7777777777777778,
             "#fb9f3a"
            ],
            [
             0.8888888888888888,
             "#fdca26"
            ],
            [
             1,
             "#f0f921"
            ]
           ]
          },
          "colorway": [
           "#636efa",
           "#EF553B",
           "#00cc96",
           "#ab63fa",
           "#FFA15A",
           "#19d3f3",
           "#FF6692",
           "#B6E880",
           "#FF97FF",
           "#FECB52"
          ],
          "font": {
           "color": "#2a3f5f"
          },
          "geo": {
           "bgcolor": "white",
           "lakecolor": "white",
           "landcolor": "#E5ECF6",
           "showlakes": true,
           "showland": true,
           "subunitcolor": "white"
          },
          "hoverlabel": {
           "align": "left"
          },
          "hovermode": "closest",
          "mapbox": {
           "style": "light"
          },
          "paper_bgcolor": "white",
          "plot_bgcolor": "#E5ECF6",
          "polar": {
           "angularaxis": {
            "gridcolor": "white",
            "linecolor": "white",
            "ticks": ""
           },
           "bgcolor": "#E5ECF6",
           "radialaxis": {
            "gridcolor": "white",
            "linecolor": "white",
            "ticks": ""
           }
          },
          "scene": {
           "xaxis": {
            "backgroundcolor": "#E5ECF6",
            "gridcolor": "white",
            "gridwidth": 2,
            "linecolor": "white",
            "showbackground": true,
            "ticks": "",
            "zerolinecolor": "white"
           },
           "yaxis": {
            "backgroundcolor": "#E5ECF6",
            "gridcolor": "white",
            "gridwidth": 2,
            "linecolor": "white",
            "showbackground": true,
            "ticks": "",
            "zerolinecolor": "white"
           },
           "zaxis": {
            "backgroundcolor": "#E5ECF6",
            "gridcolor": "white",
            "gridwidth": 2,
            "linecolor": "white",
            "showbackground": true,
            "ticks": "",
            "zerolinecolor": "white"
           }
          },
          "shapedefaults": {
           "line": {
            "color": "#2a3f5f"
           }
          },
          "ternary": {
           "aaxis": {
            "gridcolor": "white",
            "linecolor": "white",
            "ticks": ""
           },
           "baxis": {
            "gridcolor": "white",
            "linecolor": "white",
            "ticks": ""
           },
           "bgcolor": "#E5ECF6",
           "caxis": {
            "gridcolor": "white",
            "linecolor": "white",
            "ticks": ""
           }
          },
          "title": {
           "x": 0.05
          },
          "xaxis": {
           "automargin": true,
           "gridcolor": "white",
           "linecolor": "white",
           "ticks": "",
           "title": {
            "standoff": 15
           },
           "zerolinecolor": "white",
           "zerolinewidth": 2
          },
          "yaxis": {
           "automargin": true,
           "gridcolor": "white",
           "linecolor": "white",
           "ticks": "",
           "title": {
            "standoff": 15
           },
           "zerolinecolor": "white",
           "zerolinewidth": 2
          }
         }
        },
        "title": {
         "font": {
          "color": "#4D5663"
         }
        },
        "xaxis": {
         "gridcolor": "#E1E5ED",
         "showgrid": true,
         "tickfont": {
          "color": "#4D5663"
         },
         "title": {
          "font": {
           "color": "#4D5663"
          },
          "text": ""
         },
         "zerolinecolor": "#E1E5ED"
        },
        "yaxis": {
         "gridcolor": "#E1E5ED",
         "showgrid": true,
         "tickfont": {
          "color": "#4D5663"
         },
         "title": {
          "font": {
           "color": "#4D5663"
          },
          "text": ""
         },
         "zerolinecolor": "#E1E5ED"
        }
       }
      },
      "text/html": [
       "<div>                            <div id=\"16b7f468-c95a-434a-a374-38b1fd189970\" class=\"plotly-graph-div\" style=\"height:525px; width:100%;\"></div>            <script type=\"text/javascript\">                require([\"plotly\"], function(Plotly) {                    window.PLOTLYENV=window.PLOTLYENV || {};\n",
       "                    window.PLOTLYENV.BASE_URL='https://plot.ly';                                    if (document.getElementById(\"16b7f468-c95a-434a-a374-38b1fd189970\")) {                    Plotly.newPlot(                        \"16b7f468-c95a-434a-a374-38b1fd189970\",                        [{\"colorscale\":[[0.0,\"rgb(165,0,38)\"],[0.1,\"rgb(215,48,39)\"],[0.2,\"rgb(244,109,67)\"],[0.3,\"rgb(253,174,97)\"],[0.4,\"rgb(254,224,144)\"],[0.5,\"rgb(255,255,191)\"],[0.6,\"rgb(224,243,248)\"],[0.7,\"rgb(171,217,233)\"],[0.8,\"rgb(116,173,209)\"],[0.9,\"rgb(69,117,180)\"],[1.0,\"rgb(49,54,149)\"]],\"x\":[0,1,2,3,4],\"y\":[\"x\",\"y\",\"z\"],\"z\":[[1,2,3,4,5],[10,20,30,20,10],[5,4,3,2,1]],\"type\":\"surface\"}],                        {\"legend\":{\"bgcolor\":\"#F5F6F9\",\"font\":{\"color\":\"#4D5663\"}},\"paper_bgcolor\":\"#F5F6F9\",\"plot_bgcolor\":\"#F5F6F9\",\"template\":{\"data\":{\"barpolar\":[{\"marker\":{\"line\":{\"color\":\"#E5ECF6\",\"width\":0.5},\"pattern\":{\"fillmode\":\"overlay\",\"size\":10,\"solidity\":0.2}},\"type\":\"barpolar\"}],\"bar\":[{\"error_x\":{\"color\":\"#2a3f5f\"},\"error_y\":{\"color\":\"#2a3f5f\"},\"marker\":{\"line\":{\"color\":\"#E5ECF6\",\"width\":0.5},\"pattern\":{\"fillmode\":\"overlay\",\"size\":10,\"solidity\":0.2}},\"type\":\"bar\"}],\"carpet\":[{\"aaxis\":{\"endlinecolor\":\"#2a3f5f\",\"gridcolor\":\"white\",\"linecolor\":\"white\",\"minorgridcolor\":\"white\",\"startlinecolor\":\"#2a3f5f\"},\"baxis\":{\"endlinecolor\":\"#2a3f5f\",\"gridcolor\":\"white\",\"linecolor\":\"white\",\"minorgridcolor\":\"white\",\"startlinecolor\":\"#2a3f5f\"},\"type\":\"carpet\"}],\"choropleth\":[{\"colorbar\":{\"outlinewidth\":0,\"ticks\":\"\"},\"type\":\"choropleth\"}],\"contourcarpet\":[{\"colorbar\":{\"outlinewidth\":0,\"ticks\":\"\"},\"type\":\"contourcarpet\"}],\"contour\":[{\"colorbar\":{\"outlinewidth\":0,\"ticks\":\"\"},\"colorscale\":[[0.0,\"#0d0887\"],[0.1111111111111111,\"#46039f\"],[0.2222222222222222,\"#7201a8\"],[0.3333333333333333,\"#9c179e\"],[0.4444444444444444,\"#bd3786\"],[0.5555555555555556,\"#d8576b\"],[0.6666666666666666,\"#ed7953\"],[0.7777777777777778,\"#fb9f3a\"],[0.8888888888888888,\"#fdca26\"],[1.0,\"#f0f921\"]],\"type\":\"contour\"}],\"heatmapgl\":[{\"colorbar\":{\"outlinewidth\":0,\"ticks\":\"\"},\"colorscale\":[[0.0,\"#0d0887\"],[0.1111111111111111,\"#46039f\"],[0.2222222222222222,\"#7201a8\"],[0.3333333333333333,\"#9c179e\"],[0.4444444444444444,\"#bd3786\"],[0.5555555555555556,\"#d8576b\"],[0.6666666666666666,\"#ed7953\"],[0.7777777777777778,\"#fb9f3a\"],[0.8888888888888888,\"#fdca26\"],[1.0,\"#f0f921\"]],\"type\":\"heatmapgl\"}],\"heatmap\":[{\"colorbar\":{\"outlinewidth\":0,\"ticks\":\"\"},\"colorscale\":[[0.0,\"#0d0887\"],[0.1111111111111111,\"#46039f\"],[0.2222222222222222,\"#7201a8\"],[0.3333333333333333,\"#9c179e\"],[0.4444444444444444,\"#bd3786\"],[0.5555555555555556,\"#d8576b\"],[0.6666666666666666,\"#ed7953\"],[0.7777777777777778,\"#fb9f3a\"],[0.8888888888888888,\"#fdca26\"],[1.0,\"#f0f921\"]],\"type\":\"heatmap\"}],\"histogram2dcontour\":[{\"colorbar\":{\"outlinewidth\":0,\"ticks\":\"\"},\"colorscale\":[[0.0,\"#0d0887\"],[0.1111111111111111,\"#46039f\"],[0.2222222222222222,\"#7201a8\"],[0.3333333333333333,\"#9c179e\"],[0.4444444444444444,\"#bd3786\"],[0.5555555555555556,\"#d8576b\"],[0.6666666666666666,\"#ed7953\"],[0.7777777777777778,\"#fb9f3a\"],[0.8888888888888888,\"#fdca26\"],[1.0,\"#f0f921\"]],\"type\":\"histogram2dcontour\"}],\"histogram2d\":[{\"colorbar\":{\"outlinewidth\":0,\"ticks\":\"\"},\"colorscale\":[[0.0,\"#0d0887\"],[0.1111111111111111,\"#46039f\"],[0.2222222222222222,\"#7201a8\"],[0.3333333333333333,\"#9c179e\"],[0.4444444444444444,\"#bd3786\"],[0.5555555555555556,\"#d8576b\"],[0.6666666666666666,\"#ed7953\"],[0.7777777777777778,\"#fb9f3a\"],[0.8888888888888888,\"#fdca26\"],[1.0,\"#f0f921\"]],\"type\":\"histogram2d\"}],\"histogram\":[{\"marker\":{\"pattern\":{\"fillmode\":\"overlay\",\"size\":10,\"solidity\":0.2}},\"type\":\"histogram\"}],\"mesh3d\":[{\"colorbar\":{\"outlinewidth\":0,\"ticks\":\"\"},\"type\":\"mesh3d\"}],\"parcoords\":[{\"line\":{\"colorbar\":{\"outlinewidth\":0,\"ticks\":\"\"}},\"type\":\"parcoords\"}],\"pie\":[{\"automargin\":true,\"type\":\"pie\"}],\"scatter3d\":[{\"line\":{\"colorbar\":{\"outlinewidth\":0,\"ticks\":\"\"}},\"marker\":{\"colorbar\":{\"outlinewidth\":0,\"ticks\":\"\"}},\"type\":\"scatter3d\"}],\"scattercarpet\":[{\"marker\":{\"colorbar\":{\"outlinewidth\":0,\"ticks\":\"\"}},\"type\":\"scattercarpet\"}],\"scattergeo\":[{\"marker\":{\"colorbar\":{\"outlinewidth\":0,\"ticks\":\"\"}},\"type\":\"scattergeo\"}],\"scattergl\":[{\"marker\":{\"colorbar\":{\"outlinewidth\":0,\"ticks\":\"\"}},\"type\":\"scattergl\"}],\"scattermapbox\":[{\"marker\":{\"colorbar\":{\"outlinewidth\":0,\"ticks\":\"\"}},\"type\":\"scattermapbox\"}],\"scatterpolargl\":[{\"marker\":{\"colorbar\":{\"outlinewidth\":0,\"ticks\":\"\"}},\"type\":\"scatterpolargl\"}],\"scatterpolar\":[{\"marker\":{\"colorbar\":{\"outlinewidth\":0,\"ticks\":\"\"}},\"type\":\"scatterpolar\"}],\"scatter\":[{\"fillpattern\":{\"fillmode\":\"overlay\",\"size\":10,\"solidity\":0.2},\"type\":\"scatter\"}],\"scatterternary\":[{\"marker\":{\"colorbar\":{\"outlinewidth\":0,\"ticks\":\"\"}},\"type\":\"scatterternary\"}],\"surface\":[{\"colorbar\":{\"outlinewidth\":0,\"ticks\":\"\"},\"colorscale\":[[0.0,\"#0d0887\"],[0.1111111111111111,\"#46039f\"],[0.2222222222222222,\"#7201a8\"],[0.3333333333333333,\"#9c179e\"],[0.4444444444444444,\"#bd3786\"],[0.5555555555555556,\"#d8576b\"],[0.6666666666666666,\"#ed7953\"],[0.7777777777777778,\"#fb9f3a\"],[0.8888888888888888,\"#fdca26\"],[1.0,\"#f0f921\"]],\"type\":\"surface\"}],\"table\":[{\"cells\":{\"fill\":{\"color\":\"#EBF0F8\"},\"line\":{\"color\":\"white\"}},\"header\":{\"fill\":{\"color\":\"#C8D4E3\"},\"line\":{\"color\":\"white\"}},\"type\":\"table\"}]},\"layout\":{\"annotationdefaults\":{\"arrowcolor\":\"#2a3f5f\",\"arrowhead\":0,\"arrowwidth\":1},\"autotypenumbers\":\"strict\",\"coloraxis\":{\"colorbar\":{\"outlinewidth\":0,\"ticks\":\"\"}},\"colorscale\":{\"diverging\":[[0,\"#8e0152\"],[0.1,\"#c51b7d\"],[0.2,\"#de77ae\"],[0.3,\"#f1b6da\"],[0.4,\"#fde0ef\"],[0.5,\"#f7f7f7\"],[0.6,\"#e6f5d0\"],[0.7,\"#b8e186\"],[0.8,\"#7fbc41\"],[0.9,\"#4d9221\"],[1,\"#276419\"]],\"sequential\":[[0.0,\"#0d0887\"],[0.1111111111111111,\"#46039f\"],[0.2222222222222222,\"#7201a8\"],[0.3333333333333333,\"#9c179e\"],[0.4444444444444444,\"#bd3786\"],[0.5555555555555556,\"#d8576b\"],[0.6666666666666666,\"#ed7953\"],[0.7777777777777778,\"#fb9f3a\"],[0.8888888888888888,\"#fdca26\"],[1.0,\"#f0f921\"]],\"sequentialminus\":[[0.0,\"#0d0887\"],[0.1111111111111111,\"#46039f\"],[0.2222222222222222,\"#7201a8\"],[0.3333333333333333,\"#9c179e\"],[0.4444444444444444,\"#bd3786\"],[0.5555555555555556,\"#d8576b\"],[0.6666666666666666,\"#ed7953\"],[0.7777777777777778,\"#fb9f3a\"],[0.8888888888888888,\"#fdca26\"],[1.0,\"#f0f921\"]]},\"colorway\":[\"#636efa\",\"#EF553B\",\"#00cc96\",\"#ab63fa\",\"#FFA15A\",\"#19d3f3\",\"#FF6692\",\"#B6E880\",\"#FF97FF\",\"#FECB52\"],\"font\":{\"color\":\"#2a3f5f\"},\"geo\":{\"bgcolor\":\"white\",\"lakecolor\":\"white\",\"landcolor\":\"#E5ECF6\",\"showlakes\":true,\"showland\":true,\"subunitcolor\":\"white\"},\"hoverlabel\":{\"align\":\"left\"},\"hovermode\":\"closest\",\"mapbox\":{\"style\":\"light\"},\"paper_bgcolor\":\"white\",\"plot_bgcolor\":\"#E5ECF6\",\"polar\":{\"angularaxis\":{\"gridcolor\":\"white\",\"linecolor\":\"white\",\"ticks\":\"\"},\"bgcolor\":\"#E5ECF6\",\"radialaxis\":{\"gridcolor\":\"white\",\"linecolor\":\"white\",\"ticks\":\"\"}},\"scene\":{\"xaxis\":{\"backgroundcolor\":\"#E5ECF6\",\"gridcolor\":\"white\",\"gridwidth\":2,\"linecolor\":\"white\",\"showbackground\":true,\"ticks\":\"\",\"zerolinecolor\":\"white\"},\"yaxis\":{\"backgroundcolor\":\"#E5ECF6\",\"gridcolor\":\"white\",\"gridwidth\":2,\"linecolor\":\"white\",\"showbackground\":true,\"ticks\":\"\",\"zerolinecolor\":\"white\"},\"zaxis\":{\"backgroundcolor\":\"#E5ECF6\",\"gridcolor\":\"white\",\"gridwidth\":2,\"linecolor\":\"white\",\"showbackground\":true,\"ticks\":\"\",\"zerolinecolor\":\"white\"}},\"shapedefaults\":{\"line\":{\"color\":\"#2a3f5f\"}},\"ternary\":{\"aaxis\":{\"gridcolor\":\"white\",\"linecolor\":\"white\",\"ticks\":\"\"},\"baxis\":{\"gridcolor\":\"white\",\"linecolor\":\"white\",\"ticks\":\"\"},\"bgcolor\":\"#E5ECF6\",\"caxis\":{\"gridcolor\":\"white\",\"linecolor\":\"white\",\"ticks\":\"\"}},\"title\":{\"x\":0.05},\"xaxis\":{\"automargin\":true,\"gridcolor\":\"white\",\"linecolor\":\"white\",\"ticks\":\"\",\"title\":{\"standoff\":15},\"zerolinecolor\":\"white\",\"zerolinewidth\":2},\"yaxis\":{\"automargin\":true,\"gridcolor\":\"white\",\"linecolor\":\"white\",\"ticks\":\"\",\"title\":{\"standoff\":15},\"zerolinecolor\":\"white\",\"zerolinewidth\":2}}},\"title\":{\"font\":{\"color\":\"#4D5663\"}},\"xaxis\":{\"gridcolor\":\"#E1E5ED\",\"showgrid\":true,\"tickfont\":{\"color\":\"#4D5663\"},\"title\":{\"font\":{\"color\":\"#4D5663\"},\"text\":\"\"},\"zerolinecolor\":\"#E1E5ED\"},\"yaxis\":{\"gridcolor\":\"#E1E5ED\",\"showgrid\":true,\"tickfont\":{\"color\":\"#4D5663\"},\"title\":{\"font\":{\"color\":\"#4D5663\"},\"text\":\"\"},\"zerolinecolor\":\"#E1E5ED\"}},                        {\"showLink\": true, \"linkText\": \"Export to plot.ly\", \"plotlyServerURL\": \"https://plot.ly\", \"responsive\": true}                    ).then(function(){\n",
       "                            \n",
       "var gd = document.getElementById('16b7f468-c95a-434a-a374-38b1fd189970');\n",
       "var x = new MutationObserver(function (mutations, observer) {{\n",
       "        var display = window.getComputedStyle(gd).display;\n",
       "        if (!display || display === 'none') {{\n",
       "            console.log([gd, 'removed!']);\n",
       "            Plotly.purge(gd);\n",
       "            observer.disconnect();\n",
       "        }}\n",
       "}});\n",
       "\n",
       "// Listen for the removal of the full notebook cells\n",
       "var notebookContainer = gd.closest('#notebook-container');\n",
       "if (notebookContainer) {{\n",
       "    x.observe(notebookContainer, {childList: true});\n",
       "}}\n",
       "\n",
       "// Listen for the clearing of the current output cell\n",
       "var outputEl = gd.closest('.output');\n",
       "if (outputEl) {{\n",
       "    x.observe(outputEl, {childList: true});\n",
       "}}\n",
       "\n",
       "                        })                };                });            </script>        </div>"
      ]
     },
     "metadata": {},
     "output_type": "display_data"
    }
   ],
   "source": [
    "df3 = pd.DataFrame({'x':[1,2,3,4,5],'y':[10,20,30,20,10],'z':[5,4,3,2,1]})\n",
    "df3.iplot(kind='surface',colorscale='rdylbu')"
   ]
  },
  {
   "cell_type": "markdown",
   "metadata": {},
   "source": [
    "## Spread"
   ]
  },
  {
   "cell_type": "code",
   "execution_count": 29,
   "metadata": {},
   "outputs": [
    {
     "name": "stderr",
     "output_type": "stream",
     "text": [
      "C:\\Users\\627581\\Anaconda3\\lib\\site-packages\\cufflinks\\plotlytools.py:849: FutureWarning:\n",
      "\n",
      "The pandas.np module is deprecated and will be removed from pandas in a future version. Import numpy directly instead.\n",
      "\n",
      "C:\\Users\\627581\\Anaconda3\\lib\\site-packages\\cufflinks\\plotlytools.py:850: FutureWarning:\n",
      "\n",
      "The pandas.np module is deprecated and will be removed from pandas in a future version. Import numpy directly instead.\n",
      "\n"
     ]
    },
    {
     "data": {
      "application/vnd.plotly.v1+json": {
       "config": {
        "linkText": "Export to plot.ly",
        "plotlyServerURL": "https://plot.ly",
        "showLink": true
       },
       "data": [
        {
         "line": {
          "color": "rgba(255, 153, 51, 1.0)",
          "dash": "solid",
          "shape": "linear",
          "width": 1.3
         },
         "mode": "lines",
         "name": "A",
         "text": "",
         "type": "scatter",
         "x": [
          0,
          1,
          2,
          3,
          4,
          5,
          6,
          7,
          8,
          9,
          10,
          11,
          12,
          13,
          14,
          15,
          16,
          17,
          18,
          19,
          20,
          21,
          22,
          23,
          24,
          25,
          26,
          27,
          28,
          29,
          30,
          31,
          32,
          33,
          34,
          35,
          36,
          37,
          38,
          39,
          40,
          41,
          42,
          43,
          44,
          45,
          46,
          47,
          48,
          49,
          50,
          51,
          52,
          53,
          54,
          55,
          56,
          57,
          58,
          59,
          60,
          61,
          62,
          63,
          64,
          65,
          66,
          67,
          68,
          69,
          70,
          71,
          72,
          73,
          74,
          75,
          76,
          77,
          78,
          79,
          80,
          81,
          82,
          83,
          84,
          85,
          86,
          87,
          88,
          89,
          90,
          91,
          92,
          93,
          94,
          95,
          96,
          97,
          98,
          99
         ],
         "y": [
          -1.2615300860614054,
          0.5168583781406116,
          -1.27565405789446,
          1.4781814691430137,
          0.16685274993216312,
          0.29486795628181317,
          0.9785825523153496,
          0.14359652449530164,
          -0.8925068476041645,
          0.6869895496306667,
          -0.3184260842234965,
          -0.06079029464726772,
          0.3046179848603725,
          -0.28578117724567403,
          0.9555452637232548,
          -0.436571217632825,
          1.5989488034519654,
          -0.15788956695773615,
          -0.3888100527566678,
          -0.591990160710526,
          0.2710004943704668,
          0.2602297984499211,
          0.5657822404335577,
          0.18748818541864734,
          -0.18808181802469898,
          -1.35595867059301,
          -1.7497884642723616,
          0.825144024533562,
          0.20421153196532738,
          -0.2644595981522582,
          -0.029348334202425504,
          1.9077855533319394,
          0.22916452088223646,
          0.2867610600268779,
          1.2904275286706701,
          0.6215964625270357,
          0.6747330686433912,
          1.0478166238045625,
          -1.3554516876860905,
          0.08092118840581466,
          -0.40994404610033824,
          0.28561581083232607,
          0.1966769220405505,
          -1.1411890045092357,
          1.7231332434630888,
          -0.42193519470372676,
          -1.741625904007534,
          -2.391591329146761,
          0.689222905342845,
          0.19798524650811158,
          -0.10115323119577455,
          -0.9603616907577721,
          -0.8625275697297408,
          0.3524640636948968,
          1.2393159762473505,
          2.377375403963859,
          -0.33161650928400876,
          -0.7541694714930774,
          0.8277565338293128,
          0.06080378891897225,
          -0.9710249811252153,
          1.224128475122221,
          0.11241632604675655,
          -1.1815069448698765,
          0.1313115186944857,
          -1.2010409076083939,
          0.15765706193163107,
          -1.3211297942118674,
          -0.9825223740395495,
          0.7894139009281048,
          -1.1055435265481648,
          1.1142658013635867,
          -0.18738716811804088,
          -0.9014408479515046,
          -0.10340889577700428,
          1.915295678544698,
          -1.026271756257129,
          0.12995497319553861,
          1.1193558873374236,
          -0.23180192875510952,
          0.21849137154823123,
          1.0419858768778796,
          0.24556231413052595,
          0.49309662249476477,
          0.6160279264073351,
          -0.028684263888879884,
          -0.27846238992189154,
          -0.6151339164505116,
          0.6620802123427995,
          0.3485255177495143,
          -1.218456441286671,
          -1.0227375652102357,
          -0.3943161595674681,
          -0.638346772297683,
          0.14208982603404896,
          3.7399500319589483,
          0.1844386958356573,
          -0.17634768147868762,
          0.3712982772511809,
          -0.07532474604483136
         ]
        },
        {
         "line": {
          "color": "rgba(55, 128, 191, 1.0)",
          "dash": "solid",
          "shape": "linear",
          "width": 1.3
         },
         "mode": "lines",
         "name": "B",
         "text": "",
         "type": "scatter",
         "x": [
          0,
          1,
          2,
          3,
          4,
          5,
          6,
          7,
          8,
          9,
          10,
          11,
          12,
          13,
          14,
          15,
          16,
          17,
          18,
          19,
          20,
          21,
          22,
          23,
          24,
          25,
          26,
          27,
          28,
          29,
          30,
          31,
          32,
          33,
          34,
          35,
          36,
          37,
          38,
          39,
          40,
          41,
          42,
          43,
          44,
          45,
          46,
          47,
          48,
          49,
          50,
          51,
          52,
          53,
          54,
          55,
          56,
          57,
          58,
          59,
          60,
          61,
          62,
          63,
          64,
          65,
          66,
          67,
          68,
          69,
          70,
          71,
          72,
          73,
          74,
          75,
          76,
          77,
          78,
          79,
          80,
          81,
          82,
          83,
          84,
          85,
          86,
          87,
          88,
          89,
          90,
          91,
          92,
          93,
          94,
          95,
          96,
          97,
          98,
          99
         ],
         "y": [
          -1.3999773022346853,
          -0.6625620672077985,
          -0.13403593135012803,
          -0.2339878842549569,
          0.08100488242810727,
          -0.40094669137310823,
          0.7110857695394376,
          0.945132123112901,
          0.7801585124745818,
          -2.4061019556258447,
          0.09632851478545619,
          0.2992606351539072,
          -0.9932761773845984,
          1.9891885642792426,
          -1.4147458176381231,
          0.5469460471883897,
          -0.43138767364022956,
          -0.11380232186836925,
          0.2642741060329245,
          -0.4516065127701526,
          -0.2174021449631138,
          0.6777841867420318,
          1.4469906621585116,
          -0.10477332749880597,
          -0.5718353186794933,
          -0.9241770381073433,
          0.7487742034721503,
          0.5116307408743127,
          -0.357573289466846,
          -0.42891030205716935,
          -1.4555911877393972,
          -0.16832153572754027,
          -0.3332303972415607,
          1.625673569413001,
          0.3741258191879868,
          -1.4188933829841257,
          0.3302419395213557,
          -1.115231172523026,
          -0.6533977526153854,
          -2.280552620733146,
          1.0417207322966597,
          -1.127180454096471,
          -1.6350014016713625,
          0.004862259578625818,
          0.15447244530216225,
          -0.6305495592044218,
          1.6494365509525002,
          1.249404337821749,
          -3.25513107262654,
          -2.2003748750279004,
          0.7777706747383216,
          0.37056489767082534,
          -0.3560390627881642,
          0.5131737979639818,
          -0.8335218338591645,
          -0.4547481048534048,
          -1.1565808901885064,
          -1.2649681759429672,
          0.5919062681448857,
          0.07393727325405307,
          -0.6392552717703002,
          -0.06532171436724853,
          1.2813676031184937,
          -1.0559418320411604,
          1.4139504592986571,
          2.4546740641948936,
          1.0705099251140995,
          0.4746150457471814,
          1.1909024990604284,
          -0.761915425175944,
          -0.23586143082944264,
          1.2184017973426964,
          -0.6852423003678728,
          1.2351106059744261,
          -0.5205086220142247,
          0.06761539169827334,
          -1.4735505010313557,
          -0.7035776570552076,
          0.791392914877188,
          1.5363518469695343,
          0.8680569096835051,
          0.03600875756233151,
          0.29652664576283305,
          1.5945681003222858,
          1.0959640865897888,
          -0.2577631398110386,
          0.041274579839142754,
          -0.9769537525253257,
          -0.4906770970438918,
          1.0543096348022898,
          0.48584175972625604,
          1.002107562265259,
          -1.140108891804244,
          -0.31048423609957376,
          1.1509293609216962,
          0.7543488225434943,
          0.7739362556765743,
          0.03311795773750614,
          -1.995401730436345,
          -0.44309580692760137
         ]
        },
        {
         "connectgaps": false,
         "fill": "tozeroy",
         "line": {
          "color": "green",
          "dash": "solid",
          "shape": "linear",
          "width": 0.5
         },
         "mode": "lines",
         "name": "Spread",
         "showlegend": false,
         "type": "scatter",
         "x": [
          0,
          1,
          2,
          3,
          4,
          5,
          6,
          7,
          8,
          9,
          10,
          11,
          12,
          13,
          14,
          15,
          16,
          17,
          18,
          19,
          20,
          21,
          22,
          23,
          24,
          25,
          26,
          27,
          28,
          29,
          30,
          31,
          32,
          33,
          34,
          35,
          36,
          37,
          38,
          39,
          40,
          41,
          42,
          43,
          44,
          45,
          46,
          47,
          48,
          49,
          50,
          51,
          52,
          53,
          54,
          55,
          56,
          57,
          58,
          59,
          60,
          61,
          62,
          63,
          64,
          65,
          66,
          67,
          68,
          69,
          70,
          71,
          72,
          73,
          74,
          75,
          76,
          77,
          78,
          79,
          80,
          81,
          82,
          83,
          84,
          85,
          86,
          87,
          88,
          89,
          90,
          91,
          92,
          93,
          94,
          95,
          96,
          97,
          98,
          99
         ],
         "xaxis": "x2",
         "y": [
          0.13844721617327993,
          1.17942044534841,
          "",
          1.7121693533979707,
          0.08584786750405585,
          0.6958146476549214,
          0.26749678277591205,
          "",
          "",
          3.0930915052565116,
          "",
          "",
          1.297894162244971,
          "",
          2.370291081361378,
          "",
          2.0303364770921952,
          "",
          "",
          "",
          0.48840263933358063,
          "",
          "",
          0.2922615129174533,
          0.38375350065479436,
          "",
          "",
          0.31351328365924924,
          0.5617848214321735,
          0.16445070390491112,
          1.4262428535369718,
          2.0761070890594797,
          0.5623949181237972,
          "",
          0.9163017094826833,
          2.0404898455111615,
          0.3444911291220355,
          2.1630477963275885,
          "",
          2.3614738091389604,
          "",
          1.412796264928797,
          1.831678323711913,
          "",
          1.5686607981609266,
          0.20861436450069504,
          "",
          "",
          3.944353977969385,
          2.398360121536012,
          "",
          "",
          "",
          "",
          2.072837810106515,
          2.832123508817264,
          0.8249643809044976,
          0.5107987044498897,
          0.23585026568442713,
          "",
          "",
          1.2894501894894694,
          "",
          "",
          "",
          "",
          "",
          "",
          "",
          1.5513293261040488,
          "",
          "",
          0.4978551322498319,
          "",
          0.41709972623722036,
          1.8476802868464246,
          0.4472787447742266,
          0.8335326302507462,
          0.32796297246023565,
          "",
          "",
          1.005977119315548,
          "",
          "",
          "",
          0.22907887592215873,
          "",
          0.36181983607481405,
          1.1527573093866912,
          "",
          "",
          "",
          0.7457927322367758,
          "",
          "",
          2.985601209415454,
          "",
          "",
          2.366700007687526,
          0.36777106088277
         ],
         "yaxis": "y2"
        },
        {
         "connectgaps": false,
         "fill": "tozeroy",
         "line": {
          "color": "red",
          "dash": "solid",
          "shape": "linear",
          "width": 0.5
         },
         "mode": "lines",
         "name": "Spread",
         "showlegend": false,
         "type": "scatter",
         "x": [
          0,
          1,
          2,
          3,
          4,
          5,
          6,
          7,
          8,
          9,
          10,
          11,
          12,
          13,
          14,
          15,
          16,
          17,
          18,
          19,
          20,
          21,
          22,
          23,
          24,
          25,
          26,
          27,
          28,
          29,
          30,
          31,
          32,
          33,
          34,
          35,
          36,
          37,
          38,
          39,
          40,
          41,
          42,
          43,
          44,
          45,
          46,
          47,
          48,
          49,
          50,
          51,
          52,
          53,
          54,
          55,
          56,
          57,
          58,
          59,
          60,
          61,
          62,
          63,
          64,
          65,
          66,
          67,
          68,
          69,
          70,
          71,
          72,
          73,
          74,
          75,
          76,
          77,
          78,
          79,
          80,
          81,
          82,
          83,
          84,
          85,
          86,
          87,
          88,
          89,
          90,
          91,
          92,
          93,
          94,
          95,
          96,
          97,
          98,
          99
         ],
         "xaxis": "x2",
         "y": [
          "",
          "",
          -1.141618126544332,
          "",
          "",
          "",
          "",
          -0.8015355986175994,
          -1.6726653600787462,
          "",
          -0.4147545990089527,
          -0.3600509298011749,
          "",
          -2.2749697415249166,
          "",
          -0.9835172648212147,
          "",
          -0.0440872450893669,
          -0.6530841587895924,
          -0.1403836479403734,
          "",
          -0.41755438829211067,
          -0.8812084217249538,
          "",
          "",
          -0.4317816324856667,
          -2.498562667744512,
          "",
          "",
          "",
          "",
          "",
          "",
          -1.338912509386123,
          "",
          "",
          "",
          "",
          -0.7020539350707051,
          "",
          -1.451664778396998,
          "",
          "",
          -1.1460512640878615,
          "",
          "",
          -3.391062454960034,
          -3.64099566696851,
          "",
          "",
          -0.8789239059340962,
          -1.3309265884285975,
          -0.5064885069415765,
          -0.16070973426908497,
          "",
          "",
          "",
          "",
          "",
          -0.013133484335080818,
          -0.3317697093549151,
          "",
          -1.1689512770717372,
          -0.12556511282871607,
          -1.2826389406041714,
          -3.6557149718032873,
          -0.9128528631824684,
          -1.7957448399590488,
          -2.173424873099978,
          "",
          -0.8696820957187221,
          -0.10413599597910972,
          "",
          -2.1365514539259305,
          "",
          "",
          "",
          "",
          "",
          -1.768153775724644,
          -0.6495655381352738,
          "",
          -0.0509643316323071,
          -1.101471477827521,
          -0.4799361601824538,
          "",
          -0.3197369697610343,
          "",
          "",
          -0.7057841170527754,
          -1.704298201012927,
          -2.024845127475495,
          "",
          -0.32786253619810923,
          -1.008839534887647,
          "",
          -0.589497559840917,
          -0.20946563921619377,
          "",
          ""
         ],
         "yaxis": "y2"
        }
       ],
       "layout": {
        "hovermode": "x",
        "legend": {
         "bgcolor": "#F5F6F9",
         "font": {
          "color": "#4D5663"
         }
        },
        "paper_bgcolor": "#F5F6F9",
        "plot_bgcolor": "#F5F6F9",
        "template": {
         "data": {
          "bar": [
           {
            "error_x": {
             "color": "#2a3f5f"
            },
            "error_y": {
             "color": "#2a3f5f"
            },
            "marker": {
             "line": {
              "color": "#E5ECF6",
              "width": 0.5
             },
             "pattern": {
              "fillmode": "overlay",
              "size": 10,
              "solidity": 0.2
             }
            },
            "type": "bar"
           }
          ],
          "barpolar": [
           {
            "marker": {
             "line": {
              "color": "#E5ECF6",
              "width": 0.5
             },
             "pattern": {
              "fillmode": "overlay",
              "size": 10,
              "solidity": 0.2
             }
            },
            "type": "barpolar"
           }
          ],
          "carpet": [
           {
            "aaxis": {
             "endlinecolor": "#2a3f5f",
             "gridcolor": "white",
             "linecolor": "white",
             "minorgridcolor": "white",
             "startlinecolor": "#2a3f5f"
            },
            "baxis": {
             "endlinecolor": "#2a3f5f",
             "gridcolor": "white",
             "linecolor": "white",
             "minorgridcolor": "white",
             "startlinecolor": "#2a3f5f"
            },
            "type": "carpet"
           }
          ],
          "choropleth": [
           {
            "colorbar": {
             "outlinewidth": 0,
             "ticks": ""
            },
            "type": "choropleth"
           }
          ],
          "contour": [
           {
            "colorbar": {
             "outlinewidth": 0,
             "ticks": ""
            },
            "colorscale": [
             [
              0,
              "#0d0887"
             ],
             [
              0.1111111111111111,
              "#46039f"
             ],
             [
              0.2222222222222222,
              "#7201a8"
             ],
             [
              0.3333333333333333,
              "#9c179e"
             ],
             [
              0.4444444444444444,
              "#bd3786"
             ],
             [
              0.5555555555555556,
              "#d8576b"
             ],
             [
              0.6666666666666666,
              "#ed7953"
             ],
             [
              0.7777777777777778,
              "#fb9f3a"
             ],
             [
              0.8888888888888888,
              "#fdca26"
             ],
             [
              1,
              "#f0f921"
             ]
            ],
            "type": "contour"
           }
          ],
          "contourcarpet": [
           {
            "colorbar": {
             "outlinewidth": 0,
             "ticks": ""
            },
            "type": "contourcarpet"
           }
          ],
          "heatmap": [
           {
            "colorbar": {
             "outlinewidth": 0,
             "ticks": ""
            },
            "colorscale": [
             [
              0,
              "#0d0887"
             ],
             [
              0.1111111111111111,
              "#46039f"
             ],
             [
              0.2222222222222222,
              "#7201a8"
             ],
             [
              0.3333333333333333,
              "#9c179e"
             ],
             [
              0.4444444444444444,
              "#bd3786"
             ],
             [
              0.5555555555555556,
              "#d8576b"
             ],
             [
              0.6666666666666666,
              "#ed7953"
             ],
             [
              0.7777777777777778,
              "#fb9f3a"
             ],
             [
              0.8888888888888888,
              "#fdca26"
             ],
             [
              1,
              "#f0f921"
             ]
            ],
            "type": "heatmap"
           }
          ],
          "heatmapgl": [
           {
            "colorbar": {
             "outlinewidth": 0,
             "ticks": ""
            },
            "colorscale": [
             [
              0,
              "#0d0887"
             ],
             [
              0.1111111111111111,
              "#46039f"
             ],
             [
              0.2222222222222222,
              "#7201a8"
             ],
             [
              0.3333333333333333,
              "#9c179e"
             ],
             [
              0.4444444444444444,
              "#bd3786"
             ],
             [
              0.5555555555555556,
              "#d8576b"
             ],
             [
              0.6666666666666666,
              "#ed7953"
             ],
             [
              0.7777777777777778,
              "#fb9f3a"
             ],
             [
              0.8888888888888888,
              "#fdca26"
             ],
             [
              1,
              "#f0f921"
             ]
            ],
            "type": "heatmapgl"
           }
          ],
          "histogram": [
           {
            "marker": {
             "pattern": {
              "fillmode": "overlay",
              "size": 10,
              "solidity": 0.2
             }
            },
            "type": "histogram"
           }
          ],
          "histogram2d": [
           {
            "colorbar": {
             "outlinewidth": 0,
             "ticks": ""
            },
            "colorscale": [
             [
              0,
              "#0d0887"
             ],
             [
              0.1111111111111111,
              "#46039f"
             ],
             [
              0.2222222222222222,
              "#7201a8"
             ],
             [
              0.3333333333333333,
              "#9c179e"
             ],
             [
              0.4444444444444444,
              "#bd3786"
             ],
             [
              0.5555555555555556,
              "#d8576b"
             ],
             [
              0.6666666666666666,
              "#ed7953"
             ],
             [
              0.7777777777777778,
              "#fb9f3a"
             ],
             [
              0.8888888888888888,
              "#fdca26"
             ],
             [
              1,
              "#f0f921"
             ]
            ],
            "type": "histogram2d"
           }
          ],
          "histogram2dcontour": [
           {
            "colorbar": {
             "outlinewidth": 0,
             "ticks": ""
            },
            "colorscale": [
             [
              0,
              "#0d0887"
             ],
             [
              0.1111111111111111,
              "#46039f"
             ],
             [
              0.2222222222222222,
              "#7201a8"
             ],
             [
              0.3333333333333333,
              "#9c179e"
             ],
             [
              0.4444444444444444,
              "#bd3786"
             ],
             [
              0.5555555555555556,
              "#d8576b"
             ],
             [
              0.6666666666666666,
              "#ed7953"
             ],
             [
              0.7777777777777778,
              "#fb9f3a"
             ],
             [
              0.8888888888888888,
              "#fdca26"
             ],
             [
              1,
              "#f0f921"
             ]
            ],
            "type": "histogram2dcontour"
           }
          ],
          "mesh3d": [
           {
            "colorbar": {
             "outlinewidth": 0,
             "ticks": ""
            },
            "type": "mesh3d"
           }
          ],
          "parcoords": [
           {
            "line": {
             "colorbar": {
              "outlinewidth": 0,
              "ticks": ""
             }
            },
            "type": "parcoords"
           }
          ],
          "pie": [
           {
            "automargin": true,
            "type": "pie"
           }
          ],
          "scatter": [
           {
            "fillpattern": {
             "fillmode": "overlay",
             "size": 10,
             "solidity": 0.2
            },
            "type": "scatter"
           }
          ],
          "scatter3d": [
           {
            "line": {
             "colorbar": {
              "outlinewidth": 0,
              "ticks": ""
             }
            },
            "marker": {
             "colorbar": {
              "outlinewidth": 0,
              "ticks": ""
             }
            },
            "type": "scatter3d"
           }
          ],
          "scattercarpet": [
           {
            "marker": {
             "colorbar": {
              "outlinewidth": 0,
              "ticks": ""
             }
            },
            "type": "scattercarpet"
           }
          ],
          "scattergeo": [
           {
            "marker": {
             "colorbar": {
              "outlinewidth": 0,
              "ticks": ""
             }
            },
            "type": "scattergeo"
           }
          ],
          "scattergl": [
           {
            "marker": {
             "colorbar": {
              "outlinewidth": 0,
              "ticks": ""
             }
            },
            "type": "scattergl"
           }
          ],
          "scattermapbox": [
           {
            "marker": {
             "colorbar": {
              "outlinewidth": 0,
              "ticks": ""
             }
            },
            "type": "scattermapbox"
           }
          ],
          "scatterpolar": [
           {
            "marker": {
             "colorbar": {
              "outlinewidth": 0,
              "ticks": ""
             }
            },
            "type": "scatterpolar"
           }
          ],
          "scatterpolargl": [
           {
            "marker": {
             "colorbar": {
              "outlinewidth": 0,
              "ticks": ""
             }
            },
            "type": "scatterpolargl"
           }
          ],
          "scatterternary": [
           {
            "marker": {
             "colorbar": {
              "outlinewidth": 0,
              "ticks": ""
             }
            },
            "type": "scatterternary"
           }
          ],
          "surface": [
           {
            "colorbar": {
             "outlinewidth": 0,
             "ticks": ""
            },
            "colorscale": [
             [
              0,
              "#0d0887"
             ],
             [
              0.1111111111111111,
              "#46039f"
             ],
             [
              0.2222222222222222,
              "#7201a8"
             ],
             [
              0.3333333333333333,
              "#9c179e"
             ],
             [
              0.4444444444444444,
              "#bd3786"
             ],
             [
              0.5555555555555556,
              "#d8576b"
             ],
             [
              0.6666666666666666,
              "#ed7953"
             ],
             [
              0.7777777777777778,
              "#fb9f3a"
             ],
             [
              0.8888888888888888,
              "#fdca26"
             ],
             [
              1,
              "#f0f921"
             ]
            ],
            "type": "surface"
           }
          ],
          "table": [
           {
            "cells": {
             "fill": {
              "color": "#EBF0F8"
             },
             "line": {
              "color": "white"
             }
            },
            "header": {
             "fill": {
              "color": "#C8D4E3"
             },
             "line": {
              "color": "white"
             }
            },
            "type": "table"
           }
          ]
         },
         "layout": {
          "annotationdefaults": {
           "arrowcolor": "#2a3f5f",
           "arrowhead": 0,
           "arrowwidth": 1
          },
          "autotypenumbers": "strict",
          "coloraxis": {
           "colorbar": {
            "outlinewidth": 0,
            "ticks": ""
           }
          },
          "colorscale": {
           "diverging": [
            [
             0,
             "#8e0152"
            ],
            [
             0.1,
             "#c51b7d"
            ],
            [
             0.2,
             "#de77ae"
            ],
            [
             0.3,
             "#f1b6da"
            ],
            [
             0.4,
             "#fde0ef"
            ],
            [
             0.5,
             "#f7f7f7"
            ],
            [
             0.6,
             "#e6f5d0"
            ],
            [
             0.7,
             "#b8e186"
            ],
            [
             0.8,
             "#7fbc41"
            ],
            [
             0.9,
             "#4d9221"
            ],
            [
             1,
             "#276419"
            ]
           ],
           "sequential": [
            [
             0,
             "#0d0887"
            ],
            [
             0.1111111111111111,
             "#46039f"
            ],
            [
             0.2222222222222222,
             "#7201a8"
            ],
            [
             0.3333333333333333,
             "#9c179e"
            ],
            [
             0.4444444444444444,
             "#bd3786"
            ],
            [
             0.5555555555555556,
             "#d8576b"
            ],
            [
             0.6666666666666666,
             "#ed7953"
            ],
            [
             0.7777777777777778,
             "#fb9f3a"
            ],
            [
             0.8888888888888888,
             "#fdca26"
            ],
            [
             1,
             "#f0f921"
            ]
           ],
           "sequentialminus": [
            [
             0,
             "#0d0887"
            ],
            [
             0.1111111111111111,
             "#46039f"
            ],
            [
             0.2222222222222222,
             "#7201a8"
            ],
            [
             0.3333333333333333,
             "#9c179e"
            ],
            [
             0.4444444444444444,
             "#bd3786"
            ],
            [
             0.5555555555555556,
             "#d8576b"
            ],
            [
             0.6666666666666666,
             "#ed7953"
            ],
            [
             0.7777777777777778,
             "#fb9f3a"
            ],
            [
             0.8888888888888888,
             "#fdca26"
            ],
            [
             1,
             "#f0f921"
            ]
           ]
          },
          "colorway": [
           "#636efa",
           "#EF553B",
           "#00cc96",
           "#ab63fa",
           "#FFA15A",
           "#19d3f3",
           "#FF6692",
           "#B6E880",
           "#FF97FF",
           "#FECB52"
          ],
          "font": {
           "color": "#2a3f5f"
          },
          "geo": {
           "bgcolor": "white",
           "lakecolor": "white",
           "landcolor": "#E5ECF6",
           "showlakes": true,
           "showland": true,
           "subunitcolor": "white"
          },
          "hoverlabel": {
           "align": "left"
          },
          "hovermode": "closest",
          "mapbox": {
           "style": "light"
          },
          "paper_bgcolor": "white",
          "plot_bgcolor": "#E5ECF6",
          "polar": {
           "angularaxis": {
            "gridcolor": "white",
            "linecolor": "white",
            "ticks": ""
           },
           "bgcolor": "#E5ECF6",
           "radialaxis": {
            "gridcolor": "white",
            "linecolor": "white",
            "ticks": ""
           }
          },
          "scene": {
           "xaxis": {
            "backgroundcolor": "#E5ECF6",
            "gridcolor": "white",
            "gridwidth": 2,
            "linecolor": "white",
            "showbackground": true,
            "ticks": "",
            "zerolinecolor": "white"
           },
           "yaxis": {
            "backgroundcolor": "#E5ECF6",
            "gridcolor": "white",
            "gridwidth": 2,
            "linecolor": "white",
            "showbackground": true,
            "ticks": "",
            "zerolinecolor": "white"
           },
           "zaxis": {
            "backgroundcolor": "#E5ECF6",
            "gridcolor": "white",
            "gridwidth": 2,
            "linecolor": "white",
            "showbackground": true,
            "ticks": "",
            "zerolinecolor": "white"
           }
          },
          "shapedefaults": {
           "line": {
            "color": "#2a3f5f"
           }
          },
          "ternary": {
           "aaxis": {
            "gridcolor": "white",
            "linecolor": "white",
            "ticks": ""
           },
           "baxis": {
            "gridcolor": "white",
            "linecolor": "white",
            "ticks": ""
           },
           "bgcolor": "#E5ECF6",
           "caxis": {
            "gridcolor": "white",
            "linecolor": "white",
            "ticks": ""
           }
          },
          "title": {
           "x": 0.05
          },
          "xaxis": {
           "automargin": true,
           "gridcolor": "white",
           "linecolor": "white",
           "ticks": "",
           "title": {
            "standoff": 15
           },
           "zerolinecolor": "white",
           "zerolinewidth": 2
          },
          "yaxis": {
           "automargin": true,
           "gridcolor": "white",
           "linecolor": "white",
           "ticks": "",
           "title": {
            "standoff": 15
           },
           "zerolinecolor": "white",
           "zerolinewidth": 2
          }
         }
        },
        "title": {
         "font": {
          "color": "#4D5663"
         }
        },
        "xaxis": {
         "gridcolor": "#E1E5ED",
         "showgrid": true,
         "tickfont": {
          "color": "#4D5663"
         },
         "title": {
          "font": {
           "color": "#4D5663"
          },
          "text": ""
         },
         "zerolinecolor": "#E1E5ED"
        },
        "xaxis2": {
         "anchor": "y2",
         "gridcolor": "#E1E5ED",
         "showgrid": true,
         "showticklabels": false,
         "tickfont": {
          "color": "#4D5663"
         },
         "title": {
          "font": {
           "color": "#4D5663"
          },
          "text": ""
         },
         "zerolinecolor": "#E1E5ED"
        },
        "yaxis": {
         "domain": [
          0.3,
          1
         ],
         "gridcolor": "#E1E5ED",
         "showgrid": true,
         "tickfont": {
          "color": "#4D5663"
         },
         "title": {
          "font": {
           "color": "#4D5663"
          },
          "text": ""
         },
         "zerolinecolor": "#E1E5ED"
        },
        "yaxis2": {
         "domain": [
          0,
          0.25
         ],
         "gridcolor": "#E1E5ED",
         "showgrid": true,
         "tickfont": {
          "color": "#4D5663"
         },
         "title": {
          "font": {
           "color": "#4D5663"
          },
          "text": "Spread"
         },
         "zerolinecolor": "#E1E5ED"
        }
       }
      },
      "text/html": [
       "<div>                            <div id=\"21bdf44f-8a07-4511-afde-b00777ece444\" class=\"plotly-graph-div\" style=\"height:525px; width:100%;\"></div>            <script type=\"text/javascript\">                require([\"plotly\"], function(Plotly) {                    window.PLOTLYENV=window.PLOTLYENV || {};\n",
       "                    window.PLOTLYENV.BASE_URL='https://plot.ly';                                    if (document.getElementById(\"21bdf44f-8a07-4511-afde-b00777ece444\")) {                    Plotly.newPlot(                        \"21bdf44f-8a07-4511-afde-b00777ece444\",                        [{\"line\":{\"color\":\"rgba(255, 153, 51, 1.0)\",\"dash\":\"solid\",\"shape\":\"linear\",\"width\":1.3},\"mode\":\"lines\",\"name\":\"A\",\"text\":\"\",\"x\":[0,1,2,3,4,5,6,7,8,9,10,11,12,13,14,15,16,17,18,19,20,21,22,23,24,25,26,27,28,29,30,31,32,33,34,35,36,37,38,39,40,41,42,43,44,45,46,47,48,49,50,51,52,53,54,55,56,57,58,59,60,61,62,63,64,65,66,67,68,69,70,71,72,73,74,75,76,77,78,79,80,81,82,83,84,85,86,87,88,89,90,91,92,93,94,95,96,97,98,99],\"y\":[-1.2615300860614054,0.5168583781406116,-1.27565405789446,1.4781814691430137,0.16685274993216312,0.29486795628181317,0.9785825523153496,0.14359652449530164,-0.8925068476041645,0.6869895496306667,-0.3184260842234965,-0.06079029464726772,0.3046179848603725,-0.28578117724567403,0.9555452637232548,-0.436571217632825,1.5989488034519654,-0.15788956695773615,-0.3888100527566678,-0.591990160710526,0.2710004943704668,0.2602297984499211,0.5657822404335577,0.18748818541864734,-0.18808181802469898,-1.35595867059301,-1.7497884642723616,0.825144024533562,0.20421153196532738,-0.2644595981522582,-0.029348334202425504,1.9077855533319394,0.22916452088223646,0.2867610600268779,1.2904275286706701,0.6215964625270357,0.6747330686433912,1.0478166238045625,-1.3554516876860905,0.08092118840581466,-0.40994404610033824,0.28561581083232607,0.1966769220405505,-1.1411890045092357,1.7231332434630888,-0.42193519470372676,-1.741625904007534,-2.391591329146761,0.689222905342845,0.19798524650811158,-0.10115323119577455,-0.9603616907577721,-0.8625275697297408,0.3524640636948968,1.2393159762473505,2.377375403963859,-0.33161650928400876,-0.7541694714930774,0.8277565338293128,0.06080378891897225,-0.9710249811252153,1.224128475122221,0.11241632604675655,-1.1815069448698765,0.1313115186944857,-1.2010409076083939,0.15765706193163107,-1.3211297942118674,-0.9825223740395495,0.7894139009281048,-1.1055435265481648,1.1142658013635867,-0.18738716811804088,-0.9014408479515046,-0.10340889577700428,1.915295678544698,-1.026271756257129,0.12995497319553861,1.1193558873374236,-0.23180192875510952,0.21849137154823123,1.0419858768778796,0.24556231413052595,0.49309662249476477,0.6160279264073351,-0.028684263888879884,-0.27846238992189154,-0.6151339164505116,0.6620802123427995,0.3485255177495143,-1.218456441286671,-1.0227375652102357,-0.3943161595674681,-0.638346772297683,0.14208982603404896,3.7399500319589483,0.1844386958356573,-0.17634768147868762,0.3712982772511809,-0.07532474604483136],\"type\":\"scatter\"},{\"line\":{\"color\":\"rgba(55, 128, 191, 1.0)\",\"dash\":\"solid\",\"shape\":\"linear\",\"width\":1.3},\"mode\":\"lines\",\"name\":\"B\",\"text\":\"\",\"x\":[0,1,2,3,4,5,6,7,8,9,10,11,12,13,14,15,16,17,18,19,20,21,22,23,24,25,26,27,28,29,30,31,32,33,34,35,36,37,38,39,40,41,42,43,44,45,46,47,48,49,50,51,52,53,54,55,56,57,58,59,60,61,62,63,64,65,66,67,68,69,70,71,72,73,74,75,76,77,78,79,80,81,82,83,84,85,86,87,88,89,90,91,92,93,94,95,96,97,98,99],\"y\":[-1.3999773022346853,-0.6625620672077985,-0.13403593135012803,-0.2339878842549569,0.08100488242810727,-0.40094669137310823,0.7110857695394376,0.945132123112901,0.7801585124745818,-2.4061019556258447,0.09632851478545619,0.2992606351539072,-0.9932761773845984,1.9891885642792426,-1.4147458176381231,0.5469460471883897,-0.43138767364022956,-0.11380232186836925,0.2642741060329245,-0.4516065127701526,-0.2174021449631138,0.6777841867420318,1.4469906621585116,-0.10477332749880597,-0.5718353186794933,-0.9241770381073433,0.7487742034721503,0.5116307408743127,-0.357573289466846,-0.42891030205716935,-1.4555911877393972,-0.16832153572754027,-0.3332303972415607,1.625673569413001,0.3741258191879868,-1.4188933829841257,0.3302419395213557,-1.115231172523026,-0.6533977526153854,-2.280552620733146,1.0417207322966597,-1.127180454096471,-1.6350014016713625,0.004862259578625818,0.15447244530216225,-0.6305495592044218,1.6494365509525002,1.249404337821749,-3.25513107262654,-2.2003748750279004,0.7777706747383216,0.37056489767082534,-0.3560390627881642,0.5131737979639818,-0.8335218338591645,-0.4547481048534048,-1.1565808901885064,-1.2649681759429672,0.5919062681448857,0.07393727325405307,-0.6392552717703002,-0.06532171436724853,1.2813676031184937,-1.0559418320411604,1.4139504592986571,2.4546740641948936,1.0705099251140995,0.4746150457471814,1.1909024990604284,-0.761915425175944,-0.23586143082944264,1.2184017973426964,-0.6852423003678728,1.2351106059744261,-0.5205086220142247,0.06761539169827334,-1.4735505010313557,-0.7035776570552076,0.791392914877188,1.5363518469695343,0.8680569096835051,0.03600875756233151,0.29652664576283305,1.5945681003222858,1.0959640865897888,-0.2577631398110386,0.041274579839142754,-0.9769537525253257,-0.4906770970438918,1.0543096348022898,0.48584175972625604,1.002107562265259,-1.140108891804244,-0.31048423609957376,1.1509293609216962,0.7543488225434943,0.7739362556765743,0.03311795773750614,-1.995401730436345,-0.44309580692760137],\"type\":\"scatter\"},{\"connectgaps\":false,\"fill\":\"tozeroy\",\"line\":{\"color\":\"green\",\"dash\":\"solid\",\"shape\":\"linear\",\"width\":0.5},\"mode\":\"lines\",\"name\":\"Spread\",\"showlegend\":false,\"x\":[0,1,2,3,4,5,6,7,8,9,10,11,12,13,14,15,16,17,18,19,20,21,22,23,24,25,26,27,28,29,30,31,32,33,34,35,36,37,38,39,40,41,42,43,44,45,46,47,48,49,50,51,52,53,54,55,56,57,58,59,60,61,62,63,64,65,66,67,68,69,70,71,72,73,74,75,76,77,78,79,80,81,82,83,84,85,86,87,88,89,90,91,92,93,94,95,96,97,98,99],\"xaxis\":\"x2\",\"y\":[0.13844721617327993,1.17942044534841,\"\",1.7121693533979707,0.08584786750405585,0.6958146476549214,0.26749678277591205,\"\",\"\",3.0930915052565116,\"\",\"\",1.297894162244971,\"\",2.370291081361378,\"\",2.0303364770921952,\"\",\"\",\"\",0.48840263933358063,\"\",\"\",0.2922615129174533,0.38375350065479436,\"\",\"\",0.31351328365924924,0.5617848214321735,0.16445070390491112,1.4262428535369718,2.0761070890594797,0.5623949181237972,\"\",0.9163017094826833,2.0404898455111615,0.3444911291220355,2.1630477963275885,\"\",2.3614738091389604,\"\",1.412796264928797,1.831678323711913,\"\",1.5686607981609266,0.20861436450069504,\"\",\"\",3.944353977969385,2.398360121536012,\"\",\"\",\"\",\"\",2.072837810106515,2.832123508817264,0.8249643809044976,0.5107987044498897,0.23585026568442713,\"\",\"\",1.2894501894894694,\"\",\"\",\"\",\"\",\"\",\"\",\"\",1.5513293261040488,\"\",\"\",0.4978551322498319,\"\",0.41709972623722036,1.8476802868464246,0.4472787447742266,0.8335326302507462,0.32796297246023565,\"\",\"\",1.005977119315548,\"\",\"\",\"\",0.22907887592215873,\"\",0.36181983607481405,1.1527573093866912,\"\",\"\",\"\",0.7457927322367758,\"\",\"\",2.985601209415454,\"\",\"\",2.366700007687526,0.36777106088277],\"yaxis\":\"y2\",\"type\":\"scatter\"},{\"connectgaps\":false,\"fill\":\"tozeroy\",\"line\":{\"color\":\"red\",\"dash\":\"solid\",\"shape\":\"linear\",\"width\":0.5},\"mode\":\"lines\",\"name\":\"Spread\",\"showlegend\":false,\"x\":[0,1,2,3,4,5,6,7,8,9,10,11,12,13,14,15,16,17,18,19,20,21,22,23,24,25,26,27,28,29,30,31,32,33,34,35,36,37,38,39,40,41,42,43,44,45,46,47,48,49,50,51,52,53,54,55,56,57,58,59,60,61,62,63,64,65,66,67,68,69,70,71,72,73,74,75,76,77,78,79,80,81,82,83,84,85,86,87,88,89,90,91,92,93,94,95,96,97,98,99],\"xaxis\":\"x2\",\"y\":[\"\",\"\",-1.141618126544332,\"\",\"\",\"\",\"\",-0.8015355986175994,-1.6726653600787462,\"\",-0.4147545990089527,-0.3600509298011749,\"\",-2.2749697415249166,\"\",-0.9835172648212147,\"\",-0.0440872450893669,-0.6530841587895924,-0.1403836479403734,\"\",-0.41755438829211067,-0.8812084217249538,\"\",\"\",-0.4317816324856667,-2.498562667744512,\"\",\"\",\"\",\"\",\"\",\"\",-1.338912509386123,\"\",\"\",\"\",\"\",-0.7020539350707051,\"\",-1.451664778396998,\"\",\"\",-1.1460512640878615,\"\",\"\",-3.391062454960034,-3.64099566696851,\"\",\"\",-0.8789239059340962,-1.3309265884285975,-0.5064885069415765,-0.16070973426908497,\"\",\"\",\"\",\"\",\"\",-0.013133484335080818,-0.3317697093549151,\"\",-1.1689512770717372,-0.12556511282871607,-1.2826389406041714,-3.6557149718032873,-0.9128528631824684,-1.7957448399590488,-2.173424873099978,\"\",-0.8696820957187221,-0.10413599597910972,\"\",-2.1365514539259305,\"\",\"\",\"\",\"\",\"\",-1.768153775724644,-0.6495655381352738,\"\",-0.0509643316323071,-1.101471477827521,-0.4799361601824538,\"\",-0.3197369697610343,\"\",\"\",-0.7057841170527754,-1.704298201012927,-2.024845127475495,\"\",-0.32786253619810923,-1.008839534887647,\"\",-0.589497559840917,-0.20946563921619377,\"\",\"\"],\"yaxis\":\"y2\",\"type\":\"scatter\"}],                        {\"hovermode\":\"x\",\"legend\":{\"bgcolor\":\"#F5F6F9\",\"font\":{\"color\":\"#4D5663\"}},\"paper_bgcolor\":\"#F5F6F9\",\"plot_bgcolor\":\"#F5F6F9\",\"template\":{\"data\":{\"barpolar\":[{\"marker\":{\"line\":{\"color\":\"#E5ECF6\",\"width\":0.5},\"pattern\":{\"fillmode\":\"overlay\",\"size\":10,\"solidity\":0.2}},\"type\":\"barpolar\"}],\"bar\":[{\"error_x\":{\"color\":\"#2a3f5f\"},\"error_y\":{\"color\":\"#2a3f5f\"},\"marker\":{\"line\":{\"color\":\"#E5ECF6\",\"width\":0.5},\"pattern\":{\"fillmode\":\"overlay\",\"size\":10,\"solidity\":0.2}},\"type\":\"bar\"}],\"carpet\":[{\"aaxis\":{\"endlinecolor\":\"#2a3f5f\",\"gridcolor\":\"white\",\"linecolor\":\"white\",\"minorgridcolor\":\"white\",\"startlinecolor\":\"#2a3f5f\"},\"baxis\":{\"endlinecolor\":\"#2a3f5f\",\"gridcolor\":\"white\",\"linecolor\":\"white\",\"minorgridcolor\":\"white\",\"startlinecolor\":\"#2a3f5f\"},\"type\":\"carpet\"}],\"choropleth\":[{\"colorbar\":{\"outlinewidth\":0,\"ticks\":\"\"},\"type\":\"choropleth\"}],\"contourcarpet\":[{\"colorbar\":{\"outlinewidth\":0,\"ticks\":\"\"},\"type\":\"contourcarpet\"}],\"contour\":[{\"colorbar\":{\"outlinewidth\":0,\"ticks\":\"\"},\"colorscale\":[[0.0,\"#0d0887\"],[0.1111111111111111,\"#46039f\"],[0.2222222222222222,\"#7201a8\"],[0.3333333333333333,\"#9c179e\"],[0.4444444444444444,\"#bd3786\"],[0.5555555555555556,\"#d8576b\"],[0.6666666666666666,\"#ed7953\"],[0.7777777777777778,\"#fb9f3a\"],[0.8888888888888888,\"#fdca26\"],[1.0,\"#f0f921\"]],\"type\":\"contour\"}],\"heatmapgl\":[{\"colorbar\":{\"outlinewidth\":0,\"ticks\":\"\"},\"colorscale\":[[0.0,\"#0d0887\"],[0.1111111111111111,\"#46039f\"],[0.2222222222222222,\"#7201a8\"],[0.3333333333333333,\"#9c179e\"],[0.4444444444444444,\"#bd3786\"],[0.5555555555555556,\"#d8576b\"],[0.6666666666666666,\"#ed7953\"],[0.7777777777777778,\"#fb9f3a\"],[0.8888888888888888,\"#fdca26\"],[1.0,\"#f0f921\"]],\"type\":\"heatmapgl\"}],\"heatmap\":[{\"colorbar\":{\"outlinewidth\":0,\"ticks\":\"\"},\"colorscale\":[[0.0,\"#0d0887\"],[0.1111111111111111,\"#46039f\"],[0.2222222222222222,\"#7201a8\"],[0.3333333333333333,\"#9c179e\"],[0.4444444444444444,\"#bd3786\"],[0.5555555555555556,\"#d8576b\"],[0.6666666666666666,\"#ed7953\"],[0.7777777777777778,\"#fb9f3a\"],[0.8888888888888888,\"#fdca26\"],[1.0,\"#f0f921\"]],\"type\":\"heatmap\"}],\"histogram2dcontour\":[{\"colorbar\":{\"outlinewidth\":0,\"ticks\":\"\"},\"colorscale\":[[0.0,\"#0d0887\"],[0.1111111111111111,\"#46039f\"],[0.2222222222222222,\"#7201a8\"],[0.3333333333333333,\"#9c179e\"],[0.4444444444444444,\"#bd3786\"],[0.5555555555555556,\"#d8576b\"],[0.6666666666666666,\"#ed7953\"],[0.7777777777777778,\"#fb9f3a\"],[0.8888888888888888,\"#fdca26\"],[1.0,\"#f0f921\"]],\"type\":\"histogram2dcontour\"}],\"histogram2d\":[{\"colorbar\":{\"outlinewidth\":0,\"ticks\":\"\"},\"colorscale\":[[0.0,\"#0d0887\"],[0.1111111111111111,\"#46039f\"],[0.2222222222222222,\"#7201a8\"],[0.3333333333333333,\"#9c179e\"],[0.4444444444444444,\"#bd3786\"],[0.5555555555555556,\"#d8576b\"],[0.6666666666666666,\"#ed7953\"],[0.7777777777777778,\"#fb9f3a\"],[0.8888888888888888,\"#fdca26\"],[1.0,\"#f0f921\"]],\"type\":\"histogram2d\"}],\"histogram\":[{\"marker\":{\"pattern\":{\"fillmode\":\"overlay\",\"size\":10,\"solidity\":0.2}},\"type\":\"histogram\"}],\"mesh3d\":[{\"colorbar\":{\"outlinewidth\":0,\"ticks\":\"\"},\"type\":\"mesh3d\"}],\"parcoords\":[{\"line\":{\"colorbar\":{\"outlinewidth\":0,\"ticks\":\"\"}},\"type\":\"parcoords\"}],\"pie\":[{\"automargin\":true,\"type\":\"pie\"}],\"scatter3d\":[{\"line\":{\"colorbar\":{\"outlinewidth\":0,\"ticks\":\"\"}},\"marker\":{\"colorbar\":{\"outlinewidth\":0,\"ticks\":\"\"}},\"type\":\"scatter3d\"}],\"scattercarpet\":[{\"marker\":{\"colorbar\":{\"outlinewidth\":0,\"ticks\":\"\"}},\"type\":\"scattercarpet\"}],\"scattergeo\":[{\"marker\":{\"colorbar\":{\"outlinewidth\":0,\"ticks\":\"\"}},\"type\":\"scattergeo\"}],\"scattergl\":[{\"marker\":{\"colorbar\":{\"outlinewidth\":0,\"ticks\":\"\"}},\"type\":\"scattergl\"}],\"scattermapbox\":[{\"marker\":{\"colorbar\":{\"outlinewidth\":0,\"ticks\":\"\"}},\"type\":\"scattermapbox\"}],\"scatterpolargl\":[{\"marker\":{\"colorbar\":{\"outlinewidth\":0,\"ticks\":\"\"}},\"type\":\"scatterpolargl\"}],\"scatterpolar\":[{\"marker\":{\"colorbar\":{\"outlinewidth\":0,\"ticks\":\"\"}},\"type\":\"scatterpolar\"}],\"scatter\":[{\"fillpattern\":{\"fillmode\":\"overlay\",\"size\":10,\"solidity\":0.2},\"type\":\"scatter\"}],\"scatterternary\":[{\"marker\":{\"colorbar\":{\"outlinewidth\":0,\"ticks\":\"\"}},\"type\":\"scatterternary\"}],\"surface\":[{\"colorbar\":{\"outlinewidth\":0,\"ticks\":\"\"},\"colorscale\":[[0.0,\"#0d0887\"],[0.1111111111111111,\"#46039f\"],[0.2222222222222222,\"#7201a8\"],[0.3333333333333333,\"#9c179e\"],[0.4444444444444444,\"#bd3786\"],[0.5555555555555556,\"#d8576b\"],[0.6666666666666666,\"#ed7953\"],[0.7777777777777778,\"#fb9f3a\"],[0.8888888888888888,\"#fdca26\"],[1.0,\"#f0f921\"]],\"type\":\"surface\"}],\"table\":[{\"cells\":{\"fill\":{\"color\":\"#EBF0F8\"},\"line\":{\"color\":\"white\"}},\"header\":{\"fill\":{\"color\":\"#C8D4E3\"},\"line\":{\"color\":\"white\"}},\"type\":\"table\"}]},\"layout\":{\"annotationdefaults\":{\"arrowcolor\":\"#2a3f5f\",\"arrowhead\":0,\"arrowwidth\":1},\"autotypenumbers\":\"strict\",\"coloraxis\":{\"colorbar\":{\"outlinewidth\":0,\"ticks\":\"\"}},\"colorscale\":{\"diverging\":[[0,\"#8e0152\"],[0.1,\"#c51b7d\"],[0.2,\"#de77ae\"],[0.3,\"#f1b6da\"],[0.4,\"#fde0ef\"],[0.5,\"#f7f7f7\"],[0.6,\"#e6f5d0\"],[0.7,\"#b8e186\"],[0.8,\"#7fbc41\"],[0.9,\"#4d9221\"],[1,\"#276419\"]],\"sequential\":[[0.0,\"#0d0887\"],[0.1111111111111111,\"#46039f\"],[0.2222222222222222,\"#7201a8\"],[0.3333333333333333,\"#9c179e\"],[0.4444444444444444,\"#bd3786\"],[0.5555555555555556,\"#d8576b\"],[0.6666666666666666,\"#ed7953\"],[0.7777777777777778,\"#fb9f3a\"],[0.8888888888888888,\"#fdca26\"],[1.0,\"#f0f921\"]],\"sequentialminus\":[[0.0,\"#0d0887\"],[0.1111111111111111,\"#46039f\"],[0.2222222222222222,\"#7201a8\"],[0.3333333333333333,\"#9c179e\"],[0.4444444444444444,\"#bd3786\"],[0.5555555555555556,\"#d8576b\"],[0.6666666666666666,\"#ed7953\"],[0.7777777777777778,\"#fb9f3a\"],[0.8888888888888888,\"#fdca26\"],[1.0,\"#f0f921\"]]},\"colorway\":[\"#636efa\",\"#EF553B\",\"#00cc96\",\"#ab63fa\",\"#FFA15A\",\"#19d3f3\",\"#FF6692\",\"#B6E880\",\"#FF97FF\",\"#FECB52\"],\"font\":{\"color\":\"#2a3f5f\"},\"geo\":{\"bgcolor\":\"white\",\"lakecolor\":\"white\",\"landcolor\":\"#E5ECF6\",\"showlakes\":true,\"showland\":true,\"subunitcolor\":\"white\"},\"hoverlabel\":{\"align\":\"left\"},\"hovermode\":\"closest\",\"mapbox\":{\"style\":\"light\"},\"paper_bgcolor\":\"white\",\"plot_bgcolor\":\"#E5ECF6\",\"polar\":{\"angularaxis\":{\"gridcolor\":\"white\",\"linecolor\":\"white\",\"ticks\":\"\"},\"bgcolor\":\"#E5ECF6\",\"radialaxis\":{\"gridcolor\":\"white\",\"linecolor\":\"white\",\"ticks\":\"\"}},\"scene\":{\"xaxis\":{\"backgroundcolor\":\"#E5ECF6\",\"gridcolor\":\"white\",\"gridwidth\":2,\"linecolor\":\"white\",\"showbackground\":true,\"ticks\":\"\",\"zerolinecolor\":\"white\"},\"yaxis\":{\"backgroundcolor\":\"#E5ECF6\",\"gridcolor\":\"white\",\"gridwidth\":2,\"linecolor\":\"white\",\"showbackground\":true,\"ticks\":\"\",\"zerolinecolor\":\"white\"},\"zaxis\":{\"backgroundcolor\":\"#E5ECF6\",\"gridcolor\":\"white\",\"gridwidth\":2,\"linecolor\":\"white\",\"showbackground\":true,\"ticks\":\"\",\"zerolinecolor\":\"white\"}},\"shapedefaults\":{\"line\":{\"color\":\"#2a3f5f\"}},\"ternary\":{\"aaxis\":{\"gridcolor\":\"white\",\"linecolor\":\"white\",\"ticks\":\"\"},\"baxis\":{\"gridcolor\":\"white\",\"linecolor\":\"white\",\"ticks\":\"\"},\"bgcolor\":\"#E5ECF6\",\"caxis\":{\"gridcolor\":\"white\",\"linecolor\":\"white\",\"ticks\":\"\"}},\"title\":{\"x\":0.05},\"xaxis\":{\"automargin\":true,\"gridcolor\":\"white\",\"linecolor\":\"white\",\"ticks\":\"\",\"title\":{\"standoff\":15},\"zerolinecolor\":\"white\",\"zerolinewidth\":2},\"yaxis\":{\"automargin\":true,\"gridcolor\":\"white\",\"linecolor\":\"white\",\"ticks\":\"\",\"title\":{\"standoff\":15},\"zerolinecolor\":\"white\",\"zerolinewidth\":2}}},\"title\":{\"font\":{\"color\":\"#4D5663\"}},\"xaxis\":{\"gridcolor\":\"#E1E5ED\",\"showgrid\":true,\"tickfont\":{\"color\":\"#4D5663\"},\"title\":{\"font\":{\"color\":\"#4D5663\"},\"text\":\"\"},\"zerolinecolor\":\"#E1E5ED\"},\"yaxis\":{\"domain\":[0.3,1],\"gridcolor\":\"#E1E5ED\",\"showgrid\":true,\"tickfont\":{\"color\":\"#4D5663\"},\"title\":{\"font\":{\"color\":\"#4D5663\"},\"text\":\"\"},\"zerolinecolor\":\"#E1E5ED\"},\"yaxis2\":{\"domain\":[0,0.25],\"gridcolor\":\"#E1E5ED\",\"showgrid\":true,\"tickfont\":{\"color\":\"#4D5663\"},\"title\":{\"font\":{\"color\":\"#4D5663\"},\"text\":\"Spread\"},\"zerolinecolor\":\"#E1E5ED\"},\"xaxis2\":{\"anchor\":\"y2\",\"gridcolor\":\"#E1E5ED\",\"showgrid\":true,\"showticklabels\":false,\"tickfont\":{\"color\":\"#4D5663\"},\"title\":{\"font\":{\"color\":\"#4D5663\"},\"text\":\"\"},\"zerolinecolor\":\"#E1E5ED\"}},                        {\"showLink\": true, \"linkText\": \"Export to plot.ly\", \"plotlyServerURL\": \"https://plot.ly\", \"responsive\": true}                    ).then(function(){\n",
       "                            \n",
       "var gd = document.getElementById('21bdf44f-8a07-4511-afde-b00777ece444');\n",
       "var x = new MutationObserver(function (mutations, observer) {{\n",
       "        var display = window.getComputedStyle(gd).display;\n",
       "        if (!display || display === 'none') {{\n",
       "            console.log([gd, 'removed!']);\n",
       "            Plotly.purge(gd);\n",
       "            observer.disconnect();\n",
       "        }}\n",
       "}});\n",
       "\n",
       "// Listen for the removal of the full notebook cells\n",
       "var notebookContainer = gd.closest('#notebook-container');\n",
       "if (notebookContainer) {{\n",
       "    x.observe(notebookContainer, {childList: true});\n",
       "}}\n",
       "\n",
       "// Listen for the clearing of the current output cell\n",
       "var outputEl = gd.closest('.output');\n",
       "if (outputEl) {{\n",
       "    x.observe(outputEl, {childList: true});\n",
       "}}\n",
       "\n",
       "                        })                };                });            </script>        </div>"
      ]
     },
     "metadata": {},
     "output_type": "display_data"
    }
   ],
   "source": [
    "df[['A','B']].iplot(kind='spread')"
   ]
  },
  {
   "cell_type": "markdown",
   "metadata": {},
   "source": [
    "## histogram"
   ]
  },
  {
   "cell_type": "code",
   "execution_count": 30,
   "metadata": {},
   "outputs": [
    {
     "data": {
      "application/vnd.plotly.v1+json": {
       "config": {
        "linkText": "Export to plot.ly",
        "plotlyServerURL": "https://plot.ly",
        "showLink": true
       },
       "data": [
        {
         "histfunc": "count",
         "histnorm": "",
         "marker": {
          "color": "rgba(255, 153, 51, 1.0)",
          "line": {
           "color": "#4D5663",
           "width": 1.3
          }
         },
         "name": "A",
         "nbinsx": 25,
         "opacity": 0.8,
         "orientation": "v",
         "type": "histogram",
         "x": [
          -1.2615300860614054,
          0.5168583781406116,
          -1.27565405789446,
          1.4781814691430137,
          0.16685274993216312,
          0.29486795628181317,
          0.9785825523153496,
          0.14359652449530164,
          -0.8925068476041645,
          0.6869895496306667,
          -0.3184260842234965,
          -0.06079029464726772,
          0.3046179848603725,
          -0.28578117724567403,
          0.9555452637232548,
          -0.436571217632825,
          1.5989488034519654,
          -0.15788956695773615,
          -0.3888100527566678,
          -0.591990160710526,
          0.2710004943704668,
          0.2602297984499211,
          0.5657822404335577,
          0.18748818541864734,
          -0.18808181802469898,
          -1.35595867059301,
          -1.7497884642723616,
          0.825144024533562,
          0.20421153196532738,
          -0.2644595981522582,
          -0.029348334202425504,
          1.9077855533319394,
          0.22916452088223646,
          0.2867610600268779,
          1.2904275286706701,
          0.6215964625270357,
          0.6747330686433912,
          1.0478166238045625,
          -1.3554516876860905,
          0.08092118840581466,
          -0.40994404610033824,
          0.28561581083232607,
          0.1966769220405505,
          -1.1411890045092357,
          1.7231332434630888,
          -0.42193519470372676,
          -1.741625904007534,
          -2.391591329146761,
          0.689222905342845,
          0.19798524650811158,
          -0.10115323119577455,
          -0.9603616907577721,
          -0.8625275697297408,
          0.3524640636948968,
          1.2393159762473505,
          2.377375403963859,
          -0.33161650928400876,
          -0.7541694714930774,
          0.8277565338293128,
          0.06080378891897225,
          -0.9710249811252153,
          1.224128475122221,
          0.11241632604675655,
          -1.1815069448698765,
          0.1313115186944857,
          -1.2010409076083939,
          0.15765706193163107,
          -1.3211297942118674,
          -0.9825223740395495,
          0.7894139009281048,
          -1.1055435265481648,
          1.1142658013635867,
          -0.18738716811804088,
          -0.9014408479515046,
          -0.10340889577700428,
          1.915295678544698,
          -1.026271756257129,
          0.12995497319553861,
          1.1193558873374236,
          -0.23180192875510952,
          0.21849137154823123,
          1.0419858768778796,
          0.24556231413052595,
          0.49309662249476477,
          0.6160279264073351,
          -0.028684263888879884,
          -0.27846238992189154,
          -0.6151339164505116,
          0.6620802123427995,
          0.3485255177495143,
          -1.218456441286671,
          -1.0227375652102357,
          -0.3943161595674681,
          -0.638346772297683,
          0.14208982603404896,
          3.7399500319589483,
          0.1844386958356573,
          -0.17634768147868762,
          0.3712982772511809,
          -0.07532474604483136
         ]
        }
       ],
       "layout": {
        "barmode": "overlay",
        "legend": {
         "bgcolor": "#F5F6F9",
         "font": {
          "color": "#4D5663"
         }
        },
        "paper_bgcolor": "#F5F6F9",
        "plot_bgcolor": "#F5F6F9",
        "template": {
         "data": {
          "bar": [
           {
            "error_x": {
             "color": "#2a3f5f"
            },
            "error_y": {
             "color": "#2a3f5f"
            },
            "marker": {
             "line": {
              "color": "#E5ECF6",
              "width": 0.5
             },
             "pattern": {
              "fillmode": "overlay",
              "size": 10,
              "solidity": 0.2
             }
            },
            "type": "bar"
           }
          ],
          "barpolar": [
           {
            "marker": {
             "line": {
              "color": "#E5ECF6",
              "width": 0.5
             },
             "pattern": {
              "fillmode": "overlay",
              "size": 10,
              "solidity": 0.2
             }
            },
            "type": "barpolar"
           }
          ],
          "carpet": [
           {
            "aaxis": {
             "endlinecolor": "#2a3f5f",
             "gridcolor": "white",
             "linecolor": "white",
             "minorgridcolor": "white",
             "startlinecolor": "#2a3f5f"
            },
            "baxis": {
             "endlinecolor": "#2a3f5f",
             "gridcolor": "white",
             "linecolor": "white",
             "minorgridcolor": "white",
             "startlinecolor": "#2a3f5f"
            },
            "type": "carpet"
           }
          ],
          "choropleth": [
           {
            "colorbar": {
             "outlinewidth": 0,
             "ticks": ""
            },
            "type": "choropleth"
           }
          ],
          "contour": [
           {
            "colorbar": {
             "outlinewidth": 0,
             "ticks": ""
            },
            "colorscale": [
             [
              0,
              "#0d0887"
             ],
             [
              0.1111111111111111,
              "#46039f"
             ],
             [
              0.2222222222222222,
              "#7201a8"
             ],
             [
              0.3333333333333333,
              "#9c179e"
             ],
             [
              0.4444444444444444,
              "#bd3786"
             ],
             [
              0.5555555555555556,
              "#d8576b"
             ],
             [
              0.6666666666666666,
              "#ed7953"
             ],
             [
              0.7777777777777778,
              "#fb9f3a"
             ],
             [
              0.8888888888888888,
              "#fdca26"
             ],
             [
              1,
              "#f0f921"
             ]
            ],
            "type": "contour"
           }
          ],
          "contourcarpet": [
           {
            "colorbar": {
             "outlinewidth": 0,
             "ticks": ""
            },
            "type": "contourcarpet"
           }
          ],
          "heatmap": [
           {
            "colorbar": {
             "outlinewidth": 0,
             "ticks": ""
            },
            "colorscale": [
             [
              0,
              "#0d0887"
             ],
             [
              0.1111111111111111,
              "#46039f"
             ],
             [
              0.2222222222222222,
              "#7201a8"
             ],
             [
              0.3333333333333333,
              "#9c179e"
             ],
             [
              0.4444444444444444,
              "#bd3786"
             ],
             [
              0.5555555555555556,
              "#d8576b"
             ],
             [
              0.6666666666666666,
              "#ed7953"
             ],
             [
              0.7777777777777778,
              "#fb9f3a"
             ],
             [
              0.8888888888888888,
              "#fdca26"
             ],
             [
              1,
              "#f0f921"
             ]
            ],
            "type": "heatmap"
           }
          ],
          "heatmapgl": [
           {
            "colorbar": {
             "outlinewidth": 0,
             "ticks": ""
            },
            "colorscale": [
             [
              0,
              "#0d0887"
             ],
             [
              0.1111111111111111,
              "#46039f"
             ],
             [
              0.2222222222222222,
              "#7201a8"
             ],
             [
              0.3333333333333333,
              "#9c179e"
             ],
             [
              0.4444444444444444,
              "#bd3786"
             ],
             [
              0.5555555555555556,
              "#d8576b"
             ],
             [
              0.6666666666666666,
              "#ed7953"
             ],
             [
              0.7777777777777778,
              "#fb9f3a"
             ],
             [
              0.8888888888888888,
              "#fdca26"
             ],
             [
              1,
              "#f0f921"
             ]
            ],
            "type": "heatmapgl"
           }
          ],
          "histogram": [
           {
            "marker": {
             "pattern": {
              "fillmode": "overlay",
              "size": 10,
              "solidity": 0.2
             }
            },
            "type": "histogram"
           }
          ],
          "histogram2d": [
           {
            "colorbar": {
             "outlinewidth": 0,
             "ticks": ""
            },
            "colorscale": [
             [
              0,
              "#0d0887"
             ],
             [
              0.1111111111111111,
              "#46039f"
             ],
             [
              0.2222222222222222,
              "#7201a8"
             ],
             [
              0.3333333333333333,
              "#9c179e"
             ],
             [
              0.4444444444444444,
              "#bd3786"
             ],
             [
              0.5555555555555556,
              "#d8576b"
             ],
             [
              0.6666666666666666,
              "#ed7953"
             ],
             [
              0.7777777777777778,
              "#fb9f3a"
             ],
             [
              0.8888888888888888,
              "#fdca26"
             ],
             [
              1,
              "#f0f921"
             ]
            ],
            "type": "histogram2d"
           }
          ],
          "histogram2dcontour": [
           {
            "colorbar": {
             "outlinewidth": 0,
             "ticks": ""
            },
            "colorscale": [
             [
              0,
              "#0d0887"
             ],
             [
              0.1111111111111111,
              "#46039f"
             ],
             [
              0.2222222222222222,
              "#7201a8"
             ],
             [
              0.3333333333333333,
              "#9c179e"
             ],
             [
              0.4444444444444444,
              "#bd3786"
             ],
             [
              0.5555555555555556,
              "#d8576b"
             ],
             [
              0.6666666666666666,
              "#ed7953"
             ],
             [
              0.7777777777777778,
              "#fb9f3a"
             ],
             [
              0.8888888888888888,
              "#fdca26"
             ],
             [
              1,
              "#f0f921"
             ]
            ],
            "type": "histogram2dcontour"
           }
          ],
          "mesh3d": [
           {
            "colorbar": {
             "outlinewidth": 0,
             "ticks": ""
            },
            "type": "mesh3d"
           }
          ],
          "parcoords": [
           {
            "line": {
             "colorbar": {
              "outlinewidth": 0,
              "ticks": ""
             }
            },
            "type": "parcoords"
           }
          ],
          "pie": [
           {
            "automargin": true,
            "type": "pie"
           }
          ],
          "scatter": [
           {
            "fillpattern": {
             "fillmode": "overlay",
             "size": 10,
             "solidity": 0.2
            },
            "type": "scatter"
           }
          ],
          "scatter3d": [
           {
            "line": {
             "colorbar": {
              "outlinewidth": 0,
              "ticks": ""
             }
            },
            "marker": {
             "colorbar": {
              "outlinewidth": 0,
              "ticks": ""
             }
            },
            "type": "scatter3d"
           }
          ],
          "scattercarpet": [
           {
            "marker": {
             "colorbar": {
              "outlinewidth": 0,
              "ticks": ""
             }
            },
            "type": "scattercarpet"
           }
          ],
          "scattergeo": [
           {
            "marker": {
             "colorbar": {
              "outlinewidth": 0,
              "ticks": ""
             }
            },
            "type": "scattergeo"
           }
          ],
          "scattergl": [
           {
            "marker": {
             "colorbar": {
              "outlinewidth": 0,
              "ticks": ""
             }
            },
            "type": "scattergl"
           }
          ],
          "scattermapbox": [
           {
            "marker": {
             "colorbar": {
              "outlinewidth": 0,
              "ticks": ""
             }
            },
            "type": "scattermapbox"
           }
          ],
          "scatterpolar": [
           {
            "marker": {
             "colorbar": {
              "outlinewidth": 0,
              "ticks": ""
             }
            },
            "type": "scatterpolar"
           }
          ],
          "scatterpolargl": [
           {
            "marker": {
             "colorbar": {
              "outlinewidth": 0,
              "ticks": ""
             }
            },
            "type": "scatterpolargl"
           }
          ],
          "scatterternary": [
           {
            "marker": {
             "colorbar": {
              "outlinewidth": 0,
              "ticks": ""
             }
            },
            "type": "scatterternary"
           }
          ],
          "surface": [
           {
            "colorbar": {
             "outlinewidth": 0,
             "ticks": ""
            },
            "colorscale": [
             [
              0,
              "#0d0887"
             ],
             [
              0.1111111111111111,
              "#46039f"
             ],
             [
              0.2222222222222222,
              "#7201a8"
             ],
             [
              0.3333333333333333,
              "#9c179e"
             ],
             [
              0.4444444444444444,
              "#bd3786"
             ],
             [
              0.5555555555555556,
              "#d8576b"
             ],
             [
              0.6666666666666666,
              "#ed7953"
             ],
             [
              0.7777777777777778,
              "#fb9f3a"
             ],
             [
              0.8888888888888888,
              "#fdca26"
             ],
             [
              1,
              "#f0f921"
             ]
            ],
            "type": "surface"
           }
          ],
          "table": [
           {
            "cells": {
             "fill": {
              "color": "#EBF0F8"
             },
             "line": {
              "color": "white"
             }
            },
            "header": {
             "fill": {
              "color": "#C8D4E3"
             },
             "line": {
              "color": "white"
             }
            },
            "type": "table"
           }
          ]
         },
         "layout": {
          "annotationdefaults": {
           "arrowcolor": "#2a3f5f",
           "arrowhead": 0,
           "arrowwidth": 1
          },
          "autotypenumbers": "strict",
          "coloraxis": {
           "colorbar": {
            "outlinewidth": 0,
            "ticks": ""
           }
          },
          "colorscale": {
           "diverging": [
            [
             0,
             "#8e0152"
            ],
            [
             0.1,
             "#c51b7d"
            ],
            [
             0.2,
             "#de77ae"
            ],
            [
             0.3,
             "#f1b6da"
            ],
            [
             0.4,
             "#fde0ef"
            ],
            [
             0.5,
             "#f7f7f7"
            ],
            [
             0.6,
             "#e6f5d0"
            ],
            [
             0.7,
             "#b8e186"
            ],
            [
             0.8,
             "#7fbc41"
            ],
            [
             0.9,
             "#4d9221"
            ],
            [
             1,
             "#276419"
            ]
           ],
           "sequential": [
            [
             0,
             "#0d0887"
            ],
            [
             0.1111111111111111,
             "#46039f"
            ],
            [
             0.2222222222222222,
             "#7201a8"
            ],
            [
             0.3333333333333333,
             "#9c179e"
            ],
            [
             0.4444444444444444,
             "#bd3786"
            ],
            [
             0.5555555555555556,
             "#d8576b"
            ],
            [
             0.6666666666666666,
             "#ed7953"
            ],
            [
             0.7777777777777778,
             "#fb9f3a"
            ],
            [
             0.8888888888888888,
             "#fdca26"
            ],
            [
             1,
             "#f0f921"
            ]
           ],
           "sequentialminus": [
            [
             0,
             "#0d0887"
            ],
            [
             0.1111111111111111,
             "#46039f"
            ],
            [
             0.2222222222222222,
             "#7201a8"
            ],
            [
             0.3333333333333333,
             "#9c179e"
            ],
            [
             0.4444444444444444,
             "#bd3786"
            ],
            [
             0.5555555555555556,
             "#d8576b"
            ],
            [
             0.6666666666666666,
             "#ed7953"
            ],
            [
             0.7777777777777778,
             "#fb9f3a"
            ],
            [
             0.8888888888888888,
             "#fdca26"
            ],
            [
             1,
             "#f0f921"
            ]
           ]
          },
          "colorway": [
           "#636efa",
           "#EF553B",
           "#00cc96",
           "#ab63fa",
           "#FFA15A",
           "#19d3f3",
           "#FF6692",
           "#B6E880",
           "#FF97FF",
           "#FECB52"
          ],
          "font": {
           "color": "#2a3f5f"
          },
          "geo": {
           "bgcolor": "white",
           "lakecolor": "white",
           "landcolor": "#E5ECF6",
           "showlakes": true,
           "showland": true,
           "subunitcolor": "white"
          },
          "hoverlabel": {
           "align": "left"
          },
          "hovermode": "closest",
          "mapbox": {
           "style": "light"
          },
          "paper_bgcolor": "white",
          "plot_bgcolor": "#E5ECF6",
          "polar": {
           "angularaxis": {
            "gridcolor": "white",
            "linecolor": "white",
            "ticks": ""
           },
           "bgcolor": "#E5ECF6",
           "radialaxis": {
            "gridcolor": "white",
            "linecolor": "white",
            "ticks": ""
           }
          },
          "scene": {
           "xaxis": {
            "backgroundcolor": "#E5ECF6",
            "gridcolor": "white",
            "gridwidth": 2,
            "linecolor": "white",
            "showbackground": true,
            "ticks": "",
            "zerolinecolor": "white"
           },
           "yaxis": {
            "backgroundcolor": "#E5ECF6",
            "gridcolor": "white",
            "gridwidth": 2,
            "linecolor": "white",
            "showbackground": true,
            "ticks": "",
            "zerolinecolor": "white"
           },
           "zaxis": {
            "backgroundcolor": "#E5ECF6",
            "gridcolor": "white",
            "gridwidth": 2,
            "linecolor": "white",
            "showbackground": true,
            "ticks": "",
            "zerolinecolor": "white"
           }
          },
          "shapedefaults": {
           "line": {
            "color": "#2a3f5f"
           }
          },
          "ternary": {
           "aaxis": {
            "gridcolor": "white",
            "linecolor": "white",
            "ticks": ""
           },
           "baxis": {
            "gridcolor": "white",
            "linecolor": "white",
            "ticks": ""
           },
           "bgcolor": "#E5ECF6",
           "caxis": {
            "gridcolor": "white",
            "linecolor": "white",
            "ticks": ""
           }
          },
          "title": {
           "x": 0.05
          },
          "xaxis": {
           "automargin": true,
           "gridcolor": "white",
           "linecolor": "white",
           "ticks": "",
           "title": {
            "standoff": 15
           },
           "zerolinecolor": "white",
           "zerolinewidth": 2
          },
          "yaxis": {
           "automargin": true,
           "gridcolor": "white",
           "linecolor": "white",
           "ticks": "",
           "title": {
            "standoff": 15
           },
           "zerolinecolor": "white",
           "zerolinewidth": 2
          }
         }
        },
        "title": {
         "font": {
          "color": "#4D5663"
         }
        },
        "xaxis": {
         "gridcolor": "#E1E5ED",
         "showgrid": true,
         "tickfont": {
          "color": "#4D5663"
         },
         "title": {
          "font": {
           "color": "#4D5663"
          },
          "text": ""
         },
         "zerolinecolor": "#E1E5ED"
        },
        "yaxis": {
         "gridcolor": "#E1E5ED",
         "showgrid": true,
         "tickfont": {
          "color": "#4D5663"
         },
         "title": {
          "font": {
           "color": "#4D5663"
          },
          "text": ""
         },
         "zerolinecolor": "#E1E5ED"
        }
       }
      },
      "text/html": [
       "<div>                            <div id=\"14fea6dc-b46f-4899-bc84-50a793ae00ec\" class=\"plotly-graph-div\" style=\"height:525px; width:100%;\"></div>            <script type=\"text/javascript\">                require([\"plotly\"], function(Plotly) {                    window.PLOTLYENV=window.PLOTLYENV || {};\n",
       "                    window.PLOTLYENV.BASE_URL='https://plot.ly';                                    if (document.getElementById(\"14fea6dc-b46f-4899-bc84-50a793ae00ec\")) {                    Plotly.newPlot(                        \"14fea6dc-b46f-4899-bc84-50a793ae00ec\",                        [{\"histfunc\":\"count\",\"histnorm\":\"\",\"marker\":{\"color\":\"rgba(255, 153, 51, 1.0)\",\"line\":{\"color\":\"#4D5663\",\"width\":1.3}},\"name\":\"A\",\"nbinsx\":25,\"opacity\":0.8,\"orientation\":\"v\",\"x\":[-1.2615300860614054,0.5168583781406116,-1.27565405789446,1.4781814691430137,0.16685274993216312,0.29486795628181317,0.9785825523153496,0.14359652449530164,-0.8925068476041645,0.6869895496306667,-0.3184260842234965,-0.06079029464726772,0.3046179848603725,-0.28578117724567403,0.9555452637232548,-0.436571217632825,1.5989488034519654,-0.15788956695773615,-0.3888100527566678,-0.591990160710526,0.2710004943704668,0.2602297984499211,0.5657822404335577,0.18748818541864734,-0.18808181802469898,-1.35595867059301,-1.7497884642723616,0.825144024533562,0.20421153196532738,-0.2644595981522582,-0.029348334202425504,1.9077855533319394,0.22916452088223646,0.2867610600268779,1.2904275286706701,0.6215964625270357,0.6747330686433912,1.0478166238045625,-1.3554516876860905,0.08092118840581466,-0.40994404610033824,0.28561581083232607,0.1966769220405505,-1.1411890045092357,1.7231332434630888,-0.42193519470372676,-1.741625904007534,-2.391591329146761,0.689222905342845,0.19798524650811158,-0.10115323119577455,-0.9603616907577721,-0.8625275697297408,0.3524640636948968,1.2393159762473505,2.377375403963859,-0.33161650928400876,-0.7541694714930774,0.8277565338293128,0.06080378891897225,-0.9710249811252153,1.224128475122221,0.11241632604675655,-1.1815069448698765,0.1313115186944857,-1.2010409076083939,0.15765706193163107,-1.3211297942118674,-0.9825223740395495,0.7894139009281048,-1.1055435265481648,1.1142658013635867,-0.18738716811804088,-0.9014408479515046,-0.10340889577700428,1.915295678544698,-1.026271756257129,0.12995497319553861,1.1193558873374236,-0.23180192875510952,0.21849137154823123,1.0419858768778796,0.24556231413052595,0.49309662249476477,0.6160279264073351,-0.028684263888879884,-0.27846238992189154,-0.6151339164505116,0.6620802123427995,0.3485255177495143,-1.218456441286671,-1.0227375652102357,-0.3943161595674681,-0.638346772297683,0.14208982603404896,3.7399500319589483,0.1844386958356573,-0.17634768147868762,0.3712982772511809,-0.07532474604483136],\"type\":\"histogram\"}],                        {\"barmode\":\"overlay\",\"legend\":{\"bgcolor\":\"#F5F6F9\",\"font\":{\"color\":\"#4D5663\"}},\"paper_bgcolor\":\"#F5F6F9\",\"plot_bgcolor\":\"#F5F6F9\",\"template\":{\"data\":{\"barpolar\":[{\"marker\":{\"line\":{\"color\":\"#E5ECF6\",\"width\":0.5},\"pattern\":{\"fillmode\":\"overlay\",\"size\":10,\"solidity\":0.2}},\"type\":\"barpolar\"}],\"bar\":[{\"error_x\":{\"color\":\"#2a3f5f\"},\"error_y\":{\"color\":\"#2a3f5f\"},\"marker\":{\"line\":{\"color\":\"#E5ECF6\",\"width\":0.5},\"pattern\":{\"fillmode\":\"overlay\",\"size\":10,\"solidity\":0.2}},\"type\":\"bar\"}],\"carpet\":[{\"aaxis\":{\"endlinecolor\":\"#2a3f5f\",\"gridcolor\":\"white\",\"linecolor\":\"white\",\"minorgridcolor\":\"white\",\"startlinecolor\":\"#2a3f5f\"},\"baxis\":{\"endlinecolor\":\"#2a3f5f\",\"gridcolor\":\"white\",\"linecolor\":\"white\",\"minorgridcolor\":\"white\",\"startlinecolor\":\"#2a3f5f\"},\"type\":\"carpet\"}],\"choropleth\":[{\"colorbar\":{\"outlinewidth\":0,\"ticks\":\"\"},\"type\":\"choropleth\"}],\"contourcarpet\":[{\"colorbar\":{\"outlinewidth\":0,\"ticks\":\"\"},\"type\":\"contourcarpet\"}],\"contour\":[{\"colorbar\":{\"outlinewidth\":0,\"ticks\":\"\"},\"colorscale\":[[0.0,\"#0d0887\"],[0.1111111111111111,\"#46039f\"],[0.2222222222222222,\"#7201a8\"],[0.3333333333333333,\"#9c179e\"],[0.4444444444444444,\"#bd3786\"],[0.5555555555555556,\"#d8576b\"],[0.6666666666666666,\"#ed7953\"],[0.7777777777777778,\"#fb9f3a\"],[0.8888888888888888,\"#fdca26\"],[1.0,\"#f0f921\"]],\"type\":\"contour\"}],\"heatmapgl\":[{\"colorbar\":{\"outlinewidth\":0,\"ticks\":\"\"},\"colorscale\":[[0.0,\"#0d0887\"],[0.1111111111111111,\"#46039f\"],[0.2222222222222222,\"#7201a8\"],[0.3333333333333333,\"#9c179e\"],[0.4444444444444444,\"#bd3786\"],[0.5555555555555556,\"#d8576b\"],[0.6666666666666666,\"#ed7953\"],[0.7777777777777778,\"#fb9f3a\"],[0.8888888888888888,\"#fdca26\"],[1.0,\"#f0f921\"]],\"type\":\"heatmapgl\"}],\"heatmap\":[{\"colorbar\":{\"outlinewidth\":0,\"ticks\":\"\"},\"colorscale\":[[0.0,\"#0d0887\"],[0.1111111111111111,\"#46039f\"],[0.2222222222222222,\"#7201a8\"],[0.3333333333333333,\"#9c179e\"],[0.4444444444444444,\"#bd3786\"],[0.5555555555555556,\"#d8576b\"],[0.6666666666666666,\"#ed7953\"],[0.7777777777777778,\"#fb9f3a\"],[0.8888888888888888,\"#fdca26\"],[1.0,\"#f0f921\"]],\"type\":\"heatmap\"}],\"histogram2dcontour\":[{\"colorbar\":{\"outlinewidth\":0,\"ticks\":\"\"},\"colorscale\":[[0.0,\"#0d0887\"],[0.1111111111111111,\"#46039f\"],[0.2222222222222222,\"#7201a8\"],[0.3333333333333333,\"#9c179e\"],[0.4444444444444444,\"#bd3786\"],[0.5555555555555556,\"#d8576b\"],[0.6666666666666666,\"#ed7953\"],[0.7777777777777778,\"#fb9f3a\"],[0.8888888888888888,\"#fdca26\"],[1.0,\"#f0f921\"]],\"type\":\"histogram2dcontour\"}],\"histogram2d\":[{\"colorbar\":{\"outlinewidth\":0,\"ticks\":\"\"},\"colorscale\":[[0.0,\"#0d0887\"],[0.1111111111111111,\"#46039f\"],[0.2222222222222222,\"#7201a8\"],[0.3333333333333333,\"#9c179e\"],[0.4444444444444444,\"#bd3786\"],[0.5555555555555556,\"#d8576b\"],[0.6666666666666666,\"#ed7953\"],[0.7777777777777778,\"#fb9f3a\"],[0.8888888888888888,\"#fdca26\"],[1.0,\"#f0f921\"]],\"type\":\"histogram2d\"}],\"histogram\":[{\"marker\":{\"pattern\":{\"fillmode\":\"overlay\",\"size\":10,\"solidity\":0.2}},\"type\":\"histogram\"}],\"mesh3d\":[{\"colorbar\":{\"outlinewidth\":0,\"ticks\":\"\"},\"type\":\"mesh3d\"}],\"parcoords\":[{\"line\":{\"colorbar\":{\"outlinewidth\":0,\"ticks\":\"\"}},\"type\":\"parcoords\"}],\"pie\":[{\"automargin\":true,\"type\":\"pie\"}],\"scatter3d\":[{\"line\":{\"colorbar\":{\"outlinewidth\":0,\"ticks\":\"\"}},\"marker\":{\"colorbar\":{\"outlinewidth\":0,\"ticks\":\"\"}},\"type\":\"scatter3d\"}],\"scattercarpet\":[{\"marker\":{\"colorbar\":{\"outlinewidth\":0,\"ticks\":\"\"}},\"type\":\"scattercarpet\"}],\"scattergeo\":[{\"marker\":{\"colorbar\":{\"outlinewidth\":0,\"ticks\":\"\"}},\"type\":\"scattergeo\"}],\"scattergl\":[{\"marker\":{\"colorbar\":{\"outlinewidth\":0,\"ticks\":\"\"}},\"type\":\"scattergl\"}],\"scattermapbox\":[{\"marker\":{\"colorbar\":{\"outlinewidth\":0,\"ticks\":\"\"}},\"type\":\"scattermapbox\"}],\"scatterpolargl\":[{\"marker\":{\"colorbar\":{\"outlinewidth\":0,\"ticks\":\"\"}},\"type\":\"scatterpolargl\"}],\"scatterpolar\":[{\"marker\":{\"colorbar\":{\"outlinewidth\":0,\"ticks\":\"\"}},\"type\":\"scatterpolar\"}],\"scatter\":[{\"fillpattern\":{\"fillmode\":\"overlay\",\"size\":10,\"solidity\":0.2},\"type\":\"scatter\"}],\"scatterternary\":[{\"marker\":{\"colorbar\":{\"outlinewidth\":0,\"ticks\":\"\"}},\"type\":\"scatterternary\"}],\"surface\":[{\"colorbar\":{\"outlinewidth\":0,\"ticks\":\"\"},\"colorscale\":[[0.0,\"#0d0887\"],[0.1111111111111111,\"#46039f\"],[0.2222222222222222,\"#7201a8\"],[0.3333333333333333,\"#9c179e\"],[0.4444444444444444,\"#bd3786\"],[0.5555555555555556,\"#d8576b\"],[0.6666666666666666,\"#ed7953\"],[0.7777777777777778,\"#fb9f3a\"],[0.8888888888888888,\"#fdca26\"],[1.0,\"#f0f921\"]],\"type\":\"surface\"}],\"table\":[{\"cells\":{\"fill\":{\"color\":\"#EBF0F8\"},\"line\":{\"color\":\"white\"}},\"header\":{\"fill\":{\"color\":\"#C8D4E3\"},\"line\":{\"color\":\"white\"}},\"type\":\"table\"}]},\"layout\":{\"annotationdefaults\":{\"arrowcolor\":\"#2a3f5f\",\"arrowhead\":0,\"arrowwidth\":1},\"autotypenumbers\":\"strict\",\"coloraxis\":{\"colorbar\":{\"outlinewidth\":0,\"ticks\":\"\"}},\"colorscale\":{\"diverging\":[[0,\"#8e0152\"],[0.1,\"#c51b7d\"],[0.2,\"#de77ae\"],[0.3,\"#f1b6da\"],[0.4,\"#fde0ef\"],[0.5,\"#f7f7f7\"],[0.6,\"#e6f5d0\"],[0.7,\"#b8e186\"],[0.8,\"#7fbc41\"],[0.9,\"#4d9221\"],[1,\"#276419\"]],\"sequential\":[[0.0,\"#0d0887\"],[0.1111111111111111,\"#46039f\"],[0.2222222222222222,\"#7201a8\"],[0.3333333333333333,\"#9c179e\"],[0.4444444444444444,\"#bd3786\"],[0.5555555555555556,\"#d8576b\"],[0.6666666666666666,\"#ed7953\"],[0.7777777777777778,\"#fb9f3a\"],[0.8888888888888888,\"#fdca26\"],[1.0,\"#f0f921\"]],\"sequentialminus\":[[0.0,\"#0d0887\"],[0.1111111111111111,\"#46039f\"],[0.2222222222222222,\"#7201a8\"],[0.3333333333333333,\"#9c179e\"],[0.4444444444444444,\"#bd3786\"],[0.5555555555555556,\"#d8576b\"],[0.6666666666666666,\"#ed7953\"],[0.7777777777777778,\"#fb9f3a\"],[0.8888888888888888,\"#fdca26\"],[1.0,\"#f0f921\"]]},\"colorway\":[\"#636efa\",\"#EF553B\",\"#00cc96\",\"#ab63fa\",\"#FFA15A\",\"#19d3f3\",\"#FF6692\",\"#B6E880\",\"#FF97FF\",\"#FECB52\"],\"font\":{\"color\":\"#2a3f5f\"},\"geo\":{\"bgcolor\":\"white\",\"lakecolor\":\"white\",\"landcolor\":\"#E5ECF6\",\"showlakes\":true,\"showland\":true,\"subunitcolor\":\"white\"},\"hoverlabel\":{\"align\":\"left\"},\"hovermode\":\"closest\",\"mapbox\":{\"style\":\"light\"},\"paper_bgcolor\":\"white\",\"plot_bgcolor\":\"#E5ECF6\",\"polar\":{\"angularaxis\":{\"gridcolor\":\"white\",\"linecolor\":\"white\",\"ticks\":\"\"},\"bgcolor\":\"#E5ECF6\",\"radialaxis\":{\"gridcolor\":\"white\",\"linecolor\":\"white\",\"ticks\":\"\"}},\"scene\":{\"xaxis\":{\"backgroundcolor\":\"#E5ECF6\",\"gridcolor\":\"white\",\"gridwidth\":2,\"linecolor\":\"white\",\"showbackground\":true,\"ticks\":\"\",\"zerolinecolor\":\"white\"},\"yaxis\":{\"backgroundcolor\":\"#E5ECF6\",\"gridcolor\":\"white\",\"gridwidth\":2,\"linecolor\":\"white\",\"showbackground\":true,\"ticks\":\"\",\"zerolinecolor\":\"white\"},\"zaxis\":{\"backgroundcolor\":\"#E5ECF6\",\"gridcolor\":\"white\",\"gridwidth\":2,\"linecolor\":\"white\",\"showbackground\":true,\"ticks\":\"\",\"zerolinecolor\":\"white\"}},\"shapedefaults\":{\"line\":{\"color\":\"#2a3f5f\"}},\"ternary\":{\"aaxis\":{\"gridcolor\":\"white\",\"linecolor\":\"white\",\"ticks\":\"\"},\"baxis\":{\"gridcolor\":\"white\",\"linecolor\":\"white\",\"ticks\":\"\"},\"bgcolor\":\"#E5ECF6\",\"caxis\":{\"gridcolor\":\"white\",\"linecolor\":\"white\",\"ticks\":\"\"}},\"title\":{\"x\":0.05},\"xaxis\":{\"automargin\":true,\"gridcolor\":\"white\",\"linecolor\":\"white\",\"ticks\":\"\",\"title\":{\"standoff\":15},\"zerolinecolor\":\"white\",\"zerolinewidth\":2},\"yaxis\":{\"automargin\":true,\"gridcolor\":\"white\",\"linecolor\":\"white\",\"ticks\":\"\",\"title\":{\"standoff\":15},\"zerolinecolor\":\"white\",\"zerolinewidth\":2}}},\"title\":{\"font\":{\"color\":\"#4D5663\"}},\"xaxis\":{\"gridcolor\":\"#E1E5ED\",\"showgrid\":true,\"tickfont\":{\"color\":\"#4D5663\"},\"title\":{\"font\":{\"color\":\"#4D5663\"},\"text\":\"\"},\"zerolinecolor\":\"#E1E5ED\"},\"yaxis\":{\"gridcolor\":\"#E1E5ED\",\"showgrid\":true,\"tickfont\":{\"color\":\"#4D5663\"},\"title\":{\"font\":{\"color\":\"#4D5663\"},\"text\":\"\"},\"zerolinecolor\":\"#E1E5ED\"}},                        {\"showLink\": true, \"linkText\": \"Export to plot.ly\", \"plotlyServerURL\": \"https://plot.ly\", \"responsive\": true}                    ).then(function(){\n",
       "                            \n",
       "var gd = document.getElementById('14fea6dc-b46f-4899-bc84-50a793ae00ec');\n",
       "var x = new MutationObserver(function (mutations, observer) {{\n",
       "        var display = window.getComputedStyle(gd).display;\n",
       "        if (!display || display === 'none') {{\n",
       "            console.log([gd, 'removed!']);\n",
       "            Plotly.purge(gd);\n",
       "            observer.disconnect();\n",
       "        }}\n",
       "}});\n",
       "\n",
       "// Listen for the removal of the full notebook cells\n",
       "var notebookContainer = gd.closest('#notebook-container');\n",
       "if (notebookContainer) {{\n",
       "    x.observe(notebookContainer, {childList: true});\n",
       "}}\n",
       "\n",
       "// Listen for the clearing of the current output cell\n",
       "var outputEl = gd.closest('.output');\n",
       "if (outputEl) {{\n",
       "    x.observe(outputEl, {childList: true});\n",
       "}}\n",
       "\n",
       "                        })                };                });            </script>        </div>"
      ]
     },
     "metadata": {},
     "output_type": "display_data"
    }
   ],
   "source": [
    "df['A'].iplot(kind='hist',bins=25)"
   ]
  },
  {
   "cell_type": "code",
   "execution_count": 31,
   "metadata": {},
   "outputs": [
    {
     "data": {
      "application/vnd.plotly.v1+json": {
       "config": {
        "linkText": "Export to plot.ly",
        "plotlyServerURL": "https://plot.ly",
        "showLink": true
       },
       "data": [
        {
         "marker": {
          "color": [
           "rgb(255, 153, 51)",
           "rgb(55, 128, 191)",
           "rgb(50, 171, 96)",
           "rgb(128, 0, 128)",
           "rgb(219, 64, 82)",
           "rgb(0, 128, 128)",
           "rgb(255, 255, 51)",
           "rgb(128, 128, 0)",
           "rgb(251, 128, 114)",
           "rgb(128, 177, 211)"
          ],
          "line": {
           "width": 1.3
          },
          "size": [
           55,
           77,
           61,
           42,
           37,
           37,
           89,
           66,
           47,
           103,
           37,
           41,
           61,
           112,
           66,
           82,
           59,
           27,
           63,
           64,
           16,
           44,
           90,
           49,
           77,
           86,
           61,
           45,
           84,
           52,
           87,
           69,
           79,
           40,
           36,
           62,
           42,
           32,
           74,
           62,
           52,
           76,
           76,
           87,
           46,
           76,
           69,
           67,
           18,
           102,
           95,
           16,
           50,
           93,
           49,
           81,
           100,
           61,
           90,
           109,
           86,
           65,
           68,
           69,
           78,
           69,
           58,
           45,
           61,
           65,
           97,
           80,
           12,
           48,
           67,
           38,
           78,
           98,
           52,
           59,
           76,
           57,
           60,
           56,
           51,
           66,
           47,
           93,
           84,
           45,
           70,
           76,
           48,
           83,
           41,
           60,
           100,
           99,
           69,
           66
          ],
          "symbol": "circle"
         },
         "mode": "markers",
         "text": "",
         "type": "scatter",
         "x": [
          -1.2615300860614054,
          0.5168583781406116,
          -1.27565405789446,
          1.4781814691430137,
          0.16685274993216312,
          0.29486795628181317,
          0.9785825523153496,
          0.14359652449530164,
          -0.8925068476041645,
          0.6869895496306667,
          -0.3184260842234965,
          -0.06079029464726772,
          0.3046179848603725,
          -0.28578117724567403,
          0.9555452637232548,
          -0.436571217632825,
          1.5989488034519654,
          -0.15788956695773615,
          -0.3888100527566678,
          -0.591990160710526,
          0.2710004943704668,
          0.2602297984499211,
          0.5657822404335577,
          0.18748818541864734,
          -0.18808181802469898,
          -1.35595867059301,
          -1.7497884642723616,
          0.825144024533562,
          0.20421153196532738,
          -0.2644595981522582,
          -0.029348334202425504,
          1.9077855533319394,
          0.22916452088223646,
          0.2867610600268779,
          1.2904275286706701,
          0.6215964625270357,
          0.6747330686433912,
          1.0478166238045625,
          -1.3554516876860905,
          0.08092118840581466,
          -0.40994404610033824,
          0.28561581083232607,
          0.1966769220405505,
          -1.1411890045092357,
          1.7231332434630888,
          -0.42193519470372676,
          -1.741625904007534,
          -2.391591329146761,
          0.689222905342845,
          0.19798524650811158,
          -0.10115323119577455,
          -0.9603616907577721,
          -0.8625275697297408,
          0.3524640636948968,
          1.2393159762473505,
          2.377375403963859,
          -0.33161650928400876,
          -0.7541694714930774,
          0.8277565338293128,
          0.06080378891897225,
          -0.9710249811252153,
          1.224128475122221,
          0.11241632604675655,
          -1.1815069448698765,
          0.1313115186944857,
          -1.2010409076083939,
          0.15765706193163107,
          -1.3211297942118674,
          -0.9825223740395495,
          0.7894139009281048,
          -1.1055435265481648,
          1.1142658013635867,
          -0.18738716811804088,
          -0.9014408479515046,
          -0.10340889577700428,
          1.915295678544698,
          -1.026271756257129,
          0.12995497319553861,
          1.1193558873374236,
          -0.23180192875510952,
          0.21849137154823123,
          1.0419858768778796,
          0.24556231413052595,
          0.49309662249476477,
          0.6160279264073351,
          -0.028684263888879884,
          -0.27846238992189154,
          -0.6151339164505116,
          0.6620802123427995,
          0.3485255177495143,
          -1.218456441286671,
          -1.0227375652102357,
          -0.3943161595674681,
          -0.638346772297683,
          0.14208982603404896,
          3.7399500319589483,
          0.1844386958356573,
          -0.17634768147868762,
          0.3712982772511809,
          -0.07532474604483136
         ],
         "y": [
          -1.3999773022346853,
          -0.6625620672077985,
          -0.13403593135012803,
          -0.2339878842549569,
          0.08100488242810727,
          -0.40094669137310823,
          0.7110857695394376,
          0.945132123112901,
          0.7801585124745818,
          -2.4061019556258447,
          0.09632851478545619,
          0.2992606351539072,
          -0.9932761773845984,
          1.9891885642792426,
          -1.4147458176381231,
          0.5469460471883897,
          -0.43138767364022956,
          -0.11380232186836925,
          0.2642741060329245,
          -0.4516065127701526,
          -0.2174021449631138,
          0.6777841867420318,
          1.4469906621585116,
          -0.10477332749880597,
          -0.5718353186794933,
          -0.9241770381073433,
          0.7487742034721503,
          0.5116307408743127,
          -0.357573289466846,
          -0.42891030205716935,
          -1.4555911877393972,
          -0.16832153572754027,
          -0.3332303972415607,
          1.625673569413001,
          0.3741258191879868,
          -1.4188933829841257,
          0.3302419395213557,
          -1.115231172523026,
          -0.6533977526153854,
          -2.280552620733146,
          1.0417207322966597,
          -1.127180454096471,
          -1.6350014016713625,
          0.004862259578625818,
          0.15447244530216225,
          -0.6305495592044218,
          1.6494365509525002,
          1.249404337821749,
          -3.25513107262654,
          -2.2003748750279004,
          0.7777706747383216,
          0.37056489767082534,
          -0.3560390627881642,
          0.5131737979639818,
          -0.8335218338591645,
          -0.4547481048534048,
          -1.1565808901885064,
          -1.2649681759429672,
          0.5919062681448857,
          0.07393727325405307,
          -0.6392552717703002,
          -0.06532171436724853,
          1.2813676031184937,
          -1.0559418320411604,
          1.4139504592986571,
          2.4546740641948936,
          1.0705099251140995,
          0.4746150457471814,
          1.1909024990604284,
          -0.761915425175944,
          -0.23586143082944264,
          1.2184017973426964,
          -0.6852423003678728,
          1.2351106059744261,
          -0.5205086220142247,
          0.06761539169827334,
          -1.4735505010313557,
          -0.7035776570552076,
          0.791392914877188,
          1.5363518469695343,
          0.8680569096835051,
          0.03600875756233151,
          0.29652664576283305,
          1.5945681003222858,
          1.0959640865897888,
          -0.2577631398110386,
          0.041274579839142754,
          -0.9769537525253257,
          -0.4906770970438918,
          1.0543096348022898,
          0.48584175972625604,
          1.002107562265259,
          -1.140108891804244,
          -0.31048423609957376,
          1.1509293609216962,
          0.7543488225434943,
          0.7739362556765743,
          0.03311795773750614,
          -1.995401730436345,
          -0.44309580692760137
         ]
        }
       ],
       "layout": {
        "legend": {
         "bgcolor": "#F5F6F9",
         "font": {
          "color": "#4D5663"
         }
        },
        "paper_bgcolor": "#F5F6F9",
        "plot_bgcolor": "#F5F6F9",
        "template": {
         "data": {
          "bar": [
           {
            "error_x": {
             "color": "#2a3f5f"
            },
            "error_y": {
             "color": "#2a3f5f"
            },
            "marker": {
             "line": {
              "color": "#E5ECF6",
              "width": 0.5
             },
             "pattern": {
              "fillmode": "overlay",
              "size": 10,
              "solidity": 0.2
             }
            },
            "type": "bar"
           }
          ],
          "barpolar": [
           {
            "marker": {
             "line": {
              "color": "#E5ECF6",
              "width": 0.5
             },
             "pattern": {
              "fillmode": "overlay",
              "size": 10,
              "solidity": 0.2
             }
            },
            "type": "barpolar"
           }
          ],
          "carpet": [
           {
            "aaxis": {
             "endlinecolor": "#2a3f5f",
             "gridcolor": "white",
             "linecolor": "white",
             "minorgridcolor": "white",
             "startlinecolor": "#2a3f5f"
            },
            "baxis": {
             "endlinecolor": "#2a3f5f",
             "gridcolor": "white",
             "linecolor": "white",
             "minorgridcolor": "white",
             "startlinecolor": "#2a3f5f"
            },
            "type": "carpet"
           }
          ],
          "choropleth": [
           {
            "colorbar": {
             "outlinewidth": 0,
             "ticks": ""
            },
            "type": "choropleth"
           }
          ],
          "contour": [
           {
            "colorbar": {
             "outlinewidth": 0,
             "ticks": ""
            },
            "colorscale": [
             [
              0,
              "#0d0887"
             ],
             [
              0.1111111111111111,
              "#46039f"
             ],
             [
              0.2222222222222222,
              "#7201a8"
             ],
             [
              0.3333333333333333,
              "#9c179e"
             ],
             [
              0.4444444444444444,
              "#bd3786"
             ],
             [
              0.5555555555555556,
              "#d8576b"
             ],
             [
              0.6666666666666666,
              "#ed7953"
             ],
             [
              0.7777777777777778,
              "#fb9f3a"
             ],
             [
              0.8888888888888888,
              "#fdca26"
             ],
             [
              1,
              "#f0f921"
             ]
            ],
            "type": "contour"
           }
          ],
          "contourcarpet": [
           {
            "colorbar": {
             "outlinewidth": 0,
             "ticks": ""
            },
            "type": "contourcarpet"
           }
          ],
          "heatmap": [
           {
            "colorbar": {
             "outlinewidth": 0,
             "ticks": ""
            },
            "colorscale": [
             [
              0,
              "#0d0887"
             ],
             [
              0.1111111111111111,
              "#46039f"
             ],
             [
              0.2222222222222222,
              "#7201a8"
             ],
             [
              0.3333333333333333,
              "#9c179e"
             ],
             [
              0.4444444444444444,
              "#bd3786"
             ],
             [
              0.5555555555555556,
              "#d8576b"
             ],
             [
              0.6666666666666666,
              "#ed7953"
             ],
             [
              0.7777777777777778,
              "#fb9f3a"
             ],
             [
              0.8888888888888888,
              "#fdca26"
             ],
             [
              1,
              "#f0f921"
             ]
            ],
            "type": "heatmap"
           }
          ],
          "heatmapgl": [
           {
            "colorbar": {
             "outlinewidth": 0,
             "ticks": ""
            },
            "colorscale": [
             [
              0,
              "#0d0887"
             ],
             [
              0.1111111111111111,
              "#46039f"
             ],
             [
              0.2222222222222222,
              "#7201a8"
             ],
             [
              0.3333333333333333,
              "#9c179e"
             ],
             [
              0.4444444444444444,
              "#bd3786"
             ],
             [
              0.5555555555555556,
              "#d8576b"
             ],
             [
              0.6666666666666666,
              "#ed7953"
             ],
             [
              0.7777777777777778,
              "#fb9f3a"
             ],
             [
              0.8888888888888888,
              "#fdca26"
             ],
             [
              1,
              "#f0f921"
             ]
            ],
            "type": "heatmapgl"
           }
          ],
          "histogram": [
           {
            "marker": {
             "pattern": {
              "fillmode": "overlay",
              "size": 10,
              "solidity": 0.2
             }
            },
            "type": "histogram"
           }
          ],
          "histogram2d": [
           {
            "colorbar": {
             "outlinewidth": 0,
             "ticks": ""
            },
            "colorscale": [
             [
              0,
              "#0d0887"
             ],
             [
              0.1111111111111111,
              "#46039f"
             ],
             [
              0.2222222222222222,
              "#7201a8"
             ],
             [
              0.3333333333333333,
              "#9c179e"
             ],
             [
              0.4444444444444444,
              "#bd3786"
             ],
             [
              0.5555555555555556,
              "#d8576b"
             ],
             [
              0.6666666666666666,
              "#ed7953"
             ],
             [
              0.7777777777777778,
              "#fb9f3a"
             ],
             [
              0.8888888888888888,
              "#fdca26"
             ],
             [
              1,
              "#f0f921"
             ]
            ],
            "type": "histogram2d"
           }
          ],
          "histogram2dcontour": [
           {
            "colorbar": {
             "outlinewidth": 0,
             "ticks": ""
            },
            "colorscale": [
             [
              0,
              "#0d0887"
             ],
             [
              0.1111111111111111,
              "#46039f"
             ],
             [
              0.2222222222222222,
              "#7201a8"
             ],
             [
              0.3333333333333333,
              "#9c179e"
             ],
             [
              0.4444444444444444,
              "#bd3786"
             ],
             [
              0.5555555555555556,
              "#d8576b"
             ],
             [
              0.6666666666666666,
              "#ed7953"
             ],
             [
              0.7777777777777778,
              "#fb9f3a"
             ],
             [
              0.8888888888888888,
              "#fdca26"
             ],
             [
              1,
              "#f0f921"
             ]
            ],
            "type": "histogram2dcontour"
           }
          ],
          "mesh3d": [
           {
            "colorbar": {
             "outlinewidth": 0,
             "ticks": ""
            },
            "type": "mesh3d"
           }
          ],
          "parcoords": [
           {
            "line": {
             "colorbar": {
              "outlinewidth": 0,
              "ticks": ""
             }
            },
            "type": "parcoords"
           }
          ],
          "pie": [
           {
            "automargin": true,
            "type": "pie"
           }
          ],
          "scatter": [
           {
            "fillpattern": {
             "fillmode": "overlay",
             "size": 10,
             "solidity": 0.2
            },
            "type": "scatter"
           }
          ],
          "scatter3d": [
           {
            "line": {
             "colorbar": {
              "outlinewidth": 0,
              "ticks": ""
             }
            },
            "marker": {
             "colorbar": {
              "outlinewidth": 0,
              "ticks": ""
             }
            },
            "type": "scatter3d"
           }
          ],
          "scattercarpet": [
           {
            "marker": {
             "colorbar": {
              "outlinewidth": 0,
              "ticks": ""
             }
            },
            "type": "scattercarpet"
           }
          ],
          "scattergeo": [
           {
            "marker": {
             "colorbar": {
              "outlinewidth": 0,
              "ticks": ""
             }
            },
            "type": "scattergeo"
           }
          ],
          "scattergl": [
           {
            "marker": {
             "colorbar": {
              "outlinewidth": 0,
              "ticks": ""
             }
            },
            "type": "scattergl"
           }
          ],
          "scattermapbox": [
           {
            "marker": {
             "colorbar": {
              "outlinewidth": 0,
              "ticks": ""
             }
            },
            "type": "scattermapbox"
           }
          ],
          "scatterpolar": [
           {
            "marker": {
             "colorbar": {
              "outlinewidth": 0,
              "ticks": ""
             }
            },
            "type": "scatterpolar"
           }
          ],
          "scatterpolargl": [
           {
            "marker": {
             "colorbar": {
              "outlinewidth": 0,
              "ticks": ""
             }
            },
            "type": "scatterpolargl"
           }
          ],
          "scatterternary": [
           {
            "marker": {
             "colorbar": {
              "outlinewidth": 0,
              "ticks": ""
             }
            },
            "type": "scatterternary"
           }
          ],
          "surface": [
           {
            "colorbar": {
             "outlinewidth": 0,
             "ticks": ""
            },
            "colorscale": [
             [
              0,
              "#0d0887"
             ],
             [
              0.1111111111111111,
              "#46039f"
             ],
             [
              0.2222222222222222,
              "#7201a8"
             ],
             [
              0.3333333333333333,
              "#9c179e"
             ],
             [
              0.4444444444444444,
              "#bd3786"
             ],
             [
              0.5555555555555556,
              "#d8576b"
             ],
             [
              0.6666666666666666,
              "#ed7953"
             ],
             [
              0.7777777777777778,
              "#fb9f3a"
             ],
             [
              0.8888888888888888,
              "#fdca26"
             ],
             [
              1,
              "#f0f921"
             ]
            ],
            "type": "surface"
           }
          ],
          "table": [
           {
            "cells": {
             "fill": {
              "color": "#EBF0F8"
             },
             "line": {
              "color": "white"
             }
            },
            "header": {
             "fill": {
              "color": "#C8D4E3"
             },
             "line": {
              "color": "white"
             }
            },
            "type": "table"
           }
          ]
         },
         "layout": {
          "annotationdefaults": {
           "arrowcolor": "#2a3f5f",
           "arrowhead": 0,
           "arrowwidth": 1
          },
          "autotypenumbers": "strict",
          "coloraxis": {
           "colorbar": {
            "outlinewidth": 0,
            "ticks": ""
           }
          },
          "colorscale": {
           "diverging": [
            [
             0,
             "#8e0152"
            ],
            [
             0.1,
             "#c51b7d"
            ],
            [
             0.2,
             "#de77ae"
            ],
            [
             0.3,
             "#f1b6da"
            ],
            [
             0.4,
             "#fde0ef"
            ],
            [
             0.5,
             "#f7f7f7"
            ],
            [
             0.6,
             "#e6f5d0"
            ],
            [
             0.7,
             "#b8e186"
            ],
            [
             0.8,
             "#7fbc41"
            ],
            [
             0.9,
             "#4d9221"
            ],
            [
             1,
             "#276419"
            ]
           ],
           "sequential": [
            [
             0,
             "#0d0887"
            ],
            [
             0.1111111111111111,
             "#46039f"
            ],
            [
             0.2222222222222222,
             "#7201a8"
            ],
            [
             0.3333333333333333,
             "#9c179e"
            ],
            [
             0.4444444444444444,
             "#bd3786"
            ],
            [
             0.5555555555555556,
             "#d8576b"
            ],
            [
             0.6666666666666666,
             "#ed7953"
            ],
            [
             0.7777777777777778,
             "#fb9f3a"
            ],
            [
             0.8888888888888888,
             "#fdca26"
            ],
            [
             1,
             "#f0f921"
            ]
           ],
           "sequentialminus": [
            [
             0,
             "#0d0887"
            ],
            [
             0.1111111111111111,
             "#46039f"
            ],
            [
             0.2222222222222222,
             "#7201a8"
            ],
            [
             0.3333333333333333,
             "#9c179e"
            ],
            [
             0.4444444444444444,
             "#bd3786"
            ],
            [
             0.5555555555555556,
             "#d8576b"
            ],
            [
             0.6666666666666666,
             "#ed7953"
            ],
            [
             0.7777777777777778,
             "#fb9f3a"
            ],
            [
             0.8888888888888888,
             "#fdca26"
            ],
            [
             1,
             "#f0f921"
            ]
           ]
          },
          "colorway": [
           "#636efa",
           "#EF553B",
           "#00cc96",
           "#ab63fa",
           "#FFA15A",
           "#19d3f3",
           "#FF6692",
           "#B6E880",
           "#FF97FF",
           "#FECB52"
          ],
          "font": {
           "color": "#2a3f5f"
          },
          "geo": {
           "bgcolor": "white",
           "lakecolor": "white",
           "landcolor": "#E5ECF6",
           "showlakes": true,
           "showland": true,
           "subunitcolor": "white"
          },
          "hoverlabel": {
           "align": "left"
          },
          "hovermode": "closest",
          "mapbox": {
           "style": "light"
          },
          "paper_bgcolor": "white",
          "plot_bgcolor": "#E5ECF6",
          "polar": {
           "angularaxis": {
            "gridcolor": "white",
            "linecolor": "white",
            "ticks": ""
           },
           "bgcolor": "#E5ECF6",
           "radialaxis": {
            "gridcolor": "white",
            "linecolor": "white",
            "ticks": ""
           }
          },
          "scene": {
           "xaxis": {
            "backgroundcolor": "#E5ECF6",
            "gridcolor": "white",
            "gridwidth": 2,
            "linecolor": "white",
            "showbackground": true,
            "ticks": "",
            "zerolinecolor": "white"
           },
           "yaxis": {
            "backgroundcolor": "#E5ECF6",
            "gridcolor": "white",
            "gridwidth": 2,
            "linecolor": "white",
            "showbackground": true,
            "ticks": "",
            "zerolinecolor": "white"
           },
           "zaxis": {
            "backgroundcolor": "#E5ECF6",
            "gridcolor": "white",
            "gridwidth": 2,
            "linecolor": "white",
            "showbackground": true,
            "ticks": "",
            "zerolinecolor": "white"
           }
          },
          "shapedefaults": {
           "line": {
            "color": "#2a3f5f"
           }
          },
          "ternary": {
           "aaxis": {
            "gridcolor": "white",
            "linecolor": "white",
            "ticks": ""
           },
           "baxis": {
            "gridcolor": "white",
            "linecolor": "white",
            "ticks": ""
           },
           "bgcolor": "#E5ECF6",
           "caxis": {
            "gridcolor": "white",
            "linecolor": "white",
            "ticks": ""
           }
          },
          "title": {
           "x": 0.05
          },
          "xaxis": {
           "automargin": true,
           "gridcolor": "white",
           "linecolor": "white",
           "ticks": "",
           "title": {
            "standoff": 15
           },
           "zerolinecolor": "white",
           "zerolinewidth": 2
          },
          "yaxis": {
           "automargin": true,
           "gridcolor": "white",
           "linecolor": "white",
           "ticks": "",
           "title": {
            "standoff": 15
           },
           "zerolinecolor": "white",
           "zerolinewidth": 2
          }
         }
        },
        "title": {
         "font": {
          "color": "#4D5663"
         }
        },
        "xaxis": {
         "gridcolor": "#E1E5ED",
         "showgrid": true,
         "tickfont": {
          "color": "#4D5663"
         },
         "title": {
          "font": {
           "color": "#4D5663"
          },
          "text": ""
         },
         "zerolinecolor": "#E1E5ED"
        },
        "yaxis": {
         "gridcolor": "#E1E5ED",
         "showgrid": true,
         "tickfont": {
          "color": "#4D5663"
         },
         "title": {
          "font": {
           "color": "#4D5663"
          },
          "text": ""
         },
         "zerolinecolor": "#E1E5ED"
        }
       }
      },
      "text/html": [
       "<div>                            <div id=\"1061313b-729e-4eee-9a72-ba6b55d25493\" class=\"plotly-graph-div\" style=\"height:525px; width:100%;\"></div>            <script type=\"text/javascript\">                require([\"plotly\"], function(Plotly) {                    window.PLOTLYENV=window.PLOTLYENV || {};\n",
       "                    window.PLOTLYENV.BASE_URL='https://plot.ly';                                    if (document.getElementById(\"1061313b-729e-4eee-9a72-ba6b55d25493\")) {                    Plotly.newPlot(                        \"1061313b-729e-4eee-9a72-ba6b55d25493\",                        [{\"marker\":{\"color\":[\"rgb(255, 153, 51)\",\"rgb(55, 128, 191)\",\"rgb(50, 171, 96)\",\"rgb(128, 0, 128)\",\"rgb(219, 64, 82)\",\"rgb(0, 128, 128)\",\"rgb(255, 255, 51)\",\"rgb(128, 128, 0)\",\"rgb(251, 128, 114)\",\"rgb(128, 177, 211)\"],\"line\":{\"width\":1.3},\"size\":[55,77,61,42,37,37,89,66,47,103,37,41,61,112,66,82,59,27,63,64,16,44,90,49,77,86,61,45,84,52,87,69,79,40,36,62,42,32,74,62,52,76,76,87,46,76,69,67,18,102,95,16,50,93,49,81,100,61,90,109,86,65,68,69,78,69,58,45,61,65,97,80,12,48,67,38,78,98,52,59,76,57,60,56,51,66,47,93,84,45,70,76,48,83,41,60,100,99,69,66],\"symbol\":\"circle\"},\"mode\":\"markers\",\"text\":\"\",\"x\":[-1.2615300860614054,0.5168583781406116,-1.27565405789446,1.4781814691430137,0.16685274993216312,0.29486795628181317,0.9785825523153496,0.14359652449530164,-0.8925068476041645,0.6869895496306667,-0.3184260842234965,-0.06079029464726772,0.3046179848603725,-0.28578117724567403,0.9555452637232548,-0.436571217632825,1.5989488034519654,-0.15788956695773615,-0.3888100527566678,-0.591990160710526,0.2710004943704668,0.2602297984499211,0.5657822404335577,0.18748818541864734,-0.18808181802469898,-1.35595867059301,-1.7497884642723616,0.825144024533562,0.20421153196532738,-0.2644595981522582,-0.029348334202425504,1.9077855533319394,0.22916452088223646,0.2867610600268779,1.2904275286706701,0.6215964625270357,0.6747330686433912,1.0478166238045625,-1.3554516876860905,0.08092118840581466,-0.40994404610033824,0.28561581083232607,0.1966769220405505,-1.1411890045092357,1.7231332434630888,-0.42193519470372676,-1.741625904007534,-2.391591329146761,0.689222905342845,0.19798524650811158,-0.10115323119577455,-0.9603616907577721,-0.8625275697297408,0.3524640636948968,1.2393159762473505,2.377375403963859,-0.33161650928400876,-0.7541694714930774,0.8277565338293128,0.06080378891897225,-0.9710249811252153,1.224128475122221,0.11241632604675655,-1.1815069448698765,0.1313115186944857,-1.2010409076083939,0.15765706193163107,-1.3211297942118674,-0.9825223740395495,0.7894139009281048,-1.1055435265481648,1.1142658013635867,-0.18738716811804088,-0.9014408479515046,-0.10340889577700428,1.915295678544698,-1.026271756257129,0.12995497319553861,1.1193558873374236,-0.23180192875510952,0.21849137154823123,1.0419858768778796,0.24556231413052595,0.49309662249476477,0.6160279264073351,-0.028684263888879884,-0.27846238992189154,-0.6151339164505116,0.6620802123427995,0.3485255177495143,-1.218456441286671,-1.0227375652102357,-0.3943161595674681,-0.638346772297683,0.14208982603404896,3.7399500319589483,0.1844386958356573,-0.17634768147868762,0.3712982772511809,-0.07532474604483136],\"y\":[-1.3999773022346853,-0.6625620672077985,-0.13403593135012803,-0.2339878842549569,0.08100488242810727,-0.40094669137310823,0.7110857695394376,0.945132123112901,0.7801585124745818,-2.4061019556258447,0.09632851478545619,0.2992606351539072,-0.9932761773845984,1.9891885642792426,-1.4147458176381231,0.5469460471883897,-0.43138767364022956,-0.11380232186836925,0.2642741060329245,-0.4516065127701526,-0.2174021449631138,0.6777841867420318,1.4469906621585116,-0.10477332749880597,-0.5718353186794933,-0.9241770381073433,0.7487742034721503,0.5116307408743127,-0.357573289466846,-0.42891030205716935,-1.4555911877393972,-0.16832153572754027,-0.3332303972415607,1.625673569413001,0.3741258191879868,-1.4188933829841257,0.3302419395213557,-1.115231172523026,-0.6533977526153854,-2.280552620733146,1.0417207322966597,-1.127180454096471,-1.6350014016713625,0.004862259578625818,0.15447244530216225,-0.6305495592044218,1.6494365509525002,1.249404337821749,-3.25513107262654,-2.2003748750279004,0.7777706747383216,0.37056489767082534,-0.3560390627881642,0.5131737979639818,-0.8335218338591645,-0.4547481048534048,-1.1565808901885064,-1.2649681759429672,0.5919062681448857,0.07393727325405307,-0.6392552717703002,-0.06532171436724853,1.2813676031184937,-1.0559418320411604,1.4139504592986571,2.4546740641948936,1.0705099251140995,0.4746150457471814,1.1909024990604284,-0.761915425175944,-0.23586143082944264,1.2184017973426964,-0.6852423003678728,1.2351106059744261,-0.5205086220142247,0.06761539169827334,-1.4735505010313557,-0.7035776570552076,0.791392914877188,1.5363518469695343,0.8680569096835051,0.03600875756233151,0.29652664576283305,1.5945681003222858,1.0959640865897888,-0.2577631398110386,0.041274579839142754,-0.9769537525253257,-0.4906770970438918,1.0543096348022898,0.48584175972625604,1.002107562265259,-1.140108891804244,-0.31048423609957376,1.1509293609216962,0.7543488225434943,0.7739362556765743,0.03311795773750614,-1.995401730436345,-0.44309580692760137],\"type\":\"scatter\"}],                        {\"legend\":{\"bgcolor\":\"#F5F6F9\",\"font\":{\"color\":\"#4D5663\"}},\"paper_bgcolor\":\"#F5F6F9\",\"plot_bgcolor\":\"#F5F6F9\",\"template\":{\"data\":{\"barpolar\":[{\"marker\":{\"line\":{\"color\":\"#E5ECF6\",\"width\":0.5},\"pattern\":{\"fillmode\":\"overlay\",\"size\":10,\"solidity\":0.2}},\"type\":\"barpolar\"}],\"bar\":[{\"error_x\":{\"color\":\"#2a3f5f\"},\"error_y\":{\"color\":\"#2a3f5f\"},\"marker\":{\"line\":{\"color\":\"#E5ECF6\",\"width\":0.5},\"pattern\":{\"fillmode\":\"overlay\",\"size\":10,\"solidity\":0.2}},\"type\":\"bar\"}],\"carpet\":[{\"aaxis\":{\"endlinecolor\":\"#2a3f5f\",\"gridcolor\":\"white\",\"linecolor\":\"white\",\"minorgridcolor\":\"white\",\"startlinecolor\":\"#2a3f5f\"},\"baxis\":{\"endlinecolor\":\"#2a3f5f\",\"gridcolor\":\"white\",\"linecolor\":\"white\",\"minorgridcolor\":\"white\",\"startlinecolor\":\"#2a3f5f\"},\"type\":\"carpet\"}],\"choropleth\":[{\"colorbar\":{\"outlinewidth\":0,\"ticks\":\"\"},\"type\":\"choropleth\"}],\"contourcarpet\":[{\"colorbar\":{\"outlinewidth\":0,\"ticks\":\"\"},\"type\":\"contourcarpet\"}],\"contour\":[{\"colorbar\":{\"outlinewidth\":0,\"ticks\":\"\"},\"colorscale\":[[0.0,\"#0d0887\"],[0.1111111111111111,\"#46039f\"],[0.2222222222222222,\"#7201a8\"],[0.3333333333333333,\"#9c179e\"],[0.4444444444444444,\"#bd3786\"],[0.5555555555555556,\"#d8576b\"],[0.6666666666666666,\"#ed7953\"],[0.7777777777777778,\"#fb9f3a\"],[0.8888888888888888,\"#fdca26\"],[1.0,\"#f0f921\"]],\"type\":\"contour\"}],\"heatmapgl\":[{\"colorbar\":{\"outlinewidth\":0,\"ticks\":\"\"},\"colorscale\":[[0.0,\"#0d0887\"],[0.1111111111111111,\"#46039f\"],[0.2222222222222222,\"#7201a8\"],[0.3333333333333333,\"#9c179e\"],[0.4444444444444444,\"#bd3786\"],[0.5555555555555556,\"#d8576b\"],[0.6666666666666666,\"#ed7953\"],[0.7777777777777778,\"#fb9f3a\"],[0.8888888888888888,\"#fdca26\"],[1.0,\"#f0f921\"]],\"type\":\"heatmapgl\"}],\"heatmap\":[{\"colorbar\":{\"outlinewidth\":0,\"ticks\":\"\"},\"colorscale\":[[0.0,\"#0d0887\"],[0.1111111111111111,\"#46039f\"],[0.2222222222222222,\"#7201a8\"],[0.3333333333333333,\"#9c179e\"],[0.4444444444444444,\"#bd3786\"],[0.5555555555555556,\"#d8576b\"],[0.6666666666666666,\"#ed7953\"],[0.7777777777777778,\"#fb9f3a\"],[0.8888888888888888,\"#fdca26\"],[1.0,\"#f0f921\"]],\"type\":\"heatmap\"}],\"histogram2dcontour\":[{\"colorbar\":{\"outlinewidth\":0,\"ticks\":\"\"},\"colorscale\":[[0.0,\"#0d0887\"],[0.1111111111111111,\"#46039f\"],[0.2222222222222222,\"#7201a8\"],[0.3333333333333333,\"#9c179e\"],[0.4444444444444444,\"#bd3786\"],[0.5555555555555556,\"#d8576b\"],[0.6666666666666666,\"#ed7953\"],[0.7777777777777778,\"#fb9f3a\"],[0.8888888888888888,\"#fdca26\"],[1.0,\"#f0f921\"]],\"type\":\"histogram2dcontour\"}],\"histogram2d\":[{\"colorbar\":{\"outlinewidth\":0,\"ticks\":\"\"},\"colorscale\":[[0.0,\"#0d0887\"],[0.1111111111111111,\"#46039f\"],[0.2222222222222222,\"#7201a8\"],[0.3333333333333333,\"#9c179e\"],[0.4444444444444444,\"#bd3786\"],[0.5555555555555556,\"#d8576b\"],[0.6666666666666666,\"#ed7953\"],[0.7777777777777778,\"#fb9f3a\"],[0.8888888888888888,\"#fdca26\"],[1.0,\"#f0f921\"]],\"type\":\"histogram2d\"}],\"histogram\":[{\"marker\":{\"pattern\":{\"fillmode\":\"overlay\",\"size\":10,\"solidity\":0.2}},\"type\":\"histogram\"}],\"mesh3d\":[{\"colorbar\":{\"outlinewidth\":0,\"ticks\":\"\"},\"type\":\"mesh3d\"}],\"parcoords\":[{\"line\":{\"colorbar\":{\"outlinewidth\":0,\"ticks\":\"\"}},\"type\":\"parcoords\"}],\"pie\":[{\"automargin\":true,\"type\":\"pie\"}],\"scatter3d\":[{\"line\":{\"colorbar\":{\"outlinewidth\":0,\"ticks\":\"\"}},\"marker\":{\"colorbar\":{\"outlinewidth\":0,\"ticks\":\"\"}},\"type\":\"scatter3d\"}],\"scattercarpet\":[{\"marker\":{\"colorbar\":{\"outlinewidth\":0,\"ticks\":\"\"}},\"type\":\"scattercarpet\"}],\"scattergeo\":[{\"marker\":{\"colorbar\":{\"outlinewidth\":0,\"ticks\":\"\"}},\"type\":\"scattergeo\"}],\"scattergl\":[{\"marker\":{\"colorbar\":{\"outlinewidth\":0,\"ticks\":\"\"}},\"type\":\"scattergl\"}],\"scattermapbox\":[{\"marker\":{\"colorbar\":{\"outlinewidth\":0,\"ticks\":\"\"}},\"type\":\"scattermapbox\"}],\"scatterpolargl\":[{\"marker\":{\"colorbar\":{\"outlinewidth\":0,\"ticks\":\"\"}},\"type\":\"scatterpolargl\"}],\"scatterpolar\":[{\"marker\":{\"colorbar\":{\"outlinewidth\":0,\"ticks\":\"\"}},\"type\":\"scatterpolar\"}],\"scatter\":[{\"fillpattern\":{\"fillmode\":\"overlay\",\"size\":10,\"solidity\":0.2},\"type\":\"scatter\"}],\"scatterternary\":[{\"marker\":{\"colorbar\":{\"outlinewidth\":0,\"ticks\":\"\"}},\"type\":\"scatterternary\"}],\"surface\":[{\"colorbar\":{\"outlinewidth\":0,\"ticks\":\"\"},\"colorscale\":[[0.0,\"#0d0887\"],[0.1111111111111111,\"#46039f\"],[0.2222222222222222,\"#7201a8\"],[0.3333333333333333,\"#9c179e\"],[0.4444444444444444,\"#bd3786\"],[0.5555555555555556,\"#d8576b\"],[0.6666666666666666,\"#ed7953\"],[0.7777777777777778,\"#fb9f3a\"],[0.8888888888888888,\"#fdca26\"],[1.0,\"#f0f921\"]],\"type\":\"surface\"}],\"table\":[{\"cells\":{\"fill\":{\"color\":\"#EBF0F8\"},\"line\":{\"color\":\"white\"}},\"header\":{\"fill\":{\"color\":\"#C8D4E3\"},\"line\":{\"color\":\"white\"}},\"type\":\"table\"}]},\"layout\":{\"annotationdefaults\":{\"arrowcolor\":\"#2a3f5f\",\"arrowhead\":0,\"arrowwidth\":1},\"autotypenumbers\":\"strict\",\"coloraxis\":{\"colorbar\":{\"outlinewidth\":0,\"ticks\":\"\"}},\"colorscale\":{\"diverging\":[[0,\"#8e0152\"],[0.1,\"#c51b7d\"],[0.2,\"#de77ae\"],[0.3,\"#f1b6da\"],[0.4,\"#fde0ef\"],[0.5,\"#f7f7f7\"],[0.6,\"#e6f5d0\"],[0.7,\"#b8e186\"],[0.8,\"#7fbc41\"],[0.9,\"#4d9221\"],[1,\"#276419\"]],\"sequential\":[[0.0,\"#0d0887\"],[0.1111111111111111,\"#46039f\"],[0.2222222222222222,\"#7201a8\"],[0.3333333333333333,\"#9c179e\"],[0.4444444444444444,\"#bd3786\"],[0.5555555555555556,\"#d8576b\"],[0.6666666666666666,\"#ed7953\"],[0.7777777777777778,\"#fb9f3a\"],[0.8888888888888888,\"#fdca26\"],[1.0,\"#f0f921\"]],\"sequentialminus\":[[0.0,\"#0d0887\"],[0.1111111111111111,\"#46039f\"],[0.2222222222222222,\"#7201a8\"],[0.3333333333333333,\"#9c179e\"],[0.4444444444444444,\"#bd3786\"],[0.5555555555555556,\"#d8576b\"],[0.6666666666666666,\"#ed7953\"],[0.7777777777777778,\"#fb9f3a\"],[0.8888888888888888,\"#fdca26\"],[1.0,\"#f0f921\"]]},\"colorway\":[\"#636efa\",\"#EF553B\",\"#00cc96\",\"#ab63fa\",\"#FFA15A\",\"#19d3f3\",\"#FF6692\",\"#B6E880\",\"#FF97FF\",\"#FECB52\"],\"font\":{\"color\":\"#2a3f5f\"},\"geo\":{\"bgcolor\":\"white\",\"lakecolor\":\"white\",\"landcolor\":\"#E5ECF6\",\"showlakes\":true,\"showland\":true,\"subunitcolor\":\"white\"},\"hoverlabel\":{\"align\":\"left\"},\"hovermode\":\"closest\",\"mapbox\":{\"style\":\"light\"},\"paper_bgcolor\":\"white\",\"plot_bgcolor\":\"#E5ECF6\",\"polar\":{\"angularaxis\":{\"gridcolor\":\"white\",\"linecolor\":\"white\",\"ticks\":\"\"},\"bgcolor\":\"#E5ECF6\",\"radialaxis\":{\"gridcolor\":\"white\",\"linecolor\":\"white\",\"ticks\":\"\"}},\"scene\":{\"xaxis\":{\"backgroundcolor\":\"#E5ECF6\",\"gridcolor\":\"white\",\"gridwidth\":2,\"linecolor\":\"white\",\"showbackground\":true,\"ticks\":\"\",\"zerolinecolor\":\"white\"},\"yaxis\":{\"backgroundcolor\":\"#E5ECF6\",\"gridcolor\":\"white\",\"gridwidth\":2,\"linecolor\":\"white\",\"showbackground\":true,\"ticks\":\"\",\"zerolinecolor\":\"white\"},\"zaxis\":{\"backgroundcolor\":\"#E5ECF6\",\"gridcolor\":\"white\",\"gridwidth\":2,\"linecolor\":\"white\",\"showbackground\":true,\"ticks\":\"\",\"zerolinecolor\":\"white\"}},\"shapedefaults\":{\"line\":{\"color\":\"#2a3f5f\"}},\"ternary\":{\"aaxis\":{\"gridcolor\":\"white\",\"linecolor\":\"white\",\"ticks\":\"\"},\"baxis\":{\"gridcolor\":\"white\",\"linecolor\":\"white\",\"ticks\":\"\"},\"bgcolor\":\"#E5ECF6\",\"caxis\":{\"gridcolor\":\"white\",\"linecolor\":\"white\",\"ticks\":\"\"}},\"title\":{\"x\":0.05},\"xaxis\":{\"automargin\":true,\"gridcolor\":\"white\",\"linecolor\":\"white\",\"ticks\":\"\",\"title\":{\"standoff\":15},\"zerolinecolor\":\"white\",\"zerolinewidth\":2},\"yaxis\":{\"automargin\":true,\"gridcolor\":\"white\",\"linecolor\":\"white\",\"ticks\":\"\",\"title\":{\"standoff\":15},\"zerolinecolor\":\"white\",\"zerolinewidth\":2}}},\"title\":{\"font\":{\"color\":\"#4D5663\"}},\"xaxis\":{\"gridcolor\":\"#E1E5ED\",\"showgrid\":true,\"tickfont\":{\"color\":\"#4D5663\"},\"title\":{\"font\":{\"color\":\"#4D5663\"},\"text\":\"\"},\"zerolinecolor\":\"#E1E5ED\"},\"yaxis\":{\"gridcolor\":\"#E1E5ED\",\"showgrid\":true,\"tickfont\":{\"color\":\"#4D5663\"},\"title\":{\"font\":{\"color\":\"#4D5663\"},\"text\":\"\"},\"zerolinecolor\":\"#E1E5ED\"}},                        {\"showLink\": true, \"linkText\": \"Export to plot.ly\", \"plotlyServerURL\": \"https://plot.ly\", \"responsive\": true}                    ).then(function(){\n",
       "                            \n",
       "var gd = document.getElementById('1061313b-729e-4eee-9a72-ba6b55d25493');\n",
       "var x = new MutationObserver(function (mutations, observer) {{\n",
       "        var display = window.getComputedStyle(gd).display;\n",
       "        if (!display || display === 'none') {{\n",
       "            console.log([gd, 'removed!']);\n",
       "            Plotly.purge(gd);\n",
       "            observer.disconnect();\n",
       "        }}\n",
       "}});\n",
       "\n",
       "// Listen for the removal of the full notebook cells\n",
       "var notebookContainer = gd.closest('#notebook-container');\n",
       "if (notebookContainer) {{\n",
       "    x.observe(notebookContainer, {childList: true});\n",
       "}}\n",
       "\n",
       "// Listen for the clearing of the current output cell\n",
       "var outputEl = gd.closest('.output');\n",
       "if (outputEl) {{\n",
       "    x.observe(outputEl, {childList: true});\n",
       "}}\n",
       "\n",
       "                        })                };                });            </script>        </div>"
      ]
     },
     "metadata": {},
     "output_type": "display_data"
    }
   ],
   "source": [
    "df.iplot(kind='bubble',x='A',y='B',size='C')"
   ]
  },
  {
   "cell_type": "markdown",
   "metadata": {},
   "source": [
    "## scatter_matrix()\n",
    "\n",
    "Similar to sns.pairplot()"
   ]
  },
  {
   "cell_type": "code",
   "execution_count": 32,
   "metadata": {},
   "outputs": [
    {
     "data": {
      "application/vnd.plotly.v1+json": {
       "config": {
        "linkText": "Export to plot.ly",
        "plotlyServerURL": "https://plot.ly",
        "showLink": true
       },
       "data": [
        {
         "histfunc": "count",
         "histnorm": "",
         "marker": {
          "color": "rgba(255, 153, 51, 1.0)",
          "line": {
           "color": "#4D5663",
           "width": 1.3
          }
         },
         "name": "A",
         "nbinsx": 10,
         "opacity": 0.8,
         "orientation": "v",
         "type": "histogram",
         "x": [
          -1.2615300860614054,
          0.5168583781406116,
          -1.27565405789446,
          1.4781814691430137,
          0.16685274993216312,
          0.29486795628181317,
          0.9785825523153496,
          0.14359652449530164,
          -0.8925068476041645,
          0.6869895496306667,
          -0.3184260842234965,
          -0.06079029464726772,
          0.3046179848603725,
          -0.28578117724567403,
          0.9555452637232548,
          -0.436571217632825,
          1.5989488034519654,
          -0.15788956695773615,
          -0.3888100527566678,
          -0.591990160710526,
          0.2710004943704668,
          0.2602297984499211,
          0.5657822404335577,
          0.18748818541864734,
          -0.18808181802469898,
          -1.35595867059301,
          -1.7497884642723616,
          0.825144024533562,
          0.20421153196532738,
          -0.2644595981522582,
          -0.029348334202425504,
          1.9077855533319394,
          0.22916452088223646,
          0.2867610600268779,
          1.2904275286706701,
          0.6215964625270357,
          0.6747330686433912,
          1.0478166238045625,
          -1.3554516876860905,
          0.08092118840581466,
          -0.40994404610033824,
          0.28561581083232607,
          0.1966769220405505,
          -1.1411890045092357,
          1.7231332434630888,
          -0.42193519470372676,
          -1.741625904007534,
          -2.391591329146761,
          0.689222905342845,
          0.19798524650811158,
          -0.10115323119577455,
          -0.9603616907577721,
          -0.8625275697297408,
          0.3524640636948968,
          1.2393159762473505,
          2.377375403963859,
          -0.33161650928400876,
          -0.7541694714930774,
          0.8277565338293128,
          0.06080378891897225,
          -0.9710249811252153,
          1.224128475122221,
          0.11241632604675655,
          -1.1815069448698765,
          0.1313115186944857,
          -1.2010409076083939,
          0.15765706193163107,
          -1.3211297942118674,
          -0.9825223740395495,
          0.7894139009281048,
          -1.1055435265481648,
          1.1142658013635867,
          -0.18738716811804088,
          -0.9014408479515046,
          -0.10340889577700428,
          1.915295678544698,
          -1.026271756257129,
          0.12995497319553861,
          1.1193558873374236,
          -0.23180192875510952,
          0.21849137154823123,
          1.0419858768778796,
          0.24556231413052595,
          0.49309662249476477,
          0.6160279264073351,
          -0.028684263888879884,
          -0.27846238992189154,
          -0.6151339164505116,
          0.6620802123427995,
          0.3485255177495143,
          -1.218456441286671,
          -1.0227375652102357,
          -0.3943161595674681,
          -0.638346772297683,
          0.14208982603404896,
          3.7399500319589483,
          0.1844386958356573,
          -0.17634768147868762,
          0.3712982772511809,
          -0.07532474604483136
         ],
         "xaxis": "x",
         "yaxis": "y"
        },
        {
         "line": {
          "color": "rgba(128, 128, 128, 1.0)",
          "dash": "solid",
          "shape": "linear",
          "width": 1.3
         },
         "marker": {
          "size": 2,
          "symbol": "circle"
         },
         "mode": "markers",
         "name": "A",
         "text": "",
         "type": "scatter",
         "x": [
          -1.3999773022346853,
          -0.6625620672077985,
          -0.13403593135012803,
          -0.2339878842549569,
          0.08100488242810727,
          -0.40094669137310823,
          0.7110857695394376,
          0.945132123112901,
          0.7801585124745818,
          -2.4061019556258447,
          0.09632851478545619,
          0.2992606351539072,
          -0.9932761773845984,
          1.9891885642792426,
          -1.4147458176381231,
          0.5469460471883897,
          -0.43138767364022956,
          -0.11380232186836925,
          0.2642741060329245,
          -0.4516065127701526,
          -0.2174021449631138,
          0.6777841867420318,
          1.4469906621585116,
          -0.10477332749880597,
          -0.5718353186794933,
          -0.9241770381073433,
          0.7487742034721503,
          0.5116307408743127,
          -0.357573289466846,
          -0.42891030205716935,
          -1.4555911877393972,
          -0.16832153572754027,
          -0.3332303972415607,
          1.625673569413001,
          0.3741258191879868,
          -1.4188933829841257,
          0.3302419395213557,
          -1.115231172523026,
          -0.6533977526153854,
          -2.280552620733146,
          1.0417207322966597,
          -1.127180454096471,
          -1.6350014016713625,
          0.004862259578625818,
          0.15447244530216225,
          -0.6305495592044218,
          1.6494365509525002,
          1.249404337821749,
          -3.25513107262654,
          -2.2003748750279004,
          0.7777706747383216,
          0.37056489767082534,
          -0.3560390627881642,
          0.5131737979639818,
          -0.8335218338591645,
          -0.4547481048534048,
          -1.1565808901885064,
          -1.2649681759429672,
          0.5919062681448857,
          0.07393727325405307,
          -0.6392552717703002,
          -0.06532171436724853,
          1.2813676031184937,
          -1.0559418320411604,
          1.4139504592986571,
          2.4546740641948936,
          1.0705099251140995,
          0.4746150457471814,
          1.1909024990604284,
          -0.761915425175944,
          -0.23586143082944264,
          1.2184017973426964,
          -0.6852423003678728,
          1.2351106059744261,
          -0.5205086220142247,
          0.06761539169827334,
          -1.4735505010313557,
          -0.7035776570552076,
          0.791392914877188,
          1.5363518469695343,
          0.8680569096835051,
          0.03600875756233151,
          0.29652664576283305,
          1.5945681003222858,
          1.0959640865897888,
          -0.2577631398110386,
          0.041274579839142754,
          -0.9769537525253257,
          -0.4906770970438918,
          1.0543096348022898,
          0.48584175972625604,
          1.002107562265259,
          -1.140108891804244,
          -0.31048423609957376,
          1.1509293609216962,
          0.7543488225434943,
          0.7739362556765743,
          0.03311795773750614,
          -1.995401730436345,
          -0.44309580692760137
         ],
         "xaxis": "x2",
         "y": [
          -1.2615300860614054,
          0.5168583781406116,
          -1.27565405789446,
          1.4781814691430137,
          0.16685274993216312,
          0.29486795628181317,
          0.9785825523153496,
          0.14359652449530164,
          -0.8925068476041645,
          0.6869895496306667,
          -0.3184260842234965,
          -0.06079029464726772,
          0.3046179848603725,
          -0.28578117724567403,
          0.9555452637232548,
          -0.436571217632825,
          1.5989488034519654,
          -0.15788956695773615,
          -0.3888100527566678,
          -0.591990160710526,
          0.2710004943704668,
          0.2602297984499211,
          0.5657822404335577,
          0.18748818541864734,
          -0.18808181802469898,
          -1.35595867059301,
          -1.7497884642723616,
          0.825144024533562,
          0.20421153196532738,
          -0.2644595981522582,
          -0.029348334202425504,
          1.9077855533319394,
          0.22916452088223646,
          0.2867610600268779,
          1.2904275286706701,
          0.6215964625270357,
          0.6747330686433912,
          1.0478166238045625,
          -1.3554516876860905,
          0.08092118840581466,
          -0.40994404610033824,
          0.28561581083232607,
          0.1966769220405505,
          -1.1411890045092357,
          1.7231332434630888,
          -0.42193519470372676,
          -1.741625904007534,
          -2.391591329146761,
          0.689222905342845,
          0.19798524650811158,
          -0.10115323119577455,
          -0.9603616907577721,
          -0.8625275697297408,
          0.3524640636948968,
          1.2393159762473505,
          2.377375403963859,
          -0.33161650928400876,
          -0.7541694714930774,
          0.8277565338293128,
          0.06080378891897225,
          -0.9710249811252153,
          1.224128475122221,
          0.11241632604675655,
          -1.1815069448698765,
          0.1313115186944857,
          -1.2010409076083939,
          0.15765706193163107,
          -1.3211297942118674,
          -0.9825223740395495,
          0.7894139009281048,
          -1.1055435265481648,
          1.1142658013635867,
          -0.18738716811804088,
          -0.9014408479515046,
          -0.10340889577700428,
          1.915295678544698,
          -1.026271756257129,
          0.12995497319553861,
          1.1193558873374236,
          -0.23180192875510952,
          0.21849137154823123,
          1.0419858768778796,
          0.24556231413052595,
          0.49309662249476477,
          0.6160279264073351,
          -0.028684263888879884,
          -0.27846238992189154,
          -0.6151339164505116,
          0.6620802123427995,
          0.3485255177495143,
          -1.218456441286671,
          -1.0227375652102357,
          -0.3943161595674681,
          -0.638346772297683,
          0.14208982603404896,
          3.7399500319589483,
          0.1844386958356573,
          -0.17634768147868762,
          0.3712982772511809,
          -0.07532474604483136
         ],
         "yaxis": "y2"
        },
        {
         "line": {
          "color": "rgba(128, 128, 128, 1.0)",
          "dash": "solid",
          "shape": "linear",
          "width": 1.3
         },
         "marker": {
          "size": 2,
          "symbol": "circle"
         },
         "mode": "markers",
         "name": "A",
         "text": "",
         "type": "scatter",
         "x": [
          -0.6119837808345561,
          0.3853238635163028,
          -0.3511377855594242,
          -1.2204433026125334,
          -1.4237140106901527,
          -1.4195892782820938,
          0.9600088242611423,
          -0.11576393066849629,
          -0.9923024938054422,
          1.586223557969978,
          -1.4415780438747134,
          -1.2390733485327365,
          -0.33434878971735,
          1.9648199577776106,
          -0.08766612300352726,
          0.6202142714008656,
          -0.4467833684597155,
          -1.8994423633847775,
          -0.24118307225659497,
          -0.2099697413813049,
          -2.363340341029225,
          -1.1268258112064171,
          0.9639369087615384,
          -0.8885829400990982,
          0.3949285761942748,
          0.7881513636323871,
          -0.3144980559102199,
          -1.0461492475918,
          0.7166247447078593,
          -0.7468524159013762,
          0.8674151970421391,
          0.04602419135137053,
          0.46689153490274143,
          -1.2819897688349893,
          -1.4844966214527495,
          -0.2673619567705891,
          -1.222054059020473,
          -1.648420834754166,
          0.23747325432178468,
          -0.2904214934817071,
          -0.7650753522220357,
          0.3339269550455444,
          0.3480370278900314,
          0.8535187828086694,
          -1.0203953719350616,
          0.3392290875947378,
          0.03524267145517492,
          -0.08448984563170832,
          -2.2837805574276637,
          1.5270501865766104,
          1.2202286331391123,
          -2.395575852397786,
          -0.8432511291804089,
          1.1173922522989193,
          -0.8984316406419147,
          0.5588617083291683,
          1.4372836910213578,
          -0.32439378800799,
          0.9779212262649797,
          1.8500836537456498,
          0.7988326066757393,
          -0.1600357106456922,
          -0.03578748628843559,
          0.015641839847267188,
          0.44411920757704476,
          0.04502063446646156,
          -0.45117357857469953,
          -1.0741430372659364,
          -0.3209542399646837,
          -0.16436327237197473,
          1.3238866144457233,
          0.5132156730418638,
          -2.5893852115736262,
          -0.9392610359312538,
          -0.039151045772395,
          -1.361385251067636,
          0.42728496093696755,
          1.3513628557834192,
          -0.7504843096847912,
          -0.40801449108868953,
          0.35522511590782646,
          -0.5329811735863856,
          -0.367692788068022,
          -0.5417829440013526,
          -0.790027084227306,
          -0.10854904271123081,
          -0.979391037830631,
          1.1263211137155658,
          0.7278214354793066,
          -1.04877880464554,
          0.07319863551321172,
          0.34737416688188083,
          -0.916850087439608,
          0.6593068679495917,
          -1.23129583355202,
          -0.3578263992626871,
          1.4468431695053796,
          1.4151596591672,
          0.047903323163623036,
          -0.08915065282485961
         ],
         "xaxis": "x3",
         "y": [
          -1.2615300860614054,
          0.5168583781406116,
          -1.27565405789446,
          1.4781814691430137,
          0.16685274993216312,
          0.29486795628181317,
          0.9785825523153496,
          0.14359652449530164,
          -0.8925068476041645,
          0.6869895496306667,
          -0.3184260842234965,
          -0.06079029464726772,
          0.3046179848603725,
          -0.28578117724567403,
          0.9555452637232548,
          -0.436571217632825,
          1.5989488034519654,
          -0.15788956695773615,
          -0.3888100527566678,
          -0.591990160710526,
          0.2710004943704668,
          0.2602297984499211,
          0.5657822404335577,
          0.18748818541864734,
          -0.18808181802469898,
          -1.35595867059301,
          -1.7497884642723616,
          0.825144024533562,
          0.20421153196532738,
          -0.2644595981522582,
          -0.029348334202425504,
          1.9077855533319394,
          0.22916452088223646,
          0.2867610600268779,
          1.2904275286706701,
          0.6215964625270357,
          0.6747330686433912,
          1.0478166238045625,
          -1.3554516876860905,
          0.08092118840581466,
          -0.40994404610033824,
          0.28561581083232607,
          0.1966769220405505,
          -1.1411890045092357,
          1.7231332434630888,
          -0.42193519470372676,
          -1.741625904007534,
          -2.391591329146761,
          0.689222905342845,
          0.19798524650811158,
          -0.10115323119577455,
          -0.9603616907577721,
          -0.8625275697297408,
          0.3524640636948968,
          1.2393159762473505,
          2.377375403963859,
          -0.33161650928400876,
          -0.7541694714930774,
          0.8277565338293128,
          0.06080378891897225,
          -0.9710249811252153,
          1.224128475122221,
          0.11241632604675655,
          -1.1815069448698765,
          0.1313115186944857,
          -1.2010409076083939,
          0.15765706193163107,
          -1.3211297942118674,
          -0.9825223740395495,
          0.7894139009281048,
          -1.1055435265481648,
          1.1142658013635867,
          -0.18738716811804088,
          -0.9014408479515046,
          -0.10340889577700428,
          1.915295678544698,
          -1.026271756257129,
          0.12995497319553861,
          1.1193558873374236,
          -0.23180192875510952,
          0.21849137154823123,
          1.0419858768778796,
          0.24556231413052595,
          0.49309662249476477,
          0.6160279264073351,
          -0.028684263888879884,
          -0.27846238992189154,
          -0.6151339164505116,
          0.6620802123427995,
          0.3485255177495143,
          -1.218456441286671,
          -1.0227375652102357,
          -0.3943161595674681,
          -0.638346772297683,
          0.14208982603404896,
          3.7399500319589483,
          0.1844386958356573,
          -0.17634768147868762,
          0.3712982772511809,
          -0.07532474604483136
         ],
         "yaxis": "y3"
        },
        {
         "line": {
          "color": "rgba(128, 128, 128, 1.0)",
          "dash": "solid",
          "shape": "linear",
          "width": 1.3
         },
         "marker": {
          "size": 2,
          "symbol": "circle"
         },
         "mode": "markers",
         "name": "A",
         "text": "",
         "type": "scatter",
         "x": [
          -0.47706790851296726,
          -1.2707186459478514,
          0.9013862500197893,
          0.16414791723662073,
          -0.528305912577053,
          0.760110588159711,
          -0.9776158566357236,
          -1.9850852366254366,
          -1.7370172816400318,
          0.2517126379770799,
          -1.0011328284672907,
          -0.2613786339032824,
          0.7797048038852065,
          -0.8170932884455905,
          0.009242583900853422,
          -1.6836507525265862,
          -0.5048036540858107,
          -1.8326485557919734,
          0.33415009569966686,
          -0.9733124229215993,
          0.4367633389693113,
          0.03620681452186859,
          0.15363324980570667,
          -1.388714196282162,
          0.4108269942067989,
          0.20041866327019373,
          1.8148173947031228,
          2.004429604813547,
          0.5415002110537025,
          -1.1467172808204054,
          -1.4323439440761963,
          -0.07144767755780287,
          0.9921183498797117,
          1.3919571631141874,
          -0.28899018259889425,
          -1.3447429645699842,
          0.7428281327387541,
          -0.9504888731963778,
          -1.850867509708682,
          -0.16284183218926565,
          0.306940590955219,
          -0.6707513443055351,
          -0.8698048225942233,
          -0.1497534577034293,
          1.8202306536146895,
          -1.4094254413160463,
          0.13846159598012317,
          -0.4937329310018632,
          -0.2702891575624019,
          -0.8169023120461076,
          0.6034411819058803,
          0.5691307542052024,
          -1.2180680201750023,
          1.5002550280971456,
          0.5319616257602449,
          -0.501889689467497,
          -1.1426950065491108,
          -0.43092752543985824,
          0.5066801146013515,
          0.7120879493263683,
          -0.517113995921473,
          -2.1512371124884613,
          0.16494732984756155,
          -1.2612525350156645,
          -0.010982003206188539,
          -0.9613283948665519,
          0.5062728424278135,
          0.5896847471268124,
          -1.0852558234880636,
          -0.2656180177773189,
          0.6347090759322588,
          0.4164494719838177,
          0.49535903439532736,
          -0.6488023608549194,
          0.11752878131637244,
          -0.04236959134854982,
          1.053827362093787,
          -0.4985717151399195,
          1.5771374690324773,
          1.1248556430129348,
          0.9565736686442126,
          0.5998504230364267,
          -1.4234707658047592,
          0.8521225737041161,
          -0.2848760900886783,
          1.162666959599844,
          0.5033335838244494,
          -0.2155570736812704,
          -1.0385583461447516,
          -1.1622475401435761,
          0.021390230891725686,
          -0.560576739090153,
          -0.8790485403383482,
          -0.25105250628280734,
          -0.16719939889526858,
          1.1360088693685437,
          0.4271792584961496,
          0.8579829289124504,
          -0.7858608501724726,
          -0.21070718427011376
         ],
         "xaxis": "x4",
         "y": [
          -1.2615300860614054,
          0.5168583781406116,
          -1.27565405789446,
          1.4781814691430137,
          0.16685274993216312,
          0.29486795628181317,
          0.9785825523153496,
          0.14359652449530164,
          -0.8925068476041645,
          0.6869895496306667,
          -0.3184260842234965,
          -0.06079029464726772,
          0.3046179848603725,
          -0.28578117724567403,
          0.9555452637232548,
          -0.436571217632825,
          1.5989488034519654,
          -0.15788956695773615,
          -0.3888100527566678,
          -0.591990160710526,
          0.2710004943704668,
          0.2602297984499211,
          0.5657822404335577,
          0.18748818541864734,
          -0.18808181802469898,
          -1.35595867059301,
          -1.7497884642723616,
          0.825144024533562,
          0.20421153196532738,
          -0.2644595981522582,
          -0.029348334202425504,
          1.9077855533319394,
          0.22916452088223646,
          0.2867610600268779,
          1.2904275286706701,
          0.6215964625270357,
          0.6747330686433912,
          1.0478166238045625,
          -1.3554516876860905,
          0.08092118840581466,
          -0.40994404610033824,
          0.28561581083232607,
          0.1966769220405505,
          -1.1411890045092357,
          1.7231332434630888,
          -0.42193519470372676,
          -1.741625904007534,
          -2.391591329146761,
          0.689222905342845,
          0.19798524650811158,
          -0.10115323119577455,
          -0.9603616907577721,
          -0.8625275697297408,
          0.3524640636948968,
          1.2393159762473505,
          2.377375403963859,
          -0.33161650928400876,
          -0.7541694714930774,
          0.8277565338293128,
          0.06080378891897225,
          -0.9710249811252153,
          1.224128475122221,
          0.11241632604675655,
          -1.1815069448698765,
          0.1313115186944857,
          -1.2010409076083939,
          0.15765706193163107,
          -1.3211297942118674,
          -0.9825223740395495,
          0.7894139009281048,
          -1.1055435265481648,
          1.1142658013635867,
          -0.18738716811804088,
          -0.9014408479515046,
          -0.10340889577700428,
          1.915295678544698,
          -1.026271756257129,
          0.12995497319553861,
          1.1193558873374236,
          -0.23180192875510952,
          0.21849137154823123,
          1.0419858768778796,
          0.24556231413052595,
          0.49309662249476477,
          0.6160279264073351,
          -0.028684263888879884,
          -0.27846238992189154,
          -0.6151339164505116,
          0.6620802123427995,
          0.3485255177495143,
          -1.218456441286671,
          -1.0227375652102357,
          -0.3943161595674681,
          -0.638346772297683,
          0.14208982603404896,
          3.7399500319589483,
          0.1844386958356573,
          -0.17634768147868762,
          0.3712982772511809,
          -0.07532474604483136
         ],
         "yaxis": "y4"
        },
        {
         "line": {
          "color": "rgba(128, 128, 128, 1.0)",
          "dash": "solid",
          "shape": "linear",
          "width": 1.3
         },
         "marker": {
          "size": 2,
          "symbol": "circle"
         },
         "mode": "markers",
         "name": "B",
         "text": "",
         "type": "scatter",
         "x": [
          -1.2615300860614054,
          0.5168583781406116,
          -1.27565405789446,
          1.4781814691430137,
          0.16685274993216312,
          0.29486795628181317,
          0.9785825523153496,
          0.14359652449530164,
          -0.8925068476041645,
          0.6869895496306667,
          -0.3184260842234965,
          -0.06079029464726772,
          0.3046179848603725,
          -0.28578117724567403,
          0.9555452637232548,
          -0.436571217632825,
          1.5989488034519654,
          -0.15788956695773615,
          -0.3888100527566678,
          -0.591990160710526,
          0.2710004943704668,
          0.2602297984499211,
          0.5657822404335577,
          0.18748818541864734,
          -0.18808181802469898,
          -1.35595867059301,
          -1.7497884642723616,
          0.825144024533562,
          0.20421153196532738,
          -0.2644595981522582,
          -0.029348334202425504,
          1.9077855533319394,
          0.22916452088223646,
          0.2867610600268779,
          1.2904275286706701,
          0.6215964625270357,
          0.6747330686433912,
          1.0478166238045625,
          -1.3554516876860905,
          0.08092118840581466,
          -0.40994404610033824,
          0.28561581083232607,
          0.1966769220405505,
          -1.1411890045092357,
          1.7231332434630888,
          -0.42193519470372676,
          -1.741625904007534,
          -2.391591329146761,
          0.689222905342845,
          0.19798524650811158,
          -0.10115323119577455,
          -0.9603616907577721,
          -0.8625275697297408,
          0.3524640636948968,
          1.2393159762473505,
          2.377375403963859,
          -0.33161650928400876,
          -0.7541694714930774,
          0.8277565338293128,
          0.06080378891897225,
          -0.9710249811252153,
          1.224128475122221,
          0.11241632604675655,
          -1.1815069448698765,
          0.1313115186944857,
          -1.2010409076083939,
          0.15765706193163107,
          -1.3211297942118674,
          -0.9825223740395495,
          0.7894139009281048,
          -1.1055435265481648,
          1.1142658013635867,
          -0.18738716811804088,
          -0.9014408479515046,
          -0.10340889577700428,
          1.915295678544698,
          -1.026271756257129,
          0.12995497319553861,
          1.1193558873374236,
          -0.23180192875510952,
          0.21849137154823123,
          1.0419858768778796,
          0.24556231413052595,
          0.49309662249476477,
          0.6160279264073351,
          -0.028684263888879884,
          -0.27846238992189154,
          -0.6151339164505116,
          0.6620802123427995,
          0.3485255177495143,
          -1.218456441286671,
          -1.0227375652102357,
          -0.3943161595674681,
          -0.638346772297683,
          0.14208982603404896,
          3.7399500319589483,
          0.1844386958356573,
          -0.17634768147868762,
          0.3712982772511809,
          -0.07532474604483136
         ],
         "xaxis": "x5",
         "y": [
          -1.3999773022346853,
          -0.6625620672077985,
          -0.13403593135012803,
          -0.2339878842549569,
          0.08100488242810727,
          -0.40094669137310823,
          0.7110857695394376,
          0.945132123112901,
          0.7801585124745818,
          -2.4061019556258447,
          0.09632851478545619,
          0.2992606351539072,
          -0.9932761773845984,
          1.9891885642792426,
          -1.4147458176381231,
          0.5469460471883897,
          -0.43138767364022956,
          -0.11380232186836925,
          0.2642741060329245,
          -0.4516065127701526,
          -0.2174021449631138,
          0.6777841867420318,
          1.4469906621585116,
          -0.10477332749880597,
          -0.5718353186794933,
          -0.9241770381073433,
          0.7487742034721503,
          0.5116307408743127,
          -0.357573289466846,
          -0.42891030205716935,
          -1.4555911877393972,
          -0.16832153572754027,
          -0.3332303972415607,
          1.625673569413001,
          0.3741258191879868,
          -1.4188933829841257,
          0.3302419395213557,
          -1.115231172523026,
          -0.6533977526153854,
          -2.280552620733146,
          1.0417207322966597,
          -1.127180454096471,
          -1.6350014016713625,
          0.004862259578625818,
          0.15447244530216225,
          -0.6305495592044218,
          1.6494365509525002,
          1.249404337821749,
          -3.25513107262654,
          -2.2003748750279004,
          0.7777706747383216,
          0.37056489767082534,
          -0.3560390627881642,
          0.5131737979639818,
          -0.8335218338591645,
          -0.4547481048534048,
          -1.1565808901885064,
          -1.2649681759429672,
          0.5919062681448857,
          0.07393727325405307,
          -0.6392552717703002,
          -0.06532171436724853,
          1.2813676031184937,
          -1.0559418320411604,
          1.4139504592986571,
          2.4546740641948936,
          1.0705099251140995,
          0.4746150457471814,
          1.1909024990604284,
          -0.761915425175944,
          -0.23586143082944264,
          1.2184017973426964,
          -0.6852423003678728,
          1.2351106059744261,
          -0.5205086220142247,
          0.06761539169827334,
          -1.4735505010313557,
          -0.7035776570552076,
          0.791392914877188,
          1.5363518469695343,
          0.8680569096835051,
          0.03600875756233151,
          0.29652664576283305,
          1.5945681003222858,
          1.0959640865897888,
          -0.2577631398110386,
          0.041274579839142754,
          -0.9769537525253257,
          -0.4906770970438918,
          1.0543096348022898,
          0.48584175972625604,
          1.002107562265259,
          -1.140108891804244,
          -0.31048423609957376,
          1.1509293609216962,
          0.7543488225434943,
          0.7739362556765743,
          0.03311795773750614,
          -1.995401730436345,
          -0.44309580692760137
         ],
         "yaxis": "y5"
        },
        {
         "histfunc": "count",
         "histnorm": "",
         "marker": {
          "color": "rgba(55, 128, 191, 1.0)",
          "line": {
           "color": "#4D5663",
           "width": 1.3
          }
         },
         "name": "B",
         "nbinsx": 10,
         "opacity": 0.8,
         "orientation": "v",
         "type": "histogram",
         "x": [
          -1.3999773022346853,
          -0.6625620672077985,
          -0.13403593135012803,
          -0.2339878842549569,
          0.08100488242810727,
          -0.40094669137310823,
          0.7110857695394376,
          0.945132123112901,
          0.7801585124745818,
          -2.4061019556258447,
          0.09632851478545619,
          0.2992606351539072,
          -0.9932761773845984,
          1.9891885642792426,
          -1.4147458176381231,
          0.5469460471883897,
          -0.43138767364022956,
          -0.11380232186836925,
          0.2642741060329245,
          -0.4516065127701526,
          -0.2174021449631138,
          0.6777841867420318,
          1.4469906621585116,
          -0.10477332749880597,
          -0.5718353186794933,
          -0.9241770381073433,
          0.7487742034721503,
          0.5116307408743127,
          -0.357573289466846,
          -0.42891030205716935,
          -1.4555911877393972,
          -0.16832153572754027,
          -0.3332303972415607,
          1.625673569413001,
          0.3741258191879868,
          -1.4188933829841257,
          0.3302419395213557,
          -1.115231172523026,
          -0.6533977526153854,
          -2.280552620733146,
          1.0417207322966597,
          -1.127180454096471,
          -1.6350014016713625,
          0.004862259578625818,
          0.15447244530216225,
          -0.6305495592044218,
          1.6494365509525002,
          1.249404337821749,
          -3.25513107262654,
          -2.2003748750279004,
          0.7777706747383216,
          0.37056489767082534,
          -0.3560390627881642,
          0.5131737979639818,
          -0.8335218338591645,
          -0.4547481048534048,
          -1.1565808901885064,
          -1.2649681759429672,
          0.5919062681448857,
          0.07393727325405307,
          -0.6392552717703002,
          -0.06532171436724853,
          1.2813676031184937,
          -1.0559418320411604,
          1.4139504592986571,
          2.4546740641948936,
          1.0705099251140995,
          0.4746150457471814,
          1.1909024990604284,
          -0.761915425175944,
          -0.23586143082944264,
          1.2184017973426964,
          -0.6852423003678728,
          1.2351106059744261,
          -0.5205086220142247,
          0.06761539169827334,
          -1.4735505010313557,
          -0.7035776570552076,
          0.791392914877188,
          1.5363518469695343,
          0.8680569096835051,
          0.03600875756233151,
          0.29652664576283305,
          1.5945681003222858,
          1.0959640865897888,
          -0.2577631398110386,
          0.041274579839142754,
          -0.9769537525253257,
          -0.4906770970438918,
          1.0543096348022898,
          0.48584175972625604,
          1.002107562265259,
          -1.140108891804244,
          -0.31048423609957376,
          1.1509293609216962,
          0.7543488225434943,
          0.7739362556765743,
          0.03311795773750614,
          -1.995401730436345,
          -0.44309580692760137
         ],
         "xaxis": "x6",
         "yaxis": "y6"
        },
        {
         "line": {
          "color": "rgba(128, 128, 128, 1.0)",
          "dash": "solid",
          "shape": "linear",
          "width": 1.3
         },
         "marker": {
          "size": 2,
          "symbol": "circle"
         },
         "mode": "markers",
         "name": "B",
         "text": "",
         "type": "scatter",
         "x": [
          -0.6119837808345561,
          0.3853238635163028,
          -0.3511377855594242,
          -1.2204433026125334,
          -1.4237140106901527,
          -1.4195892782820938,
          0.9600088242611423,
          -0.11576393066849629,
          -0.9923024938054422,
          1.586223557969978,
          -1.4415780438747134,
          -1.2390733485327365,
          -0.33434878971735,
          1.9648199577776106,
          -0.08766612300352726,
          0.6202142714008656,
          -0.4467833684597155,
          -1.8994423633847775,
          -0.24118307225659497,
          -0.2099697413813049,
          -2.363340341029225,
          -1.1268258112064171,
          0.9639369087615384,
          -0.8885829400990982,
          0.3949285761942748,
          0.7881513636323871,
          -0.3144980559102199,
          -1.0461492475918,
          0.7166247447078593,
          -0.7468524159013762,
          0.8674151970421391,
          0.04602419135137053,
          0.46689153490274143,
          -1.2819897688349893,
          -1.4844966214527495,
          -0.2673619567705891,
          -1.222054059020473,
          -1.648420834754166,
          0.23747325432178468,
          -0.2904214934817071,
          -0.7650753522220357,
          0.3339269550455444,
          0.3480370278900314,
          0.8535187828086694,
          -1.0203953719350616,
          0.3392290875947378,
          0.03524267145517492,
          -0.08448984563170832,
          -2.2837805574276637,
          1.5270501865766104,
          1.2202286331391123,
          -2.395575852397786,
          -0.8432511291804089,
          1.1173922522989193,
          -0.8984316406419147,
          0.5588617083291683,
          1.4372836910213578,
          -0.32439378800799,
          0.9779212262649797,
          1.8500836537456498,
          0.7988326066757393,
          -0.1600357106456922,
          -0.03578748628843559,
          0.015641839847267188,
          0.44411920757704476,
          0.04502063446646156,
          -0.45117357857469953,
          -1.0741430372659364,
          -0.3209542399646837,
          -0.16436327237197473,
          1.3238866144457233,
          0.5132156730418638,
          -2.5893852115736262,
          -0.9392610359312538,
          -0.039151045772395,
          -1.361385251067636,
          0.42728496093696755,
          1.3513628557834192,
          -0.7504843096847912,
          -0.40801449108868953,
          0.35522511590782646,
          -0.5329811735863856,
          -0.367692788068022,
          -0.5417829440013526,
          -0.790027084227306,
          -0.10854904271123081,
          -0.979391037830631,
          1.1263211137155658,
          0.7278214354793066,
          -1.04877880464554,
          0.07319863551321172,
          0.34737416688188083,
          -0.916850087439608,
          0.6593068679495917,
          -1.23129583355202,
          -0.3578263992626871,
          1.4468431695053796,
          1.4151596591672,
          0.047903323163623036,
          -0.08915065282485961
         ],
         "xaxis": "x7",
         "y": [
          -1.3999773022346853,
          -0.6625620672077985,
          -0.13403593135012803,
          -0.2339878842549569,
          0.08100488242810727,
          -0.40094669137310823,
          0.7110857695394376,
          0.945132123112901,
          0.7801585124745818,
          -2.4061019556258447,
          0.09632851478545619,
          0.2992606351539072,
          -0.9932761773845984,
          1.9891885642792426,
          -1.4147458176381231,
          0.5469460471883897,
          -0.43138767364022956,
          -0.11380232186836925,
          0.2642741060329245,
          -0.4516065127701526,
          -0.2174021449631138,
          0.6777841867420318,
          1.4469906621585116,
          -0.10477332749880597,
          -0.5718353186794933,
          -0.9241770381073433,
          0.7487742034721503,
          0.5116307408743127,
          -0.357573289466846,
          -0.42891030205716935,
          -1.4555911877393972,
          -0.16832153572754027,
          -0.3332303972415607,
          1.625673569413001,
          0.3741258191879868,
          -1.4188933829841257,
          0.3302419395213557,
          -1.115231172523026,
          -0.6533977526153854,
          -2.280552620733146,
          1.0417207322966597,
          -1.127180454096471,
          -1.6350014016713625,
          0.004862259578625818,
          0.15447244530216225,
          -0.6305495592044218,
          1.6494365509525002,
          1.249404337821749,
          -3.25513107262654,
          -2.2003748750279004,
          0.7777706747383216,
          0.37056489767082534,
          -0.3560390627881642,
          0.5131737979639818,
          -0.8335218338591645,
          -0.4547481048534048,
          -1.1565808901885064,
          -1.2649681759429672,
          0.5919062681448857,
          0.07393727325405307,
          -0.6392552717703002,
          -0.06532171436724853,
          1.2813676031184937,
          -1.0559418320411604,
          1.4139504592986571,
          2.4546740641948936,
          1.0705099251140995,
          0.4746150457471814,
          1.1909024990604284,
          -0.761915425175944,
          -0.23586143082944264,
          1.2184017973426964,
          -0.6852423003678728,
          1.2351106059744261,
          -0.5205086220142247,
          0.06761539169827334,
          -1.4735505010313557,
          -0.7035776570552076,
          0.791392914877188,
          1.5363518469695343,
          0.8680569096835051,
          0.03600875756233151,
          0.29652664576283305,
          1.5945681003222858,
          1.0959640865897888,
          -0.2577631398110386,
          0.041274579839142754,
          -0.9769537525253257,
          -0.4906770970438918,
          1.0543096348022898,
          0.48584175972625604,
          1.002107562265259,
          -1.140108891804244,
          -0.31048423609957376,
          1.1509293609216962,
          0.7543488225434943,
          0.7739362556765743,
          0.03311795773750614,
          -1.995401730436345,
          -0.44309580692760137
         ],
         "yaxis": "y7"
        },
        {
         "line": {
          "color": "rgba(128, 128, 128, 1.0)",
          "dash": "solid",
          "shape": "linear",
          "width": 1.3
         },
         "marker": {
          "size": 2,
          "symbol": "circle"
         },
         "mode": "markers",
         "name": "B",
         "text": "",
         "type": "scatter",
         "x": [
          -0.47706790851296726,
          -1.2707186459478514,
          0.9013862500197893,
          0.16414791723662073,
          -0.528305912577053,
          0.760110588159711,
          -0.9776158566357236,
          -1.9850852366254366,
          -1.7370172816400318,
          0.2517126379770799,
          -1.0011328284672907,
          -0.2613786339032824,
          0.7797048038852065,
          -0.8170932884455905,
          0.009242583900853422,
          -1.6836507525265862,
          -0.5048036540858107,
          -1.8326485557919734,
          0.33415009569966686,
          -0.9733124229215993,
          0.4367633389693113,
          0.03620681452186859,
          0.15363324980570667,
          -1.388714196282162,
          0.4108269942067989,
          0.20041866327019373,
          1.8148173947031228,
          2.004429604813547,
          0.5415002110537025,
          -1.1467172808204054,
          -1.4323439440761963,
          -0.07144767755780287,
          0.9921183498797117,
          1.3919571631141874,
          -0.28899018259889425,
          -1.3447429645699842,
          0.7428281327387541,
          -0.9504888731963778,
          -1.850867509708682,
          -0.16284183218926565,
          0.306940590955219,
          -0.6707513443055351,
          -0.8698048225942233,
          -0.1497534577034293,
          1.8202306536146895,
          -1.4094254413160463,
          0.13846159598012317,
          -0.4937329310018632,
          -0.2702891575624019,
          -0.8169023120461076,
          0.6034411819058803,
          0.5691307542052024,
          -1.2180680201750023,
          1.5002550280971456,
          0.5319616257602449,
          -0.501889689467497,
          -1.1426950065491108,
          -0.43092752543985824,
          0.5066801146013515,
          0.7120879493263683,
          -0.517113995921473,
          -2.1512371124884613,
          0.16494732984756155,
          -1.2612525350156645,
          -0.010982003206188539,
          -0.9613283948665519,
          0.5062728424278135,
          0.5896847471268124,
          -1.0852558234880636,
          -0.2656180177773189,
          0.6347090759322588,
          0.4164494719838177,
          0.49535903439532736,
          -0.6488023608549194,
          0.11752878131637244,
          -0.04236959134854982,
          1.053827362093787,
          -0.4985717151399195,
          1.5771374690324773,
          1.1248556430129348,
          0.9565736686442126,
          0.5998504230364267,
          -1.4234707658047592,
          0.8521225737041161,
          -0.2848760900886783,
          1.162666959599844,
          0.5033335838244494,
          -0.2155570736812704,
          -1.0385583461447516,
          -1.1622475401435761,
          0.021390230891725686,
          -0.560576739090153,
          -0.8790485403383482,
          -0.25105250628280734,
          -0.16719939889526858,
          1.1360088693685437,
          0.4271792584961496,
          0.8579829289124504,
          -0.7858608501724726,
          -0.21070718427011376
         ],
         "xaxis": "x8",
         "y": [
          -1.3999773022346853,
          -0.6625620672077985,
          -0.13403593135012803,
          -0.2339878842549569,
          0.08100488242810727,
          -0.40094669137310823,
          0.7110857695394376,
          0.945132123112901,
          0.7801585124745818,
          -2.4061019556258447,
          0.09632851478545619,
          0.2992606351539072,
          -0.9932761773845984,
          1.9891885642792426,
          -1.4147458176381231,
          0.5469460471883897,
          -0.43138767364022956,
          -0.11380232186836925,
          0.2642741060329245,
          -0.4516065127701526,
          -0.2174021449631138,
          0.6777841867420318,
          1.4469906621585116,
          -0.10477332749880597,
          -0.5718353186794933,
          -0.9241770381073433,
          0.7487742034721503,
          0.5116307408743127,
          -0.357573289466846,
          -0.42891030205716935,
          -1.4555911877393972,
          -0.16832153572754027,
          -0.3332303972415607,
          1.625673569413001,
          0.3741258191879868,
          -1.4188933829841257,
          0.3302419395213557,
          -1.115231172523026,
          -0.6533977526153854,
          -2.280552620733146,
          1.0417207322966597,
          -1.127180454096471,
          -1.6350014016713625,
          0.004862259578625818,
          0.15447244530216225,
          -0.6305495592044218,
          1.6494365509525002,
          1.249404337821749,
          -3.25513107262654,
          -2.2003748750279004,
          0.7777706747383216,
          0.37056489767082534,
          -0.3560390627881642,
          0.5131737979639818,
          -0.8335218338591645,
          -0.4547481048534048,
          -1.1565808901885064,
          -1.2649681759429672,
          0.5919062681448857,
          0.07393727325405307,
          -0.6392552717703002,
          -0.06532171436724853,
          1.2813676031184937,
          -1.0559418320411604,
          1.4139504592986571,
          2.4546740641948936,
          1.0705099251140995,
          0.4746150457471814,
          1.1909024990604284,
          -0.761915425175944,
          -0.23586143082944264,
          1.2184017973426964,
          -0.6852423003678728,
          1.2351106059744261,
          -0.5205086220142247,
          0.06761539169827334,
          -1.4735505010313557,
          -0.7035776570552076,
          0.791392914877188,
          1.5363518469695343,
          0.8680569096835051,
          0.03600875756233151,
          0.29652664576283305,
          1.5945681003222858,
          1.0959640865897888,
          -0.2577631398110386,
          0.041274579839142754,
          -0.9769537525253257,
          -0.4906770970438918,
          1.0543096348022898,
          0.48584175972625604,
          1.002107562265259,
          -1.140108891804244,
          -0.31048423609957376,
          1.1509293609216962,
          0.7543488225434943,
          0.7739362556765743,
          0.03311795773750614,
          -1.995401730436345,
          -0.44309580692760137
         ],
         "yaxis": "y8"
        },
        {
         "line": {
          "color": "rgba(128, 128, 128, 1.0)",
          "dash": "solid",
          "shape": "linear",
          "width": 1.3
         },
         "marker": {
          "size": 2,
          "symbol": "circle"
         },
         "mode": "markers",
         "name": "C",
         "text": "",
         "type": "scatter",
         "x": [
          -1.2615300860614054,
          0.5168583781406116,
          -1.27565405789446,
          1.4781814691430137,
          0.16685274993216312,
          0.29486795628181317,
          0.9785825523153496,
          0.14359652449530164,
          -0.8925068476041645,
          0.6869895496306667,
          -0.3184260842234965,
          -0.06079029464726772,
          0.3046179848603725,
          -0.28578117724567403,
          0.9555452637232548,
          -0.436571217632825,
          1.5989488034519654,
          -0.15788956695773615,
          -0.3888100527566678,
          -0.591990160710526,
          0.2710004943704668,
          0.2602297984499211,
          0.5657822404335577,
          0.18748818541864734,
          -0.18808181802469898,
          -1.35595867059301,
          -1.7497884642723616,
          0.825144024533562,
          0.20421153196532738,
          -0.2644595981522582,
          -0.029348334202425504,
          1.9077855533319394,
          0.22916452088223646,
          0.2867610600268779,
          1.2904275286706701,
          0.6215964625270357,
          0.6747330686433912,
          1.0478166238045625,
          -1.3554516876860905,
          0.08092118840581466,
          -0.40994404610033824,
          0.28561581083232607,
          0.1966769220405505,
          -1.1411890045092357,
          1.7231332434630888,
          -0.42193519470372676,
          -1.741625904007534,
          -2.391591329146761,
          0.689222905342845,
          0.19798524650811158,
          -0.10115323119577455,
          -0.9603616907577721,
          -0.8625275697297408,
          0.3524640636948968,
          1.2393159762473505,
          2.377375403963859,
          -0.33161650928400876,
          -0.7541694714930774,
          0.8277565338293128,
          0.06080378891897225,
          -0.9710249811252153,
          1.224128475122221,
          0.11241632604675655,
          -1.1815069448698765,
          0.1313115186944857,
          -1.2010409076083939,
          0.15765706193163107,
          -1.3211297942118674,
          -0.9825223740395495,
          0.7894139009281048,
          -1.1055435265481648,
          1.1142658013635867,
          -0.18738716811804088,
          -0.9014408479515046,
          -0.10340889577700428,
          1.915295678544698,
          -1.026271756257129,
          0.12995497319553861,
          1.1193558873374236,
          -0.23180192875510952,
          0.21849137154823123,
          1.0419858768778796,
          0.24556231413052595,
          0.49309662249476477,
          0.6160279264073351,
          -0.028684263888879884,
          -0.27846238992189154,
          -0.6151339164505116,
          0.6620802123427995,
          0.3485255177495143,
          -1.218456441286671,
          -1.0227375652102357,
          -0.3943161595674681,
          -0.638346772297683,
          0.14208982603404896,
          3.7399500319589483,
          0.1844386958356573,
          -0.17634768147868762,
          0.3712982772511809,
          -0.07532474604483136
         ],
         "xaxis": "x9",
         "y": [
          -0.6119837808345561,
          0.3853238635163028,
          -0.3511377855594242,
          -1.2204433026125334,
          -1.4237140106901527,
          -1.4195892782820938,
          0.9600088242611423,
          -0.11576393066849629,
          -0.9923024938054422,
          1.586223557969978,
          -1.4415780438747134,
          -1.2390733485327365,
          -0.33434878971735,
          1.9648199577776106,
          -0.08766612300352726,
          0.6202142714008656,
          -0.4467833684597155,
          -1.8994423633847775,
          -0.24118307225659497,
          -0.2099697413813049,
          -2.363340341029225,
          -1.1268258112064171,
          0.9639369087615384,
          -0.8885829400990982,
          0.3949285761942748,
          0.7881513636323871,
          -0.3144980559102199,
          -1.0461492475918,
          0.7166247447078593,
          -0.7468524159013762,
          0.8674151970421391,
          0.04602419135137053,
          0.46689153490274143,
          -1.2819897688349893,
          -1.4844966214527495,
          -0.2673619567705891,
          -1.222054059020473,
          -1.648420834754166,
          0.23747325432178468,
          -0.2904214934817071,
          -0.7650753522220357,
          0.3339269550455444,
          0.3480370278900314,
          0.8535187828086694,
          -1.0203953719350616,
          0.3392290875947378,
          0.03524267145517492,
          -0.08448984563170832,
          -2.2837805574276637,
          1.5270501865766104,
          1.2202286331391123,
          -2.395575852397786,
          -0.8432511291804089,
          1.1173922522989193,
          -0.8984316406419147,
          0.5588617083291683,
          1.4372836910213578,
          -0.32439378800799,
          0.9779212262649797,
          1.8500836537456498,
          0.7988326066757393,
          -0.1600357106456922,
          -0.03578748628843559,
          0.015641839847267188,
          0.44411920757704476,
          0.04502063446646156,
          -0.45117357857469953,
          -1.0741430372659364,
          -0.3209542399646837,
          -0.16436327237197473,
          1.3238866144457233,
          0.5132156730418638,
          -2.5893852115736262,
          -0.9392610359312538,
          -0.039151045772395,
          -1.361385251067636,
          0.42728496093696755,
          1.3513628557834192,
          -0.7504843096847912,
          -0.40801449108868953,
          0.35522511590782646,
          -0.5329811735863856,
          -0.367692788068022,
          -0.5417829440013526,
          -0.790027084227306,
          -0.10854904271123081,
          -0.979391037830631,
          1.1263211137155658,
          0.7278214354793066,
          -1.04877880464554,
          0.07319863551321172,
          0.34737416688188083,
          -0.916850087439608,
          0.6593068679495917,
          -1.23129583355202,
          -0.3578263992626871,
          1.4468431695053796,
          1.4151596591672,
          0.047903323163623036,
          -0.08915065282485961
         ],
         "yaxis": "y9"
        },
        {
         "line": {
          "color": "rgba(128, 128, 128, 1.0)",
          "dash": "solid",
          "shape": "linear",
          "width": 1.3
         },
         "marker": {
          "size": 2,
          "symbol": "circle"
         },
         "mode": "markers",
         "name": "C",
         "text": "",
         "type": "scatter",
         "x": [
          -1.3999773022346853,
          -0.6625620672077985,
          -0.13403593135012803,
          -0.2339878842549569,
          0.08100488242810727,
          -0.40094669137310823,
          0.7110857695394376,
          0.945132123112901,
          0.7801585124745818,
          -2.4061019556258447,
          0.09632851478545619,
          0.2992606351539072,
          -0.9932761773845984,
          1.9891885642792426,
          -1.4147458176381231,
          0.5469460471883897,
          -0.43138767364022956,
          -0.11380232186836925,
          0.2642741060329245,
          -0.4516065127701526,
          -0.2174021449631138,
          0.6777841867420318,
          1.4469906621585116,
          -0.10477332749880597,
          -0.5718353186794933,
          -0.9241770381073433,
          0.7487742034721503,
          0.5116307408743127,
          -0.357573289466846,
          -0.42891030205716935,
          -1.4555911877393972,
          -0.16832153572754027,
          -0.3332303972415607,
          1.625673569413001,
          0.3741258191879868,
          -1.4188933829841257,
          0.3302419395213557,
          -1.115231172523026,
          -0.6533977526153854,
          -2.280552620733146,
          1.0417207322966597,
          -1.127180454096471,
          -1.6350014016713625,
          0.004862259578625818,
          0.15447244530216225,
          -0.6305495592044218,
          1.6494365509525002,
          1.249404337821749,
          -3.25513107262654,
          -2.2003748750279004,
          0.7777706747383216,
          0.37056489767082534,
          -0.3560390627881642,
          0.5131737979639818,
          -0.8335218338591645,
          -0.4547481048534048,
          -1.1565808901885064,
          -1.2649681759429672,
          0.5919062681448857,
          0.07393727325405307,
          -0.6392552717703002,
          -0.06532171436724853,
          1.2813676031184937,
          -1.0559418320411604,
          1.4139504592986571,
          2.4546740641948936,
          1.0705099251140995,
          0.4746150457471814,
          1.1909024990604284,
          -0.761915425175944,
          -0.23586143082944264,
          1.2184017973426964,
          -0.6852423003678728,
          1.2351106059744261,
          -0.5205086220142247,
          0.06761539169827334,
          -1.4735505010313557,
          -0.7035776570552076,
          0.791392914877188,
          1.5363518469695343,
          0.8680569096835051,
          0.03600875756233151,
          0.29652664576283305,
          1.5945681003222858,
          1.0959640865897888,
          -0.2577631398110386,
          0.041274579839142754,
          -0.9769537525253257,
          -0.4906770970438918,
          1.0543096348022898,
          0.48584175972625604,
          1.002107562265259,
          -1.140108891804244,
          -0.31048423609957376,
          1.1509293609216962,
          0.7543488225434943,
          0.7739362556765743,
          0.03311795773750614,
          -1.995401730436345,
          -0.44309580692760137
         ],
         "xaxis": "x10",
         "y": [
          -0.6119837808345561,
          0.3853238635163028,
          -0.3511377855594242,
          -1.2204433026125334,
          -1.4237140106901527,
          -1.4195892782820938,
          0.9600088242611423,
          -0.11576393066849629,
          -0.9923024938054422,
          1.586223557969978,
          -1.4415780438747134,
          -1.2390733485327365,
          -0.33434878971735,
          1.9648199577776106,
          -0.08766612300352726,
          0.6202142714008656,
          -0.4467833684597155,
          -1.8994423633847775,
          -0.24118307225659497,
          -0.2099697413813049,
          -2.363340341029225,
          -1.1268258112064171,
          0.9639369087615384,
          -0.8885829400990982,
          0.3949285761942748,
          0.7881513636323871,
          -0.3144980559102199,
          -1.0461492475918,
          0.7166247447078593,
          -0.7468524159013762,
          0.8674151970421391,
          0.04602419135137053,
          0.46689153490274143,
          -1.2819897688349893,
          -1.4844966214527495,
          -0.2673619567705891,
          -1.222054059020473,
          -1.648420834754166,
          0.23747325432178468,
          -0.2904214934817071,
          -0.7650753522220357,
          0.3339269550455444,
          0.3480370278900314,
          0.8535187828086694,
          -1.0203953719350616,
          0.3392290875947378,
          0.03524267145517492,
          -0.08448984563170832,
          -2.2837805574276637,
          1.5270501865766104,
          1.2202286331391123,
          -2.395575852397786,
          -0.8432511291804089,
          1.1173922522989193,
          -0.8984316406419147,
          0.5588617083291683,
          1.4372836910213578,
          -0.32439378800799,
          0.9779212262649797,
          1.8500836537456498,
          0.7988326066757393,
          -0.1600357106456922,
          -0.03578748628843559,
          0.015641839847267188,
          0.44411920757704476,
          0.04502063446646156,
          -0.45117357857469953,
          -1.0741430372659364,
          -0.3209542399646837,
          -0.16436327237197473,
          1.3238866144457233,
          0.5132156730418638,
          -2.5893852115736262,
          -0.9392610359312538,
          -0.039151045772395,
          -1.361385251067636,
          0.42728496093696755,
          1.3513628557834192,
          -0.7504843096847912,
          -0.40801449108868953,
          0.35522511590782646,
          -0.5329811735863856,
          -0.367692788068022,
          -0.5417829440013526,
          -0.790027084227306,
          -0.10854904271123081,
          -0.979391037830631,
          1.1263211137155658,
          0.7278214354793066,
          -1.04877880464554,
          0.07319863551321172,
          0.34737416688188083,
          -0.916850087439608,
          0.6593068679495917,
          -1.23129583355202,
          -0.3578263992626871,
          1.4468431695053796,
          1.4151596591672,
          0.047903323163623036,
          -0.08915065282485961
         ],
         "yaxis": "y10"
        },
        {
         "histfunc": "count",
         "histnorm": "",
         "marker": {
          "color": "rgba(50, 171, 96, 1.0)",
          "line": {
           "color": "#4D5663",
           "width": 1.3
          }
         },
         "name": "C",
         "nbinsx": 10,
         "opacity": 0.8,
         "orientation": "v",
         "type": "histogram",
         "x": [
          -0.6119837808345561,
          0.3853238635163028,
          -0.3511377855594242,
          -1.2204433026125334,
          -1.4237140106901527,
          -1.4195892782820938,
          0.9600088242611423,
          -0.11576393066849629,
          -0.9923024938054422,
          1.586223557969978,
          -1.4415780438747134,
          -1.2390733485327365,
          -0.33434878971735,
          1.9648199577776106,
          -0.08766612300352726,
          0.6202142714008656,
          -0.4467833684597155,
          -1.8994423633847775,
          -0.24118307225659497,
          -0.2099697413813049,
          -2.363340341029225,
          -1.1268258112064171,
          0.9639369087615384,
          -0.8885829400990982,
          0.3949285761942748,
          0.7881513636323871,
          -0.3144980559102199,
          -1.0461492475918,
          0.7166247447078593,
          -0.7468524159013762,
          0.8674151970421391,
          0.04602419135137053,
          0.46689153490274143,
          -1.2819897688349893,
          -1.4844966214527495,
          -0.2673619567705891,
          -1.222054059020473,
          -1.648420834754166,
          0.23747325432178468,
          -0.2904214934817071,
          -0.7650753522220357,
          0.3339269550455444,
          0.3480370278900314,
          0.8535187828086694,
          -1.0203953719350616,
          0.3392290875947378,
          0.03524267145517492,
          -0.08448984563170832,
          -2.2837805574276637,
          1.5270501865766104,
          1.2202286331391123,
          -2.395575852397786,
          -0.8432511291804089,
          1.1173922522989193,
          -0.8984316406419147,
          0.5588617083291683,
          1.4372836910213578,
          -0.32439378800799,
          0.9779212262649797,
          1.8500836537456498,
          0.7988326066757393,
          -0.1600357106456922,
          -0.03578748628843559,
          0.015641839847267188,
          0.44411920757704476,
          0.04502063446646156,
          -0.45117357857469953,
          -1.0741430372659364,
          -0.3209542399646837,
          -0.16436327237197473,
          1.3238866144457233,
          0.5132156730418638,
          -2.5893852115736262,
          -0.9392610359312538,
          -0.039151045772395,
          -1.361385251067636,
          0.42728496093696755,
          1.3513628557834192,
          -0.7504843096847912,
          -0.40801449108868953,
          0.35522511590782646,
          -0.5329811735863856,
          -0.367692788068022,
          -0.5417829440013526,
          -0.790027084227306,
          -0.10854904271123081,
          -0.979391037830631,
          1.1263211137155658,
          0.7278214354793066,
          -1.04877880464554,
          0.07319863551321172,
          0.34737416688188083,
          -0.916850087439608,
          0.6593068679495917,
          -1.23129583355202,
          -0.3578263992626871,
          1.4468431695053796,
          1.4151596591672,
          0.047903323163623036,
          -0.08915065282485961
         ],
         "xaxis": "x11",
         "yaxis": "y11"
        },
        {
         "line": {
          "color": "rgba(128, 128, 128, 1.0)",
          "dash": "solid",
          "shape": "linear",
          "width": 1.3
         },
         "marker": {
          "size": 2,
          "symbol": "circle"
         },
         "mode": "markers",
         "name": "C",
         "text": "",
         "type": "scatter",
         "x": [
          -0.47706790851296726,
          -1.2707186459478514,
          0.9013862500197893,
          0.16414791723662073,
          -0.528305912577053,
          0.760110588159711,
          -0.9776158566357236,
          -1.9850852366254366,
          -1.7370172816400318,
          0.2517126379770799,
          -1.0011328284672907,
          -0.2613786339032824,
          0.7797048038852065,
          -0.8170932884455905,
          0.009242583900853422,
          -1.6836507525265862,
          -0.5048036540858107,
          -1.8326485557919734,
          0.33415009569966686,
          -0.9733124229215993,
          0.4367633389693113,
          0.03620681452186859,
          0.15363324980570667,
          -1.388714196282162,
          0.4108269942067989,
          0.20041866327019373,
          1.8148173947031228,
          2.004429604813547,
          0.5415002110537025,
          -1.1467172808204054,
          -1.4323439440761963,
          -0.07144767755780287,
          0.9921183498797117,
          1.3919571631141874,
          -0.28899018259889425,
          -1.3447429645699842,
          0.7428281327387541,
          -0.9504888731963778,
          -1.850867509708682,
          -0.16284183218926565,
          0.306940590955219,
          -0.6707513443055351,
          -0.8698048225942233,
          -0.1497534577034293,
          1.8202306536146895,
          -1.4094254413160463,
          0.13846159598012317,
          -0.4937329310018632,
          -0.2702891575624019,
          -0.8169023120461076,
          0.6034411819058803,
          0.5691307542052024,
          -1.2180680201750023,
          1.5002550280971456,
          0.5319616257602449,
          -0.501889689467497,
          -1.1426950065491108,
          -0.43092752543985824,
          0.5066801146013515,
          0.7120879493263683,
          -0.517113995921473,
          -2.1512371124884613,
          0.16494732984756155,
          -1.2612525350156645,
          -0.010982003206188539,
          -0.9613283948665519,
          0.5062728424278135,
          0.5896847471268124,
          -1.0852558234880636,
          -0.2656180177773189,
          0.6347090759322588,
          0.4164494719838177,
          0.49535903439532736,
          -0.6488023608549194,
          0.11752878131637244,
          -0.04236959134854982,
          1.053827362093787,
          -0.4985717151399195,
          1.5771374690324773,
          1.1248556430129348,
          0.9565736686442126,
          0.5998504230364267,
          -1.4234707658047592,
          0.8521225737041161,
          -0.2848760900886783,
          1.162666959599844,
          0.5033335838244494,
          -0.2155570736812704,
          -1.0385583461447516,
          -1.1622475401435761,
          0.021390230891725686,
          -0.560576739090153,
          -0.8790485403383482,
          -0.25105250628280734,
          -0.16719939889526858,
          1.1360088693685437,
          0.4271792584961496,
          0.8579829289124504,
          -0.7858608501724726,
          -0.21070718427011376
         ],
         "xaxis": "x12",
         "y": [
          -0.6119837808345561,
          0.3853238635163028,
          -0.3511377855594242,
          -1.2204433026125334,
          -1.4237140106901527,
          -1.4195892782820938,
          0.9600088242611423,
          -0.11576393066849629,
          -0.9923024938054422,
          1.586223557969978,
          -1.4415780438747134,
          -1.2390733485327365,
          -0.33434878971735,
          1.9648199577776106,
          -0.08766612300352726,
          0.6202142714008656,
          -0.4467833684597155,
          -1.8994423633847775,
          -0.24118307225659497,
          -0.2099697413813049,
          -2.363340341029225,
          -1.1268258112064171,
          0.9639369087615384,
          -0.8885829400990982,
          0.3949285761942748,
          0.7881513636323871,
          -0.3144980559102199,
          -1.0461492475918,
          0.7166247447078593,
          -0.7468524159013762,
          0.8674151970421391,
          0.04602419135137053,
          0.46689153490274143,
          -1.2819897688349893,
          -1.4844966214527495,
          -0.2673619567705891,
          -1.222054059020473,
          -1.648420834754166,
          0.23747325432178468,
          -0.2904214934817071,
          -0.7650753522220357,
          0.3339269550455444,
          0.3480370278900314,
          0.8535187828086694,
          -1.0203953719350616,
          0.3392290875947378,
          0.03524267145517492,
          -0.08448984563170832,
          -2.2837805574276637,
          1.5270501865766104,
          1.2202286331391123,
          -2.395575852397786,
          -0.8432511291804089,
          1.1173922522989193,
          -0.8984316406419147,
          0.5588617083291683,
          1.4372836910213578,
          -0.32439378800799,
          0.9779212262649797,
          1.8500836537456498,
          0.7988326066757393,
          -0.1600357106456922,
          -0.03578748628843559,
          0.015641839847267188,
          0.44411920757704476,
          0.04502063446646156,
          -0.45117357857469953,
          -1.0741430372659364,
          -0.3209542399646837,
          -0.16436327237197473,
          1.3238866144457233,
          0.5132156730418638,
          -2.5893852115736262,
          -0.9392610359312538,
          -0.039151045772395,
          -1.361385251067636,
          0.42728496093696755,
          1.3513628557834192,
          -0.7504843096847912,
          -0.40801449108868953,
          0.35522511590782646,
          -0.5329811735863856,
          -0.367692788068022,
          -0.5417829440013526,
          -0.790027084227306,
          -0.10854904271123081,
          -0.979391037830631,
          1.1263211137155658,
          0.7278214354793066,
          -1.04877880464554,
          0.07319863551321172,
          0.34737416688188083,
          -0.916850087439608,
          0.6593068679495917,
          -1.23129583355202,
          -0.3578263992626871,
          1.4468431695053796,
          1.4151596591672,
          0.047903323163623036,
          -0.08915065282485961
         ],
         "yaxis": "y12"
        },
        {
         "line": {
          "color": "rgba(128, 128, 128, 1.0)",
          "dash": "solid",
          "shape": "linear",
          "width": 1.3
         },
         "marker": {
          "size": 2,
          "symbol": "circle"
         },
         "mode": "markers",
         "name": "D",
         "text": "",
         "type": "scatter",
         "x": [
          -1.2615300860614054,
          0.5168583781406116,
          -1.27565405789446,
          1.4781814691430137,
          0.16685274993216312,
          0.29486795628181317,
          0.9785825523153496,
          0.14359652449530164,
          -0.8925068476041645,
          0.6869895496306667,
          -0.3184260842234965,
          -0.06079029464726772,
          0.3046179848603725,
          -0.28578117724567403,
          0.9555452637232548,
          -0.436571217632825,
          1.5989488034519654,
          -0.15788956695773615,
          -0.3888100527566678,
          -0.591990160710526,
          0.2710004943704668,
          0.2602297984499211,
          0.5657822404335577,
          0.18748818541864734,
          -0.18808181802469898,
          -1.35595867059301,
          -1.7497884642723616,
          0.825144024533562,
          0.20421153196532738,
          -0.2644595981522582,
          -0.029348334202425504,
          1.9077855533319394,
          0.22916452088223646,
          0.2867610600268779,
          1.2904275286706701,
          0.6215964625270357,
          0.6747330686433912,
          1.0478166238045625,
          -1.3554516876860905,
          0.08092118840581466,
          -0.40994404610033824,
          0.28561581083232607,
          0.1966769220405505,
          -1.1411890045092357,
          1.7231332434630888,
          -0.42193519470372676,
          -1.741625904007534,
          -2.391591329146761,
          0.689222905342845,
          0.19798524650811158,
          -0.10115323119577455,
          -0.9603616907577721,
          -0.8625275697297408,
          0.3524640636948968,
          1.2393159762473505,
          2.377375403963859,
          -0.33161650928400876,
          -0.7541694714930774,
          0.8277565338293128,
          0.06080378891897225,
          -0.9710249811252153,
          1.224128475122221,
          0.11241632604675655,
          -1.1815069448698765,
          0.1313115186944857,
          -1.2010409076083939,
          0.15765706193163107,
          -1.3211297942118674,
          -0.9825223740395495,
          0.7894139009281048,
          -1.1055435265481648,
          1.1142658013635867,
          -0.18738716811804088,
          -0.9014408479515046,
          -0.10340889577700428,
          1.915295678544698,
          -1.026271756257129,
          0.12995497319553861,
          1.1193558873374236,
          -0.23180192875510952,
          0.21849137154823123,
          1.0419858768778796,
          0.24556231413052595,
          0.49309662249476477,
          0.6160279264073351,
          -0.028684263888879884,
          -0.27846238992189154,
          -0.6151339164505116,
          0.6620802123427995,
          0.3485255177495143,
          -1.218456441286671,
          -1.0227375652102357,
          -0.3943161595674681,
          -0.638346772297683,
          0.14208982603404896,
          3.7399500319589483,
          0.1844386958356573,
          -0.17634768147868762,
          0.3712982772511809,
          -0.07532474604483136
         ],
         "xaxis": "x13",
         "y": [
          -0.47706790851296726,
          -1.2707186459478514,
          0.9013862500197893,
          0.16414791723662073,
          -0.528305912577053,
          0.760110588159711,
          -0.9776158566357236,
          -1.9850852366254366,
          -1.7370172816400318,
          0.2517126379770799,
          -1.0011328284672907,
          -0.2613786339032824,
          0.7797048038852065,
          -0.8170932884455905,
          0.009242583900853422,
          -1.6836507525265862,
          -0.5048036540858107,
          -1.8326485557919734,
          0.33415009569966686,
          -0.9733124229215993,
          0.4367633389693113,
          0.03620681452186859,
          0.15363324980570667,
          -1.388714196282162,
          0.4108269942067989,
          0.20041866327019373,
          1.8148173947031228,
          2.004429604813547,
          0.5415002110537025,
          -1.1467172808204054,
          -1.4323439440761963,
          -0.07144767755780287,
          0.9921183498797117,
          1.3919571631141874,
          -0.28899018259889425,
          -1.3447429645699842,
          0.7428281327387541,
          -0.9504888731963778,
          -1.850867509708682,
          -0.16284183218926565,
          0.306940590955219,
          -0.6707513443055351,
          -0.8698048225942233,
          -0.1497534577034293,
          1.8202306536146895,
          -1.4094254413160463,
          0.13846159598012317,
          -0.4937329310018632,
          -0.2702891575624019,
          -0.8169023120461076,
          0.6034411819058803,
          0.5691307542052024,
          -1.2180680201750023,
          1.5002550280971456,
          0.5319616257602449,
          -0.501889689467497,
          -1.1426950065491108,
          -0.43092752543985824,
          0.5066801146013515,
          0.7120879493263683,
          -0.517113995921473,
          -2.1512371124884613,
          0.16494732984756155,
          -1.2612525350156645,
          -0.010982003206188539,
          -0.9613283948665519,
          0.5062728424278135,
          0.5896847471268124,
          -1.0852558234880636,
          -0.2656180177773189,
          0.6347090759322588,
          0.4164494719838177,
          0.49535903439532736,
          -0.6488023608549194,
          0.11752878131637244,
          -0.04236959134854982,
          1.053827362093787,
          -0.4985717151399195,
          1.5771374690324773,
          1.1248556430129348,
          0.9565736686442126,
          0.5998504230364267,
          -1.4234707658047592,
          0.8521225737041161,
          -0.2848760900886783,
          1.162666959599844,
          0.5033335838244494,
          -0.2155570736812704,
          -1.0385583461447516,
          -1.1622475401435761,
          0.021390230891725686,
          -0.560576739090153,
          -0.8790485403383482,
          -0.25105250628280734,
          -0.16719939889526858,
          1.1360088693685437,
          0.4271792584961496,
          0.8579829289124504,
          -0.7858608501724726,
          -0.21070718427011376
         ],
         "yaxis": "y13"
        },
        {
         "line": {
          "color": "rgba(128, 128, 128, 1.0)",
          "dash": "solid",
          "shape": "linear",
          "width": 1.3
         },
         "marker": {
          "size": 2,
          "symbol": "circle"
         },
         "mode": "markers",
         "name": "D",
         "text": "",
         "type": "scatter",
         "x": [
          -1.3999773022346853,
          -0.6625620672077985,
          -0.13403593135012803,
          -0.2339878842549569,
          0.08100488242810727,
          -0.40094669137310823,
          0.7110857695394376,
          0.945132123112901,
          0.7801585124745818,
          -2.4061019556258447,
          0.09632851478545619,
          0.2992606351539072,
          -0.9932761773845984,
          1.9891885642792426,
          -1.4147458176381231,
          0.5469460471883897,
          -0.43138767364022956,
          -0.11380232186836925,
          0.2642741060329245,
          -0.4516065127701526,
          -0.2174021449631138,
          0.6777841867420318,
          1.4469906621585116,
          -0.10477332749880597,
          -0.5718353186794933,
          -0.9241770381073433,
          0.7487742034721503,
          0.5116307408743127,
          -0.357573289466846,
          -0.42891030205716935,
          -1.4555911877393972,
          -0.16832153572754027,
          -0.3332303972415607,
          1.625673569413001,
          0.3741258191879868,
          -1.4188933829841257,
          0.3302419395213557,
          -1.115231172523026,
          -0.6533977526153854,
          -2.280552620733146,
          1.0417207322966597,
          -1.127180454096471,
          -1.6350014016713625,
          0.004862259578625818,
          0.15447244530216225,
          -0.6305495592044218,
          1.6494365509525002,
          1.249404337821749,
          -3.25513107262654,
          -2.2003748750279004,
          0.7777706747383216,
          0.37056489767082534,
          -0.3560390627881642,
          0.5131737979639818,
          -0.8335218338591645,
          -0.4547481048534048,
          -1.1565808901885064,
          -1.2649681759429672,
          0.5919062681448857,
          0.07393727325405307,
          -0.6392552717703002,
          -0.06532171436724853,
          1.2813676031184937,
          -1.0559418320411604,
          1.4139504592986571,
          2.4546740641948936,
          1.0705099251140995,
          0.4746150457471814,
          1.1909024990604284,
          -0.761915425175944,
          -0.23586143082944264,
          1.2184017973426964,
          -0.6852423003678728,
          1.2351106059744261,
          -0.5205086220142247,
          0.06761539169827334,
          -1.4735505010313557,
          -0.7035776570552076,
          0.791392914877188,
          1.5363518469695343,
          0.8680569096835051,
          0.03600875756233151,
          0.29652664576283305,
          1.5945681003222858,
          1.0959640865897888,
          -0.2577631398110386,
          0.041274579839142754,
          -0.9769537525253257,
          -0.4906770970438918,
          1.0543096348022898,
          0.48584175972625604,
          1.002107562265259,
          -1.140108891804244,
          -0.31048423609957376,
          1.1509293609216962,
          0.7543488225434943,
          0.7739362556765743,
          0.03311795773750614,
          -1.995401730436345,
          -0.44309580692760137
         ],
         "xaxis": "x14",
         "y": [
          -0.47706790851296726,
          -1.2707186459478514,
          0.9013862500197893,
          0.16414791723662073,
          -0.528305912577053,
          0.760110588159711,
          -0.9776158566357236,
          -1.9850852366254366,
          -1.7370172816400318,
          0.2517126379770799,
          -1.0011328284672907,
          -0.2613786339032824,
          0.7797048038852065,
          -0.8170932884455905,
          0.009242583900853422,
          -1.6836507525265862,
          -0.5048036540858107,
          -1.8326485557919734,
          0.33415009569966686,
          -0.9733124229215993,
          0.4367633389693113,
          0.03620681452186859,
          0.15363324980570667,
          -1.388714196282162,
          0.4108269942067989,
          0.20041866327019373,
          1.8148173947031228,
          2.004429604813547,
          0.5415002110537025,
          -1.1467172808204054,
          -1.4323439440761963,
          -0.07144767755780287,
          0.9921183498797117,
          1.3919571631141874,
          -0.28899018259889425,
          -1.3447429645699842,
          0.7428281327387541,
          -0.9504888731963778,
          -1.850867509708682,
          -0.16284183218926565,
          0.306940590955219,
          -0.6707513443055351,
          -0.8698048225942233,
          -0.1497534577034293,
          1.8202306536146895,
          -1.4094254413160463,
          0.13846159598012317,
          -0.4937329310018632,
          -0.2702891575624019,
          -0.8169023120461076,
          0.6034411819058803,
          0.5691307542052024,
          -1.2180680201750023,
          1.5002550280971456,
          0.5319616257602449,
          -0.501889689467497,
          -1.1426950065491108,
          -0.43092752543985824,
          0.5066801146013515,
          0.7120879493263683,
          -0.517113995921473,
          -2.1512371124884613,
          0.16494732984756155,
          -1.2612525350156645,
          -0.010982003206188539,
          -0.9613283948665519,
          0.5062728424278135,
          0.5896847471268124,
          -1.0852558234880636,
          -0.2656180177773189,
          0.6347090759322588,
          0.4164494719838177,
          0.49535903439532736,
          -0.6488023608549194,
          0.11752878131637244,
          -0.04236959134854982,
          1.053827362093787,
          -0.4985717151399195,
          1.5771374690324773,
          1.1248556430129348,
          0.9565736686442126,
          0.5998504230364267,
          -1.4234707658047592,
          0.8521225737041161,
          -0.2848760900886783,
          1.162666959599844,
          0.5033335838244494,
          -0.2155570736812704,
          -1.0385583461447516,
          -1.1622475401435761,
          0.021390230891725686,
          -0.560576739090153,
          -0.8790485403383482,
          -0.25105250628280734,
          -0.16719939889526858,
          1.1360088693685437,
          0.4271792584961496,
          0.8579829289124504,
          -0.7858608501724726,
          -0.21070718427011376
         ],
         "yaxis": "y14"
        },
        {
         "line": {
          "color": "rgba(128, 128, 128, 1.0)",
          "dash": "solid",
          "shape": "linear",
          "width": 1.3
         },
         "marker": {
          "size": 2,
          "symbol": "circle"
         },
         "mode": "markers",
         "name": "D",
         "text": "",
         "type": "scatter",
         "x": [
          -0.6119837808345561,
          0.3853238635163028,
          -0.3511377855594242,
          -1.2204433026125334,
          -1.4237140106901527,
          -1.4195892782820938,
          0.9600088242611423,
          -0.11576393066849629,
          -0.9923024938054422,
          1.586223557969978,
          -1.4415780438747134,
          -1.2390733485327365,
          -0.33434878971735,
          1.9648199577776106,
          -0.08766612300352726,
          0.6202142714008656,
          -0.4467833684597155,
          -1.8994423633847775,
          -0.24118307225659497,
          -0.2099697413813049,
          -2.363340341029225,
          -1.1268258112064171,
          0.9639369087615384,
          -0.8885829400990982,
          0.3949285761942748,
          0.7881513636323871,
          -0.3144980559102199,
          -1.0461492475918,
          0.7166247447078593,
          -0.7468524159013762,
          0.8674151970421391,
          0.04602419135137053,
          0.46689153490274143,
          -1.2819897688349893,
          -1.4844966214527495,
          -0.2673619567705891,
          -1.222054059020473,
          -1.648420834754166,
          0.23747325432178468,
          -0.2904214934817071,
          -0.7650753522220357,
          0.3339269550455444,
          0.3480370278900314,
          0.8535187828086694,
          -1.0203953719350616,
          0.3392290875947378,
          0.03524267145517492,
          -0.08448984563170832,
          -2.2837805574276637,
          1.5270501865766104,
          1.2202286331391123,
          -2.395575852397786,
          -0.8432511291804089,
          1.1173922522989193,
          -0.8984316406419147,
          0.5588617083291683,
          1.4372836910213578,
          -0.32439378800799,
          0.9779212262649797,
          1.8500836537456498,
          0.7988326066757393,
          -0.1600357106456922,
          -0.03578748628843559,
          0.015641839847267188,
          0.44411920757704476,
          0.04502063446646156,
          -0.45117357857469953,
          -1.0741430372659364,
          -0.3209542399646837,
          -0.16436327237197473,
          1.3238866144457233,
          0.5132156730418638,
          -2.5893852115736262,
          -0.9392610359312538,
          -0.039151045772395,
          -1.361385251067636,
          0.42728496093696755,
          1.3513628557834192,
          -0.7504843096847912,
          -0.40801449108868953,
          0.35522511590782646,
          -0.5329811735863856,
          -0.367692788068022,
          -0.5417829440013526,
          -0.790027084227306,
          -0.10854904271123081,
          -0.979391037830631,
          1.1263211137155658,
          0.7278214354793066,
          -1.04877880464554,
          0.07319863551321172,
          0.34737416688188083,
          -0.916850087439608,
          0.6593068679495917,
          -1.23129583355202,
          -0.3578263992626871,
          1.4468431695053796,
          1.4151596591672,
          0.047903323163623036,
          -0.08915065282485961
         ],
         "xaxis": "x15",
         "y": [
          -0.47706790851296726,
          -1.2707186459478514,
          0.9013862500197893,
          0.16414791723662073,
          -0.528305912577053,
          0.760110588159711,
          -0.9776158566357236,
          -1.9850852366254366,
          -1.7370172816400318,
          0.2517126379770799,
          -1.0011328284672907,
          -0.2613786339032824,
          0.7797048038852065,
          -0.8170932884455905,
          0.009242583900853422,
          -1.6836507525265862,
          -0.5048036540858107,
          -1.8326485557919734,
          0.33415009569966686,
          -0.9733124229215993,
          0.4367633389693113,
          0.03620681452186859,
          0.15363324980570667,
          -1.388714196282162,
          0.4108269942067989,
          0.20041866327019373,
          1.8148173947031228,
          2.004429604813547,
          0.5415002110537025,
          -1.1467172808204054,
          -1.4323439440761963,
          -0.07144767755780287,
          0.9921183498797117,
          1.3919571631141874,
          -0.28899018259889425,
          -1.3447429645699842,
          0.7428281327387541,
          -0.9504888731963778,
          -1.850867509708682,
          -0.16284183218926565,
          0.306940590955219,
          -0.6707513443055351,
          -0.8698048225942233,
          -0.1497534577034293,
          1.8202306536146895,
          -1.4094254413160463,
          0.13846159598012317,
          -0.4937329310018632,
          -0.2702891575624019,
          -0.8169023120461076,
          0.6034411819058803,
          0.5691307542052024,
          -1.2180680201750023,
          1.5002550280971456,
          0.5319616257602449,
          -0.501889689467497,
          -1.1426950065491108,
          -0.43092752543985824,
          0.5066801146013515,
          0.7120879493263683,
          -0.517113995921473,
          -2.1512371124884613,
          0.16494732984756155,
          -1.2612525350156645,
          -0.010982003206188539,
          -0.9613283948665519,
          0.5062728424278135,
          0.5896847471268124,
          -1.0852558234880636,
          -0.2656180177773189,
          0.6347090759322588,
          0.4164494719838177,
          0.49535903439532736,
          -0.6488023608549194,
          0.11752878131637244,
          -0.04236959134854982,
          1.053827362093787,
          -0.4985717151399195,
          1.5771374690324773,
          1.1248556430129348,
          0.9565736686442126,
          0.5998504230364267,
          -1.4234707658047592,
          0.8521225737041161,
          -0.2848760900886783,
          1.162666959599844,
          0.5033335838244494,
          -0.2155570736812704,
          -1.0385583461447516,
          -1.1622475401435761,
          0.021390230891725686,
          -0.560576739090153,
          -0.8790485403383482,
          -0.25105250628280734,
          -0.16719939889526858,
          1.1360088693685437,
          0.4271792584961496,
          0.8579829289124504,
          -0.7858608501724726,
          -0.21070718427011376
         ],
         "yaxis": "y15"
        },
        {
         "histfunc": "count",
         "histnorm": "",
         "marker": {
          "color": "rgba(128, 0, 128, 1.0)",
          "line": {
           "color": "#4D5663",
           "width": 1.3
          }
         },
         "name": "D",
         "nbinsx": 10,
         "opacity": 0.8,
         "orientation": "v",
         "type": "histogram",
         "x": [
          -0.47706790851296726,
          -1.2707186459478514,
          0.9013862500197893,
          0.16414791723662073,
          -0.528305912577053,
          0.760110588159711,
          -0.9776158566357236,
          -1.9850852366254366,
          -1.7370172816400318,
          0.2517126379770799,
          -1.0011328284672907,
          -0.2613786339032824,
          0.7797048038852065,
          -0.8170932884455905,
          0.009242583900853422,
          -1.6836507525265862,
          -0.5048036540858107,
          -1.8326485557919734,
          0.33415009569966686,
          -0.9733124229215993,
          0.4367633389693113,
          0.03620681452186859,
          0.15363324980570667,
          -1.388714196282162,
          0.4108269942067989,
          0.20041866327019373,
          1.8148173947031228,
          2.004429604813547,
          0.5415002110537025,
          -1.1467172808204054,
          -1.4323439440761963,
          -0.07144767755780287,
          0.9921183498797117,
          1.3919571631141874,
          -0.28899018259889425,
          -1.3447429645699842,
          0.7428281327387541,
          -0.9504888731963778,
          -1.850867509708682,
          -0.16284183218926565,
          0.306940590955219,
          -0.6707513443055351,
          -0.8698048225942233,
          -0.1497534577034293,
          1.8202306536146895,
          -1.4094254413160463,
          0.13846159598012317,
          -0.4937329310018632,
          -0.2702891575624019,
          -0.8169023120461076,
          0.6034411819058803,
          0.5691307542052024,
          -1.2180680201750023,
          1.5002550280971456,
          0.5319616257602449,
          -0.501889689467497,
          -1.1426950065491108,
          -0.43092752543985824,
          0.5066801146013515,
          0.7120879493263683,
          -0.517113995921473,
          -2.1512371124884613,
          0.16494732984756155,
          -1.2612525350156645,
          -0.010982003206188539,
          -0.9613283948665519,
          0.5062728424278135,
          0.5896847471268124,
          -1.0852558234880636,
          -0.2656180177773189,
          0.6347090759322588,
          0.4164494719838177,
          0.49535903439532736,
          -0.6488023608549194,
          0.11752878131637244,
          -0.04236959134854982,
          1.053827362093787,
          -0.4985717151399195,
          1.5771374690324773,
          1.1248556430129348,
          0.9565736686442126,
          0.5998504230364267,
          -1.4234707658047592,
          0.8521225737041161,
          -0.2848760900886783,
          1.162666959599844,
          0.5033335838244494,
          -0.2155570736812704,
          -1.0385583461447516,
          -1.1622475401435761,
          0.021390230891725686,
          -0.560576739090153,
          -0.8790485403383482,
          -0.25105250628280734,
          -0.16719939889526858,
          1.1360088693685437,
          0.4271792584961496,
          0.8579829289124504,
          -0.7858608501724726,
          -0.21070718427011376
         ],
         "xaxis": "x16",
         "yaxis": "y16"
        }
       ],
       "layout": {
        "bargap": 0.02,
        "legend": {
         "bgcolor": "#F5F6F9",
         "font": {
          "color": "#4D5663"
         }
        },
        "paper_bgcolor": "#F5F6F9",
        "plot_bgcolor": "#F5F6F9",
        "showlegend": false,
        "template": {
         "data": {
          "bar": [
           {
            "error_x": {
             "color": "#2a3f5f"
            },
            "error_y": {
             "color": "#2a3f5f"
            },
            "marker": {
             "line": {
              "color": "#E5ECF6",
              "width": 0.5
             },
             "pattern": {
              "fillmode": "overlay",
              "size": 10,
              "solidity": 0.2
             }
            },
            "type": "bar"
           }
          ],
          "barpolar": [
           {
            "marker": {
             "line": {
              "color": "#E5ECF6",
              "width": 0.5
             },
             "pattern": {
              "fillmode": "overlay",
              "size": 10,
              "solidity": 0.2
             }
            },
            "type": "barpolar"
           }
          ],
          "carpet": [
           {
            "aaxis": {
             "endlinecolor": "#2a3f5f",
             "gridcolor": "white",
             "linecolor": "white",
             "minorgridcolor": "white",
             "startlinecolor": "#2a3f5f"
            },
            "baxis": {
             "endlinecolor": "#2a3f5f",
             "gridcolor": "white",
             "linecolor": "white",
             "minorgridcolor": "white",
             "startlinecolor": "#2a3f5f"
            },
            "type": "carpet"
           }
          ],
          "choropleth": [
           {
            "colorbar": {
             "outlinewidth": 0,
             "ticks": ""
            },
            "type": "choropleth"
           }
          ],
          "contour": [
           {
            "colorbar": {
             "outlinewidth": 0,
             "ticks": ""
            },
            "colorscale": [
             [
              0,
              "#0d0887"
             ],
             [
              0.1111111111111111,
              "#46039f"
             ],
             [
              0.2222222222222222,
              "#7201a8"
             ],
             [
              0.3333333333333333,
              "#9c179e"
             ],
             [
              0.4444444444444444,
              "#bd3786"
             ],
             [
              0.5555555555555556,
              "#d8576b"
             ],
             [
              0.6666666666666666,
              "#ed7953"
             ],
             [
              0.7777777777777778,
              "#fb9f3a"
             ],
             [
              0.8888888888888888,
              "#fdca26"
             ],
             [
              1,
              "#f0f921"
             ]
            ],
            "type": "contour"
           }
          ],
          "contourcarpet": [
           {
            "colorbar": {
             "outlinewidth": 0,
             "ticks": ""
            },
            "type": "contourcarpet"
           }
          ],
          "heatmap": [
           {
            "colorbar": {
             "outlinewidth": 0,
             "ticks": ""
            },
            "colorscale": [
             [
              0,
              "#0d0887"
             ],
             [
              0.1111111111111111,
              "#46039f"
             ],
             [
              0.2222222222222222,
              "#7201a8"
             ],
             [
              0.3333333333333333,
              "#9c179e"
             ],
             [
              0.4444444444444444,
              "#bd3786"
             ],
             [
              0.5555555555555556,
              "#d8576b"
             ],
             [
              0.6666666666666666,
              "#ed7953"
             ],
             [
              0.7777777777777778,
              "#fb9f3a"
             ],
             [
              0.8888888888888888,
              "#fdca26"
             ],
             [
              1,
              "#f0f921"
             ]
            ],
            "type": "heatmap"
           }
          ],
          "heatmapgl": [
           {
            "colorbar": {
             "outlinewidth": 0,
             "ticks": ""
            },
            "colorscale": [
             [
              0,
              "#0d0887"
             ],
             [
              0.1111111111111111,
              "#46039f"
             ],
             [
              0.2222222222222222,
              "#7201a8"
             ],
             [
              0.3333333333333333,
              "#9c179e"
             ],
             [
              0.4444444444444444,
              "#bd3786"
             ],
             [
              0.5555555555555556,
              "#d8576b"
             ],
             [
              0.6666666666666666,
              "#ed7953"
             ],
             [
              0.7777777777777778,
              "#fb9f3a"
             ],
             [
              0.8888888888888888,
              "#fdca26"
             ],
             [
              1,
              "#f0f921"
             ]
            ],
            "type": "heatmapgl"
           }
          ],
          "histogram": [
           {
            "marker": {
             "pattern": {
              "fillmode": "overlay",
              "size": 10,
              "solidity": 0.2
             }
            },
            "type": "histogram"
           }
          ],
          "histogram2d": [
           {
            "colorbar": {
             "outlinewidth": 0,
             "ticks": ""
            },
            "colorscale": [
             [
              0,
              "#0d0887"
             ],
             [
              0.1111111111111111,
              "#46039f"
             ],
             [
              0.2222222222222222,
              "#7201a8"
             ],
             [
              0.3333333333333333,
              "#9c179e"
             ],
             [
              0.4444444444444444,
              "#bd3786"
             ],
             [
              0.5555555555555556,
              "#d8576b"
             ],
             [
              0.6666666666666666,
              "#ed7953"
             ],
             [
              0.7777777777777778,
              "#fb9f3a"
             ],
             [
              0.8888888888888888,
              "#fdca26"
             ],
             [
              1,
              "#f0f921"
             ]
            ],
            "type": "histogram2d"
           }
          ],
          "histogram2dcontour": [
           {
            "colorbar": {
             "outlinewidth": 0,
             "ticks": ""
            },
            "colorscale": [
             [
              0,
              "#0d0887"
             ],
             [
              0.1111111111111111,
              "#46039f"
             ],
             [
              0.2222222222222222,
              "#7201a8"
             ],
             [
              0.3333333333333333,
              "#9c179e"
             ],
             [
              0.4444444444444444,
              "#bd3786"
             ],
             [
              0.5555555555555556,
              "#d8576b"
             ],
             [
              0.6666666666666666,
              "#ed7953"
             ],
             [
              0.7777777777777778,
              "#fb9f3a"
             ],
             [
              0.8888888888888888,
              "#fdca26"
             ],
             [
              1,
              "#f0f921"
             ]
            ],
            "type": "histogram2dcontour"
           }
          ],
          "mesh3d": [
           {
            "colorbar": {
             "outlinewidth": 0,
             "ticks": ""
            },
            "type": "mesh3d"
           }
          ],
          "parcoords": [
           {
            "line": {
             "colorbar": {
              "outlinewidth": 0,
              "ticks": ""
             }
            },
            "type": "parcoords"
           }
          ],
          "pie": [
           {
            "automargin": true,
            "type": "pie"
           }
          ],
          "scatter": [
           {
            "fillpattern": {
             "fillmode": "overlay",
             "size": 10,
             "solidity": 0.2
            },
            "type": "scatter"
           }
          ],
          "scatter3d": [
           {
            "line": {
             "colorbar": {
              "outlinewidth": 0,
              "ticks": ""
             }
            },
            "marker": {
             "colorbar": {
              "outlinewidth": 0,
              "ticks": ""
             }
            },
            "type": "scatter3d"
           }
          ],
          "scattercarpet": [
           {
            "marker": {
             "colorbar": {
              "outlinewidth": 0,
              "ticks": ""
             }
            },
            "type": "scattercarpet"
           }
          ],
          "scattergeo": [
           {
            "marker": {
             "colorbar": {
              "outlinewidth": 0,
              "ticks": ""
             }
            },
            "type": "scattergeo"
           }
          ],
          "scattergl": [
           {
            "marker": {
             "colorbar": {
              "outlinewidth": 0,
              "ticks": ""
             }
            },
            "type": "scattergl"
           }
          ],
          "scattermapbox": [
           {
            "marker": {
             "colorbar": {
              "outlinewidth": 0,
              "ticks": ""
             }
            },
            "type": "scattermapbox"
           }
          ],
          "scatterpolar": [
           {
            "marker": {
             "colorbar": {
              "outlinewidth": 0,
              "ticks": ""
             }
            },
            "type": "scatterpolar"
           }
          ],
          "scatterpolargl": [
           {
            "marker": {
             "colorbar": {
              "outlinewidth": 0,
              "ticks": ""
             }
            },
            "type": "scatterpolargl"
           }
          ],
          "scatterternary": [
           {
            "marker": {
             "colorbar": {
              "outlinewidth": 0,
              "ticks": ""
             }
            },
            "type": "scatterternary"
           }
          ],
          "surface": [
           {
            "colorbar": {
             "outlinewidth": 0,
             "ticks": ""
            },
            "colorscale": [
             [
              0,
              "#0d0887"
             ],
             [
              0.1111111111111111,
              "#46039f"
             ],
             [
              0.2222222222222222,
              "#7201a8"
             ],
             [
              0.3333333333333333,
              "#9c179e"
             ],
             [
              0.4444444444444444,
              "#bd3786"
             ],
             [
              0.5555555555555556,
              "#d8576b"
             ],
             [
              0.6666666666666666,
              "#ed7953"
             ],
             [
              0.7777777777777778,
              "#fb9f3a"
             ],
             [
              0.8888888888888888,
              "#fdca26"
             ],
             [
              1,
              "#f0f921"
             ]
            ],
            "type": "surface"
           }
          ],
          "table": [
           {
            "cells": {
             "fill": {
              "color": "#EBF0F8"
             },
             "line": {
              "color": "white"
             }
            },
            "header": {
             "fill": {
              "color": "#C8D4E3"
             },
             "line": {
              "color": "white"
             }
            },
            "type": "table"
           }
          ]
         },
         "layout": {
          "annotationdefaults": {
           "arrowcolor": "#2a3f5f",
           "arrowhead": 0,
           "arrowwidth": 1
          },
          "autotypenumbers": "strict",
          "coloraxis": {
           "colorbar": {
            "outlinewidth": 0,
            "ticks": ""
           }
          },
          "colorscale": {
           "diverging": [
            [
             0,
             "#8e0152"
            ],
            [
             0.1,
             "#c51b7d"
            ],
            [
             0.2,
             "#de77ae"
            ],
            [
             0.3,
             "#f1b6da"
            ],
            [
             0.4,
             "#fde0ef"
            ],
            [
             0.5,
             "#f7f7f7"
            ],
            [
             0.6,
             "#e6f5d0"
            ],
            [
             0.7,
             "#b8e186"
            ],
            [
             0.8,
             "#7fbc41"
            ],
            [
             0.9,
             "#4d9221"
            ],
            [
             1,
             "#276419"
            ]
           ],
           "sequential": [
            [
             0,
             "#0d0887"
            ],
            [
             0.1111111111111111,
             "#46039f"
            ],
            [
             0.2222222222222222,
             "#7201a8"
            ],
            [
             0.3333333333333333,
             "#9c179e"
            ],
            [
             0.4444444444444444,
             "#bd3786"
            ],
            [
             0.5555555555555556,
             "#d8576b"
            ],
            [
             0.6666666666666666,
             "#ed7953"
            ],
            [
             0.7777777777777778,
             "#fb9f3a"
            ],
            [
             0.8888888888888888,
             "#fdca26"
            ],
            [
             1,
             "#f0f921"
            ]
           ],
           "sequentialminus": [
            [
             0,
             "#0d0887"
            ],
            [
             0.1111111111111111,
             "#46039f"
            ],
            [
             0.2222222222222222,
             "#7201a8"
            ],
            [
             0.3333333333333333,
             "#9c179e"
            ],
            [
             0.4444444444444444,
             "#bd3786"
            ],
            [
             0.5555555555555556,
             "#d8576b"
            ],
            [
             0.6666666666666666,
             "#ed7953"
            ],
            [
             0.7777777777777778,
             "#fb9f3a"
            ],
            [
             0.8888888888888888,
             "#fdca26"
            ],
            [
             1,
             "#f0f921"
            ]
           ]
          },
          "colorway": [
           "#636efa",
           "#EF553B",
           "#00cc96",
           "#ab63fa",
           "#FFA15A",
           "#19d3f3",
           "#FF6692",
           "#B6E880",
           "#FF97FF",
           "#FECB52"
          ],
          "font": {
           "color": "#2a3f5f"
          },
          "geo": {
           "bgcolor": "white",
           "lakecolor": "white",
           "landcolor": "#E5ECF6",
           "showlakes": true,
           "showland": true,
           "subunitcolor": "white"
          },
          "hoverlabel": {
           "align": "left"
          },
          "hovermode": "closest",
          "mapbox": {
           "style": "light"
          },
          "paper_bgcolor": "white",
          "plot_bgcolor": "#E5ECF6",
          "polar": {
           "angularaxis": {
            "gridcolor": "white",
            "linecolor": "white",
            "ticks": ""
           },
           "bgcolor": "#E5ECF6",
           "radialaxis": {
            "gridcolor": "white",
            "linecolor": "white",
            "ticks": ""
           }
          },
          "scene": {
           "xaxis": {
            "backgroundcolor": "#E5ECF6",
            "gridcolor": "white",
            "gridwidth": 2,
            "linecolor": "white",
            "showbackground": true,
            "ticks": "",
            "zerolinecolor": "white"
           },
           "yaxis": {
            "backgroundcolor": "#E5ECF6",
            "gridcolor": "white",
            "gridwidth": 2,
            "linecolor": "white",
            "showbackground": true,
            "ticks": "",
            "zerolinecolor": "white"
           },
           "zaxis": {
            "backgroundcolor": "#E5ECF6",
            "gridcolor": "white",
            "gridwidth": 2,
            "linecolor": "white",
            "showbackground": true,
            "ticks": "",
            "zerolinecolor": "white"
           }
          },
          "shapedefaults": {
           "line": {
            "color": "#2a3f5f"
           }
          },
          "ternary": {
           "aaxis": {
            "gridcolor": "white",
            "linecolor": "white",
            "ticks": ""
           },
           "baxis": {
            "gridcolor": "white",
            "linecolor": "white",
            "ticks": ""
           },
           "bgcolor": "#E5ECF6",
           "caxis": {
            "gridcolor": "white",
            "linecolor": "white",
            "ticks": ""
           }
          },
          "title": {
           "x": 0.05
          },
          "xaxis": {
           "automargin": true,
           "gridcolor": "white",
           "linecolor": "white",
           "ticks": "",
           "title": {
            "standoff": 15
           },
           "zerolinecolor": "white",
           "zerolinewidth": 2
          },
          "yaxis": {
           "automargin": true,
           "gridcolor": "white",
           "linecolor": "white",
           "ticks": "",
           "title": {
            "standoff": 15
           },
           "zerolinecolor": "white",
           "zerolinewidth": 2
          }
         }
        },
        "title": {
         "font": {
          "color": "#4D5663"
         }
        },
        "xaxis": {
         "anchor": "y",
         "domain": [
          0,
          0.2125
         ],
         "gridcolor": "#E1E5ED",
         "showgrid": false,
         "tickfont": {
          "color": "#4D5663"
         },
         "title": {
          "font": {
           "color": "#4D5663"
          },
          "text": ""
         },
         "zerolinecolor": "#E1E5ED"
        },
        "xaxis10": {
         "anchor": "y10",
         "domain": [
          0.2625,
          0.475
         ],
         "gridcolor": "#E1E5ED",
         "showgrid": false,
         "tickfont": {
          "color": "#4D5663"
         },
         "title": {
          "font": {
           "color": "#4D5663"
          },
          "text": ""
         },
         "zerolinecolor": "#E1E5ED"
        },
        "xaxis11": {
         "anchor": "y11",
         "domain": [
          0.525,
          0.7375
         ],
         "gridcolor": "#E1E5ED",
         "showgrid": false,
         "tickfont": {
          "color": "#4D5663"
         },
         "title": {
          "font": {
           "color": "#4D5663"
          },
          "text": ""
         },
         "zerolinecolor": "#E1E5ED"
        },
        "xaxis12": {
         "anchor": "y12",
         "domain": [
          0.7875,
          1
         ],
         "gridcolor": "#E1E5ED",
         "showgrid": false,
         "tickfont": {
          "color": "#4D5663"
         },
         "title": {
          "font": {
           "color": "#4D5663"
          },
          "text": ""
         },
         "zerolinecolor": "#E1E5ED"
        },
        "xaxis13": {
         "anchor": "y13",
         "domain": [
          0,
          0.2125
         ],
         "gridcolor": "#E1E5ED",
         "showgrid": false,
         "tickfont": {
          "color": "#4D5663"
         },
         "title": {
          "font": {
           "color": "#4D5663"
          },
          "text": ""
         },
         "zerolinecolor": "#E1E5ED"
        },
        "xaxis14": {
         "anchor": "y14",
         "domain": [
          0.2625,
          0.475
         ],
         "gridcolor": "#E1E5ED",
         "showgrid": false,
         "tickfont": {
          "color": "#4D5663"
         },
         "title": {
          "font": {
           "color": "#4D5663"
          },
          "text": ""
         },
         "zerolinecolor": "#E1E5ED"
        },
        "xaxis15": {
         "anchor": "y15",
         "domain": [
          0.525,
          0.7375
         ],
         "gridcolor": "#E1E5ED",
         "showgrid": false,
         "tickfont": {
          "color": "#4D5663"
         },
         "title": {
          "font": {
           "color": "#4D5663"
          },
          "text": ""
         },
         "zerolinecolor": "#E1E5ED"
        },
        "xaxis16": {
         "anchor": "y16",
         "domain": [
          0.7875,
          1
         ],
         "gridcolor": "#E1E5ED",
         "showgrid": false,
         "tickfont": {
          "color": "#4D5663"
         },
         "title": {
          "font": {
           "color": "#4D5663"
          },
          "text": ""
         },
         "zerolinecolor": "#E1E5ED"
        },
        "xaxis2": {
         "anchor": "y2",
         "domain": [
          0.2625,
          0.475
         ],
         "gridcolor": "#E1E5ED",
         "showgrid": false,
         "tickfont": {
          "color": "#4D5663"
         },
         "title": {
          "font": {
           "color": "#4D5663"
          },
          "text": ""
         },
         "zerolinecolor": "#E1E5ED"
        },
        "xaxis3": {
         "anchor": "y3",
         "domain": [
          0.525,
          0.7375
         ],
         "gridcolor": "#E1E5ED",
         "showgrid": false,
         "tickfont": {
          "color": "#4D5663"
         },
         "title": {
          "font": {
           "color": "#4D5663"
          },
          "text": ""
         },
         "zerolinecolor": "#E1E5ED"
        },
        "xaxis4": {
         "anchor": "y4",
         "domain": [
          0.7875,
          1
         ],
         "gridcolor": "#E1E5ED",
         "showgrid": false,
         "tickfont": {
          "color": "#4D5663"
         },
         "title": {
          "font": {
           "color": "#4D5663"
          },
          "text": ""
         },
         "zerolinecolor": "#E1E5ED"
        },
        "xaxis5": {
         "anchor": "y5",
         "domain": [
          0,
          0.2125
         ],
         "gridcolor": "#E1E5ED",
         "showgrid": false,
         "tickfont": {
          "color": "#4D5663"
         },
         "title": {
          "font": {
           "color": "#4D5663"
          },
          "text": ""
         },
         "zerolinecolor": "#E1E5ED"
        },
        "xaxis6": {
         "anchor": "y6",
         "domain": [
          0.2625,
          0.475
         ],
         "gridcolor": "#E1E5ED",
         "showgrid": false,
         "tickfont": {
          "color": "#4D5663"
         },
         "title": {
          "font": {
           "color": "#4D5663"
          },
          "text": ""
         },
         "zerolinecolor": "#E1E5ED"
        },
        "xaxis7": {
         "anchor": "y7",
         "domain": [
          0.525,
          0.7375
         ],
         "gridcolor": "#E1E5ED",
         "showgrid": false,
         "tickfont": {
          "color": "#4D5663"
         },
         "title": {
          "font": {
           "color": "#4D5663"
          },
          "text": ""
         },
         "zerolinecolor": "#E1E5ED"
        },
        "xaxis8": {
         "anchor": "y8",
         "domain": [
          0.7875,
          1
         ],
         "gridcolor": "#E1E5ED",
         "showgrid": false,
         "tickfont": {
          "color": "#4D5663"
         },
         "title": {
          "font": {
           "color": "#4D5663"
          },
          "text": ""
         },
         "zerolinecolor": "#E1E5ED"
        },
        "xaxis9": {
         "anchor": "y9",
         "domain": [
          0,
          0.2125
         ],
         "gridcolor": "#E1E5ED",
         "showgrid": false,
         "tickfont": {
          "color": "#4D5663"
         },
         "title": {
          "font": {
           "color": "#4D5663"
          },
          "text": ""
         },
         "zerolinecolor": "#E1E5ED"
        },
        "yaxis": {
         "anchor": "x",
         "domain": [
          0.8025,
          1
         ],
         "gridcolor": "#E1E5ED",
         "showgrid": false,
         "tickfont": {
          "color": "#4D5663"
         },
         "title": {
          "font": {
           "color": "#4D5663"
          },
          "text": ""
         },
         "zerolinecolor": "#E1E5ED"
        },
        "yaxis10": {
         "anchor": "x10",
         "domain": [
          0.2675,
          0.465
         ],
         "gridcolor": "#E1E5ED",
         "showgrid": false,
         "tickfont": {
          "color": "#4D5663"
         },
         "title": {
          "font": {
           "color": "#4D5663"
          },
          "text": ""
         },
         "zerolinecolor": "#E1E5ED"
        },
        "yaxis11": {
         "anchor": "x11",
         "domain": [
          0.2675,
          0.465
         ],
         "gridcolor": "#E1E5ED",
         "showgrid": false,
         "tickfont": {
          "color": "#4D5663"
         },
         "title": {
          "font": {
           "color": "#4D5663"
          },
          "text": ""
         },
         "zerolinecolor": "#E1E5ED"
        },
        "yaxis12": {
         "anchor": "x12",
         "domain": [
          0.2675,
          0.465
         ],
         "gridcolor": "#E1E5ED",
         "showgrid": false,
         "tickfont": {
          "color": "#4D5663"
         },
         "title": {
          "font": {
           "color": "#4D5663"
          },
          "text": ""
         },
         "zerolinecolor": "#E1E5ED"
        },
        "yaxis13": {
         "anchor": "x13",
         "domain": [
          0,
          0.1975
         ],
         "gridcolor": "#E1E5ED",
         "showgrid": false,
         "tickfont": {
          "color": "#4D5663"
         },
         "title": {
          "font": {
           "color": "#4D5663"
          },
          "text": ""
         },
         "zerolinecolor": "#E1E5ED"
        },
        "yaxis14": {
         "anchor": "x14",
         "domain": [
          0,
          0.1975
         ],
         "gridcolor": "#E1E5ED",
         "showgrid": false,
         "tickfont": {
          "color": "#4D5663"
         },
         "title": {
          "font": {
           "color": "#4D5663"
          },
          "text": ""
         },
         "zerolinecolor": "#E1E5ED"
        },
        "yaxis15": {
         "anchor": "x15",
         "domain": [
          0,
          0.1975
         ],
         "gridcolor": "#E1E5ED",
         "showgrid": false,
         "tickfont": {
          "color": "#4D5663"
         },
         "title": {
          "font": {
           "color": "#4D5663"
          },
          "text": ""
         },
         "zerolinecolor": "#E1E5ED"
        },
        "yaxis16": {
         "anchor": "x16",
         "domain": [
          0,
          0.1975
         ],
         "gridcolor": "#E1E5ED",
         "showgrid": false,
         "tickfont": {
          "color": "#4D5663"
         },
         "title": {
          "font": {
           "color": "#4D5663"
          },
          "text": ""
         },
         "zerolinecolor": "#E1E5ED"
        },
        "yaxis2": {
         "anchor": "x2",
         "domain": [
          0.8025,
          1
         ],
         "gridcolor": "#E1E5ED",
         "showgrid": false,
         "tickfont": {
          "color": "#4D5663"
         },
         "title": {
          "font": {
           "color": "#4D5663"
          },
          "text": ""
         },
         "zerolinecolor": "#E1E5ED"
        },
        "yaxis3": {
         "anchor": "x3",
         "domain": [
          0.8025,
          1
         ],
         "gridcolor": "#E1E5ED",
         "showgrid": false,
         "tickfont": {
          "color": "#4D5663"
         },
         "title": {
          "font": {
           "color": "#4D5663"
          },
          "text": ""
         },
         "zerolinecolor": "#E1E5ED"
        },
        "yaxis4": {
         "anchor": "x4",
         "domain": [
          0.8025,
          1
         ],
         "gridcolor": "#E1E5ED",
         "showgrid": false,
         "tickfont": {
          "color": "#4D5663"
         },
         "title": {
          "font": {
           "color": "#4D5663"
          },
          "text": ""
         },
         "zerolinecolor": "#E1E5ED"
        },
        "yaxis5": {
         "anchor": "x5",
         "domain": [
          0.535,
          0.7325
         ],
         "gridcolor": "#E1E5ED",
         "showgrid": false,
         "tickfont": {
          "color": "#4D5663"
         },
         "title": {
          "font": {
           "color": "#4D5663"
          },
          "text": ""
         },
         "zerolinecolor": "#E1E5ED"
        },
        "yaxis6": {
         "anchor": "x6",
         "domain": [
          0.535,
          0.7325
         ],
         "gridcolor": "#E1E5ED",
         "showgrid": false,
         "tickfont": {
          "color": "#4D5663"
         },
         "title": {
          "font": {
           "color": "#4D5663"
          },
          "text": ""
         },
         "zerolinecolor": "#E1E5ED"
        },
        "yaxis7": {
         "anchor": "x7",
         "domain": [
          0.535,
          0.7325
         ],
         "gridcolor": "#E1E5ED",
         "showgrid": false,
         "tickfont": {
          "color": "#4D5663"
         },
         "title": {
          "font": {
           "color": "#4D5663"
          },
          "text": ""
         },
         "zerolinecolor": "#E1E5ED"
        },
        "yaxis8": {
         "anchor": "x8",
         "domain": [
          0.535,
          0.7325
         ],
         "gridcolor": "#E1E5ED",
         "showgrid": false,
         "tickfont": {
          "color": "#4D5663"
         },
         "title": {
          "font": {
           "color": "#4D5663"
          },
          "text": ""
         },
         "zerolinecolor": "#E1E5ED"
        },
        "yaxis9": {
         "anchor": "x9",
         "domain": [
          0.2675,
          0.465
         ],
         "gridcolor": "#E1E5ED",
         "showgrid": false,
         "tickfont": {
          "color": "#4D5663"
         },
         "title": {
          "font": {
           "color": "#4D5663"
          },
          "text": ""
         },
         "zerolinecolor": "#E1E5ED"
        }
       }
      },
      "text/html": [
       "<div>                            <div id=\"1ce5749b-c392-4e56-849e-6684ee2c285d\" class=\"plotly-graph-div\" style=\"height:525px; width:100%;\"></div>            <script type=\"text/javascript\">                require([\"plotly\"], function(Plotly) {                    window.PLOTLYENV=window.PLOTLYENV || {};\n",
       "                    window.PLOTLYENV.BASE_URL='https://plot.ly';                                    if (document.getElementById(\"1ce5749b-c392-4e56-849e-6684ee2c285d\")) {                    Plotly.newPlot(                        \"1ce5749b-c392-4e56-849e-6684ee2c285d\",                        [{\"histfunc\":\"count\",\"histnorm\":\"\",\"marker\":{\"color\":\"rgba(255, 153, 51, 1.0)\",\"line\":{\"color\":\"#4D5663\",\"width\":1.3}},\"name\":\"A\",\"nbinsx\":10,\"opacity\":0.8,\"orientation\":\"v\",\"x\":[-1.2615300860614054,0.5168583781406116,-1.27565405789446,1.4781814691430137,0.16685274993216312,0.29486795628181317,0.9785825523153496,0.14359652449530164,-0.8925068476041645,0.6869895496306667,-0.3184260842234965,-0.06079029464726772,0.3046179848603725,-0.28578117724567403,0.9555452637232548,-0.436571217632825,1.5989488034519654,-0.15788956695773615,-0.3888100527566678,-0.591990160710526,0.2710004943704668,0.2602297984499211,0.5657822404335577,0.18748818541864734,-0.18808181802469898,-1.35595867059301,-1.7497884642723616,0.825144024533562,0.20421153196532738,-0.2644595981522582,-0.029348334202425504,1.9077855533319394,0.22916452088223646,0.2867610600268779,1.2904275286706701,0.6215964625270357,0.6747330686433912,1.0478166238045625,-1.3554516876860905,0.08092118840581466,-0.40994404610033824,0.28561581083232607,0.1966769220405505,-1.1411890045092357,1.7231332434630888,-0.42193519470372676,-1.741625904007534,-2.391591329146761,0.689222905342845,0.19798524650811158,-0.10115323119577455,-0.9603616907577721,-0.8625275697297408,0.3524640636948968,1.2393159762473505,2.377375403963859,-0.33161650928400876,-0.7541694714930774,0.8277565338293128,0.06080378891897225,-0.9710249811252153,1.224128475122221,0.11241632604675655,-1.1815069448698765,0.1313115186944857,-1.2010409076083939,0.15765706193163107,-1.3211297942118674,-0.9825223740395495,0.7894139009281048,-1.1055435265481648,1.1142658013635867,-0.18738716811804088,-0.9014408479515046,-0.10340889577700428,1.915295678544698,-1.026271756257129,0.12995497319553861,1.1193558873374236,-0.23180192875510952,0.21849137154823123,1.0419858768778796,0.24556231413052595,0.49309662249476477,0.6160279264073351,-0.028684263888879884,-0.27846238992189154,-0.6151339164505116,0.6620802123427995,0.3485255177495143,-1.218456441286671,-1.0227375652102357,-0.3943161595674681,-0.638346772297683,0.14208982603404896,3.7399500319589483,0.1844386958356573,-0.17634768147868762,0.3712982772511809,-0.07532474604483136],\"xaxis\":\"x\",\"yaxis\":\"y\",\"type\":\"histogram\"},{\"line\":{\"color\":\"rgba(128, 128, 128, 1.0)\",\"dash\":\"solid\",\"shape\":\"linear\",\"width\":1.3},\"marker\":{\"size\":2,\"symbol\":\"circle\"},\"mode\":\"markers\",\"name\":\"A\",\"text\":\"\",\"x\":[-1.3999773022346853,-0.6625620672077985,-0.13403593135012803,-0.2339878842549569,0.08100488242810727,-0.40094669137310823,0.7110857695394376,0.945132123112901,0.7801585124745818,-2.4061019556258447,0.09632851478545619,0.2992606351539072,-0.9932761773845984,1.9891885642792426,-1.4147458176381231,0.5469460471883897,-0.43138767364022956,-0.11380232186836925,0.2642741060329245,-0.4516065127701526,-0.2174021449631138,0.6777841867420318,1.4469906621585116,-0.10477332749880597,-0.5718353186794933,-0.9241770381073433,0.7487742034721503,0.5116307408743127,-0.357573289466846,-0.42891030205716935,-1.4555911877393972,-0.16832153572754027,-0.3332303972415607,1.625673569413001,0.3741258191879868,-1.4188933829841257,0.3302419395213557,-1.115231172523026,-0.6533977526153854,-2.280552620733146,1.0417207322966597,-1.127180454096471,-1.6350014016713625,0.004862259578625818,0.15447244530216225,-0.6305495592044218,1.6494365509525002,1.249404337821749,-3.25513107262654,-2.2003748750279004,0.7777706747383216,0.37056489767082534,-0.3560390627881642,0.5131737979639818,-0.8335218338591645,-0.4547481048534048,-1.1565808901885064,-1.2649681759429672,0.5919062681448857,0.07393727325405307,-0.6392552717703002,-0.06532171436724853,1.2813676031184937,-1.0559418320411604,1.4139504592986571,2.4546740641948936,1.0705099251140995,0.4746150457471814,1.1909024990604284,-0.761915425175944,-0.23586143082944264,1.2184017973426964,-0.6852423003678728,1.2351106059744261,-0.5205086220142247,0.06761539169827334,-1.4735505010313557,-0.7035776570552076,0.791392914877188,1.5363518469695343,0.8680569096835051,0.03600875756233151,0.29652664576283305,1.5945681003222858,1.0959640865897888,-0.2577631398110386,0.041274579839142754,-0.9769537525253257,-0.4906770970438918,1.0543096348022898,0.48584175972625604,1.002107562265259,-1.140108891804244,-0.31048423609957376,1.1509293609216962,0.7543488225434943,0.7739362556765743,0.03311795773750614,-1.995401730436345,-0.44309580692760137],\"xaxis\":\"x2\",\"y\":[-1.2615300860614054,0.5168583781406116,-1.27565405789446,1.4781814691430137,0.16685274993216312,0.29486795628181317,0.9785825523153496,0.14359652449530164,-0.8925068476041645,0.6869895496306667,-0.3184260842234965,-0.06079029464726772,0.3046179848603725,-0.28578117724567403,0.9555452637232548,-0.436571217632825,1.5989488034519654,-0.15788956695773615,-0.3888100527566678,-0.591990160710526,0.2710004943704668,0.2602297984499211,0.5657822404335577,0.18748818541864734,-0.18808181802469898,-1.35595867059301,-1.7497884642723616,0.825144024533562,0.20421153196532738,-0.2644595981522582,-0.029348334202425504,1.9077855533319394,0.22916452088223646,0.2867610600268779,1.2904275286706701,0.6215964625270357,0.6747330686433912,1.0478166238045625,-1.3554516876860905,0.08092118840581466,-0.40994404610033824,0.28561581083232607,0.1966769220405505,-1.1411890045092357,1.7231332434630888,-0.42193519470372676,-1.741625904007534,-2.391591329146761,0.689222905342845,0.19798524650811158,-0.10115323119577455,-0.9603616907577721,-0.8625275697297408,0.3524640636948968,1.2393159762473505,2.377375403963859,-0.33161650928400876,-0.7541694714930774,0.8277565338293128,0.06080378891897225,-0.9710249811252153,1.224128475122221,0.11241632604675655,-1.1815069448698765,0.1313115186944857,-1.2010409076083939,0.15765706193163107,-1.3211297942118674,-0.9825223740395495,0.7894139009281048,-1.1055435265481648,1.1142658013635867,-0.18738716811804088,-0.9014408479515046,-0.10340889577700428,1.915295678544698,-1.026271756257129,0.12995497319553861,1.1193558873374236,-0.23180192875510952,0.21849137154823123,1.0419858768778796,0.24556231413052595,0.49309662249476477,0.6160279264073351,-0.028684263888879884,-0.27846238992189154,-0.6151339164505116,0.6620802123427995,0.3485255177495143,-1.218456441286671,-1.0227375652102357,-0.3943161595674681,-0.638346772297683,0.14208982603404896,3.7399500319589483,0.1844386958356573,-0.17634768147868762,0.3712982772511809,-0.07532474604483136],\"yaxis\":\"y2\",\"type\":\"scatter\"},{\"line\":{\"color\":\"rgba(128, 128, 128, 1.0)\",\"dash\":\"solid\",\"shape\":\"linear\",\"width\":1.3},\"marker\":{\"size\":2,\"symbol\":\"circle\"},\"mode\":\"markers\",\"name\":\"A\",\"text\":\"\",\"x\":[-0.6119837808345561,0.3853238635163028,-0.3511377855594242,-1.2204433026125334,-1.4237140106901527,-1.4195892782820938,0.9600088242611423,-0.11576393066849629,-0.9923024938054422,1.586223557969978,-1.4415780438747134,-1.2390733485327365,-0.33434878971735,1.9648199577776106,-0.08766612300352726,0.6202142714008656,-0.4467833684597155,-1.8994423633847775,-0.24118307225659497,-0.2099697413813049,-2.363340341029225,-1.1268258112064171,0.9639369087615384,-0.8885829400990982,0.3949285761942748,0.7881513636323871,-0.3144980559102199,-1.0461492475918,0.7166247447078593,-0.7468524159013762,0.8674151970421391,0.04602419135137053,0.46689153490274143,-1.2819897688349893,-1.4844966214527495,-0.2673619567705891,-1.222054059020473,-1.648420834754166,0.23747325432178468,-0.2904214934817071,-0.7650753522220357,0.3339269550455444,0.3480370278900314,0.8535187828086694,-1.0203953719350616,0.3392290875947378,0.03524267145517492,-0.08448984563170832,-2.2837805574276637,1.5270501865766104,1.2202286331391123,-2.395575852397786,-0.8432511291804089,1.1173922522989193,-0.8984316406419147,0.5588617083291683,1.4372836910213578,-0.32439378800799,0.9779212262649797,1.8500836537456498,0.7988326066757393,-0.1600357106456922,-0.03578748628843559,0.015641839847267188,0.44411920757704476,0.04502063446646156,-0.45117357857469953,-1.0741430372659364,-0.3209542399646837,-0.16436327237197473,1.3238866144457233,0.5132156730418638,-2.5893852115736262,-0.9392610359312538,-0.039151045772395,-1.361385251067636,0.42728496093696755,1.3513628557834192,-0.7504843096847912,-0.40801449108868953,0.35522511590782646,-0.5329811735863856,-0.367692788068022,-0.5417829440013526,-0.790027084227306,-0.10854904271123081,-0.979391037830631,1.1263211137155658,0.7278214354793066,-1.04877880464554,0.07319863551321172,0.34737416688188083,-0.916850087439608,0.6593068679495917,-1.23129583355202,-0.3578263992626871,1.4468431695053796,1.4151596591672,0.047903323163623036,-0.08915065282485961],\"xaxis\":\"x3\",\"y\":[-1.2615300860614054,0.5168583781406116,-1.27565405789446,1.4781814691430137,0.16685274993216312,0.29486795628181317,0.9785825523153496,0.14359652449530164,-0.8925068476041645,0.6869895496306667,-0.3184260842234965,-0.06079029464726772,0.3046179848603725,-0.28578117724567403,0.9555452637232548,-0.436571217632825,1.5989488034519654,-0.15788956695773615,-0.3888100527566678,-0.591990160710526,0.2710004943704668,0.2602297984499211,0.5657822404335577,0.18748818541864734,-0.18808181802469898,-1.35595867059301,-1.7497884642723616,0.825144024533562,0.20421153196532738,-0.2644595981522582,-0.029348334202425504,1.9077855533319394,0.22916452088223646,0.2867610600268779,1.2904275286706701,0.6215964625270357,0.6747330686433912,1.0478166238045625,-1.3554516876860905,0.08092118840581466,-0.40994404610033824,0.28561581083232607,0.1966769220405505,-1.1411890045092357,1.7231332434630888,-0.42193519470372676,-1.741625904007534,-2.391591329146761,0.689222905342845,0.19798524650811158,-0.10115323119577455,-0.9603616907577721,-0.8625275697297408,0.3524640636948968,1.2393159762473505,2.377375403963859,-0.33161650928400876,-0.7541694714930774,0.8277565338293128,0.06080378891897225,-0.9710249811252153,1.224128475122221,0.11241632604675655,-1.1815069448698765,0.1313115186944857,-1.2010409076083939,0.15765706193163107,-1.3211297942118674,-0.9825223740395495,0.7894139009281048,-1.1055435265481648,1.1142658013635867,-0.18738716811804088,-0.9014408479515046,-0.10340889577700428,1.915295678544698,-1.026271756257129,0.12995497319553861,1.1193558873374236,-0.23180192875510952,0.21849137154823123,1.0419858768778796,0.24556231413052595,0.49309662249476477,0.6160279264073351,-0.028684263888879884,-0.27846238992189154,-0.6151339164505116,0.6620802123427995,0.3485255177495143,-1.218456441286671,-1.0227375652102357,-0.3943161595674681,-0.638346772297683,0.14208982603404896,3.7399500319589483,0.1844386958356573,-0.17634768147868762,0.3712982772511809,-0.07532474604483136],\"yaxis\":\"y3\",\"type\":\"scatter\"},{\"line\":{\"color\":\"rgba(128, 128, 128, 1.0)\",\"dash\":\"solid\",\"shape\":\"linear\",\"width\":1.3},\"marker\":{\"size\":2,\"symbol\":\"circle\"},\"mode\":\"markers\",\"name\":\"A\",\"text\":\"\",\"x\":[-0.47706790851296726,-1.2707186459478514,0.9013862500197893,0.16414791723662073,-0.528305912577053,0.760110588159711,-0.9776158566357236,-1.9850852366254366,-1.7370172816400318,0.2517126379770799,-1.0011328284672907,-0.2613786339032824,0.7797048038852065,-0.8170932884455905,0.009242583900853422,-1.6836507525265862,-0.5048036540858107,-1.8326485557919734,0.33415009569966686,-0.9733124229215993,0.4367633389693113,0.03620681452186859,0.15363324980570667,-1.388714196282162,0.4108269942067989,0.20041866327019373,1.8148173947031228,2.004429604813547,0.5415002110537025,-1.1467172808204054,-1.4323439440761963,-0.07144767755780287,0.9921183498797117,1.3919571631141874,-0.28899018259889425,-1.3447429645699842,0.7428281327387541,-0.9504888731963778,-1.850867509708682,-0.16284183218926565,0.306940590955219,-0.6707513443055351,-0.8698048225942233,-0.1497534577034293,1.8202306536146895,-1.4094254413160463,0.13846159598012317,-0.4937329310018632,-0.2702891575624019,-0.8169023120461076,0.6034411819058803,0.5691307542052024,-1.2180680201750023,1.5002550280971456,0.5319616257602449,-0.501889689467497,-1.1426950065491108,-0.43092752543985824,0.5066801146013515,0.7120879493263683,-0.517113995921473,-2.1512371124884613,0.16494732984756155,-1.2612525350156645,-0.010982003206188539,-0.9613283948665519,0.5062728424278135,0.5896847471268124,-1.0852558234880636,-0.2656180177773189,0.6347090759322588,0.4164494719838177,0.49535903439532736,-0.6488023608549194,0.11752878131637244,-0.04236959134854982,1.053827362093787,-0.4985717151399195,1.5771374690324773,1.1248556430129348,0.9565736686442126,0.5998504230364267,-1.4234707658047592,0.8521225737041161,-0.2848760900886783,1.162666959599844,0.5033335838244494,-0.2155570736812704,-1.0385583461447516,-1.1622475401435761,0.021390230891725686,-0.560576739090153,-0.8790485403383482,-0.25105250628280734,-0.16719939889526858,1.1360088693685437,0.4271792584961496,0.8579829289124504,-0.7858608501724726,-0.21070718427011376],\"xaxis\":\"x4\",\"y\":[-1.2615300860614054,0.5168583781406116,-1.27565405789446,1.4781814691430137,0.16685274993216312,0.29486795628181317,0.9785825523153496,0.14359652449530164,-0.8925068476041645,0.6869895496306667,-0.3184260842234965,-0.06079029464726772,0.3046179848603725,-0.28578117724567403,0.9555452637232548,-0.436571217632825,1.5989488034519654,-0.15788956695773615,-0.3888100527566678,-0.591990160710526,0.2710004943704668,0.2602297984499211,0.5657822404335577,0.18748818541864734,-0.18808181802469898,-1.35595867059301,-1.7497884642723616,0.825144024533562,0.20421153196532738,-0.2644595981522582,-0.029348334202425504,1.9077855533319394,0.22916452088223646,0.2867610600268779,1.2904275286706701,0.6215964625270357,0.6747330686433912,1.0478166238045625,-1.3554516876860905,0.08092118840581466,-0.40994404610033824,0.28561581083232607,0.1966769220405505,-1.1411890045092357,1.7231332434630888,-0.42193519470372676,-1.741625904007534,-2.391591329146761,0.689222905342845,0.19798524650811158,-0.10115323119577455,-0.9603616907577721,-0.8625275697297408,0.3524640636948968,1.2393159762473505,2.377375403963859,-0.33161650928400876,-0.7541694714930774,0.8277565338293128,0.06080378891897225,-0.9710249811252153,1.224128475122221,0.11241632604675655,-1.1815069448698765,0.1313115186944857,-1.2010409076083939,0.15765706193163107,-1.3211297942118674,-0.9825223740395495,0.7894139009281048,-1.1055435265481648,1.1142658013635867,-0.18738716811804088,-0.9014408479515046,-0.10340889577700428,1.915295678544698,-1.026271756257129,0.12995497319553861,1.1193558873374236,-0.23180192875510952,0.21849137154823123,1.0419858768778796,0.24556231413052595,0.49309662249476477,0.6160279264073351,-0.028684263888879884,-0.27846238992189154,-0.6151339164505116,0.6620802123427995,0.3485255177495143,-1.218456441286671,-1.0227375652102357,-0.3943161595674681,-0.638346772297683,0.14208982603404896,3.7399500319589483,0.1844386958356573,-0.17634768147868762,0.3712982772511809,-0.07532474604483136],\"yaxis\":\"y4\",\"type\":\"scatter\"},{\"line\":{\"color\":\"rgba(128, 128, 128, 1.0)\",\"dash\":\"solid\",\"shape\":\"linear\",\"width\":1.3},\"marker\":{\"size\":2,\"symbol\":\"circle\"},\"mode\":\"markers\",\"name\":\"B\",\"text\":\"\",\"x\":[-1.2615300860614054,0.5168583781406116,-1.27565405789446,1.4781814691430137,0.16685274993216312,0.29486795628181317,0.9785825523153496,0.14359652449530164,-0.8925068476041645,0.6869895496306667,-0.3184260842234965,-0.06079029464726772,0.3046179848603725,-0.28578117724567403,0.9555452637232548,-0.436571217632825,1.5989488034519654,-0.15788956695773615,-0.3888100527566678,-0.591990160710526,0.2710004943704668,0.2602297984499211,0.5657822404335577,0.18748818541864734,-0.18808181802469898,-1.35595867059301,-1.7497884642723616,0.825144024533562,0.20421153196532738,-0.2644595981522582,-0.029348334202425504,1.9077855533319394,0.22916452088223646,0.2867610600268779,1.2904275286706701,0.6215964625270357,0.6747330686433912,1.0478166238045625,-1.3554516876860905,0.08092118840581466,-0.40994404610033824,0.28561581083232607,0.1966769220405505,-1.1411890045092357,1.7231332434630888,-0.42193519470372676,-1.741625904007534,-2.391591329146761,0.689222905342845,0.19798524650811158,-0.10115323119577455,-0.9603616907577721,-0.8625275697297408,0.3524640636948968,1.2393159762473505,2.377375403963859,-0.33161650928400876,-0.7541694714930774,0.8277565338293128,0.06080378891897225,-0.9710249811252153,1.224128475122221,0.11241632604675655,-1.1815069448698765,0.1313115186944857,-1.2010409076083939,0.15765706193163107,-1.3211297942118674,-0.9825223740395495,0.7894139009281048,-1.1055435265481648,1.1142658013635867,-0.18738716811804088,-0.9014408479515046,-0.10340889577700428,1.915295678544698,-1.026271756257129,0.12995497319553861,1.1193558873374236,-0.23180192875510952,0.21849137154823123,1.0419858768778796,0.24556231413052595,0.49309662249476477,0.6160279264073351,-0.028684263888879884,-0.27846238992189154,-0.6151339164505116,0.6620802123427995,0.3485255177495143,-1.218456441286671,-1.0227375652102357,-0.3943161595674681,-0.638346772297683,0.14208982603404896,3.7399500319589483,0.1844386958356573,-0.17634768147868762,0.3712982772511809,-0.07532474604483136],\"xaxis\":\"x5\",\"y\":[-1.3999773022346853,-0.6625620672077985,-0.13403593135012803,-0.2339878842549569,0.08100488242810727,-0.40094669137310823,0.7110857695394376,0.945132123112901,0.7801585124745818,-2.4061019556258447,0.09632851478545619,0.2992606351539072,-0.9932761773845984,1.9891885642792426,-1.4147458176381231,0.5469460471883897,-0.43138767364022956,-0.11380232186836925,0.2642741060329245,-0.4516065127701526,-0.2174021449631138,0.6777841867420318,1.4469906621585116,-0.10477332749880597,-0.5718353186794933,-0.9241770381073433,0.7487742034721503,0.5116307408743127,-0.357573289466846,-0.42891030205716935,-1.4555911877393972,-0.16832153572754027,-0.3332303972415607,1.625673569413001,0.3741258191879868,-1.4188933829841257,0.3302419395213557,-1.115231172523026,-0.6533977526153854,-2.280552620733146,1.0417207322966597,-1.127180454096471,-1.6350014016713625,0.004862259578625818,0.15447244530216225,-0.6305495592044218,1.6494365509525002,1.249404337821749,-3.25513107262654,-2.2003748750279004,0.7777706747383216,0.37056489767082534,-0.3560390627881642,0.5131737979639818,-0.8335218338591645,-0.4547481048534048,-1.1565808901885064,-1.2649681759429672,0.5919062681448857,0.07393727325405307,-0.6392552717703002,-0.06532171436724853,1.2813676031184937,-1.0559418320411604,1.4139504592986571,2.4546740641948936,1.0705099251140995,0.4746150457471814,1.1909024990604284,-0.761915425175944,-0.23586143082944264,1.2184017973426964,-0.6852423003678728,1.2351106059744261,-0.5205086220142247,0.06761539169827334,-1.4735505010313557,-0.7035776570552076,0.791392914877188,1.5363518469695343,0.8680569096835051,0.03600875756233151,0.29652664576283305,1.5945681003222858,1.0959640865897888,-0.2577631398110386,0.041274579839142754,-0.9769537525253257,-0.4906770970438918,1.0543096348022898,0.48584175972625604,1.002107562265259,-1.140108891804244,-0.31048423609957376,1.1509293609216962,0.7543488225434943,0.7739362556765743,0.03311795773750614,-1.995401730436345,-0.44309580692760137],\"yaxis\":\"y5\",\"type\":\"scatter\"},{\"histfunc\":\"count\",\"histnorm\":\"\",\"marker\":{\"color\":\"rgba(55, 128, 191, 1.0)\",\"line\":{\"color\":\"#4D5663\",\"width\":1.3}},\"name\":\"B\",\"nbinsx\":10,\"opacity\":0.8,\"orientation\":\"v\",\"x\":[-1.3999773022346853,-0.6625620672077985,-0.13403593135012803,-0.2339878842549569,0.08100488242810727,-0.40094669137310823,0.7110857695394376,0.945132123112901,0.7801585124745818,-2.4061019556258447,0.09632851478545619,0.2992606351539072,-0.9932761773845984,1.9891885642792426,-1.4147458176381231,0.5469460471883897,-0.43138767364022956,-0.11380232186836925,0.2642741060329245,-0.4516065127701526,-0.2174021449631138,0.6777841867420318,1.4469906621585116,-0.10477332749880597,-0.5718353186794933,-0.9241770381073433,0.7487742034721503,0.5116307408743127,-0.357573289466846,-0.42891030205716935,-1.4555911877393972,-0.16832153572754027,-0.3332303972415607,1.625673569413001,0.3741258191879868,-1.4188933829841257,0.3302419395213557,-1.115231172523026,-0.6533977526153854,-2.280552620733146,1.0417207322966597,-1.127180454096471,-1.6350014016713625,0.004862259578625818,0.15447244530216225,-0.6305495592044218,1.6494365509525002,1.249404337821749,-3.25513107262654,-2.2003748750279004,0.7777706747383216,0.37056489767082534,-0.3560390627881642,0.5131737979639818,-0.8335218338591645,-0.4547481048534048,-1.1565808901885064,-1.2649681759429672,0.5919062681448857,0.07393727325405307,-0.6392552717703002,-0.06532171436724853,1.2813676031184937,-1.0559418320411604,1.4139504592986571,2.4546740641948936,1.0705099251140995,0.4746150457471814,1.1909024990604284,-0.761915425175944,-0.23586143082944264,1.2184017973426964,-0.6852423003678728,1.2351106059744261,-0.5205086220142247,0.06761539169827334,-1.4735505010313557,-0.7035776570552076,0.791392914877188,1.5363518469695343,0.8680569096835051,0.03600875756233151,0.29652664576283305,1.5945681003222858,1.0959640865897888,-0.2577631398110386,0.041274579839142754,-0.9769537525253257,-0.4906770970438918,1.0543096348022898,0.48584175972625604,1.002107562265259,-1.140108891804244,-0.31048423609957376,1.1509293609216962,0.7543488225434943,0.7739362556765743,0.03311795773750614,-1.995401730436345,-0.44309580692760137],\"xaxis\":\"x6\",\"yaxis\":\"y6\",\"type\":\"histogram\"},{\"line\":{\"color\":\"rgba(128, 128, 128, 1.0)\",\"dash\":\"solid\",\"shape\":\"linear\",\"width\":1.3},\"marker\":{\"size\":2,\"symbol\":\"circle\"},\"mode\":\"markers\",\"name\":\"B\",\"text\":\"\",\"x\":[-0.6119837808345561,0.3853238635163028,-0.3511377855594242,-1.2204433026125334,-1.4237140106901527,-1.4195892782820938,0.9600088242611423,-0.11576393066849629,-0.9923024938054422,1.586223557969978,-1.4415780438747134,-1.2390733485327365,-0.33434878971735,1.9648199577776106,-0.08766612300352726,0.6202142714008656,-0.4467833684597155,-1.8994423633847775,-0.24118307225659497,-0.2099697413813049,-2.363340341029225,-1.1268258112064171,0.9639369087615384,-0.8885829400990982,0.3949285761942748,0.7881513636323871,-0.3144980559102199,-1.0461492475918,0.7166247447078593,-0.7468524159013762,0.8674151970421391,0.04602419135137053,0.46689153490274143,-1.2819897688349893,-1.4844966214527495,-0.2673619567705891,-1.222054059020473,-1.648420834754166,0.23747325432178468,-0.2904214934817071,-0.7650753522220357,0.3339269550455444,0.3480370278900314,0.8535187828086694,-1.0203953719350616,0.3392290875947378,0.03524267145517492,-0.08448984563170832,-2.2837805574276637,1.5270501865766104,1.2202286331391123,-2.395575852397786,-0.8432511291804089,1.1173922522989193,-0.8984316406419147,0.5588617083291683,1.4372836910213578,-0.32439378800799,0.9779212262649797,1.8500836537456498,0.7988326066757393,-0.1600357106456922,-0.03578748628843559,0.015641839847267188,0.44411920757704476,0.04502063446646156,-0.45117357857469953,-1.0741430372659364,-0.3209542399646837,-0.16436327237197473,1.3238866144457233,0.5132156730418638,-2.5893852115736262,-0.9392610359312538,-0.039151045772395,-1.361385251067636,0.42728496093696755,1.3513628557834192,-0.7504843096847912,-0.40801449108868953,0.35522511590782646,-0.5329811735863856,-0.367692788068022,-0.5417829440013526,-0.790027084227306,-0.10854904271123081,-0.979391037830631,1.1263211137155658,0.7278214354793066,-1.04877880464554,0.07319863551321172,0.34737416688188083,-0.916850087439608,0.6593068679495917,-1.23129583355202,-0.3578263992626871,1.4468431695053796,1.4151596591672,0.047903323163623036,-0.08915065282485961],\"xaxis\":\"x7\",\"y\":[-1.3999773022346853,-0.6625620672077985,-0.13403593135012803,-0.2339878842549569,0.08100488242810727,-0.40094669137310823,0.7110857695394376,0.945132123112901,0.7801585124745818,-2.4061019556258447,0.09632851478545619,0.2992606351539072,-0.9932761773845984,1.9891885642792426,-1.4147458176381231,0.5469460471883897,-0.43138767364022956,-0.11380232186836925,0.2642741060329245,-0.4516065127701526,-0.2174021449631138,0.6777841867420318,1.4469906621585116,-0.10477332749880597,-0.5718353186794933,-0.9241770381073433,0.7487742034721503,0.5116307408743127,-0.357573289466846,-0.42891030205716935,-1.4555911877393972,-0.16832153572754027,-0.3332303972415607,1.625673569413001,0.3741258191879868,-1.4188933829841257,0.3302419395213557,-1.115231172523026,-0.6533977526153854,-2.280552620733146,1.0417207322966597,-1.127180454096471,-1.6350014016713625,0.004862259578625818,0.15447244530216225,-0.6305495592044218,1.6494365509525002,1.249404337821749,-3.25513107262654,-2.2003748750279004,0.7777706747383216,0.37056489767082534,-0.3560390627881642,0.5131737979639818,-0.8335218338591645,-0.4547481048534048,-1.1565808901885064,-1.2649681759429672,0.5919062681448857,0.07393727325405307,-0.6392552717703002,-0.06532171436724853,1.2813676031184937,-1.0559418320411604,1.4139504592986571,2.4546740641948936,1.0705099251140995,0.4746150457471814,1.1909024990604284,-0.761915425175944,-0.23586143082944264,1.2184017973426964,-0.6852423003678728,1.2351106059744261,-0.5205086220142247,0.06761539169827334,-1.4735505010313557,-0.7035776570552076,0.791392914877188,1.5363518469695343,0.8680569096835051,0.03600875756233151,0.29652664576283305,1.5945681003222858,1.0959640865897888,-0.2577631398110386,0.041274579839142754,-0.9769537525253257,-0.4906770970438918,1.0543096348022898,0.48584175972625604,1.002107562265259,-1.140108891804244,-0.31048423609957376,1.1509293609216962,0.7543488225434943,0.7739362556765743,0.03311795773750614,-1.995401730436345,-0.44309580692760137],\"yaxis\":\"y7\",\"type\":\"scatter\"},{\"line\":{\"color\":\"rgba(128, 128, 128, 1.0)\",\"dash\":\"solid\",\"shape\":\"linear\",\"width\":1.3},\"marker\":{\"size\":2,\"symbol\":\"circle\"},\"mode\":\"markers\",\"name\":\"B\",\"text\":\"\",\"x\":[-0.47706790851296726,-1.2707186459478514,0.9013862500197893,0.16414791723662073,-0.528305912577053,0.760110588159711,-0.9776158566357236,-1.9850852366254366,-1.7370172816400318,0.2517126379770799,-1.0011328284672907,-0.2613786339032824,0.7797048038852065,-0.8170932884455905,0.009242583900853422,-1.6836507525265862,-0.5048036540858107,-1.8326485557919734,0.33415009569966686,-0.9733124229215993,0.4367633389693113,0.03620681452186859,0.15363324980570667,-1.388714196282162,0.4108269942067989,0.20041866327019373,1.8148173947031228,2.004429604813547,0.5415002110537025,-1.1467172808204054,-1.4323439440761963,-0.07144767755780287,0.9921183498797117,1.3919571631141874,-0.28899018259889425,-1.3447429645699842,0.7428281327387541,-0.9504888731963778,-1.850867509708682,-0.16284183218926565,0.306940590955219,-0.6707513443055351,-0.8698048225942233,-0.1497534577034293,1.8202306536146895,-1.4094254413160463,0.13846159598012317,-0.4937329310018632,-0.2702891575624019,-0.8169023120461076,0.6034411819058803,0.5691307542052024,-1.2180680201750023,1.5002550280971456,0.5319616257602449,-0.501889689467497,-1.1426950065491108,-0.43092752543985824,0.5066801146013515,0.7120879493263683,-0.517113995921473,-2.1512371124884613,0.16494732984756155,-1.2612525350156645,-0.010982003206188539,-0.9613283948665519,0.5062728424278135,0.5896847471268124,-1.0852558234880636,-0.2656180177773189,0.6347090759322588,0.4164494719838177,0.49535903439532736,-0.6488023608549194,0.11752878131637244,-0.04236959134854982,1.053827362093787,-0.4985717151399195,1.5771374690324773,1.1248556430129348,0.9565736686442126,0.5998504230364267,-1.4234707658047592,0.8521225737041161,-0.2848760900886783,1.162666959599844,0.5033335838244494,-0.2155570736812704,-1.0385583461447516,-1.1622475401435761,0.021390230891725686,-0.560576739090153,-0.8790485403383482,-0.25105250628280734,-0.16719939889526858,1.1360088693685437,0.4271792584961496,0.8579829289124504,-0.7858608501724726,-0.21070718427011376],\"xaxis\":\"x8\",\"y\":[-1.3999773022346853,-0.6625620672077985,-0.13403593135012803,-0.2339878842549569,0.08100488242810727,-0.40094669137310823,0.7110857695394376,0.945132123112901,0.7801585124745818,-2.4061019556258447,0.09632851478545619,0.2992606351539072,-0.9932761773845984,1.9891885642792426,-1.4147458176381231,0.5469460471883897,-0.43138767364022956,-0.11380232186836925,0.2642741060329245,-0.4516065127701526,-0.2174021449631138,0.6777841867420318,1.4469906621585116,-0.10477332749880597,-0.5718353186794933,-0.9241770381073433,0.7487742034721503,0.5116307408743127,-0.357573289466846,-0.42891030205716935,-1.4555911877393972,-0.16832153572754027,-0.3332303972415607,1.625673569413001,0.3741258191879868,-1.4188933829841257,0.3302419395213557,-1.115231172523026,-0.6533977526153854,-2.280552620733146,1.0417207322966597,-1.127180454096471,-1.6350014016713625,0.004862259578625818,0.15447244530216225,-0.6305495592044218,1.6494365509525002,1.249404337821749,-3.25513107262654,-2.2003748750279004,0.7777706747383216,0.37056489767082534,-0.3560390627881642,0.5131737979639818,-0.8335218338591645,-0.4547481048534048,-1.1565808901885064,-1.2649681759429672,0.5919062681448857,0.07393727325405307,-0.6392552717703002,-0.06532171436724853,1.2813676031184937,-1.0559418320411604,1.4139504592986571,2.4546740641948936,1.0705099251140995,0.4746150457471814,1.1909024990604284,-0.761915425175944,-0.23586143082944264,1.2184017973426964,-0.6852423003678728,1.2351106059744261,-0.5205086220142247,0.06761539169827334,-1.4735505010313557,-0.7035776570552076,0.791392914877188,1.5363518469695343,0.8680569096835051,0.03600875756233151,0.29652664576283305,1.5945681003222858,1.0959640865897888,-0.2577631398110386,0.041274579839142754,-0.9769537525253257,-0.4906770970438918,1.0543096348022898,0.48584175972625604,1.002107562265259,-1.140108891804244,-0.31048423609957376,1.1509293609216962,0.7543488225434943,0.7739362556765743,0.03311795773750614,-1.995401730436345,-0.44309580692760137],\"yaxis\":\"y8\",\"type\":\"scatter\"},{\"line\":{\"color\":\"rgba(128, 128, 128, 1.0)\",\"dash\":\"solid\",\"shape\":\"linear\",\"width\":1.3},\"marker\":{\"size\":2,\"symbol\":\"circle\"},\"mode\":\"markers\",\"name\":\"C\",\"text\":\"\",\"x\":[-1.2615300860614054,0.5168583781406116,-1.27565405789446,1.4781814691430137,0.16685274993216312,0.29486795628181317,0.9785825523153496,0.14359652449530164,-0.8925068476041645,0.6869895496306667,-0.3184260842234965,-0.06079029464726772,0.3046179848603725,-0.28578117724567403,0.9555452637232548,-0.436571217632825,1.5989488034519654,-0.15788956695773615,-0.3888100527566678,-0.591990160710526,0.2710004943704668,0.2602297984499211,0.5657822404335577,0.18748818541864734,-0.18808181802469898,-1.35595867059301,-1.7497884642723616,0.825144024533562,0.20421153196532738,-0.2644595981522582,-0.029348334202425504,1.9077855533319394,0.22916452088223646,0.2867610600268779,1.2904275286706701,0.6215964625270357,0.6747330686433912,1.0478166238045625,-1.3554516876860905,0.08092118840581466,-0.40994404610033824,0.28561581083232607,0.1966769220405505,-1.1411890045092357,1.7231332434630888,-0.42193519470372676,-1.741625904007534,-2.391591329146761,0.689222905342845,0.19798524650811158,-0.10115323119577455,-0.9603616907577721,-0.8625275697297408,0.3524640636948968,1.2393159762473505,2.377375403963859,-0.33161650928400876,-0.7541694714930774,0.8277565338293128,0.06080378891897225,-0.9710249811252153,1.224128475122221,0.11241632604675655,-1.1815069448698765,0.1313115186944857,-1.2010409076083939,0.15765706193163107,-1.3211297942118674,-0.9825223740395495,0.7894139009281048,-1.1055435265481648,1.1142658013635867,-0.18738716811804088,-0.9014408479515046,-0.10340889577700428,1.915295678544698,-1.026271756257129,0.12995497319553861,1.1193558873374236,-0.23180192875510952,0.21849137154823123,1.0419858768778796,0.24556231413052595,0.49309662249476477,0.6160279264073351,-0.028684263888879884,-0.27846238992189154,-0.6151339164505116,0.6620802123427995,0.3485255177495143,-1.218456441286671,-1.0227375652102357,-0.3943161595674681,-0.638346772297683,0.14208982603404896,3.7399500319589483,0.1844386958356573,-0.17634768147868762,0.3712982772511809,-0.07532474604483136],\"xaxis\":\"x9\",\"y\":[-0.6119837808345561,0.3853238635163028,-0.3511377855594242,-1.2204433026125334,-1.4237140106901527,-1.4195892782820938,0.9600088242611423,-0.11576393066849629,-0.9923024938054422,1.586223557969978,-1.4415780438747134,-1.2390733485327365,-0.33434878971735,1.9648199577776106,-0.08766612300352726,0.6202142714008656,-0.4467833684597155,-1.8994423633847775,-0.24118307225659497,-0.2099697413813049,-2.363340341029225,-1.1268258112064171,0.9639369087615384,-0.8885829400990982,0.3949285761942748,0.7881513636323871,-0.3144980559102199,-1.0461492475918,0.7166247447078593,-0.7468524159013762,0.8674151970421391,0.04602419135137053,0.46689153490274143,-1.2819897688349893,-1.4844966214527495,-0.2673619567705891,-1.222054059020473,-1.648420834754166,0.23747325432178468,-0.2904214934817071,-0.7650753522220357,0.3339269550455444,0.3480370278900314,0.8535187828086694,-1.0203953719350616,0.3392290875947378,0.03524267145517492,-0.08448984563170832,-2.2837805574276637,1.5270501865766104,1.2202286331391123,-2.395575852397786,-0.8432511291804089,1.1173922522989193,-0.8984316406419147,0.5588617083291683,1.4372836910213578,-0.32439378800799,0.9779212262649797,1.8500836537456498,0.7988326066757393,-0.1600357106456922,-0.03578748628843559,0.015641839847267188,0.44411920757704476,0.04502063446646156,-0.45117357857469953,-1.0741430372659364,-0.3209542399646837,-0.16436327237197473,1.3238866144457233,0.5132156730418638,-2.5893852115736262,-0.9392610359312538,-0.039151045772395,-1.361385251067636,0.42728496093696755,1.3513628557834192,-0.7504843096847912,-0.40801449108868953,0.35522511590782646,-0.5329811735863856,-0.367692788068022,-0.5417829440013526,-0.790027084227306,-0.10854904271123081,-0.979391037830631,1.1263211137155658,0.7278214354793066,-1.04877880464554,0.07319863551321172,0.34737416688188083,-0.916850087439608,0.6593068679495917,-1.23129583355202,-0.3578263992626871,1.4468431695053796,1.4151596591672,0.047903323163623036,-0.08915065282485961],\"yaxis\":\"y9\",\"type\":\"scatter\"},{\"line\":{\"color\":\"rgba(128, 128, 128, 1.0)\",\"dash\":\"solid\",\"shape\":\"linear\",\"width\":1.3},\"marker\":{\"size\":2,\"symbol\":\"circle\"},\"mode\":\"markers\",\"name\":\"C\",\"text\":\"\",\"x\":[-1.3999773022346853,-0.6625620672077985,-0.13403593135012803,-0.2339878842549569,0.08100488242810727,-0.40094669137310823,0.7110857695394376,0.945132123112901,0.7801585124745818,-2.4061019556258447,0.09632851478545619,0.2992606351539072,-0.9932761773845984,1.9891885642792426,-1.4147458176381231,0.5469460471883897,-0.43138767364022956,-0.11380232186836925,0.2642741060329245,-0.4516065127701526,-0.2174021449631138,0.6777841867420318,1.4469906621585116,-0.10477332749880597,-0.5718353186794933,-0.9241770381073433,0.7487742034721503,0.5116307408743127,-0.357573289466846,-0.42891030205716935,-1.4555911877393972,-0.16832153572754027,-0.3332303972415607,1.625673569413001,0.3741258191879868,-1.4188933829841257,0.3302419395213557,-1.115231172523026,-0.6533977526153854,-2.280552620733146,1.0417207322966597,-1.127180454096471,-1.6350014016713625,0.004862259578625818,0.15447244530216225,-0.6305495592044218,1.6494365509525002,1.249404337821749,-3.25513107262654,-2.2003748750279004,0.7777706747383216,0.37056489767082534,-0.3560390627881642,0.5131737979639818,-0.8335218338591645,-0.4547481048534048,-1.1565808901885064,-1.2649681759429672,0.5919062681448857,0.07393727325405307,-0.6392552717703002,-0.06532171436724853,1.2813676031184937,-1.0559418320411604,1.4139504592986571,2.4546740641948936,1.0705099251140995,0.4746150457471814,1.1909024990604284,-0.761915425175944,-0.23586143082944264,1.2184017973426964,-0.6852423003678728,1.2351106059744261,-0.5205086220142247,0.06761539169827334,-1.4735505010313557,-0.7035776570552076,0.791392914877188,1.5363518469695343,0.8680569096835051,0.03600875756233151,0.29652664576283305,1.5945681003222858,1.0959640865897888,-0.2577631398110386,0.041274579839142754,-0.9769537525253257,-0.4906770970438918,1.0543096348022898,0.48584175972625604,1.002107562265259,-1.140108891804244,-0.31048423609957376,1.1509293609216962,0.7543488225434943,0.7739362556765743,0.03311795773750614,-1.995401730436345,-0.44309580692760137],\"xaxis\":\"x10\",\"y\":[-0.6119837808345561,0.3853238635163028,-0.3511377855594242,-1.2204433026125334,-1.4237140106901527,-1.4195892782820938,0.9600088242611423,-0.11576393066849629,-0.9923024938054422,1.586223557969978,-1.4415780438747134,-1.2390733485327365,-0.33434878971735,1.9648199577776106,-0.08766612300352726,0.6202142714008656,-0.4467833684597155,-1.8994423633847775,-0.24118307225659497,-0.2099697413813049,-2.363340341029225,-1.1268258112064171,0.9639369087615384,-0.8885829400990982,0.3949285761942748,0.7881513636323871,-0.3144980559102199,-1.0461492475918,0.7166247447078593,-0.7468524159013762,0.8674151970421391,0.04602419135137053,0.46689153490274143,-1.2819897688349893,-1.4844966214527495,-0.2673619567705891,-1.222054059020473,-1.648420834754166,0.23747325432178468,-0.2904214934817071,-0.7650753522220357,0.3339269550455444,0.3480370278900314,0.8535187828086694,-1.0203953719350616,0.3392290875947378,0.03524267145517492,-0.08448984563170832,-2.2837805574276637,1.5270501865766104,1.2202286331391123,-2.395575852397786,-0.8432511291804089,1.1173922522989193,-0.8984316406419147,0.5588617083291683,1.4372836910213578,-0.32439378800799,0.9779212262649797,1.8500836537456498,0.7988326066757393,-0.1600357106456922,-0.03578748628843559,0.015641839847267188,0.44411920757704476,0.04502063446646156,-0.45117357857469953,-1.0741430372659364,-0.3209542399646837,-0.16436327237197473,1.3238866144457233,0.5132156730418638,-2.5893852115736262,-0.9392610359312538,-0.039151045772395,-1.361385251067636,0.42728496093696755,1.3513628557834192,-0.7504843096847912,-0.40801449108868953,0.35522511590782646,-0.5329811735863856,-0.367692788068022,-0.5417829440013526,-0.790027084227306,-0.10854904271123081,-0.979391037830631,1.1263211137155658,0.7278214354793066,-1.04877880464554,0.07319863551321172,0.34737416688188083,-0.916850087439608,0.6593068679495917,-1.23129583355202,-0.3578263992626871,1.4468431695053796,1.4151596591672,0.047903323163623036,-0.08915065282485961],\"yaxis\":\"y10\",\"type\":\"scatter\"},{\"histfunc\":\"count\",\"histnorm\":\"\",\"marker\":{\"color\":\"rgba(50, 171, 96, 1.0)\",\"line\":{\"color\":\"#4D5663\",\"width\":1.3}},\"name\":\"C\",\"nbinsx\":10,\"opacity\":0.8,\"orientation\":\"v\",\"x\":[-0.6119837808345561,0.3853238635163028,-0.3511377855594242,-1.2204433026125334,-1.4237140106901527,-1.4195892782820938,0.9600088242611423,-0.11576393066849629,-0.9923024938054422,1.586223557969978,-1.4415780438747134,-1.2390733485327365,-0.33434878971735,1.9648199577776106,-0.08766612300352726,0.6202142714008656,-0.4467833684597155,-1.8994423633847775,-0.24118307225659497,-0.2099697413813049,-2.363340341029225,-1.1268258112064171,0.9639369087615384,-0.8885829400990982,0.3949285761942748,0.7881513636323871,-0.3144980559102199,-1.0461492475918,0.7166247447078593,-0.7468524159013762,0.8674151970421391,0.04602419135137053,0.46689153490274143,-1.2819897688349893,-1.4844966214527495,-0.2673619567705891,-1.222054059020473,-1.648420834754166,0.23747325432178468,-0.2904214934817071,-0.7650753522220357,0.3339269550455444,0.3480370278900314,0.8535187828086694,-1.0203953719350616,0.3392290875947378,0.03524267145517492,-0.08448984563170832,-2.2837805574276637,1.5270501865766104,1.2202286331391123,-2.395575852397786,-0.8432511291804089,1.1173922522989193,-0.8984316406419147,0.5588617083291683,1.4372836910213578,-0.32439378800799,0.9779212262649797,1.8500836537456498,0.7988326066757393,-0.1600357106456922,-0.03578748628843559,0.015641839847267188,0.44411920757704476,0.04502063446646156,-0.45117357857469953,-1.0741430372659364,-0.3209542399646837,-0.16436327237197473,1.3238866144457233,0.5132156730418638,-2.5893852115736262,-0.9392610359312538,-0.039151045772395,-1.361385251067636,0.42728496093696755,1.3513628557834192,-0.7504843096847912,-0.40801449108868953,0.35522511590782646,-0.5329811735863856,-0.367692788068022,-0.5417829440013526,-0.790027084227306,-0.10854904271123081,-0.979391037830631,1.1263211137155658,0.7278214354793066,-1.04877880464554,0.07319863551321172,0.34737416688188083,-0.916850087439608,0.6593068679495917,-1.23129583355202,-0.3578263992626871,1.4468431695053796,1.4151596591672,0.047903323163623036,-0.08915065282485961],\"xaxis\":\"x11\",\"yaxis\":\"y11\",\"type\":\"histogram\"},{\"line\":{\"color\":\"rgba(128, 128, 128, 1.0)\",\"dash\":\"solid\",\"shape\":\"linear\",\"width\":1.3},\"marker\":{\"size\":2,\"symbol\":\"circle\"},\"mode\":\"markers\",\"name\":\"C\",\"text\":\"\",\"x\":[-0.47706790851296726,-1.2707186459478514,0.9013862500197893,0.16414791723662073,-0.528305912577053,0.760110588159711,-0.9776158566357236,-1.9850852366254366,-1.7370172816400318,0.2517126379770799,-1.0011328284672907,-0.2613786339032824,0.7797048038852065,-0.8170932884455905,0.009242583900853422,-1.6836507525265862,-0.5048036540858107,-1.8326485557919734,0.33415009569966686,-0.9733124229215993,0.4367633389693113,0.03620681452186859,0.15363324980570667,-1.388714196282162,0.4108269942067989,0.20041866327019373,1.8148173947031228,2.004429604813547,0.5415002110537025,-1.1467172808204054,-1.4323439440761963,-0.07144767755780287,0.9921183498797117,1.3919571631141874,-0.28899018259889425,-1.3447429645699842,0.7428281327387541,-0.9504888731963778,-1.850867509708682,-0.16284183218926565,0.306940590955219,-0.6707513443055351,-0.8698048225942233,-0.1497534577034293,1.8202306536146895,-1.4094254413160463,0.13846159598012317,-0.4937329310018632,-0.2702891575624019,-0.8169023120461076,0.6034411819058803,0.5691307542052024,-1.2180680201750023,1.5002550280971456,0.5319616257602449,-0.501889689467497,-1.1426950065491108,-0.43092752543985824,0.5066801146013515,0.7120879493263683,-0.517113995921473,-2.1512371124884613,0.16494732984756155,-1.2612525350156645,-0.010982003206188539,-0.9613283948665519,0.5062728424278135,0.5896847471268124,-1.0852558234880636,-0.2656180177773189,0.6347090759322588,0.4164494719838177,0.49535903439532736,-0.6488023608549194,0.11752878131637244,-0.04236959134854982,1.053827362093787,-0.4985717151399195,1.5771374690324773,1.1248556430129348,0.9565736686442126,0.5998504230364267,-1.4234707658047592,0.8521225737041161,-0.2848760900886783,1.162666959599844,0.5033335838244494,-0.2155570736812704,-1.0385583461447516,-1.1622475401435761,0.021390230891725686,-0.560576739090153,-0.8790485403383482,-0.25105250628280734,-0.16719939889526858,1.1360088693685437,0.4271792584961496,0.8579829289124504,-0.7858608501724726,-0.21070718427011376],\"xaxis\":\"x12\",\"y\":[-0.6119837808345561,0.3853238635163028,-0.3511377855594242,-1.2204433026125334,-1.4237140106901527,-1.4195892782820938,0.9600088242611423,-0.11576393066849629,-0.9923024938054422,1.586223557969978,-1.4415780438747134,-1.2390733485327365,-0.33434878971735,1.9648199577776106,-0.08766612300352726,0.6202142714008656,-0.4467833684597155,-1.8994423633847775,-0.24118307225659497,-0.2099697413813049,-2.363340341029225,-1.1268258112064171,0.9639369087615384,-0.8885829400990982,0.3949285761942748,0.7881513636323871,-0.3144980559102199,-1.0461492475918,0.7166247447078593,-0.7468524159013762,0.8674151970421391,0.04602419135137053,0.46689153490274143,-1.2819897688349893,-1.4844966214527495,-0.2673619567705891,-1.222054059020473,-1.648420834754166,0.23747325432178468,-0.2904214934817071,-0.7650753522220357,0.3339269550455444,0.3480370278900314,0.8535187828086694,-1.0203953719350616,0.3392290875947378,0.03524267145517492,-0.08448984563170832,-2.2837805574276637,1.5270501865766104,1.2202286331391123,-2.395575852397786,-0.8432511291804089,1.1173922522989193,-0.8984316406419147,0.5588617083291683,1.4372836910213578,-0.32439378800799,0.9779212262649797,1.8500836537456498,0.7988326066757393,-0.1600357106456922,-0.03578748628843559,0.015641839847267188,0.44411920757704476,0.04502063446646156,-0.45117357857469953,-1.0741430372659364,-0.3209542399646837,-0.16436327237197473,1.3238866144457233,0.5132156730418638,-2.5893852115736262,-0.9392610359312538,-0.039151045772395,-1.361385251067636,0.42728496093696755,1.3513628557834192,-0.7504843096847912,-0.40801449108868953,0.35522511590782646,-0.5329811735863856,-0.367692788068022,-0.5417829440013526,-0.790027084227306,-0.10854904271123081,-0.979391037830631,1.1263211137155658,0.7278214354793066,-1.04877880464554,0.07319863551321172,0.34737416688188083,-0.916850087439608,0.6593068679495917,-1.23129583355202,-0.3578263992626871,1.4468431695053796,1.4151596591672,0.047903323163623036,-0.08915065282485961],\"yaxis\":\"y12\",\"type\":\"scatter\"},{\"line\":{\"color\":\"rgba(128, 128, 128, 1.0)\",\"dash\":\"solid\",\"shape\":\"linear\",\"width\":1.3},\"marker\":{\"size\":2,\"symbol\":\"circle\"},\"mode\":\"markers\",\"name\":\"D\",\"text\":\"\",\"x\":[-1.2615300860614054,0.5168583781406116,-1.27565405789446,1.4781814691430137,0.16685274993216312,0.29486795628181317,0.9785825523153496,0.14359652449530164,-0.8925068476041645,0.6869895496306667,-0.3184260842234965,-0.06079029464726772,0.3046179848603725,-0.28578117724567403,0.9555452637232548,-0.436571217632825,1.5989488034519654,-0.15788956695773615,-0.3888100527566678,-0.591990160710526,0.2710004943704668,0.2602297984499211,0.5657822404335577,0.18748818541864734,-0.18808181802469898,-1.35595867059301,-1.7497884642723616,0.825144024533562,0.20421153196532738,-0.2644595981522582,-0.029348334202425504,1.9077855533319394,0.22916452088223646,0.2867610600268779,1.2904275286706701,0.6215964625270357,0.6747330686433912,1.0478166238045625,-1.3554516876860905,0.08092118840581466,-0.40994404610033824,0.28561581083232607,0.1966769220405505,-1.1411890045092357,1.7231332434630888,-0.42193519470372676,-1.741625904007534,-2.391591329146761,0.689222905342845,0.19798524650811158,-0.10115323119577455,-0.9603616907577721,-0.8625275697297408,0.3524640636948968,1.2393159762473505,2.377375403963859,-0.33161650928400876,-0.7541694714930774,0.8277565338293128,0.06080378891897225,-0.9710249811252153,1.224128475122221,0.11241632604675655,-1.1815069448698765,0.1313115186944857,-1.2010409076083939,0.15765706193163107,-1.3211297942118674,-0.9825223740395495,0.7894139009281048,-1.1055435265481648,1.1142658013635867,-0.18738716811804088,-0.9014408479515046,-0.10340889577700428,1.915295678544698,-1.026271756257129,0.12995497319553861,1.1193558873374236,-0.23180192875510952,0.21849137154823123,1.0419858768778796,0.24556231413052595,0.49309662249476477,0.6160279264073351,-0.028684263888879884,-0.27846238992189154,-0.6151339164505116,0.6620802123427995,0.3485255177495143,-1.218456441286671,-1.0227375652102357,-0.3943161595674681,-0.638346772297683,0.14208982603404896,3.7399500319589483,0.1844386958356573,-0.17634768147868762,0.3712982772511809,-0.07532474604483136],\"xaxis\":\"x13\",\"y\":[-0.47706790851296726,-1.2707186459478514,0.9013862500197893,0.16414791723662073,-0.528305912577053,0.760110588159711,-0.9776158566357236,-1.9850852366254366,-1.7370172816400318,0.2517126379770799,-1.0011328284672907,-0.2613786339032824,0.7797048038852065,-0.8170932884455905,0.009242583900853422,-1.6836507525265862,-0.5048036540858107,-1.8326485557919734,0.33415009569966686,-0.9733124229215993,0.4367633389693113,0.03620681452186859,0.15363324980570667,-1.388714196282162,0.4108269942067989,0.20041866327019373,1.8148173947031228,2.004429604813547,0.5415002110537025,-1.1467172808204054,-1.4323439440761963,-0.07144767755780287,0.9921183498797117,1.3919571631141874,-0.28899018259889425,-1.3447429645699842,0.7428281327387541,-0.9504888731963778,-1.850867509708682,-0.16284183218926565,0.306940590955219,-0.6707513443055351,-0.8698048225942233,-0.1497534577034293,1.8202306536146895,-1.4094254413160463,0.13846159598012317,-0.4937329310018632,-0.2702891575624019,-0.8169023120461076,0.6034411819058803,0.5691307542052024,-1.2180680201750023,1.5002550280971456,0.5319616257602449,-0.501889689467497,-1.1426950065491108,-0.43092752543985824,0.5066801146013515,0.7120879493263683,-0.517113995921473,-2.1512371124884613,0.16494732984756155,-1.2612525350156645,-0.010982003206188539,-0.9613283948665519,0.5062728424278135,0.5896847471268124,-1.0852558234880636,-0.2656180177773189,0.6347090759322588,0.4164494719838177,0.49535903439532736,-0.6488023608549194,0.11752878131637244,-0.04236959134854982,1.053827362093787,-0.4985717151399195,1.5771374690324773,1.1248556430129348,0.9565736686442126,0.5998504230364267,-1.4234707658047592,0.8521225737041161,-0.2848760900886783,1.162666959599844,0.5033335838244494,-0.2155570736812704,-1.0385583461447516,-1.1622475401435761,0.021390230891725686,-0.560576739090153,-0.8790485403383482,-0.25105250628280734,-0.16719939889526858,1.1360088693685437,0.4271792584961496,0.8579829289124504,-0.7858608501724726,-0.21070718427011376],\"yaxis\":\"y13\",\"type\":\"scatter\"},{\"line\":{\"color\":\"rgba(128, 128, 128, 1.0)\",\"dash\":\"solid\",\"shape\":\"linear\",\"width\":1.3},\"marker\":{\"size\":2,\"symbol\":\"circle\"},\"mode\":\"markers\",\"name\":\"D\",\"text\":\"\",\"x\":[-1.3999773022346853,-0.6625620672077985,-0.13403593135012803,-0.2339878842549569,0.08100488242810727,-0.40094669137310823,0.7110857695394376,0.945132123112901,0.7801585124745818,-2.4061019556258447,0.09632851478545619,0.2992606351539072,-0.9932761773845984,1.9891885642792426,-1.4147458176381231,0.5469460471883897,-0.43138767364022956,-0.11380232186836925,0.2642741060329245,-0.4516065127701526,-0.2174021449631138,0.6777841867420318,1.4469906621585116,-0.10477332749880597,-0.5718353186794933,-0.9241770381073433,0.7487742034721503,0.5116307408743127,-0.357573289466846,-0.42891030205716935,-1.4555911877393972,-0.16832153572754027,-0.3332303972415607,1.625673569413001,0.3741258191879868,-1.4188933829841257,0.3302419395213557,-1.115231172523026,-0.6533977526153854,-2.280552620733146,1.0417207322966597,-1.127180454096471,-1.6350014016713625,0.004862259578625818,0.15447244530216225,-0.6305495592044218,1.6494365509525002,1.249404337821749,-3.25513107262654,-2.2003748750279004,0.7777706747383216,0.37056489767082534,-0.3560390627881642,0.5131737979639818,-0.8335218338591645,-0.4547481048534048,-1.1565808901885064,-1.2649681759429672,0.5919062681448857,0.07393727325405307,-0.6392552717703002,-0.06532171436724853,1.2813676031184937,-1.0559418320411604,1.4139504592986571,2.4546740641948936,1.0705099251140995,0.4746150457471814,1.1909024990604284,-0.761915425175944,-0.23586143082944264,1.2184017973426964,-0.6852423003678728,1.2351106059744261,-0.5205086220142247,0.06761539169827334,-1.4735505010313557,-0.7035776570552076,0.791392914877188,1.5363518469695343,0.8680569096835051,0.03600875756233151,0.29652664576283305,1.5945681003222858,1.0959640865897888,-0.2577631398110386,0.041274579839142754,-0.9769537525253257,-0.4906770970438918,1.0543096348022898,0.48584175972625604,1.002107562265259,-1.140108891804244,-0.31048423609957376,1.1509293609216962,0.7543488225434943,0.7739362556765743,0.03311795773750614,-1.995401730436345,-0.44309580692760137],\"xaxis\":\"x14\",\"y\":[-0.47706790851296726,-1.2707186459478514,0.9013862500197893,0.16414791723662073,-0.528305912577053,0.760110588159711,-0.9776158566357236,-1.9850852366254366,-1.7370172816400318,0.2517126379770799,-1.0011328284672907,-0.2613786339032824,0.7797048038852065,-0.8170932884455905,0.009242583900853422,-1.6836507525265862,-0.5048036540858107,-1.8326485557919734,0.33415009569966686,-0.9733124229215993,0.4367633389693113,0.03620681452186859,0.15363324980570667,-1.388714196282162,0.4108269942067989,0.20041866327019373,1.8148173947031228,2.004429604813547,0.5415002110537025,-1.1467172808204054,-1.4323439440761963,-0.07144767755780287,0.9921183498797117,1.3919571631141874,-0.28899018259889425,-1.3447429645699842,0.7428281327387541,-0.9504888731963778,-1.850867509708682,-0.16284183218926565,0.306940590955219,-0.6707513443055351,-0.8698048225942233,-0.1497534577034293,1.8202306536146895,-1.4094254413160463,0.13846159598012317,-0.4937329310018632,-0.2702891575624019,-0.8169023120461076,0.6034411819058803,0.5691307542052024,-1.2180680201750023,1.5002550280971456,0.5319616257602449,-0.501889689467497,-1.1426950065491108,-0.43092752543985824,0.5066801146013515,0.7120879493263683,-0.517113995921473,-2.1512371124884613,0.16494732984756155,-1.2612525350156645,-0.010982003206188539,-0.9613283948665519,0.5062728424278135,0.5896847471268124,-1.0852558234880636,-0.2656180177773189,0.6347090759322588,0.4164494719838177,0.49535903439532736,-0.6488023608549194,0.11752878131637244,-0.04236959134854982,1.053827362093787,-0.4985717151399195,1.5771374690324773,1.1248556430129348,0.9565736686442126,0.5998504230364267,-1.4234707658047592,0.8521225737041161,-0.2848760900886783,1.162666959599844,0.5033335838244494,-0.2155570736812704,-1.0385583461447516,-1.1622475401435761,0.021390230891725686,-0.560576739090153,-0.8790485403383482,-0.25105250628280734,-0.16719939889526858,1.1360088693685437,0.4271792584961496,0.8579829289124504,-0.7858608501724726,-0.21070718427011376],\"yaxis\":\"y14\",\"type\":\"scatter\"},{\"line\":{\"color\":\"rgba(128, 128, 128, 1.0)\",\"dash\":\"solid\",\"shape\":\"linear\",\"width\":1.3},\"marker\":{\"size\":2,\"symbol\":\"circle\"},\"mode\":\"markers\",\"name\":\"D\",\"text\":\"\",\"x\":[-0.6119837808345561,0.3853238635163028,-0.3511377855594242,-1.2204433026125334,-1.4237140106901527,-1.4195892782820938,0.9600088242611423,-0.11576393066849629,-0.9923024938054422,1.586223557969978,-1.4415780438747134,-1.2390733485327365,-0.33434878971735,1.9648199577776106,-0.08766612300352726,0.6202142714008656,-0.4467833684597155,-1.8994423633847775,-0.24118307225659497,-0.2099697413813049,-2.363340341029225,-1.1268258112064171,0.9639369087615384,-0.8885829400990982,0.3949285761942748,0.7881513636323871,-0.3144980559102199,-1.0461492475918,0.7166247447078593,-0.7468524159013762,0.8674151970421391,0.04602419135137053,0.46689153490274143,-1.2819897688349893,-1.4844966214527495,-0.2673619567705891,-1.222054059020473,-1.648420834754166,0.23747325432178468,-0.2904214934817071,-0.7650753522220357,0.3339269550455444,0.3480370278900314,0.8535187828086694,-1.0203953719350616,0.3392290875947378,0.03524267145517492,-0.08448984563170832,-2.2837805574276637,1.5270501865766104,1.2202286331391123,-2.395575852397786,-0.8432511291804089,1.1173922522989193,-0.8984316406419147,0.5588617083291683,1.4372836910213578,-0.32439378800799,0.9779212262649797,1.8500836537456498,0.7988326066757393,-0.1600357106456922,-0.03578748628843559,0.015641839847267188,0.44411920757704476,0.04502063446646156,-0.45117357857469953,-1.0741430372659364,-0.3209542399646837,-0.16436327237197473,1.3238866144457233,0.5132156730418638,-2.5893852115736262,-0.9392610359312538,-0.039151045772395,-1.361385251067636,0.42728496093696755,1.3513628557834192,-0.7504843096847912,-0.40801449108868953,0.35522511590782646,-0.5329811735863856,-0.367692788068022,-0.5417829440013526,-0.790027084227306,-0.10854904271123081,-0.979391037830631,1.1263211137155658,0.7278214354793066,-1.04877880464554,0.07319863551321172,0.34737416688188083,-0.916850087439608,0.6593068679495917,-1.23129583355202,-0.3578263992626871,1.4468431695053796,1.4151596591672,0.047903323163623036,-0.08915065282485961],\"xaxis\":\"x15\",\"y\":[-0.47706790851296726,-1.2707186459478514,0.9013862500197893,0.16414791723662073,-0.528305912577053,0.760110588159711,-0.9776158566357236,-1.9850852366254366,-1.7370172816400318,0.2517126379770799,-1.0011328284672907,-0.2613786339032824,0.7797048038852065,-0.8170932884455905,0.009242583900853422,-1.6836507525265862,-0.5048036540858107,-1.8326485557919734,0.33415009569966686,-0.9733124229215993,0.4367633389693113,0.03620681452186859,0.15363324980570667,-1.388714196282162,0.4108269942067989,0.20041866327019373,1.8148173947031228,2.004429604813547,0.5415002110537025,-1.1467172808204054,-1.4323439440761963,-0.07144767755780287,0.9921183498797117,1.3919571631141874,-0.28899018259889425,-1.3447429645699842,0.7428281327387541,-0.9504888731963778,-1.850867509708682,-0.16284183218926565,0.306940590955219,-0.6707513443055351,-0.8698048225942233,-0.1497534577034293,1.8202306536146895,-1.4094254413160463,0.13846159598012317,-0.4937329310018632,-0.2702891575624019,-0.8169023120461076,0.6034411819058803,0.5691307542052024,-1.2180680201750023,1.5002550280971456,0.5319616257602449,-0.501889689467497,-1.1426950065491108,-0.43092752543985824,0.5066801146013515,0.7120879493263683,-0.517113995921473,-2.1512371124884613,0.16494732984756155,-1.2612525350156645,-0.010982003206188539,-0.9613283948665519,0.5062728424278135,0.5896847471268124,-1.0852558234880636,-0.2656180177773189,0.6347090759322588,0.4164494719838177,0.49535903439532736,-0.6488023608549194,0.11752878131637244,-0.04236959134854982,1.053827362093787,-0.4985717151399195,1.5771374690324773,1.1248556430129348,0.9565736686442126,0.5998504230364267,-1.4234707658047592,0.8521225737041161,-0.2848760900886783,1.162666959599844,0.5033335838244494,-0.2155570736812704,-1.0385583461447516,-1.1622475401435761,0.021390230891725686,-0.560576739090153,-0.8790485403383482,-0.25105250628280734,-0.16719939889526858,1.1360088693685437,0.4271792584961496,0.8579829289124504,-0.7858608501724726,-0.21070718427011376],\"yaxis\":\"y15\",\"type\":\"scatter\"},{\"histfunc\":\"count\",\"histnorm\":\"\",\"marker\":{\"color\":\"rgba(128, 0, 128, 1.0)\",\"line\":{\"color\":\"#4D5663\",\"width\":1.3}},\"name\":\"D\",\"nbinsx\":10,\"opacity\":0.8,\"orientation\":\"v\",\"x\":[-0.47706790851296726,-1.2707186459478514,0.9013862500197893,0.16414791723662073,-0.528305912577053,0.760110588159711,-0.9776158566357236,-1.9850852366254366,-1.7370172816400318,0.2517126379770799,-1.0011328284672907,-0.2613786339032824,0.7797048038852065,-0.8170932884455905,0.009242583900853422,-1.6836507525265862,-0.5048036540858107,-1.8326485557919734,0.33415009569966686,-0.9733124229215993,0.4367633389693113,0.03620681452186859,0.15363324980570667,-1.388714196282162,0.4108269942067989,0.20041866327019373,1.8148173947031228,2.004429604813547,0.5415002110537025,-1.1467172808204054,-1.4323439440761963,-0.07144767755780287,0.9921183498797117,1.3919571631141874,-0.28899018259889425,-1.3447429645699842,0.7428281327387541,-0.9504888731963778,-1.850867509708682,-0.16284183218926565,0.306940590955219,-0.6707513443055351,-0.8698048225942233,-0.1497534577034293,1.8202306536146895,-1.4094254413160463,0.13846159598012317,-0.4937329310018632,-0.2702891575624019,-0.8169023120461076,0.6034411819058803,0.5691307542052024,-1.2180680201750023,1.5002550280971456,0.5319616257602449,-0.501889689467497,-1.1426950065491108,-0.43092752543985824,0.5066801146013515,0.7120879493263683,-0.517113995921473,-2.1512371124884613,0.16494732984756155,-1.2612525350156645,-0.010982003206188539,-0.9613283948665519,0.5062728424278135,0.5896847471268124,-1.0852558234880636,-0.2656180177773189,0.6347090759322588,0.4164494719838177,0.49535903439532736,-0.6488023608549194,0.11752878131637244,-0.04236959134854982,1.053827362093787,-0.4985717151399195,1.5771374690324773,1.1248556430129348,0.9565736686442126,0.5998504230364267,-1.4234707658047592,0.8521225737041161,-0.2848760900886783,1.162666959599844,0.5033335838244494,-0.2155570736812704,-1.0385583461447516,-1.1622475401435761,0.021390230891725686,-0.560576739090153,-0.8790485403383482,-0.25105250628280734,-0.16719939889526858,1.1360088693685437,0.4271792584961496,0.8579829289124504,-0.7858608501724726,-0.21070718427011376],\"xaxis\":\"x16\",\"yaxis\":\"y16\",\"type\":\"histogram\"}],                        {\"bargap\":0.02,\"legend\":{\"bgcolor\":\"#F5F6F9\",\"font\":{\"color\":\"#4D5663\"}},\"paper_bgcolor\":\"#F5F6F9\",\"plot_bgcolor\":\"#F5F6F9\",\"showlegend\":false,\"template\":{\"data\":{\"barpolar\":[{\"marker\":{\"line\":{\"color\":\"#E5ECF6\",\"width\":0.5},\"pattern\":{\"fillmode\":\"overlay\",\"size\":10,\"solidity\":0.2}},\"type\":\"barpolar\"}],\"bar\":[{\"error_x\":{\"color\":\"#2a3f5f\"},\"error_y\":{\"color\":\"#2a3f5f\"},\"marker\":{\"line\":{\"color\":\"#E5ECF6\",\"width\":0.5},\"pattern\":{\"fillmode\":\"overlay\",\"size\":10,\"solidity\":0.2}},\"type\":\"bar\"}],\"carpet\":[{\"aaxis\":{\"endlinecolor\":\"#2a3f5f\",\"gridcolor\":\"white\",\"linecolor\":\"white\",\"minorgridcolor\":\"white\",\"startlinecolor\":\"#2a3f5f\"},\"baxis\":{\"endlinecolor\":\"#2a3f5f\",\"gridcolor\":\"white\",\"linecolor\":\"white\",\"minorgridcolor\":\"white\",\"startlinecolor\":\"#2a3f5f\"},\"type\":\"carpet\"}],\"choropleth\":[{\"colorbar\":{\"outlinewidth\":0,\"ticks\":\"\"},\"type\":\"choropleth\"}],\"contourcarpet\":[{\"colorbar\":{\"outlinewidth\":0,\"ticks\":\"\"},\"type\":\"contourcarpet\"}],\"contour\":[{\"colorbar\":{\"outlinewidth\":0,\"ticks\":\"\"},\"colorscale\":[[0.0,\"#0d0887\"],[0.1111111111111111,\"#46039f\"],[0.2222222222222222,\"#7201a8\"],[0.3333333333333333,\"#9c179e\"],[0.4444444444444444,\"#bd3786\"],[0.5555555555555556,\"#d8576b\"],[0.6666666666666666,\"#ed7953\"],[0.7777777777777778,\"#fb9f3a\"],[0.8888888888888888,\"#fdca26\"],[1.0,\"#f0f921\"]],\"type\":\"contour\"}],\"heatmapgl\":[{\"colorbar\":{\"outlinewidth\":0,\"ticks\":\"\"},\"colorscale\":[[0.0,\"#0d0887\"],[0.1111111111111111,\"#46039f\"],[0.2222222222222222,\"#7201a8\"],[0.3333333333333333,\"#9c179e\"],[0.4444444444444444,\"#bd3786\"],[0.5555555555555556,\"#d8576b\"],[0.6666666666666666,\"#ed7953\"],[0.7777777777777778,\"#fb9f3a\"],[0.8888888888888888,\"#fdca26\"],[1.0,\"#f0f921\"]],\"type\":\"heatmapgl\"}],\"heatmap\":[{\"colorbar\":{\"outlinewidth\":0,\"ticks\":\"\"},\"colorscale\":[[0.0,\"#0d0887\"],[0.1111111111111111,\"#46039f\"],[0.2222222222222222,\"#7201a8\"],[0.3333333333333333,\"#9c179e\"],[0.4444444444444444,\"#bd3786\"],[0.5555555555555556,\"#d8576b\"],[0.6666666666666666,\"#ed7953\"],[0.7777777777777778,\"#fb9f3a\"],[0.8888888888888888,\"#fdca26\"],[1.0,\"#f0f921\"]],\"type\":\"heatmap\"}],\"histogram2dcontour\":[{\"colorbar\":{\"outlinewidth\":0,\"ticks\":\"\"},\"colorscale\":[[0.0,\"#0d0887\"],[0.1111111111111111,\"#46039f\"],[0.2222222222222222,\"#7201a8\"],[0.3333333333333333,\"#9c179e\"],[0.4444444444444444,\"#bd3786\"],[0.5555555555555556,\"#d8576b\"],[0.6666666666666666,\"#ed7953\"],[0.7777777777777778,\"#fb9f3a\"],[0.8888888888888888,\"#fdca26\"],[1.0,\"#f0f921\"]],\"type\":\"histogram2dcontour\"}],\"histogram2d\":[{\"colorbar\":{\"outlinewidth\":0,\"ticks\":\"\"},\"colorscale\":[[0.0,\"#0d0887\"],[0.1111111111111111,\"#46039f\"],[0.2222222222222222,\"#7201a8\"],[0.3333333333333333,\"#9c179e\"],[0.4444444444444444,\"#bd3786\"],[0.5555555555555556,\"#d8576b\"],[0.6666666666666666,\"#ed7953\"],[0.7777777777777778,\"#fb9f3a\"],[0.8888888888888888,\"#fdca26\"],[1.0,\"#f0f921\"]],\"type\":\"histogram2d\"}],\"histogram\":[{\"marker\":{\"pattern\":{\"fillmode\":\"overlay\",\"size\":10,\"solidity\":0.2}},\"type\":\"histogram\"}],\"mesh3d\":[{\"colorbar\":{\"outlinewidth\":0,\"ticks\":\"\"},\"type\":\"mesh3d\"}],\"parcoords\":[{\"line\":{\"colorbar\":{\"outlinewidth\":0,\"ticks\":\"\"}},\"type\":\"parcoords\"}],\"pie\":[{\"automargin\":true,\"type\":\"pie\"}],\"scatter3d\":[{\"line\":{\"colorbar\":{\"outlinewidth\":0,\"ticks\":\"\"}},\"marker\":{\"colorbar\":{\"outlinewidth\":0,\"ticks\":\"\"}},\"type\":\"scatter3d\"}],\"scattercarpet\":[{\"marker\":{\"colorbar\":{\"outlinewidth\":0,\"ticks\":\"\"}},\"type\":\"scattercarpet\"}],\"scattergeo\":[{\"marker\":{\"colorbar\":{\"outlinewidth\":0,\"ticks\":\"\"}},\"type\":\"scattergeo\"}],\"scattergl\":[{\"marker\":{\"colorbar\":{\"outlinewidth\":0,\"ticks\":\"\"}},\"type\":\"scattergl\"}],\"scattermapbox\":[{\"marker\":{\"colorbar\":{\"outlinewidth\":0,\"ticks\":\"\"}},\"type\":\"scattermapbox\"}],\"scatterpolargl\":[{\"marker\":{\"colorbar\":{\"outlinewidth\":0,\"ticks\":\"\"}},\"type\":\"scatterpolargl\"}],\"scatterpolar\":[{\"marker\":{\"colorbar\":{\"outlinewidth\":0,\"ticks\":\"\"}},\"type\":\"scatterpolar\"}],\"scatter\":[{\"fillpattern\":{\"fillmode\":\"overlay\",\"size\":10,\"solidity\":0.2},\"type\":\"scatter\"}],\"scatterternary\":[{\"marker\":{\"colorbar\":{\"outlinewidth\":0,\"ticks\":\"\"}},\"type\":\"scatterternary\"}],\"surface\":[{\"colorbar\":{\"outlinewidth\":0,\"ticks\":\"\"},\"colorscale\":[[0.0,\"#0d0887\"],[0.1111111111111111,\"#46039f\"],[0.2222222222222222,\"#7201a8\"],[0.3333333333333333,\"#9c179e\"],[0.4444444444444444,\"#bd3786\"],[0.5555555555555556,\"#d8576b\"],[0.6666666666666666,\"#ed7953\"],[0.7777777777777778,\"#fb9f3a\"],[0.8888888888888888,\"#fdca26\"],[1.0,\"#f0f921\"]],\"type\":\"surface\"}],\"table\":[{\"cells\":{\"fill\":{\"color\":\"#EBF0F8\"},\"line\":{\"color\":\"white\"}},\"header\":{\"fill\":{\"color\":\"#C8D4E3\"},\"line\":{\"color\":\"white\"}},\"type\":\"table\"}]},\"layout\":{\"annotationdefaults\":{\"arrowcolor\":\"#2a3f5f\",\"arrowhead\":0,\"arrowwidth\":1},\"autotypenumbers\":\"strict\",\"coloraxis\":{\"colorbar\":{\"outlinewidth\":0,\"ticks\":\"\"}},\"colorscale\":{\"diverging\":[[0,\"#8e0152\"],[0.1,\"#c51b7d\"],[0.2,\"#de77ae\"],[0.3,\"#f1b6da\"],[0.4,\"#fde0ef\"],[0.5,\"#f7f7f7\"],[0.6,\"#e6f5d0\"],[0.7,\"#b8e186\"],[0.8,\"#7fbc41\"],[0.9,\"#4d9221\"],[1,\"#276419\"]],\"sequential\":[[0.0,\"#0d0887\"],[0.1111111111111111,\"#46039f\"],[0.2222222222222222,\"#7201a8\"],[0.3333333333333333,\"#9c179e\"],[0.4444444444444444,\"#bd3786\"],[0.5555555555555556,\"#d8576b\"],[0.6666666666666666,\"#ed7953\"],[0.7777777777777778,\"#fb9f3a\"],[0.8888888888888888,\"#fdca26\"],[1.0,\"#f0f921\"]],\"sequentialminus\":[[0.0,\"#0d0887\"],[0.1111111111111111,\"#46039f\"],[0.2222222222222222,\"#7201a8\"],[0.3333333333333333,\"#9c179e\"],[0.4444444444444444,\"#bd3786\"],[0.5555555555555556,\"#d8576b\"],[0.6666666666666666,\"#ed7953\"],[0.7777777777777778,\"#fb9f3a\"],[0.8888888888888888,\"#fdca26\"],[1.0,\"#f0f921\"]]},\"colorway\":[\"#636efa\",\"#EF553B\",\"#00cc96\",\"#ab63fa\",\"#FFA15A\",\"#19d3f3\",\"#FF6692\",\"#B6E880\",\"#FF97FF\",\"#FECB52\"],\"font\":{\"color\":\"#2a3f5f\"},\"geo\":{\"bgcolor\":\"white\",\"lakecolor\":\"white\",\"landcolor\":\"#E5ECF6\",\"showlakes\":true,\"showland\":true,\"subunitcolor\":\"white\"},\"hoverlabel\":{\"align\":\"left\"},\"hovermode\":\"closest\",\"mapbox\":{\"style\":\"light\"},\"paper_bgcolor\":\"white\",\"plot_bgcolor\":\"#E5ECF6\",\"polar\":{\"angularaxis\":{\"gridcolor\":\"white\",\"linecolor\":\"white\",\"ticks\":\"\"},\"bgcolor\":\"#E5ECF6\",\"radialaxis\":{\"gridcolor\":\"white\",\"linecolor\":\"white\",\"ticks\":\"\"}},\"scene\":{\"xaxis\":{\"backgroundcolor\":\"#E5ECF6\",\"gridcolor\":\"white\",\"gridwidth\":2,\"linecolor\":\"white\",\"showbackground\":true,\"ticks\":\"\",\"zerolinecolor\":\"white\"},\"yaxis\":{\"backgroundcolor\":\"#E5ECF6\",\"gridcolor\":\"white\",\"gridwidth\":2,\"linecolor\":\"white\",\"showbackground\":true,\"ticks\":\"\",\"zerolinecolor\":\"white\"},\"zaxis\":{\"backgroundcolor\":\"#E5ECF6\",\"gridcolor\":\"white\",\"gridwidth\":2,\"linecolor\":\"white\",\"showbackground\":true,\"ticks\":\"\",\"zerolinecolor\":\"white\"}},\"shapedefaults\":{\"line\":{\"color\":\"#2a3f5f\"}},\"ternary\":{\"aaxis\":{\"gridcolor\":\"white\",\"linecolor\":\"white\",\"ticks\":\"\"},\"baxis\":{\"gridcolor\":\"white\",\"linecolor\":\"white\",\"ticks\":\"\"},\"bgcolor\":\"#E5ECF6\",\"caxis\":{\"gridcolor\":\"white\",\"linecolor\":\"white\",\"ticks\":\"\"}},\"title\":{\"x\":0.05},\"xaxis\":{\"automargin\":true,\"gridcolor\":\"white\",\"linecolor\":\"white\",\"ticks\":\"\",\"title\":{\"standoff\":15},\"zerolinecolor\":\"white\",\"zerolinewidth\":2},\"yaxis\":{\"automargin\":true,\"gridcolor\":\"white\",\"linecolor\":\"white\",\"ticks\":\"\",\"title\":{\"standoff\":15},\"zerolinecolor\":\"white\",\"zerolinewidth\":2}}},\"title\":{\"font\":{\"color\":\"#4D5663\"}},\"xaxis\":{\"anchor\":\"y\",\"domain\":[0.0,0.2125],\"gridcolor\":\"#E1E5ED\",\"showgrid\":false,\"tickfont\":{\"color\":\"#4D5663\"},\"title\":{\"font\":{\"color\":\"#4D5663\"},\"text\":\"\"},\"zerolinecolor\":\"#E1E5ED\"},\"yaxis\":{\"anchor\":\"x\",\"domain\":[0.8025,1.0],\"gridcolor\":\"#E1E5ED\",\"showgrid\":false,\"tickfont\":{\"color\":\"#4D5663\"},\"title\":{\"font\":{\"color\":\"#4D5663\"},\"text\":\"\"},\"zerolinecolor\":\"#E1E5ED\"},\"xaxis2\":{\"anchor\":\"y2\",\"domain\":[0.2625,0.475],\"gridcolor\":\"#E1E5ED\",\"showgrid\":false,\"tickfont\":{\"color\":\"#4D5663\"},\"title\":{\"font\":{\"color\":\"#4D5663\"},\"text\":\"\"},\"zerolinecolor\":\"#E1E5ED\"},\"yaxis2\":{\"anchor\":\"x2\",\"domain\":[0.8025,1.0],\"gridcolor\":\"#E1E5ED\",\"showgrid\":false,\"tickfont\":{\"color\":\"#4D5663\"},\"title\":{\"font\":{\"color\":\"#4D5663\"},\"text\":\"\"},\"zerolinecolor\":\"#E1E5ED\"},\"xaxis3\":{\"anchor\":\"y3\",\"domain\":[0.525,0.7375],\"gridcolor\":\"#E1E5ED\",\"showgrid\":false,\"tickfont\":{\"color\":\"#4D5663\"},\"title\":{\"font\":{\"color\":\"#4D5663\"},\"text\":\"\"},\"zerolinecolor\":\"#E1E5ED\"},\"yaxis3\":{\"anchor\":\"x3\",\"domain\":[0.8025,1.0],\"gridcolor\":\"#E1E5ED\",\"showgrid\":false,\"tickfont\":{\"color\":\"#4D5663\"},\"title\":{\"font\":{\"color\":\"#4D5663\"},\"text\":\"\"},\"zerolinecolor\":\"#E1E5ED\"},\"xaxis4\":{\"anchor\":\"y4\",\"domain\":[0.7875,1.0],\"gridcolor\":\"#E1E5ED\",\"showgrid\":false,\"tickfont\":{\"color\":\"#4D5663\"},\"title\":{\"font\":{\"color\":\"#4D5663\"},\"text\":\"\"},\"zerolinecolor\":\"#E1E5ED\"},\"yaxis4\":{\"anchor\":\"x4\",\"domain\":[0.8025,1.0],\"gridcolor\":\"#E1E5ED\",\"showgrid\":false,\"tickfont\":{\"color\":\"#4D5663\"},\"title\":{\"font\":{\"color\":\"#4D5663\"},\"text\":\"\"},\"zerolinecolor\":\"#E1E5ED\"},\"xaxis5\":{\"anchor\":\"y5\",\"domain\":[0.0,0.2125],\"gridcolor\":\"#E1E5ED\",\"showgrid\":false,\"tickfont\":{\"color\":\"#4D5663\"},\"title\":{\"font\":{\"color\":\"#4D5663\"},\"text\":\"\"},\"zerolinecolor\":\"#E1E5ED\"},\"yaxis5\":{\"anchor\":\"x5\",\"domain\":[0.535,0.7325],\"gridcolor\":\"#E1E5ED\",\"showgrid\":false,\"tickfont\":{\"color\":\"#4D5663\"},\"title\":{\"font\":{\"color\":\"#4D5663\"},\"text\":\"\"},\"zerolinecolor\":\"#E1E5ED\"},\"xaxis6\":{\"anchor\":\"y6\",\"domain\":[0.2625,0.475],\"gridcolor\":\"#E1E5ED\",\"showgrid\":false,\"tickfont\":{\"color\":\"#4D5663\"},\"title\":{\"font\":{\"color\":\"#4D5663\"},\"text\":\"\"},\"zerolinecolor\":\"#E1E5ED\"},\"yaxis6\":{\"anchor\":\"x6\",\"domain\":[0.535,0.7325],\"gridcolor\":\"#E1E5ED\",\"showgrid\":false,\"tickfont\":{\"color\":\"#4D5663\"},\"title\":{\"font\":{\"color\":\"#4D5663\"},\"text\":\"\"},\"zerolinecolor\":\"#E1E5ED\"},\"xaxis7\":{\"anchor\":\"y7\",\"domain\":[0.525,0.7375],\"gridcolor\":\"#E1E5ED\",\"showgrid\":false,\"tickfont\":{\"color\":\"#4D5663\"},\"title\":{\"font\":{\"color\":\"#4D5663\"},\"text\":\"\"},\"zerolinecolor\":\"#E1E5ED\"},\"yaxis7\":{\"anchor\":\"x7\",\"domain\":[0.535,0.7325],\"gridcolor\":\"#E1E5ED\",\"showgrid\":false,\"tickfont\":{\"color\":\"#4D5663\"},\"title\":{\"font\":{\"color\":\"#4D5663\"},\"text\":\"\"},\"zerolinecolor\":\"#E1E5ED\"},\"xaxis8\":{\"anchor\":\"y8\",\"domain\":[0.7875,1.0],\"gridcolor\":\"#E1E5ED\",\"showgrid\":false,\"tickfont\":{\"color\":\"#4D5663\"},\"title\":{\"font\":{\"color\":\"#4D5663\"},\"text\":\"\"},\"zerolinecolor\":\"#E1E5ED\"},\"yaxis8\":{\"anchor\":\"x8\",\"domain\":[0.535,0.7325],\"gridcolor\":\"#E1E5ED\",\"showgrid\":false,\"tickfont\":{\"color\":\"#4D5663\"},\"title\":{\"font\":{\"color\":\"#4D5663\"},\"text\":\"\"},\"zerolinecolor\":\"#E1E5ED\"},\"xaxis9\":{\"anchor\":\"y9\",\"domain\":[0.0,0.2125],\"gridcolor\":\"#E1E5ED\",\"showgrid\":false,\"tickfont\":{\"color\":\"#4D5663\"},\"title\":{\"font\":{\"color\":\"#4D5663\"},\"text\":\"\"},\"zerolinecolor\":\"#E1E5ED\"},\"yaxis9\":{\"anchor\":\"x9\",\"domain\":[0.2675,0.465],\"gridcolor\":\"#E1E5ED\",\"showgrid\":false,\"tickfont\":{\"color\":\"#4D5663\"},\"title\":{\"font\":{\"color\":\"#4D5663\"},\"text\":\"\"},\"zerolinecolor\":\"#E1E5ED\"},\"xaxis10\":{\"anchor\":\"y10\",\"domain\":[0.2625,0.475],\"gridcolor\":\"#E1E5ED\",\"showgrid\":false,\"tickfont\":{\"color\":\"#4D5663\"},\"title\":{\"font\":{\"color\":\"#4D5663\"},\"text\":\"\"},\"zerolinecolor\":\"#E1E5ED\"},\"yaxis10\":{\"anchor\":\"x10\",\"domain\":[0.2675,0.465],\"gridcolor\":\"#E1E5ED\",\"showgrid\":false,\"tickfont\":{\"color\":\"#4D5663\"},\"title\":{\"font\":{\"color\":\"#4D5663\"},\"text\":\"\"},\"zerolinecolor\":\"#E1E5ED\"},\"xaxis11\":{\"anchor\":\"y11\",\"domain\":[0.525,0.7375],\"gridcolor\":\"#E1E5ED\",\"showgrid\":false,\"tickfont\":{\"color\":\"#4D5663\"},\"title\":{\"font\":{\"color\":\"#4D5663\"},\"text\":\"\"},\"zerolinecolor\":\"#E1E5ED\"},\"yaxis11\":{\"anchor\":\"x11\",\"domain\":[0.2675,0.465],\"gridcolor\":\"#E1E5ED\",\"showgrid\":false,\"tickfont\":{\"color\":\"#4D5663\"},\"title\":{\"font\":{\"color\":\"#4D5663\"},\"text\":\"\"},\"zerolinecolor\":\"#E1E5ED\"},\"xaxis12\":{\"anchor\":\"y12\",\"domain\":[0.7875,1.0],\"gridcolor\":\"#E1E5ED\",\"showgrid\":false,\"tickfont\":{\"color\":\"#4D5663\"},\"title\":{\"font\":{\"color\":\"#4D5663\"},\"text\":\"\"},\"zerolinecolor\":\"#E1E5ED\"},\"yaxis12\":{\"anchor\":\"x12\",\"domain\":[0.2675,0.465],\"gridcolor\":\"#E1E5ED\",\"showgrid\":false,\"tickfont\":{\"color\":\"#4D5663\"},\"title\":{\"font\":{\"color\":\"#4D5663\"},\"text\":\"\"},\"zerolinecolor\":\"#E1E5ED\"},\"xaxis13\":{\"anchor\":\"y13\",\"domain\":[0.0,0.2125],\"gridcolor\":\"#E1E5ED\",\"showgrid\":false,\"tickfont\":{\"color\":\"#4D5663\"},\"title\":{\"font\":{\"color\":\"#4D5663\"},\"text\":\"\"},\"zerolinecolor\":\"#E1E5ED\"},\"yaxis13\":{\"anchor\":\"x13\",\"domain\":[0.0,0.1975],\"gridcolor\":\"#E1E5ED\",\"showgrid\":false,\"tickfont\":{\"color\":\"#4D5663\"},\"title\":{\"font\":{\"color\":\"#4D5663\"},\"text\":\"\"},\"zerolinecolor\":\"#E1E5ED\"},\"xaxis14\":{\"anchor\":\"y14\",\"domain\":[0.2625,0.475],\"gridcolor\":\"#E1E5ED\",\"showgrid\":false,\"tickfont\":{\"color\":\"#4D5663\"},\"title\":{\"font\":{\"color\":\"#4D5663\"},\"text\":\"\"},\"zerolinecolor\":\"#E1E5ED\"},\"yaxis14\":{\"anchor\":\"x14\",\"domain\":[0.0,0.1975],\"gridcolor\":\"#E1E5ED\",\"showgrid\":false,\"tickfont\":{\"color\":\"#4D5663\"},\"title\":{\"font\":{\"color\":\"#4D5663\"},\"text\":\"\"},\"zerolinecolor\":\"#E1E5ED\"},\"xaxis15\":{\"anchor\":\"y15\",\"domain\":[0.525,0.7375],\"gridcolor\":\"#E1E5ED\",\"showgrid\":false,\"tickfont\":{\"color\":\"#4D5663\"},\"title\":{\"font\":{\"color\":\"#4D5663\"},\"text\":\"\"},\"zerolinecolor\":\"#E1E5ED\"},\"yaxis15\":{\"anchor\":\"x15\",\"domain\":[0.0,0.1975],\"gridcolor\":\"#E1E5ED\",\"showgrid\":false,\"tickfont\":{\"color\":\"#4D5663\"},\"title\":{\"font\":{\"color\":\"#4D5663\"},\"text\":\"\"},\"zerolinecolor\":\"#E1E5ED\"},\"xaxis16\":{\"anchor\":\"y16\",\"domain\":[0.7875,1.0],\"gridcolor\":\"#E1E5ED\",\"showgrid\":false,\"tickfont\":{\"color\":\"#4D5663\"},\"title\":{\"font\":{\"color\":\"#4D5663\"},\"text\":\"\"},\"zerolinecolor\":\"#E1E5ED\"},\"yaxis16\":{\"anchor\":\"x16\",\"domain\":[0.0,0.1975],\"gridcolor\":\"#E1E5ED\",\"showgrid\":false,\"tickfont\":{\"color\":\"#4D5663\"},\"title\":{\"font\":{\"color\":\"#4D5663\"},\"text\":\"\"},\"zerolinecolor\":\"#E1E5ED\"}},                        {\"showLink\": true, \"linkText\": \"Export to plot.ly\", \"plotlyServerURL\": \"https://plot.ly\", \"responsive\": true}                    ).then(function(){\n",
       "                            \n",
       "var gd = document.getElementById('1ce5749b-c392-4e56-849e-6684ee2c285d');\n",
       "var x = new MutationObserver(function (mutations, observer) {{\n",
       "        var display = window.getComputedStyle(gd).display;\n",
       "        if (!display || display === 'none') {{\n",
       "            console.log([gd, 'removed!']);\n",
       "            Plotly.purge(gd);\n",
       "            observer.disconnect();\n",
       "        }}\n",
       "}});\n",
       "\n",
       "// Listen for the removal of the full notebook cells\n",
       "var notebookContainer = gd.closest('#notebook-container');\n",
       "if (notebookContainer) {{\n",
       "    x.observe(notebookContainer, {childList: true});\n",
       "}}\n",
       "\n",
       "// Listen for the clearing of the current output cell\n",
       "var outputEl = gd.closest('.output');\n",
       "if (outputEl) {{\n",
       "    x.observe(outputEl, {childList: true});\n",
       "}}\n",
       "\n",
       "                        })                };                });            </script>        </div>"
      ]
     },
     "metadata": {},
     "output_type": "display_data"
    }
   ],
   "source": [
    "df.scatter_matrix()"
   ]
  },
  {
   "cell_type": "markdown",
   "metadata": {
    "collapsed": true
   },
   "source": [
    "# Great Job!"
   ]
  }
 ],
 "metadata": {
  "kernelspec": {
   "display_name": "Python 3 (ipykernel)",
   "language": "python",
   "name": "python3"
  },
  "language_info": {
   "codemirror_mode": {
    "name": "ipython",
    "version": 3
   },
   "file_extension": ".py",
   "mimetype": "text/x-python",
   "name": "python",
   "nbconvert_exporter": "python",
   "pygments_lexer": "ipython3",
   "version": "3.9.13"
  }
 },
 "nbformat": 4,
 "nbformat_minor": 1
}
